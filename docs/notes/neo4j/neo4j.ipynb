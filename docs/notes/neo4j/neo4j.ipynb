{
 "cells": [
  {
   "cell_type": "code",
   "execution_count": 11,
   "id": "d724d34e-d65b-4255-90f1-aded23652d22",
   "metadata": {},
   "outputs": [
    {
     "name": "stdout",
     "output_type": "stream",
     "text": [
      "Looking in indexes: https://pypi-outer.aidigger.com/simple\n",
      "Collecting neo4j-driver==1.7.2\n",
      "  Downloading https://pypi.doubanio.com/packages/77/ac/b8b9dbe47062457ec9fa3f57b62198243869b33144218d40a03c7c25c170/neo4j-driver-1.7.2.tar.gz (24 kB)\n",
      "Requirement already satisfied: neobolt<2,>=1.7.4 in /Library/Frameworks/Python.framework/Versions/3.8/lib/python3.8/site-packages (from neo4j-driver==1.7.2) (1.7.17)\n",
      "Requirement already satisfied: neotime<2,>=1.7.1 in /Library/Frameworks/Python.framework/Versions/3.8/lib/python3.8/site-packages (from neo4j-driver==1.7.2) (1.7.4)\n",
      "Requirement already satisfied: six in /Library/Frameworks/Python.framework/Versions/3.8/lib/python3.8/site-packages (from neotime<2,>=1.7.1->neo4j-driver==1.7.2) (1.16.0)\n",
      "Requirement already satisfied: pytz in /Library/Frameworks/Python.framework/Versions/3.8/lib/python3.8/site-packages (from neotime<2,>=1.7.1->neo4j-driver==1.7.2) (2021.1)\n",
      "Building wheels for collected packages: neo4j-driver\n",
      "  Building wheel for neo4j-driver (setup.py) ... \u001b[?25ldone\n",
      "\u001b[?25h  Created wheel for neo4j-driver: filename=neo4j_driver-1.7.2-py3-none-any.whl size=32433 sha256=4df25c9233287b2a5d20b5214ce106f80ee5f45065c5e1230f335c9be0367007\n",
      "  Stored in directory: /Users/huzhenyu/Library/Caches/pip/wheels/9e/e0/73/0c18bd35770776a0130ba0903da36ac49a6f3e98a6e83ee6ba\n",
      "Successfully built neo4j-driver\n",
      "Installing collected packages: neo4j-driver\n",
      "  Attempting uninstall: neo4j-driver\n",
      "    Found existing installation: neo4j-driver 1.7.6\n",
      "    Uninstalling neo4j-driver-1.7.6:\n",
      "      Successfully uninstalled neo4j-driver-1.7.6\n",
      "Successfully installed neo4j-driver-1.7.2\n",
      "\u001b[33mWARNING: You are using pip version 21.2.1; however, version 21.2.4 is available.\n",
      "You should consider upgrading via the '/Library/Frameworks/Python.framework/Versions/3.8/bin/python3.8 -m pip install --upgrade pip' command.\u001b[0m\n",
      "Note: you may need to restart the kernel to use updated packages.\n"
     ]
    }
   ],
   "source": [
    "%pip install neo4j-driver"
   ]
  },
  {
   "cell_type": "code",
   "execution_count": 31,
   "id": "d10f65f8-56e7-4c80-b34a-9622a12b7a3f",
   "metadata": {},
   "outputs": [],
   "source": [
    "uri = 'neo4j://10.10.14.120:7687'\n",
    "auth = ('neo4j','eigen')"
   ]
  },
  {
   "cell_type": "code",
   "execution_count": 34,
   "id": "2946e1b2-065c-4642-ac51-d997af41e3cf",
   "metadata": {},
   "outputs": [],
   "source": [
    "from neo4j import GraphDatabase,basic_auth\n",
    "driver = GraphDatabase.driver(uri, auth=basic_auth('neo4j','eigen'))\n"
   ]
  },
  {
   "cell_type": "code",
   "execution_count": 36,
   "id": "a95374eb-7d47-4936-8107-6eec6506e9b7",
   "metadata": {},
   "outputs": [
    {
     "ename": "BoltHandshakeError",
     "evalue": "The Neo4J server does not support communication with this driver. This driver have support for Bolt Protocols dict_keys([Version(3, 0), Version(4, 0), Version(4, 1), Version(4, 2), Version(4, 3)])",
     "output_type": "error",
     "traceback": [
      "\u001b[0;31m---------------------------------------------------------------------------\u001b[0m",
      "\u001b[0;31mBoltHandshakeError\u001b[0m                        Traceback (most recent call last)",
      "\u001b[0;32m/var/folders/g6/h24w2cnn0bzbzz1dc4v4fplm0000gn/T/ipykernel_37660/4056629200.py\u001b[0m in \u001b[0;36m<module>\u001b[0;34m\u001b[0m\n\u001b[1;32m      1\u001b[0m \u001b[0;32mwith\u001b[0m \u001b[0mdriver\u001b[0m\u001b[0;34m.\u001b[0m\u001b[0msession\u001b[0m\u001b[0;34m(\u001b[0m\u001b[0;34m)\u001b[0m \u001b[0;32mas\u001b[0m \u001b[0msession\u001b[0m\u001b[0;34m:\u001b[0m\u001b[0;34m\u001b[0m\u001b[0;34m\u001b[0m\u001b[0m\n\u001b[0;32m----> 2\u001b[0;31m     \u001b[0;32mwith\u001b[0m \u001b[0msession\u001b[0m\u001b[0;34m.\u001b[0m\u001b[0mbegin_transaction\u001b[0m\u001b[0;34m(\u001b[0m\u001b[0;34m)\u001b[0m \u001b[0;32mas\u001b[0m \u001b[0mtx\u001b[0m\u001b[0;34m:\u001b[0m\u001b[0;34m\u001b[0m\u001b[0;34m\u001b[0m\u001b[0m\n\u001b[0m\u001b[1;32m      3\u001b[0m \u001b[0;31m#         for record in tx.run(\"\"\"match (n:车系) -[r] -> (p)\u001b[0m\u001b[0;34m\u001b[0m\u001b[0;34m\u001b[0m\u001b[0;34m\u001b[0m\u001b[0m\n\u001b[1;32m      4\u001b[0m \u001b[0;31m# where  n.id = '5990339cadbf0ad5daef664c478c2f16'\u001b[0m\u001b[0;34m\u001b[0m\u001b[0;34m\u001b[0m\u001b[0;34m\u001b[0m\u001b[0m\n\u001b[1;32m      5\u001b[0m \u001b[0;31m# with n,type(r) as _r, collect(p.id) as ids\u001b[0m\u001b[0;34m\u001b[0m\u001b[0;34m\u001b[0m\u001b[0;34m\u001b[0m\u001b[0m\n",
      "\u001b[0;32m/Library/Frameworks/Python.framework/Versions/3.8/lib/python3.8/site-packages/neo4j/work/simple.py\u001b[0m in \u001b[0;36mbegin_transaction\u001b[0;34m(self, metadata, timeout)\u001b[0m\n",
      "\u001b[0;32m/Library/Frameworks/Python.framework/Versions/3.8/lib/python3.8/site-packages/neo4j/work/simple.py\u001b[0m in \u001b[0;36m_open_transaction\u001b[0;34m(self, access_mode, database, metadata, timeout)\u001b[0m\n",
      "\u001b[0;32m/Library/Frameworks/Python.framework/Versions/3.8/lib/python3.8/site-packages/neo4j/work/simple.py\u001b[0m in \u001b[0;36m_connect\u001b[0;34m(self, access_mode, database)\u001b[0m\n",
      "\u001b[0;32m/Library/Frameworks/Python.framework/Versions/3.8/lib/python3.8/site-packages/neo4j/io/__init__.py\u001b[0m in \u001b[0;36macquire\u001b[0;34m(self, access_mode, timeout, database, bookmarks)\u001b[0m\n",
      "\u001b[0;32m/Library/Frameworks/Python.framework/Versions/3.8/lib/python3.8/site-packages/neo4j/io/__init__.py\u001b[0m in \u001b[0;36m_select_address\u001b[0;34m(self, access_mode, database, bookmarks)\u001b[0m\n",
      "\u001b[0;32m/Library/Frameworks/Python.framework/Versions/3.8/lib/python3.8/site-packages/neo4j/io/__init__.py\u001b[0m in \u001b[0;36mensure_routing_table_is_fresh\u001b[0;34m(self, access_mode, database, bookmarks)\u001b[0m\n",
      "\u001b[0;32m/Library/Frameworks/Python.framework/Versions/3.8/lib/python3.8/site-packages/neo4j/io/__init__.py\u001b[0m in \u001b[0;36mupdate_routing_table\u001b[0;34m(self, database, bookmarks)\u001b[0m\n",
      "\u001b[0;32m/Library/Frameworks/Python.framework/Versions/3.8/lib/python3.8/site-packages/neo4j/io/__init__.py\u001b[0m in \u001b[0;36mupdate_routing_table_from\u001b[0;34m(self, database, bookmarks, *routers)\u001b[0m\n",
      "\u001b[0;32m/Library/Frameworks/Python.framework/Versions/3.8/lib/python3.8/site-packages/neo4j/io/__init__.py\u001b[0m in \u001b[0;36mfetch_routing_table\u001b[0;34m(self, address, timeout, database, bookmarks)\u001b[0m\n",
      "\u001b[0;32m/Library/Frameworks/Python.framework/Versions/3.8/lib/python3.8/site-packages/neo4j/io/__init__.py\u001b[0m in \u001b[0;36mfetch_routing_info\u001b[0;34m(self, address, database, bookmarks, timeout)\u001b[0m\n",
      "\u001b[0;32m/Library/Frameworks/Python.framework/Versions/3.8/lib/python3.8/site-packages/neo4j/io/__init__.py\u001b[0m in \u001b[0;36m_acquire\u001b[0;34m(self, address, timeout)\u001b[0m\n",
      "\u001b[0;32m/Library/Frameworks/Python.framework/Versions/3.8/lib/python3.8/site-packages/neo4j/io/__init__.py\u001b[0m in \u001b[0;36mopener\u001b[0;34m(addr, timeout)\u001b[0m\n",
      "\u001b[0;32m/Library/Frameworks/Python.framework/Versions/3.8/lib/python3.8/site-packages/neo4j/io/__init__.py\u001b[0m in \u001b[0;36mopen\u001b[0;34m(cls, address, auth, timeout, routing_context, **pool_config)\u001b[0m\n",
      "\u001b[0;31mBoltHandshakeError\u001b[0m: The Neo4J server does not support communication with this driver. This driver have support for Bolt Protocols dict_keys([Version(3, 0), Version(4, 0), Version(4, 1), Version(4, 2), Version(4, 3)])"
     ]
    }
   ],
   "source": [
    "with driver.session() as session:\n",
    "    with session.begin_transaction() as tx:\n",
    "#         for record in tx.run(\"\"\"match (n:车系) -[r] -> (p)\n",
    "# where  n.id = '5990339cadbf0ad5daef664c478c2f16'\n",
    "# with n,type(r) as _r, collect(p.id) as ids\n",
    "# return n {.*, r:collect(_r), ids:collect(ids)}\"\"\"):\n",
    "#             print(record)\n",
    "        for record in tx.run(\"\"\"match (n:车系) -[r] -> (p)\n",
    "        where  n.id = '5990339cadbf0ad5daef664c478c2f16' return n,type(r),p\"\"\"):\n",
    "            print(record)\n",
    "        "
   ]
  },
  {
   "cell_type": "code",
   "execution_count": 27,
   "id": "656678a8-0aa2-443a-bc58-0ec795c473e8",
   "metadata": {},
   "outputs": [
    {
     "name": "stdout",
     "output_type": "stream",
     "text": [
      "neo4j eigen\n"
     ]
    }
   ],
   "source": [
    "print(*auth)"
   ]
  },
  {
   "cell_type": "code",
   "execution_count": null,
   "id": "c548b479-0b50-4f3b-b282-e9bec87e2785",
   "metadata": {},
   "outputs": [],
   "source": []
  }
 ],
 "metadata": {
  "kernelspec": {
   "display_name": "Python 3 (ipykernel)",
   "language": "python",
   "name": "python3"
  },
  "language_info": {
   "codemirror_mode": {
    "name": "ipython",
    "version": 3
   },
   "file_extension": ".py",
   "mimetype": "text/x-python",
   "name": "python",
   "nbconvert_exporter": "python",
   "pygments_lexer": "ipython3",
   "version": "3.8.10"
  },
  "toc-autonumbering": true,
  "toc-showcode": true
 },
 "nbformat": 4,
 "nbformat_minor": 5
}
