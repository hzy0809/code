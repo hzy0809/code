{
 "cells": [
  {
   "cell_type": "code",
   "execution_count": 29,
   "id": "95a17fb8-22db-46c7-abf8-55714a58cbdd",
   "metadata": {},
   "outputs": [
    {
     "name": "stdout",
     "output_type": "stream",
     "text": [
      "ksc\n",
      "begin: \n",
      "('/app/hello0', '/app') generated an exception: S3 operation failed; code: NoSuchKey, message: The specified key does not exist., resource: /ksc/hello1, request_id: 172ADABABE64AD87, host_id: 1c828266-e856-4c39-b437-17d375896a7c, bucket_name: ksc, object_name: hello1\n",
      "('/app/hello2', '/app') generated an exception: S3 operation failed; code: NoSuchKey, message: The specified key does not exist., resource: /ksc/hello1, request_id: 172ADABABE632E57, host_id: 1c828266-e856-4c39-b437-17d375896a7c, bucket_name: ksc, object_name: hello1\n",
      "('/app/hello3', '/app') generated an exception: S3 operation failed; code: NoSuchKey, message: The specified key does not exist., resource: /ksc/hello1, request_id: 172ADABABE6655AF, host_id: 1c828266-e856-4c39-b437-17d375896a7c, bucket_name: ksc, object_name: hello1\n",
      "('/app/hello1', '/app') generated an exception: S3 operation failed; code: NoSuchKey, message: The specified key does not exist., resource: /ksc/hello1, request_id: 172ADABABE646E73, host_id: 1c828266-e856-4c39-b437-17d375896a7c, bucket_name: ksc, object_name: hello1\n",
      "('/app/hello4', '/app') generated an exception: S3 operation failed; code: NoSuchKey, message: The specified key does not exist., resource: /ksc/hello1, request_id: 172ADABABE947609, host_id: 1c828266-e856-4c39-b437-17d375896a7c, bucket_name: ksc, object_name: hello1\n",
      "('/app/hello5', '/app') generated an exception: S3 operation failed; code: NoSuchKey, message: The specified key does not exist., resource: /ksc/hello1, request_id: 172ADABABE94AE49, host_id: 1c828266-e856-4c39-b437-17d375896a7c, bucket_name: ksc, object_name: hello1\n",
      "('/app/hello6', '/app') generated an exception: S3 operation failed; code: NoSuchKey, message: The specified key does not exist., resource: /ksc/hello1, request_id: 172ADABABEC5C95B, host_id: 1c828266-e856-4c39-b437-17d375896a7c, bucket_name: ksc, object_name: hello1\n",
      "('/app/hello9', '/app') generated an exception: S3 operation failed; code: NoSuchKey, message: The specified key does not exist., resource: /ksc/hello1, request_id: 172ADABABEE29ABA, host_id: 1c828266-e856-4c39-b437-17d375896a7c, bucket_name: ksc, object_name: hello1\n",
      "('/app/hello7', '/app') generated an exception: S3 operation failed; code: NoSuchKey, message: The specified key does not exist., resource: /ksc/hello1, request_id: 172ADABABEC6BD82, host_id: 1c828266-e856-4c39-b437-17d375896a7c, bucket_name: ksc, object_name: hello1\n",
      "('/app/hello8', '/app') generated an exception: S3 operation failed; code: NoSuchKey, message: The specified key does not exist., resource: /ksc/hello1, request_id: 172ADABABEE68DA2, host_id: 1c828266-e856-4c39-b437-17d375896a7c, bucket_name: ksc, object_name: hello1\n"
     ]
    }
   ],
   "source": [
    "import os\n",
    "import io\n",
    "import concurrent.futures\n",
    "from datetime import datetime,timedelta\n",
    "from minio import Minio\n",
    "\n",
    "host = \"127.0.0.1\"\n",
    "port = \"9000\"\n",
    "usn = \"admin\"\n",
    "pwd = \"appTPDanube*2021*558\"\n",
    "bucket = \"danube\"\n",
    "time_params = {\n",
    "   \"days\":90\n",
    "}\n",
    "\n",
    "client = Minio(f\"{host}:{port}\", usn, pwd,secure=False)\n",
    "\n",
    "def get_object(path):\n",
    "    count = 0\n",
    "    for cur_dir, dirs, files in os.walk(path):\n",
    "        if 'xl.meta' in files:\n",
    "            count += 1\n",
    "            print(f'count: {count}')\n",
    "            yield cur_dir,path\n",
    "\n",
    "def get_object_key(cur_dir, path):\n",
    "    return cur_dir.replace(path, '').strip('/')\n",
    "\n",
    "def thread_run(func,workers=5, array:list=None):\n",
    "    result = {}\n",
    "    with concurrent.futures.ThreadPoolExecutor(max_workers=workers) as executor:\n",
    "        print(\"begin: \")\n",
    "        future_to_key = {executor.submit(func, *key):key for key in array}\n",
    "        \n",
    "        for future in concurrent.futures.as_completed(future_to_key):\n",
    "            key = future_to_key[future]\n",
    "            try:\n",
    "                data = future.result()\n",
    "            except Exception as exc:\n",
    "                print('%r generated an exception: %s' % (key, exc))\n",
    "            else:\n",
    "                result[key] = data\n",
    "                print(f\"--{key} done {data}--\")\n",
    "    return result\n",
    "\n",
    "def get_object_last_modify_time(bucket, key):\n",
    "    result = client.get_object(bucket, key, length=1)\n",
    "    # print(result.headers['Last-Modified'])\n",
    "    return datetime.strptime(result.headers['Last-Modified'],'%a, %d %b %Y %H:%M:%S %Z')\n",
    "\n",
    "def main(path):\n",
    "    result = client.list_buckets()\n",
    "    print(result[0].name)\n",
    "    thread_run(compare_and_delete, 20, get_object(path))\n",
    "\n",
    "def compare_and_delete(_d, _p):\n",
    "    cur = datetime.now()\n",
    "    key = get_object_key(_d, _p)\n",
    "    print(cur - get_object_last_modify_time(bucket, key), key)\n",
    "    if cur - get_object_last_modify_time(bucket, key) > timedelta(**time_params):\n",
    "        print(f'delete {key}')\n",
    "        client.remove_object(bucket, key)\n",
    "        return key\n",
    "\n",
    "if __name__ == \"__main__\":\n",
    "    main('/app')\n",
    "\n"
   ]
  },
  {
   "cell_type": "code",
   "execution_count": 20,
   "id": "41f6042d-fdac-4187-bd77-f529d69833ff",
   "metadata": {},
   "outputs": [],
   "source": [
    "compare_and_delete('./hello1', '.')"
   ]
  },
  {
   "cell_type": "code",
   "execution_count": 32,
   "id": "3526902a-32b9-4717-8200-3d9cf4650651",
   "metadata": {},
   "outputs": [
    {
     "name": "stdout",
     "output_type": "stream",
     "text": [
      "llo863653614437489\n"
     ]
    },
    {
     "data": {
      "text/plain": [
       "'llo863653614437489'"
      ]
     },
     "execution_count": 32,
     "metadata": {},
     "output_type": "execute_result"
    }
   ],
   "source": [
    "def get_object_key(cur_dir, path):\n",
    "    print(cur_dir.strip(path))\n",
    "    return cur_dir.strip(path).strip('/')\n",
    "get_object_key(*('/home/shurui/docker_data1/minio/data/1/test-bucket/hello863653614437489', '/home/shurui/docker_data1/minio/data/1/test-bucket'))"
   ]
  },
  {
   "cell_type": "code",
   "execution_count": null,
   "id": "05c1ac95-f873-4ea8-b3c3-c2e9ee715046",
   "metadata": {},
   "outputs": [],
   "source": []
  }
 ],
 "metadata": {
  "kernelspec": {
   "display_name": "3.10.6",
   "language": "python",
   "name": "3.10.6"
  },
  "language_info": {
   "codemirror_mode": {
    "name": "ipython",
    "version": 3
   },
   "file_extension": ".py",
   "mimetype": "text/x-python",
   "name": "python",
   "nbconvert_exporter": "python",
   "pygments_lexer": "ipython3",
   "version": "3.7.9"
  }
 },
 "nbformat": 4,
 "nbformat_minor": 5
}
