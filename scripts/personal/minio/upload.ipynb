{
 "cells": [
  {
   "cell_type": "code",
   "execution_count": null,
   "id": "30066f71-45f5-4246-b361-df0d7e1d49a5",
   "metadata": {
    "scrolled": true,
    "tags": []
   },
   "outputs": [],
   "source": [
    "import io\n",
    "import concurrent.futures\n",
    "import urllib.request\n",
    "from minio import Minio\n",
    "\n",
    "host = \"172.18.4.151\"\n",
    "port = \"19000\"\n",
    "usn = \"minioadmin\"\n",
    "pwd = \"minioadmin\"\n",
    "bucket = \"ksc\"\n",
    "\n",
    "client = Minio(f\"{host}:{port}\", usn, pwd,secure=False)\n",
    "result = client.list_buckets()\n",
    "print(result[0].name)\n",
    "\n",
    "def put_file(index:int):\n",
    "    txt = f'hello{index}'\n",
    "    btxt = txt.encode('utf8')\n",
    "    result = client.put_object(\n",
    "        bucket, txt, io.BytesIO(btxt), len(btxt),\n",
    "        content_type=\"application/csv\",\n",
    "    )\n",
    "    return result.object_name\n",
    "\n",
    "\n",
    "\n",
    "def thread_run(func,workers=5, array:list=None):\n",
    "    result = {}\n",
    "    with concurrent.futures.ThreadPoolExecutor(max_workers=workers) as executor:\n",
    "        print(\"begin: \")\n",
    "        future_to_key = {executor.submit(func, key):key for key in array}\n",
    "        \n",
    "        for future in concurrent.futures.as_completed(future_to_key):\n",
    "            key = future_to_key[future]\n",
    "            try:\n",
    "                data = future.result()\n",
    "            except Exception as exc:\n",
    "                print('%r generated an exception: %s' % (key, exc))\n",
    "            else:\n",
    "                result[key] = data\n",
    "                print(f\"--{key} done {data}--\")\n",
    "    return result\n",
    "\n",
    "if __name__ == \"__main__\":\n",
    "    thread_run(put_file, workers=20, array=range(100000))"
   ]
  },
  {
   "cell_type": "code",
   "execution_count": 32,
   "id": "f618bca9-92bb-462f-83a7-9de15156f1bb",
   "metadata": {
    "scrolled": true,
    "tags": []
   },
   "outputs": [
    {
     "name": "stdout",
     "output_type": "stream",
     "text": [
      "begin: \n",
      "--2 done hello2--\n",
      "--0 done hello0--\n",
      "--4 done hello4--\n",
      "--3 done hello3--\n",
      "--5 done hello5--\n",
      "--1 done hello1--\n",
      "--6 done hello6--\n",
      "--7 done hello7--\n",
      "--8 done hello8--\n",
      "--10 done hello10--\n",
      "--9 done hello9--\n",
      "--13 done hello13--\n",
      "--11 done hello11--\n",
      "--14 done hello14--\n",
      "--16 done hello16--\n",
      "--12 done hello12--\n",
      "--15 done hello15--\n",
      "--17 done hello17--\n",
      "--18 done hello18--\n",
      "--20 done hello20--\n",
      "--19 done hello19--\n",
      "--21 done hello21--\n",
      "--23 done hello23--\n",
      "--22 done hello22--\n",
      "--24 done hello24--\n",
      "--25 done hello25--\n",
      "--26 done hello26--\n",
      "--28 done hello28--\n",
      "--27 done hello27--\n",
      "--29 done hello29--\n",
      "--31 done hello31--\n",
      "--30 done hello30--\n",
      "--33 done hello33--\n",
      "--35 done hello35--\n",
      "--34 done hello34--\n",
      "--32 done hello32--\n",
      "--36 done hello36--\n",
      "--37 done hello37--\n",
      "--38 done hello38--\n",
      "--40 done hello40--\n",
      "--43 done hello43--\n",
      "--41 done hello41--\n",
      "--42 done hello42--\n",
      "--39 done hello39--\n",
      "--44 done hello44--\n",
      "--45 done hello45--\n",
      "--48 done hello48--\n",
      "--46 done hello46--\n",
      "--47 done hello47--\n",
      "--50 done hello50--\n",
      "--53 done hello53--\n",
      "--52 done hello52--\n",
      "--49 done hello49--\n",
      "--51 done hello51--\n",
      "--58 done hello58--\n",
      "--55 done hello55--\n",
      "--56 done hello56--\n",
      "--54 done hello54--\n",
      "--57 done hello57--\n",
      "--59 done hello59--\n",
      "--62 done hello62--\n",
      "--63 done hello63--\n",
      "--60 done hello60--\n",
      "--61 done hello61--\n",
      "--67 done hello67--\n",
      "--64 done hello64--\n",
      "--68 done hello68--\n",
      "--65 done hello65--\n",
      "--66 done hello66--\n",
      "--70 done hello70--\n",
      "--72 done hello72--\n",
      "--71 done hello71--\n",
      "--73 done hello73--\n",
      "--69 done hello69--\n",
      "--75 done hello75--\n",
      "--74 done hello74--\n",
      "--78 done hello78--\n",
      "--77 done hello77--\n",
      "--76 done hello76--\n",
      "--79 done hello79--\n",
      "--81 done hello81--\n",
      "--80 done hello80--\n",
      "--83 done hello83--\n",
      "--85 done hello85--\n",
      "--82 done hello82--\n",
      "--84 done hello84--\n",
      "--87 done hello87--\n",
      "--90 done hello90--\n",
      "--88 done hello88--\n",
      "--91 done hello91--\n",
      "--89 done hello89--\n",
      "--86 done hello86--\n",
      "--93 done hello93--\n",
      "--96 done hello96--\n",
      "--95 done hello95--\n",
      "--94 done hello94--\n",
      "--92 done hello92--\n",
      "--97 done hello97--\n",
      "--99 done hello99--\n",
      "--102 done hello102--\n",
      "--101 done hello101--\n",
      "--100 done hello100--\n",
      "--98 done hello98--\n",
      "--103 done hello103--\n",
      "--104 done hello104--\n",
      "--106 done hello106--\n",
      "--105 done hello105--\n",
      "--107 done hello107--\n",
      "--109 done hello109--\n",
      "--110 done hello110--\n",
      "--108 done hello108--\n",
      "--113 done hello113--\n",
      "--114 done hello114--\n",
      "--112 done hello112--\n",
      "--111 done hello111--\n",
      "--118 done hello118--\n",
      "--119 done hello119--\n",
      "--117 done hello117--\n",
      "--116 done hello116--\n",
      "--115 done hello115--\n",
      "--120 done hello120--\n",
      "--121 done hello121--\n",
      "--124 done hello124--\n",
      "--122 done hello122--\n",
      "--123 done hello123--\n",
      "--125 done hello125--\n",
      "--126 done hello126--\n",
      "--129 done hello129--\n",
      "--127 done hello127--\n",
      "--128 done hello128--\n",
      "--130 done hello130--\n",
      "--132 done hello132--\n",
      "--133 done hello133--\n",
      "--134 done hello134--\n",
      "--135 done hello135--\n",
      "--131 done hello131--\n",
      "--136 done hello136--\n",
      "--137 done hello137--\n",
      "--138 done hello138--\n",
      "--139 done hello139--\n",
      "--141 done hello141--\n",
      "--140 done hello140--\n",
      "--142 done hello142--\n",
      "--143 done hello143--\n",
      "--144 done hello144--\n",
      "--145 done hello145--\n",
      "--146 done hello146--\n",
      "--148 done hello148--\n",
      "--147 done hello147--\n",
      "--149 done hello149--\n",
      "--150 done hello150--\n",
      "--152 done hello152--\n",
      "--151 done hello151--\n",
      "--153 done hello153--\n",
      "--154 done hello154--\n",
      "--156 done hello156--\n",
      "--155 done hello155--\n",
      "--157 done hello157--\n",
      "--160 done hello160--\n",
      "--159 done hello159--\n",
      "--158 done hello158--\n",
      "--161 done hello161--\n",
      "--162 done hello162--\n",
      "--163 done hello163--\n",
      "--164 done hello164--\n",
      "--165 done hello165--\n",
      "--166 done hello166--\n",
      "--167 done hello167--\n",
      "--168 done hello168--\n",
      "--169 done hello169--\n",
      "--170 done hello170--\n",
      "--173 done hello173--\n",
      "--171 done hello171--\n",
      "--174 done hello174--\n",
      "--172 done hello172--\n",
      "--175 done hello175--\n",
      "--176 done hello176--\n",
      "--177 done hello177--\n",
      "--179 done hello179--\n",
      "--178 done hello178--\n",
      "--180 done hello180--\n",
      "--181 done hello181--\n",
      "--186 done hello186--\n",
      "--185 done hello185--\n",
      "--184 done hello184--\n",
      "--183 done hello183--\n",
      "--182 done hello182--\n",
      "--187 done hello187--\n",
      "--192 done hello192--\n",
      "--191 done hello191--\n",
      "--190 done hello190--\n",
      "--189 done hello189--\n",
      "--188 done hello188--\n",
      "--196 done hello196--\n",
      "--194 done hello194--\n",
      "--197 done hello197--\n",
      "--193 done hello193--\n",
      "--195 done hello195--\n",
      "--200 done hello200--\n",
      "--201 done hello201--\n",
      "--198 done hello198--\n",
      "--199 done hello199--\n",
      "--202 done hello202--\n",
      "--204 done hello204--\n",
      "--205 done hello205--\n",
      "--203 done hello203--\n",
      "--206 done hello206--\n",
      "--207 done hello207--\n",
      "--208 done hello208--\n",
      "--209 done hello209--\n",
      "--210 done hello210--\n",
      "--211 done hello211--\n",
      "--213 done hello213--\n",
      "--214 done hello214--\n",
      "--215 done hello215--\n",
      "--212 done hello212--\n",
      "--216 done hello216--\n",
      "--217 done hello217--\n",
      "--218 done hello218--\n",
      "--222 done hello222--\n",
      "--219 done hello219--\n",
      "--220 done hello220--\n",
      "--221 done hello221--\n",
      "--223 done hello223--\n",
      "--225 done hello225--\n",
      "--227 done hello227--\n",
      "--228 done hello228--\n",
      "--224 done hello224--\n",
      "--226 done hello226--\n",
      "--229 done hello229--\n",
      "--232 done hello232--\n",
      "--233 done hello233--\n",
      "--231 done hello231--\n",
      "--230 done hello230--\n",
      "--234 done hello234--\n",
      "--236 done hello236--\n",
      "--235 done hello235--\n",
      "--237 done hello237--\n",
      "--241 done hello241--\n",
      "--239 done hello239--\n",
      "--240 done hello240--\n",
      "--238 done hello238--\n",
      "--242 done hello242--\n",
      "--244 done hello244--\n",
      "--243 done hello243--\n",
      "--245 done hello245--\n",
      "--247 done hello247--\n",
      "--246 done hello246--\n",
      "--248 done hello248--\n",
      "--251 done hello251--\n",
      "--250 done hello250--\n",
      "--249 done hello249--\n",
      "--253 done hello253--\n",
      "--252 done hello252--\n",
      "--254 done hello254--\n",
      "--256 done hello256--\n",
      "--255 done hello255--\n",
      "--259 done hello259--\n",
      "--258 done hello258--\n",
      "--257 done hello257--\n",
      "--261 done hello261--\n",
      "--260 done hello260--\n",
      "--265 done hello265--\n",
      "--266 done hello266--\n",
      "--262 done hello262--\n",
      "--263 done hello263--\n",
      "--264 done hello264--\n",
      "--267 done hello267--\n",
      "--269 done hello269--\n",
      "--268 done hello268--\n",
      "--270 done hello270--\n",
      "--271 done hello271--\n",
      "--272 done hello272--\n",
      "--274 done hello274--\n",
      "--273 done hello273--\n",
      "--275 done hello275--\n",
      "--276 done hello276--\n",
      "--277 done hello277--\n",
      "--278 done hello278--\n",
      "--279 done hello279--\n",
      "--280 done hello280--\n",
      "--282 done hello282--\n",
      "--281 done hello281--\n",
      "--286 done hello286--\n",
      "--285 done hello285--\n",
      "--287 done hello287--\n",
      "--284 done hello284--\n",
      "--283 done hello283--\n",
      "--288 done hello288--\n",
      "--290 done hello290--\n",
      "--289 done hello289--\n",
      "--292 done hello292--\n",
      "--291 done hello291--\n",
      "--294 done hello294--\n",
      "--293 done hello293--\n",
      "--295 done hello295--\n",
      "--297 done hello297--\n",
      "--296 done hello296--\n",
      "--298 done hello298--\n",
      "--299 done hello299--\n",
      "--300 done hello300--\n",
      "--302 done hello302--\n",
      "--301 done hello301--\n",
      "--303 done hello303--\n",
      "--304 done hello304--\n",
      "--305 done hello305--\n",
      "--306 done hello306--\n",
      "--307 done hello307--\n",
      "--309 done hello309--\n",
      "--308 done hello308--\n",
      "--310 done hello310--\n",
      "--312 done hello312--\n",
      "--311 done hello311--\n",
      "--315 done hello315--\n",
      "--314 done hello314--\n",
      "--313 done hello313--\n",
      "--316 done hello316--\n",
      "--320 done hello320--\n",
      "--318 done hello318--\n",
      "--319 done hello319--\n",
      "--317 done hello317--\n"
     ]
    },
    {
     "ename": "KeyboardInterrupt",
     "evalue": "",
     "output_type": "error",
     "traceback": [
      "\u001b[0;31m---------------------------------------------------------------------------\u001b[0m",
      "\u001b[0;31mKeyboardInterrupt\u001b[0m                         Traceback (most recent call last)",
      "\u001b[0;32m/var/folders/77/v30xbz3j37xd1pc5p9bgjxb40000gn/T/ipykernel_66832/1646292103.py\u001b[0m in \u001b[0;36mthread_run\u001b[0;34m(func, workers, array)\u001b[0m\n\u001b[1;32m      6\u001b[0m \u001b[0;34m\u001b[0m\u001b[0m\n\u001b[0;32m----> 7\u001b[0;31m         \u001b[0;32mfor\u001b[0m \u001b[0mfuture\u001b[0m \u001b[0;32min\u001b[0m \u001b[0mconcurrent\u001b[0m\u001b[0;34m.\u001b[0m\u001b[0mfutures\u001b[0m\u001b[0;34m.\u001b[0m\u001b[0mas_completed\u001b[0m\u001b[0;34m(\u001b[0m\u001b[0mfuture_to_key\u001b[0m\u001b[0;34m)\u001b[0m\u001b[0;34m:\u001b[0m\u001b[0;34m\u001b[0m\u001b[0;34m\u001b[0m\u001b[0m\n\u001b[0m\u001b[1;32m      8\u001b[0m             \u001b[0mkey\u001b[0m \u001b[0;34m=\u001b[0m \u001b[0mfuture_to_key\u001b[0m\u001b[0;34m[\u001b[0m\u001b[0mfuture\u001b[0m\u001b[0;34m]\u001b[0m\u001b[0;34m\u001b[0m\u001b[0;34m\u001b[0m\u001b[0m\n",
      "\u001b[0;32m/Library/Frameworks/Python.framework/Versions/3.7/lib/python3.7/concurrent/futures/_base.py\u001b[0m in \u001b[0;36mas_completed\u001b[0;34m(fs, timeout)\u001b[0m\n\u001b[1;32m    239\u001b[0m \u001b[0;34m\u001b[0m\u001b[0m\n\u001b[0;32m--> 240\u001b[0;31m             \u001b[0mwaiter\u001b[0m\u001b[0;34m.\u001b[0m\u001b[0mevent\u001b[0m\u001b[0;34m.\u001b[0m\u001b[0mwait\u001b[0m\u001b[0;34m(\u001b[0m\u001b[0mwait_timeout\u001b[0m\u001b[0;34m)\u001b[0m\u001b[0;34m\u001b[0m\u001b[0;34m\u001b[0m\u001b[0m\n\u001b[0m\u001b[1;32m    241\u001b[0m \u001b[0;34m\u001b[0m\u001b[0m\n",
      "\u001b[0;32m/Library/Frameworks/Python.framework/Versions/3.7/lib/python3.7/threading.py\u001b[0m in \u001b[0;36mwait\u001b[0;34m(self, timeout)\u001b[0m\n\u001b[1;32m    551\u001b[0m             \u001b[0;32mif\u001b[0m \u001b[0;32mnot\u001b[0m \u001b[0msignaled\u001b[0m\u001b[0;34m:\u001b[0m\u001b[0;34m\u001b[0m\u001b[0;34m\u001b[0m\u001b[0m\n\u001b[0;32m--> 552\u001b[0;31m                 \u001b[0msignaled\u001b[0m \u001b[0;34m=\u001b[0m \u001b[0mself\u001b[0m\u001b[0;34m.\u001b[0m\u001b[0m_cond\u001b[0m\u001b[0;34m.\u001b[0m\u001b[0mwait\u001b[0m\u001b[0;34m(\u001b[0m\u001b[0mtimeout\u001b[0m\u001b[0;34m)\u001b[0m\u001b[0;34m\u001b[0m\u001b[0;34m\u001b[0m\u001b[0m\n\u001b[0m\u001b[1;32m    553\u001b[0m             \u001b[0;32mreturn\u001b[0m \u001b[0msignaled\u001b[0m\u001b[0;34m\u001b[0m\u001b[0;34m\u001b[0m\u001b[0m\n",
      "\u001b[0;32m/Library/Frameworks/Python.framework/Versions/3.7/lib/python3.7/threading.py\u001b[0m in \u001b[0;36mwait\u001b[0;34m(self, timeout)\u001b[0m\n\u001b[1;32m    295\u001b[0m             \u001b[0;32mif\u001b[0m \u001b[0mtimeout\u001b[0m \u001b[0;32mis\u001b[0m \u001b[0;32mNone\u001b[0m\u001b[0;34m:\u001b[0m\u001b[0;34m\u001b[0m\u001b[0;34m\u001b[0m\u001b[0m\n\u001b[0;32m--> 296\u001b[0;31m                 \u001b[0mwaiter\u001b[0m\u001b[0;34m.\u001b[0m\u001b[0macquire\u001b[0m\u001b[0;34m(\u001b[0m\u001b[0;34m)\u001b[0m\u001b[0;34m\u001b[0m\u001b[0;34m\u001b[0m\u001b[0m\n\u001b[0m\u001b[1;32m    297\u001b[0m                 \u001b[0mgotit\u001b[0m \u001b[0;34m=\u001b[0m \u001b[0;32mTrue\u001b[0m\u001b[0;34m\u001b[0m\u001b[0;34m\u001b[0m\u001b[0m\n",
      "\u001b[0;31mKeyboardInterrupt\u001b[0m: ",
      "\nDuring handling of the above exception, another exception occurred:\n",
      "\u001b[0;31mKeyboardInterrupt\u001b[0m                         Traceback (most recent call last)",
      "\u001b[0;32m/var/folders/77/v30xbz3j37xd1pc5p9bgjxb40000gn/T/ipykernel_66832/1980276570.py\u001b[0m in \u001b[0;36m<module>\u001b[0;34m\u001b[0m\n\u001b[0;32m----> 1\u001b[0;31m \u001b[0mthread_run\u001b[0m\u001b[0;34m(\u001b[0m\u001b[0mput_file\u001b[0m\u001b[0;34m,\u001b[0m \u001b[0mworkers\u001b[0m\u001b[0;34m=\u001b[0m\u001b[0;36m20\u001b[0m\u001b[0;34m,\u001b[0m \u001b[0marray\u001b[0m\u001b[0;34m=\u001b[0m\u001b[0mrange\u001b[0m\u001b[0;34m(\u001b[0m\u001b[0;36m10000\u001b[0m\u001b[0;34m)\u001b[0m\u001b[0;34m)\u001b[0m\u001b[0;34m\u001b[0m\u001b[0;34m\u001b[0m\u001b[0m\n\u001b[0m",
      "\u001b[0;32m/var/folders/77/v30xbz3j37xd1pc5p9bgjxb40000gn/T/ipykernel_66832/1646292103.py\u001b[0m in \u001b[0;36mthread_run\u001b[0;34m(func, workers, array)\u001b[0m\n\u001b[1;32m     13\u001b[0m             \u001b[0;32melse\u001b[0m\u001b[0;34m:\u001b[0m\u001b[0;34m\u001b[0m\u001b[0;34m\u001b[0m\u001b[0m\n\u001b[1;32m     14\u001b[0m                 \u001b[0mresult\u001b[0m\u001b[0;34m[\u001b[0m\u001b[0mkey\u001b[0m\u001b[0;34m]\u001b[0m \u001b[0;34m=\u001b[0m \u001b[0mdata\u001b[0m\u001b[0;34m\u001b[0m\u001b[0;34m\u001b[0m\u001b[0m\n\u001b[0;32m---> 15\u001b[0;31m                 \u001b[0mprint\u001b[0m\u001b[0;34m(\u001b[0m\u001b[0;34mf\"--{key} done {data}--\"\u001b[0m\u001b[0;34m)\u001b[0m\u001b[0;34m\u001b[0m\u001b[0;34m\u001b[0m\u001b[0m\n\u001b[0m\u001b[1;32m     16\u001b[0m     \u001b[0;32mreturn\u001b[0m \u001b[0mresult\u001b[0m\u001b[0;34m\u001b[0m\u001b[0;34m\u001b[0m\u001b[0m\n",
      "\u001b[0;32m/Library/Frameworks/Python.framework/Versions/3.7/lib/python3.7/concurrent/futures/_base.py\u001b[0m in \u001b[0;36m__exit__\u001b[0;34m(self, exc_type, exc_val, exc_tb)\u001b[0m\n\u001b[1;32m    621\u001b[0m \u001b[0;34m\u001b[0m\u001b[0m\n\u001b[1;32m    622\u001b[0m     \u001b[0;32mdef\u001b[0m \u001b[0m__exit__\u001b[0m\u001b[0;34m(\u001b[0m\u001b[0mself\u001b[0m\u001b[0;34m,\u001b[0m \u001b[0mexc_type\u001b[0m\u001b[0;34m,\u001b[0m \u001b[0mexc_val\u001b[0m\u001b[0;34m,\u001b[0m \u001b[0mexc_tb\u001b[0m\u001b[0;34m)\u001b[0m\u001b[0;34m:\u001b[0m\u001b[0;34m\u001b[0m\u001b[0;34m\u001b[0m\u001b[0m\n\u001b[0;32m--> 623\u001b[0;31m         \u001b[0mself\u001b[0m\u001b[0;34m.\u001b[0m\u001b[0mshutdown\u001b[0m\u001b[0;34m(\u001b[0m\u001b[0mwait\u001b[0m\u001b[0;34m=\u001b[0m\u001b[0;32mTrue\u001b[0m\u001b[0;34m)\u001b[0m\u001b[0;34m\u001b[0m\u001b[0;34m\u001b[0m\u001b[0m\n\u001b[0m\u001b[1;32m    624\u001b[0m         \u001b[0;32mreturn\u001b[0m \u001b[0;32mFalse\u001b[0m\u001b[0;34m\u001b[0m\u001b[0;34m\u001b[0m\u001b[0m\n\u001b[1;32m    625\u001b[0m \u001b[0;34m\u001b[0m\u001b[0m\n",
      "\u001b[0;32m/Library/Frameworks/Python.framework/Versions/3.7/lib/python3.7/concurrent/futures/thread.py\u001b[0m in \u001b[0;36mshutdown\u001b[0;34m(self, wait)\u001b[0m\n\u001b[1;32m    214\u001b[0m         \u001b[0;32mif\u001b[0m \u001b[0mwait\u001b[0m\u001b[0;34m:\u001b[0m\u001b[0;34m\u001b[0m\u001b[0;34m\u001b[0m\u001b[0m\n\u001b[1;32m    215\u001b[0m             \u001b[0;32mfor\u001b[0m \u001b[0mt\u001b[0m \u001b[0;32min\u001b[0m \u001b[0mself\u001b[0m\u001b[0;34m.\u001b[0m\u001b[0m_threads\u001b[0m\u001b[0;34m:\u001b[0m\u001b[0;34m\u001b[0m\u001b[0;34m\u001b[0m\u001b[0m\n\u001b[0;32m--> 216\u001b[0;31m                 \u001b[0mt\u001b[0m\u001b[0;34m.\u001b[0m\u001b[0mjoin\u001b[0m\u001b[0;34m(\u001b[0m\u001b[0;34m)\u001b[0m\u001b[0;34m\u001b[0m\u001b[0;34m\u001b[0m\u001b[0m\n\u001b[0m\u001b[1;32m    217\u001b[0m     \u001b[0mshutdown\u001b[0m\u001b[0;34m.\u001b[0m\u001b[0m__doc__\u001b[0m \u001b[0;34m=\u001b[0m \u001b[0m_base\u001b[0m\u001b[0;34m.\u001b[0m\u001b[0mExecutor\u001b[0m\u001b[0;34m.\u001b[0m\u001b[0mshutdown\u001b[0m\u001b[0;34m.\u001b[0m\u001b[0m__doc__\u001b[0m\u001b[0;34m\u001b[0m\u001b[0;34m\u001b[0m\u001b[0m\n",
      "\u001b[0;32m/Library/Frameworks/Python.framework/Versions/3.7/lib/python3.7/threading.py\u001b[0m in \u001b[0;36mjoin\u001b[0;34m(self, timeout)\u001b[0m\n\u001b[1;32m   1042\u001b[0m \u001b[0;34m\u001b[0m\u001b[0m\n\u001b[1;32m   1043\u001b[0m         \u001b[0;32mif\u001b[0m \u001b[0mtimeout\u001b[0m \u001b[0;32mis\u001b[0m \u001b[0;32mNone\u001b[0m\u001b[0;34m:\u001b[0m\u001b[0;34m\u001b[0m\u001b[0;34m\u001b[0m\u001b[0m\n\u001b[0;32m-> 1044\u001b[0;31m             \u001b[0mself\u001b[0m\u001b[0;34m.\u001b[0m\u001b[0m_wait_for_tstate_lock\u001b[0m\u001b[0;34m(\u001b[0m\u001b[0;34m)\u001b[0m\u001b[0;34m\u001b[0m\u001b[0;34m\u001b[0m\u001b[0m\n\u001b[0m\u001b[1;32m   1045\u001b[0m         \u001b[0;32melse\u001b[0m\u001b[0;34m:\u001b[0m\u001b[0;34m\u001b[0m\u001b[0;34m\u001b[0m\u001b[0m\n\u001b[1;32m   1046\u001b[0m             \u001b[0;31m# the behavior of a negative timeout isn't documented, but\u001b[0m\u001b[0;34m\u001b[0m\u001b[0;34m\u001b[0m\u001b[0;34m\u001b[0m\u001b[0m\n",
      "\u001b[0;32m/Library/Frameworks/Python.framework/Versions/3.7/lib/python3.7/threading.py\u001b[0m in \u001b[0;36m_wait_for_tstate_lock\u001b[0;34m(self, block, timeout)\u001b[0m\n\u001b[1;32m   1058\u001b[0m         \u001b[0;32mif\u001b[0m \u001b[0mlock\u001b[0m \u001b[0;32mis\u001b[0m \u001b[0;32mNone\u001b[0m\u001b[0;34m:\u001b[0m  \u001b[0;31m# already determined that the C code is done\u001b[0m\u001b[0;34m\u001b[0m\u001b[0;34m\u001b[0m\u001b[0m\n\u001b[1;32m   1059\u001b[0m             \u001b[0;32massert\u001b[0m \u001b[0mself\u001b[0m\u001b[0;34m.\u001b[0m\u001b[0m_is_stopped\u001b[0m\u001b[0;34m\u001b[0m\u001b[0;34m\u001b[0m\u001b[0m\n\u001b[0;32m-> 1060\u001b[0;31m         \u001b[0;32melif\u001b[0m \u001b[0mlock\u001b[0m\u001b[0;34m.\u001b[0m\u001b[0macquire\u001b[0m\u001b[0;34m(\u001b[0m\u001b[0mblock\u001b[0m\u001b[0;34m,\u001b[0m \u001b[0mtimeout\u001b[0m\u001b[0;34m)\u001b[0m\u001b[0;34m:\u001b[0m\u001b[0;34m\u001b[0m\u001b[0;34m\u001b[0m\u001b[0m\n\u001b[0m\u001b[1;32m   1061\u001b[0m             \u001b[0mlock\u001b[0m\u001b[0;34m.\u001b[0m\u001b[0mrelease\u001b[0m\u001b[0;34m(\u001b[0m\u001b[0;34m)\u001b[0m\u001b[0;34m\u001b[0m\u001b[0;34m\u001b[0m\u001b[0m\n\u001b[1;32m   1062\u001b[0m             \u001b[0mself\u001b[0m\u001b[0;34m.\u001b[0m\u001b[0m_stop\u001b[0m\u001b[0;34m(\u001b[0m\u001b[0;34m)\u001b[0m\u001b[0;34m\u001b[0m\u001b[0;34m\u001b[0m\u001b[0m\n",
      "\u001b[0;31mKeyboardInterrupt\u001b[0m: "
     ]
    }
   ],
   "source": [
    "thread_run(put_file, workers=20, array=range(10000))"
   ]
  },
  {
   "cell_type": "code",
   "execution_count": 33,
   "id": "6debcc23-5331-4d7a-ab16-f80fbcbbd4da",
   "metadata": {},
   "outputs": [
    {
     "name": "stdout",
     "output_type": "stream",
     "text": [
      "ksc\n"
     ]
    }
   ],
   "source": [
    "import io\n",
    "import concurrent.futures\n",
    "import urllib.request\n",
    "from minio import Minio\n",
    "\n",
    "host = \"172.18.4.151\"\n",
    "port = \"19000\"\n",
    "usn = \"minioadmin\"\n",
    "pwd = \"minioadmin\"\n",
    "bucket = \"ksc\"\n",
    "\n",
    "client = Minio(f\"{host}:{port}\", usn, pwd,secure=False)\n",
    "result = client.list_buckets()\n",
    "print(result[0].name)"
   ]
  },
  {
   "cell_type": "code",
   "execution_count": 108,
   "id": "71400d7a-39cc-4cc2-857c-2055865e5c4f",
   "metadata": {},
   "outputs": [
    {
     "data": {
      "text/plain": [
       "HTTPHeaderDict({'Server': 'nginx/1.19.2', 'Date': 'Fri, 25 Nov 2022 14:36:34 GMT', 'Content-Type': 'application/csv', 'Content-Length': '1', 'Connection': 'keep-alive', 'Accept-Ranges': 'bytes', 'Content-Range': 'bytes 0-0/6', 'Content-Security-Policy': 'block-all-mixed-content', 'ETag': '\"6e809cbda0732ac4845916a59016f954\"', 'Last-Modified': 'Fri, 25 Nov 2022 09:07:06 GMT', 'No-Gzip-Compression': 'true', 'Strict-Transport-Security': 'max-age=31536000; includeSubDomains', 'Vary': 'Origin, Accept-Encoding', 'X-Amz-Request-Id': '172ADAA07B69C01E', 'X-Content-Type-Options': 'nosniff', 'X-Xss-Protection': '1; mode=block', 'x-amz-expiration': 'expiry-date=\"Sun, 27 Nov 2022 00:00:00 GMT\", rule-id=\"ce07sgc64rcf5aedkcg0\"'})"
      ]
     },
     "execution_count": 108,
     "metadata": {},
     "output_type": "execute_result"
    }
   ],
   "source": [
    "result = client.get_object('ksc','hello2',length=1)\n",
    "result.headers"
   ]
  },
  {
   "cell_type": "code",
   "execution_count": 106,
   "id": "adc63f7e-ffc6-4921-9a40-3508e3d50173",
   "metadata": {},
   "outputs": [
    {
     "data": {
      "text/plain": [
       "'Fri, 25 Nov 2022 09:07:06 GMT'"
      ]
     },
     "execution_count": 106,
     "metadata": {},
     "output_type": "execute_result"
    }
   ],
   "source": [
    "result.headers['Last-Modified']"
   ]
  },
  {
   "cell_type": "code",
   "execution_count": 46,
   "id": "7426307a-6f00-47bb-9795-02c23287f775",
   "metadata": {},
   "outputs": [],
   "source": []
  },
  {
   "cell_type": "code",
   "execution_count": 49,
   "id": "a9fd608a-9e60-4b0f-94df-e0585bca6660",
   "metadata": {},
   "outputs": [
    {
     "ename": "ValueError",
     "evalue": "Invalid isoformat string: 'Fri, 25 Nov 2022 09:07:06 GMT'",
     "output_type": "error",
     "traceback": [
      "\u001b[0;31m---------------------------------------------------------------------------\u001b[0m",
      "\u001b[0;31mValueError\u001b[0m                                Traceback (most recent call last)",
      "\u001b[0;32m/var/folders/77/v30xbz3j37xd1pc5p9bgjxb40000gn/T/ipykernel_66832/3923879951.py\u001b[0m in \u001b[0;36m<module>\u001b[0;34m\u001b[0m\n\u001b[0;32m----> 1\u001b[0;31m \u001b[0mdatetime\u001b[0m\u001b[0;34m.\u001b[0m\u001b[0mdatetime\u001b[0m\u001b[0;34m.\u001b[0m\u001b[0mfromisoformat\u001b[0m\u001b[0;34m(\u001b[0m\u001b[0;34m'Fri, 25 Nov 2022 09:07:06 GMT'\u001b[0m\u001b[0;34m)\u001b[0m\u001b[0;34m\u001b[0m\u001b[0;34m\u001b[0m\u001b[0m\n\u001b[0m",
      "\u001b[0;31mValueError\u001b[0m: Invalid isoformat string: 'Fri, 25 Nov 2022 09:07:06 GMT'"
     ]
    }
   ],
   "source": [
    "datetime.datetime.fromordinal('Fri, 25 Nov 2022 09:07:06 GMT')"
   ]
  },
  {
   "cell_type": "code",
   "execution_count": 54,
   "id": "e37b4f5a-134a-4278-8893-6485a300c0d9",
   "metadata": {},
   "outputs": [
    {
     "name": "stdout",
     "output_type": "stream",
     "text": [
      "HTTPHeaderDict({'Server': 'nginx/1.19.2', 'Date': 'Fri, 25 Nov 2022 12:15:51 GMT', 'Content-Type': 'application/csv', 'Content-Length': '1', 'Connection': 'keep-alive', 'Accept-Ranges': 'bytes', 'Content-Range': 'bytes 0-0/6', 'Content-Security-Policy': 'block-all-mixed-content', 'ETag': '\"203ad5ffa1d7c650ad681fdff3965cd2\"', 'Last-Modified': 'Fri, 25 Nov 2022 09:07:06 GMT', 'No-Gzip-Compression': 'true', 'Strict-Transport-Security': 'max-age=31536000; includeSubDomains', 'Vary': 'Origin, Accept-Encoding', 'X-Amz-Request-Id': '172AD2F29C09022C', 'X-Content-Type-Options': 'nosniff', 'X-Xss-Protection': '1; mode=block', 'x-amz-expiration': 'expiry-date=\"Sun, 27 Nov 2022 00:00:00 GMT\", rule-id=\"ce07sgc64rcf5aedkcg0\"'})\n"
     ]
    }
   ],
   "source": [
    "print(result.headers)"
   ]
  },
  {
   "cell_type": "code",
   "execution_count": 61,
   "id": "6153bbfe-7864-42f4-949d-1211cb3cf4cf",
   "metadata": {},
   "outputs": [
    {
     "name": "stdout",
     "output_type": "stream",
     "text": [
      "Current Time = 20:18:55\n",
      "Your Time Zone is GMT \n"
     ]
    }
   ],
   "source": [
    "from datetime import datetime \n",
    "now = datetime.now()\n",
    "current_time = now.strftime(\"%H:%M:%S\")\n",
    "print(\"Current Time =\", current_time)\n",
    "print(\"Your Time Zone is GMT\", now.strftime(\"%z\"))"
   ]
  },
  {
   "cell_type": "code",
   "execution_count": 86,
   "id": "8dc28cd5-a36c-4e22-a94f-5ee2a17482ca",
   "metadata": {},
   "outputs": [
    {
     "data": {
      "text/plain": [
       "datetime.datetime(2022, 11, 25, 9, 7, 6)"
      ]
     },
     "execution_count": 86,
     "metadata": {},
     "output_type": "execute_result"
    }
   ],
   "source": [
    "from datetime import timezone\n",
    "datetime.strptime('25 Nov 2022 09:07:06 GMT','%d %b %Y %H:%M:%S %Z')"
   ]
  },
  {
   "cell_type": "code",
   "execution_count": 77,
   "id": "93d899e9-084d-4f54-a36e-f3256ecd97ad",
   "metadata": {},
   "outputs": [
    {
     "name": "stdout",
     "output_type": "stream",
     "text": [
      "Help on built-in function strptime:\n",
      "\n",
      "strptime(...) method of builtins.type instance\n",
      "    string, format -> new datetime parsed from a string (like time.strptime()).\n",
      "\n"
     ]
    }
   ],
   "source": [
    "from datetime import timezone\n",
    "datetime.strptime('Fri 25 Nov 2022 09:07:06 GMT','%a, %d %b %y %H:%M:%S %Z')"
   ]
  },
  {
   "cell_type": "code",
   "execution_count": 87,
   "id": "ebb867d6-24cc-405c-9cf3-1b5ee79213f9",
   "metadata": {},
   "outputs": [
    {
     "data": {
      "text/plain": [
       "datetime.datetime(2022, 11, 25, 9, 7, 6)"
      ]
     },
     "execution_count": 87,
     "metadata": {},
     "output_type": "execute_result"
    }
   ],
   "source": [
    "from datetime import timezone\n",
    "datetime.strptime('Fri, 25 Nov 2022 09:07:06 GMT','%a, %d %b %Y %H:%M:%S %Z')"
   ]
  },
  {
   "cell_type": "code",
   "execution_count": 88,
   "id": "8b5cc90e-bc39-45eb-9f82-819d2d7f3243",
   "metadata": {},
   "outputs": [],
   "source": [
    "import os"
   ]
  },
  {
   "cell_type": "code",
   "execution_count": 96,
   "id": "344794c3-6040-4110-b7ca-f69a3351a17c",
   "metadata": {},
   "outputs": [
    {
     "name": "stdout",
     "output_type": "stream",
     "text": [
      "/Users/zhenyu.hu/Documents/scripts/minio ['.ipynb_checkpoints'] ['upload.ipynb', 'minio.ipynb']\n",
      "/Users/zhenyu.hu/Documents/scripts/minio/.ipynb_checkpoints [] ['minio-checkpoint.ipynb', 'upload-checkpoint.ipynb']\n"
     ]
    }
   ],
   "source": [
    "for current, dirs, files in os.walk('/Users/zhenyu.hu/Documents/scripts/minio'):\n",
    "    print(current, dirs, files)"
   ]
  },
  {
   "cell_type": "code",
   "execution_count": 90,
   "id": "6bd25bd8-6286-4aa1-b9d3-2ae7c3749bd7",
   "metadata": {},
   "outputs": [],
   "source": [
    "import pathlib"
   ]
  },
  {
   "cell_type": "code",
   "execution_count": 100,
   "id": "c40eb4ac-321b-4f0c-b9ca-99f53c3af0db",
   "metadata": {},
   "outputs": [
    {
     "data": {
      "text/plain": [
       "'.ipynb_checkpoints'"
      ]
     },
     "execution_count": 100,
     "metadata": {},
     "output_type": "execute_result"
    }
   ],
   "source": [
    "pathlib.Path('/Users/zhenyu.hu/Documents/scripts/minio/.ipynb_checkpoints').relative_to('/Users/zhenyu.hu/Documents/scripts/minio').name"
   ]
  },
  {
   "cell_type": "code",
   "execution_count": 101,
   "id": "977f5c54-5aef-4ea0-88f1-63bdc43bfed1",
   "metadata": {},
   "outputs": [
    {
     "data": {
      "text/plain": [
       "'.ipynb_checkpoints'"
      ]
     },
     "execution_count": 101,
     "metadata": {},
     "output_type": "execute_result"
    }
   ],
   "source": [
    "pathlib.Path('/Users/zhenyu.hu/Documents/scripts/minio/.ipynb_checkpoints').name"
   ]
  },
  {
   "cell_type": "code",
   "execution_count": 95,
   "id": "f7d3d621-1423-443b-8549-f48816a09279",
   "metadata": {},
   "outputs": [
    {
     "data": {
      "text/plain": [
       "'/Users/zhenyu.hu/Documents/scripts/minio'"
      ]
     },
     "execution_count": 95,
     "metadata": {},
     "output_type": "execute_result"
    }
   ],
   "source": [
    "%pwd"
   ]
  },
  {
   "cell_type": "code",
   "execution_count": null,
   "id": "b1ec0f57-4022-45ab-b709-199634f3ad04",
   "metadata": {},
   "outputs": [],
   "source": []
  }
 ],
 "metadata": {
  "kernelspec": {
   "display_name": "3.10.6",
   "language": "python",
   "name": "3.10.6"
  },
  "language_info": {
   "codemirror_mode": {
    "name": "ipython",
    "version": 3
   },
   "file_extension": ".py",
   "mimetype": "text/x-python",
   "name": "python",
   "nbconvert_exporter": "python",
   "pygments_lexer": "ipython3",
   "version": "3.7.9"
  }
 },
 "nbformat": 4,
 "nbformat_minor": 5
}
