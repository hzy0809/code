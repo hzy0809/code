{
 "cells": [
  {
   "cell_type": "code",
   "execution_count": 32,
   "id": "ae3e5c19-eea2-4f3b-a4d8-500e5a0c3a2f",
   "metadata": {},
   "outputs": [
    {
     "name": "stdout",
     "output_type": "stream",
     "text": [
      "ksc\n"
     ]
    }
   ],
   "source": [
    "from minio import Minio\n",
    "client = Minio(\"172.18.4.151:19000\", 'minioadmin', 'minioadmin',secure=False)\n",
    "result = client.list_buckets()\n",
    "print(result[0].name)"
   ]
  },
  {
   "cell_type": "code",
   "execution_count": 23,
   "id": "b8de89bc-a52f-42a5-abf0-dcd78537276d",
   "metadata": {},
   "outputs": [],
   "source": [
    "from minio.lifecycleconfig import LifecycleConfig, Rule, Expiration\n",
    "from minio.commonconfig import Filter, ENABLED\n",
    "\n",
    "rule = Rule(\n",
    "    status=ENABLED,\n",
    "    rule_filter=Filter(prefix=''),\n",
    "    rule_id=\"delete_90\",\n",
    "    expiration=Expiration(days=90)\n",
    ")\n",
    "config = LifecycleConfig(rules=[rule])\n",
    "\n",
    "client.set_bucket_lifecycle('gmobile', config)"
   ]
  },
  {
   "cell_type": "code",
   "execution_count": 24,
   "id": "ac9bd4a8-ae2a-4b48-8839-5575de2d9863",
   "metadata": {},
   "outputs": [
    {
     "name": "stdout",
     "output_type": "stream",
     "text": [
      "90\n"
     ]
    }
   ],
   "source": [
    "print(client.get_bucket_lifecycle('gmobile').rules[0].expiration.days)"
   ]
  },
  {
   "cell_type": "code",
   "execution_count": 17,
   "id": "eef7bbf6-90c0-4899-92f5-2d7940d092a0",
   "metadata": {},
   "outputs": [],
   "source": [
    "client.delete_bucket_lifecycle('gmobile')"
   ]
  },
  {
   "cell_type": "code",
   "execution_count": 18,
   "id": "dfc95cc8-7a1a-4d5c-9801-035999cb7e9b",
   "metadata": {},
   "outputs": [],
   "source": [
    "client.get_bucket_lifecycle('gmobile')"
   ]
  },
  {
   "cell_type": "code",
   "execution_count": 26,
   "id": "794df7b5-e5c3-4fbf-89c3-31e159a6b907",
   "metadata": {},
   "outputs": [],
   "source": [
    "from datetime import datetime, timedelta"
   ]
  },
  {
   "cell_type": "code",
   "execution_count": 27,
   "id": "314cb33a-38ea-4677-b23d-08041c0724a9",
   "metadata": {},
   "outputs": [
    {
     "data": {
      "text/plain": [
       "datetime.datetime(2022, 9, 5, 11, 11, 8, 643522)"
      ]
     },
     "execution_count": 27,
     "metadata": {},
     "output_type": "execute_result"
    }
   ],
   "source": [
    "datetime.now() - timedelta(days=77)"
   ]
  },
  {
   "cell_type": "code",
   "execution_count": 37,
   "id": "62c72929-f384-4947-8a01-d5f0edd10322",
   "metadata": {},
   "outputs": [
    {
     "data": {
      "text/plain": [
       "HTTPHeaderDict({'Server': 'nginx/1.19.2', 'Date': 'Sat, 26 Nov 2022 06:44:47 GMT', 'Content-Type': 'application/csv', 'Content-Length': '10', 'Connection': 'keep-alive', 'Accept-Ranges': 'bytes', 'Content-Security-Policy': 'block-all-mixed-content', 'ETag': '\"7673f002f4e54c1a2d243ed4b1a4d32b\"', 'Last-Modified': 'Fri, 25 Nov 2022 09:07:44 GMT', 'No-Gzip-Compression': 'true', 'Strict-Transport-Security': 'max-age=31536000; includeSubDomains', 'Vary': 'Origin, Accept-Encoding', 'X-Amz-Request-Id': '172B0F765DB52DEF', 'X-Content-Type-Options': 'nosniff', 'X-Xss-Protection': '1; mode=block', 'x-amz-expiration': 'expiry-date=\"Sun, 27 Nov 2022 00:00:00 GMT\", rule-id=\"ce07sgc64rcf5aedkcg0\"'})"
      ]
     },
     "execution_count": 37,
     "metadata": {},
     "output_type": "execute_result"
    }
   ],
   "source": [
    "result = client.get_object('ksc','hello10000')\n",
    "result.headers"
   ]
  },
  {
   "cell_type": "code",
   "execution_count": 41,
   "id": "62ce3003-20c4-4a84-b855-a0d2fddbd42d",
   "metadata": {},
   "outputs": [
    {
     "data": {
      "text/plain": [
       "HTTPHeaderDict({'Server': 'nginx/1.19.2', 'Date': 'Sun, 27 Nov 2022 10:09:13 GMT', 'Content-Type': 'image/vnd.microsoft.icon', 'Content-Length': '11723', 'Connection': 'keep-alive', 'Accept-Ranges': 'bytes', 'Content-Security-Policy': 'block-all-mixed-content', 'ETag': '\"e39c10c8e3bc4305a08e3f096f384892\"', 'Last-Modified': 'Sat, 26 Nov 2022 14:45:52 GMT', 'No-Gzip-Compression': 'true', 'Strict-Transport-Security': 'max-age=31536000; includeSubDomains', 'Vary': 'Origin, Accept-Encoding', 'X-Amz-Request-Id': '172B6932A29F701E', 'X-Content-Type-Options': 'nosniff', 'X-Xss-Protection': '1; mode=block', 'x-amz-expiration': 'expiry-date=\"Mon, 28 Nov 2022 00:00:00 GMT\", rule-id=\"ce0rpfk64rc3kqnftjhg\"'})"
      ]
     },
     "execution_count": 41,
     "metadata": {},
     "output_type": "execute_result"
    }
   ],
   "source": [
    "result = client.get_object('test','sub_path/favicon.ico')\n",
    "result.headers"
   ]
  },
  {
   "cell_type": "code",
   "execution_count": 45,
   "id": "97bfea5d-75d3-40dc-a6f2-e849e596a265",
   "metadata": {},
   "outputs": [
    {
     "data": {
      "text/plain": [
       "HTTPHeaderDict({'Server': 'nginx/1.19.2', 'Date': 'Sun, 27 Nov 2022 10:10:25 GMT', 'Content-Type': 'image/vnd.microsoft.icon', 'Content-Length': '11723', 'Connection': 'keep-alive', 'Accept-Ranges': 'bytes', 'Content-Security-Policy': 'block-all-mixed-content', 'ETag': '\"e39c10c8e3bc4305a08e3f096f384892\"', 'Last-Modified': 'Sat, 26 Nov 2022 14:45:52 GMT', 'No-Gzip-Compression': 'true', 'Strict-Transport-Security': 'max-age=31536000; includeSubDomains', 'Vary': 'Origin, Accept-Encoding', 'X-Amz-Request-Id': '172B694385D1CBEF', 'X-Content-Type-Options': 'nosniff', 'X-Xss-Protection': '1; mode=block', 'x-amz-expiration': 'expiry-date=\"Tue, 29 Nov 2022 00:00:00 GMT\", rule-id=\"ce1jets64rc3kqnftji0\"'})"
      ]
     },
     "execution_count": 45,
     "metadata": {},
     "output_type": "execute_result"
    }
   ],
   "source": [
    "result = client.get_object('test','sub_path/favicon.ico')\n",
    "result.headers"
   ]
  },
  {
   "cell_type": "code",
   "execution_count": null,
   "id": "6f6cfc4f-6e0b-4ba6-bc18-6ce0235077e9",
   "metadata": {},
   "outputs": [],
   "source": []
  }
 ],
 "metadata": {
  "kernelspec": {
   "display_name": "3.10.6",
   "language": "python",
   "name": "3.10.6"
  },
  "language_info": {
   "codemirror_mode": {
    "name": "ipython",
    "version": 3
   },
   "file_extension": ".py",
   "mimetype": "text/x-python",
   "name": "python",
   "nbconvert_exporter": "python",
   "pygments_lexer": "ipython3",
   "version": "3.7.9"
  }
 },
 "nbformat": 4,
 "nbformat_minor": 5
}
