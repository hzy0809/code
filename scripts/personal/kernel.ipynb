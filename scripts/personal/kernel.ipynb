{
 "cells": [
  {
   "cell_type": "code",
   "execution_count": 18,
   "id": "eb7b1d2e-12b0-4f39-a841-f11989f52b73",
   "metadata": {},
   "outputs": [
    {
     "name": "stdout",
     "output_type": "stream",
     "text": [
      ".\n",
      "..\n",
      "profile_default\n"
     ]
    }
   ],
   "source": [
    "%%bash"
   ]
  },
  {
   "cell_type": "code",
   "execution_count": 4,
   "id": "1b34b7fc-2a28-4385-a249-7de1333f32dd",
   "metadata": {},
   "outputs": [
    {
     "name": "stdout",
     "output_type": "stream",
     "text": [
      "Collecting package metadata (current_repodata.json): done\n",
      "Solving environment: done\n",
      "\n",
      "## Package Plan ##\n",
      "\n",
      "  environment location: /opt/conda\n",
      "\n",
      "  added / updated specs:\n",
      "    - python\n",
      "\n",
      "\n",
      "The following packages will be downloaded:\n",
      "\n",
      "    package                    |            build\n",
      "    ---------------------------|-----------------\n",
      "    ca-certificates-2022.12.7  |       h4fd8a4c_0         143 KB  conda-forge\n",
      "    certifi-2022.12.7          |     pyhd8ed1ab_0         147 KB  conda-forge\n",
      "    ------------------------------------------------------------\n",
      "                                           Total:         290 KB\n",
      "\n",
      "The following packages will be SUPERSEDED by a higher-priority channel:\n",
      "\n",
      "  ca-certificates    pkgs/main::ca-certificates-2023.01.10~ --> conda-forge::ca-certificates-2022.12.7-h4fd8a4c_0 \n",
      "  certifi            pkgs/main/linux-aarch64::certifi-2022~ --> conda-forge/noarch::certifi-2022.12.7-pyhd8ed1ab_0 \n",
      "\n",
      "\n",
      "\n",
      "Downloading and Extracting Packages\n",
      "ca-certificates-2022 | 143 KB    |                                       |   0% \n",
      "certifi-2022.12.7    | 147 KB    |                                       |   0% \u001b[A\n",
      "ca-certificates-2022 | 143 KB    | ####1                                 |  11% \u001b[A\n",
      "ca-certificates-2022 | 143 KB    | ################5                     |  45% \u001b[A\n",
      "ca-certificates-2022 | 143 KB    | ########################8             |  67% \u001b[A\n",
      "certifi-2022.12.7    | 147 KB    | ################################1     |  87% \u001b[A\n",
      "ca-certificates-2022 | 143 KB    | #################################1    |  90% \u001b[A\n",
      "                                                                                \u001b[A\n",
      "                                                                                \u001b[A\n",
      "Preparing transaction: done\n",
      "Verifying transaction: done\n",
      "Executing transaction: done\n",
      "\n",
      "Note: you may need to restart the kernel to use updated packages.\n"
     ]
    }
   ],
   "source": [
    "conda install -c conda-forge python"
   ]
  },
  {
   "cell_type": "code",
   "execution_count": 12,
   "id": "75974576-6864-4eda-96a9-a1a6b7f49b70",
   "metadata": {
    "scrolled": true,
    "tags": []
   },
   "outputs": [
    {
     "name": "stdout",
     "output_type": "stream",
     "text": [
      "Collecting package metadata (current_repodata.json): done\n",
      "Solving environment: done\n",
      "\n",
      "## Package Plan ##\n",
      "\n",
      "  environment location: /opt/conda/envs/python311\n",
      "\n",
      "  added / updated specs:\n",
      "    - python=3.11\n",
      "\n",
      "\n",
      "The following NEW packages will be INSTALLED:\n",
      "\n",
      "  _openmp_mutex      conda-forge/linux-aarch64::_openmp_mutex-4.5-2_gnu \n",
      "  bzip2              conda-forge/linux-aarch64::bzip2-1.0.8-hf897c2e_4 \n",
      "  ca-certificates    conda-forge/linux-aarch64::ca-certificates-2022.12.7-h4fd8a4c_0 \n",
      "  ld_impl_linux-aar~ conda-forge/linux-aarch64::ld_impl_linux-aarch64-2.40-h2d8c526_0 \n",
      "  libexpat           conda-forge/linux-aarch64::libexpat-2.5.0-hd600fc2_1 \n",
      "  libffi             conda-forge/linux-aarch64::libffi-3.4.2-h3557bc0_5 \n",
      "  libgcc-ng          conda-forge/linux-aarch64::libgcc-ng-12.2.0-h607ecd0_19 \n",
      "  libgomp            conda-forge/linux-aarch64::libgomp-12.2.0-h607ecd0_19 \n",
      "  libnsl             conda-forge/linux-aarch64::libnsl-2.0.0-hf897c2e_0 \n",
      "  libsqlite          conda-forge/linux-aarch64::libsqlite-3.40.0-hf9034f9_1 \n",
      "  libuuid            conda-forge/linux-aarch64::libuuid-2.38.1-hb4cce97_0 \n",
      "  libzlib            conda-forge/linux-aarch64::libzlib-1.2.13-h4e544f5_4 \n",
      "  ncurses            conda-forge/linux-aarch64::ncurses-6.3-headf329_1 \n",
      "  openssl            conda-forge/linux-aarch64::openssl-3.1.0-h31becfc_3 \n",
      "  pip                conda-forge/noarch::pip-23.1.2-pyhd8ed1ab_0 \n",
      "  python             conda-forge/linux-aarch64::python-3.11.3-h07235ee_0_cpython \n",
      "  readline           conda-forge/linux-aarch64::readline-8.2-h8fc344f_1 \n",
      "  setuptools         conda-forge/noarch::setuptools-67.7.2-pyhd8ed1ab_0 \n",
      "  tk                 conda-forge/linux-aarch64::tk-8.6.12-hd8af866_0 \n",
      "  tzdata             conda-forge/noarch::tzdata-2023c-h71feb2d_0 \n",
      "  wheel              conda-forge/noarch::wheel-0.40.0-pyhd8ed1ab_0 \n",
      "  xz                 conda-forge/linux-aarch64::xz-5.2.6-h9cdd2b7_0 \n",
      "\n",
      "\n",
      "\n",
      "Downloading and Extracting Packages\n",
      "\n",
      "Preparing transaction: done\n",
      "Verifying transaction: done\n",
      "Executing transaction: done\n",
      "#\n",
      "# To activate this environment, use\n",
      "#\n",
      "#     $ conda activate python311\n",
      "#\n",
      "# To deactivate an active environment, use\n",
      "#\n",
      "#     $ conda deactivate\n",
      "\n",
      "\n",
      "Note: you may need to restart the kernel to use updated packages.\n"
     ]
    }
   ],
   "source": [
    "conda create -c conda-forge --name python311 python=3.11 -y"
   ]
  },
  {
   "cell_type": "code",
   "execution_count": 25,
   "id": "56bad032-c67f-46e3-b48f-a9809578c009",
   "metadata": {},
   "outputs": [
    {
     "name": "stdout",
     "output_type": "stream",
     "text": [
      "/opt/conda/envs/python311\n"
     ]
    }
   ],
   "source": [
    "%%bash\n",
    "source activate python311\n",
    "echo $CONDA_PREFIX"
   ]
  },
  {
   "cell_type": "code",
   "execution_count": 26,
   "id": "084b32bb-2e13-4f81-820b-3985546456ef",
   "metadata": {},
   "outputs": [
    {
     "name": "stdout",
     "output_type": "stream",
     "text": [
      "\n"
     ]
    }
   ],
   "source": [
    "%%bash\n",
    "echo $CONDA_PREFIX"
   ]
  },
  {
   "cell_type": "code",
   "execution_count": 27,
   "id": "59e6fea3-28d4-47c5-a77b-40d03be23968",
   "metadata": {},
   "outputs": [
    {
     "name": "stdout",
     "output_type": "stream",
     "text": [
      "['/opt/conda/lib/python3.10/site-packages']\n"
     ]
    }
   ],
   "source": [
    "import site; print(site.getsitepackages())"
   ]
  },
  {
   "cell_type": "code",
   "execution_count": null,
   "id": "3898bcd7-8532-4f0b-afbd-47cb1be9e8b1",
   "metadata": {},
   "outputs": [],
   "source": []
  }
 ],
 "metadata": {
  "kernelspec": {
   "display_name": "Python 3 (ipykernel)",
   "language": "python",
   "name": "python3"
  },
  "language_info": {
   "codemirror_mode": {
    "name": "ipython",
    "version": 3
   },
   "file_extension": ".py",
   "mimetype": "text/x-python",
   "name": "python",
   "nbconvert_exporter": "python",
   "pygments_lexer": "ipython3",
   "version": "3.10.10"
  }
 },
 "nbformat": 4,
 "nbformat_minor": 5
}
