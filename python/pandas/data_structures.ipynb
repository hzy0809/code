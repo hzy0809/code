{
 "cells": [
  {
   "cell_type": "code",
   "execution_count": 20,
   "metadata": {
    "collapsed": true
   },
   "outputs": [
    {
     "name": "stdout",
     "output_type": "stream",
     "text": [
      "b    2\n",
      "c    3\n",
      "a    1\n",
      "dtype: int64\n",
      "a    1\n",
      "b    1\n",
      "c    1\n",
      "d    1\n",
      "e    1\n",
      "dtype: int64\n"
     ]
    }
   ],
   "source": [
    "import pandas as pd\n",
    "import numpy as np\n",
    "# Series\n",
    "\n",
    "\n",
    "\n",
    "s = pd.Series(dict(b=2,c=3,a=1))\n",
    "print(s)\n",
    "s = pd.Series(1,index=list('abcde'))\n",
    "print(s)\n",
    "\n"
   ]
  },
  {
   "cell_type": "code",
   "execution_count": 23,
   "metadata": {
    "pycharm": {
     "name": "#%%\n"
    }
   },
   "outputs": [
    {
     "name": "stdout",
     "output_type": "stream",
     "text": [
      "a   -0.228606\n",
      "b   -1.328684\n",
      "c    0.578104\n",
      "d    0.075770\n",
      "e   -1.009178\n",
      "dtype: float64\n",
      "-0.22860604658249878\n",
      "c    0.578104\n",
      "d    0.075770\n",
      "dtype: float64\n",
      "e   -1.009178\n",
      "b   -1.328684\n",
      "d    0.075770\n",
      "dtype: float64\n",
      "a    0.795642\n",
      "b    0.264825\n",
      "c    1.782655\n",
      "d    1.078715\n",
      "e    0.364519\n",
      "dtype: float64\n",
      "float64\n",
      "<PandasArray>\n",
      "[-0.22860604658249878,  -1.3286841620465808,    0.578104017806866,\n",
      "  0.07577027295796586,  -1.0091775174079116]\n",
      "Length: 5, dtype: float64\n",
      "[-0.22860605 -1.32868416  0.57810402  0.07577027 -1.00917752]\n"
     ]
    }
   ],
   "source": [
    "s = pd.Series(np.random.randn(5),index=list('abcde'))\n",
    "print(s)\n",
    "# 平均值\n",
    "print(s.median())\n",
    "print(s[s>s.median()])\n",
    "print(s[[4,1,3]])\n",
    "# 指数e\n",
    "print(np.exp(s))\n",
    "print(s.dtype)\n",
    "print(s.array)\n",
    "print(s.to_numpy())"
   ]
  },
  {
   "cell_type": "code",
   "execution_count": 25,
   "metadata": {
    "pycharm": {
     "name": "#%%\n"
    }
   },
   "outputs": [
    {
     "name": "stdout",
     "output_type": "stream",
     "text": [
      "b    0.671305\n",
      "c    0.362701\n",
      "d    0.378845\n",
      "e    2.146614\n",
      "dtype: float64\n",
      "a   -0.366664\n",
      "b    0.671305\n",
      "c    0.362701\n",
      "d    0.378845\n",
      "dtype: float64\n",
      "a         NaN\n",
      "b    1.342610\n",
      "c    0.725402\n",
      "d    0.757689\n",
      "e         NaN\n",
      "dtype: float64\n",
      "b    1.342610\n",
      "c    0.725402\n",
      "d    0.757689\n",
      "dtype: float64\n"
     ]
    }
   ],
   "source": [
    "s = pd.Series(np.random.randn(5),index=list('abcde'))\n",
    "print(s[1:])\n",
    "print(s[:-1])\n",
    "print(s[1:]+s[:-1])\n",
    "print((s[1:]+s[:-1]).dropna())"
   ]
  },
  {
   "cell_type": "code",
   "execution_count": null,
   "metadata": {},
   "outputs": [],
   "source": []
  }
 ],
 "metadata": {
  "kernelspec": {
   "display_name": "Python 3",
   "language": "python",
   "name": "python3"
  },
  "language_info": {
   "codemirror_mode": {
    "name": "ipython",
    "version": 3
   },
   "file_extension": ".py",
   "mimetype": "text/x-python",
   "name": "python",
   "nbconvert_exporter": "python",
   "pygments_lexer": "ipython3",
   "version": "3.7.9"
  }
 },
 "nbformat": 4,
 "nbformat_minor": 1
}