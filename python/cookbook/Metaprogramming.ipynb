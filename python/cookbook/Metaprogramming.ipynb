{
 "cells": [
  {
   "cell_type": "markdown",
   "id": "f108a3f9-d939-4b1d-8249-1238ff872c93",
   "metadata": {},
   "source": [
    "# 在函数上添加包装器"
   ]
  },
  {
   "cell_type": "code",
   "execution_count": 1,
   "id": "76286096-f9a3-43fa-bae3-612d3d342cc1",
   "metadata": {},
   "outputs": [],
   "source": [
    "import time\n",
    "from functools import wraps\n",
    "\n",
    "def timethis(func):\n",
    "    '''\n",
    "    Decorator that reports the execution time.\n",
    "    '''\n",
    "    @wraps(func)\n",
    "    def wrapper(*args, **kwargs):\n",
    "        start = time.time()\n",
    "        result = func(*args, **kwargs)\n",
    "        end = time.time()\n",
    "        print(func.__name__, end-start)\n",
    "        return result\n",
    "    return wrapper"
   ]
  },
  {
   "cell_type": "markdown",
   "id": "df2fae32-1dee-456a-92b0-ebdbf7507130",
   "metadata": {},
   "source": [
    "# 创建装饰器时保留函数元信息"
   ]
  },
  {
   "cell_type": "markdown",
   "id": "46f041e8-9da5-47ee-9beb-491503607469",
   "metadata": {},
   "source": [
    "`@wraps` 有一个重要特征是它能让你通过属性 `__wrapped__` 直接访问被包装函数。"
   ]
  },
  {
   "cell_type": "code",
   "execution_count": 3,
   "id": "04e15b1a-19ce-41ae-9799-5bd1a2cd7e7f",
   "metadata": {},
   "outputs": [],
   "source": [
    "@timethis\n",
    "def countdown(n):\n",
    "     '''\n",
    "     Counts down\n",
    "     '''\n",
    "     while n > 0:\n",
    "        n -= 1"
   ]
  },
  {
   "cell_type": "code",
   "execution_count": 4,
   "id": "af4893dc-f04b-4bff-8e6c-78843922a133",
   "metadata": {},
   "outputs": [
    {
     "name": "stdout",
     "output_type": "stream",
     "text": [
      "(n)\n"
     ]
    }
   ],
   "source": [
    "from inspect import signature\n",
    "print(signature(countdown))"
   ]
  },
  {
   "cell_type": "markdown",
   "id": "2c6153f2-abef-430f-b7db-6c90c4ddecdd",
   "metadata": {},
   "source": [
    "# 解除一个装饰器"
   ]
  },
  {
   "cell_type": "code",
   "execution_count": 6,
   "id": "1a1c5a4b-8f5d-4a8e-8dfa-0d287e2a6c61",
   "metadata": {},
   "outputs": [
    {
     "data": {
      "text/plain": [
       "7"
      ]
     },
     "execution_count": 6,
     "metadata": {},
     "output_type": "execute_result"
    }
   ],
   "source": [
    "@timethis\n",
    "def add(x, y):\n",
    "    return x + y\n",
    "\n",
    "orig_add = add.__wrapped__\n",
    "orig_add(3, 4)"
   ]
  },
  {
   "cell_type": "code",
   "execution_count": 7,
   "id": "f5b29e17-8702-4831-bf67-791576b9f003",
   "metadata": {},
   "outputs": [],
   "source": [
    "from functools import wraps\n",
    "\n",
    "def decorator1(func):\n",
    "    @wraps(func)\n",
    "    def wrapper(*args, **kwargs):\n",
    "        print('Decorator 1')\n",
    "        return func(*args, **kwargs)\n",
    "    return wrapper\n",
    "\n",
    "def decorator2(func):\n",
    "    @wraps(func)\n",
    "    def wrapper(*args, **kwargs):\n",
    "        print('Decorator 2')\n",
    "        return func(*args, **kwargs)\n",
    "    return wrapper\n",
    "\n",
    "@decorator1\n",
    "@decorator2\n",
    "def add(x, y):\n",
    "    return x + y"
   ]
  },
  {
   "cell_type": "code",
   "execution_count": 8,
   "id": "d52d758e-afaa-431d-bae4-f53449979aa2",
   "metadata": {},
   "outputs": [
    {
     "name": "stdout",
     "output_type": "stream",
     "text": [
      "Decorator 1\n",
      "Decorator 2\n"
     ]
    },
    {
     "data": {
      "text/plain": [
       "5"
      ]
     },
     "execution_count": 8,
     "metadata": {},
     "output_type": "execute_result"
    }
   ],
   "source": [
    "add(2, 3)"
   ]
  },
  {
   "cell_type": "code",
   "execution_count": 9,
   "id": "81180857-2225-44d4-ba77-76a82e71f64c",
   "metadata": {},
   "outputs": [
    {
     "name": "stdout",
     "output_type": "stream",
     "text": [
      "Decorator 2\n"
     ]
    },
    {
     "data": {
      "text/plain": [
       "5"
      ]
     },
     "execution_count": 9,
     "metadata": {},
     "output_type": "execute_result"
    }
   ],
   "source": [
    "add.__wrapped__(2,3)"
   ]
  },
  {
   "cell_type": "code",
   "execution_count": 10,
   "id": "87204f16-a94e-4313-aa6b-10bd7f846c58",
   "metadata": {},
   "outputs": [
    {
     "data": {
      "text/plain": [
       "5"
      ]
     },
     "execution_count": 10,
     "metadata": {},
     "output_type": "execute_result"
    }
   ],
   "source": [
    "add.__wrapped__.__wrapped__(2,3)"
   ]
  },
  {
   "cell_type": "markdown",
   "id": "0cbdc153-2bb0-4512-9877-aded18c8fb72",
   "metadata": {},
   "source": [
    "# 定义一个带参数的装饰器"
   ]
  },
  {
   "cell_type": "code",
   "execution_count": 11,
   "id": "2d9059df-7f4f-42dc-8afc-e12a0589203c",
   "metadata": {},
   "outputs": [],
   "source": [
    "from functools import wraps\n",
    "import logging\n",
    "\n",
    "def logged(level, name=None, message=None):\n",
    "    \"\"\"\n",
    "    Add logging to a function. level is the logging\n",
    "    level, name is the logger name, and message is the\n",
    "    log message. If name and message aren't specified,\n",
    "    they default to the function's module and name.\n",
    "    \"\"\"\n",
    "    def decorate(func):\n",
    "        logname = name if name else func.__module__\n",
    "        log = logging.getLogger(logname)\n",
    "        logmsg = message if message else func.__name__\n",
    "\n",
    "        @wraps(func)\n",
    "        def wrapper(*args, **kwargs):\n",
    "            log.log(level, logmsg)\n",
    "            return func(*args, **kwargs)\n",
    "        return wrapper\n",
    "    return decorate\n",
    "\n",
    "# Example use\n",
    "@logged(logging.DEBUG)\n",
    "def add(x, y):\n",
    "    return x + y\n",
    "\n",
    "@logged(logging.CRITICAL, 'example')\n",
    "def spam():\n",
    "    print('Spam!')"
   ]
  },
  {
   "cell_type": "markdown",
   "id": "62f809f9-7356-412c-922b-3622461f7b1a",
   "metadata": {},
   "source": [
    "# 可自定义属性的装饰器"
   ]
  },
  {
   "cell_type": "code",
   "execution_count": 16,
   "id": "eec8c86d-0685-43a2-b995-582c9244cf23",
   "metadata": {},
   "outputs": [],
   "source": [
    "from functools import wraps, partial\n",
    "import logging\n",
    "# Utility decorator to attach a function as an attribute of obj\n",
    "def attach_wrapper(obj, func=None):\n",
    "    if func is None:\n",
    "        return partial(attach_wrapper, obj)\n",
    "    setattr(obj, func.__name__, func)\n",
    "    return func\n",
    "\n",
    "def logged(level, name=None, message=None):\n",
    "    '''\n",
    "    Add logging to a function. level is the logging\n",
    "    level, name is the logger name, and message is the\n",
    "    log message. If name and message aren't specified,\n",
    "    they default to the function's module and name.\n",
    "    '''\n",
    "    def decorate(func):\n",
    "        logname = name if name else func.__module__\n",
    "        log = logging.getLogger(logname)\n",
    "        logmsg = message if message else func.__name__\n",
    "\n",
    "        @wraps(func)\n",
    "        def wrapper(*args, **kwargs):\n",
    "            log.log(level, logmsg)\n",
    "            return func(*args, **kwargs)\n",
    "\n",
    "        # Attach setter functions\n",
    "        @attach_wrapper(wrapper)\n",
    "        def set_level(newlevel):\n",
    "            nonlocal level\n",
    "            level = newlevel\n",
    "\n",
    "        @attach_wrapper(wrapper)\n",
    "        def set_message(newmsg):\n",
    "            nonlocal logmsg\n",
    "            logmsg = newmsg\n",
    "\n",
    "        return wrapper\n",
    "\n",
    "    return decorate\n",
    "\n",
    "# Example use\n",
    "@logged(logging.DEBUG)\n",
    "def add(x, y):\n",
    "    return x + y\n",
    "\n",
    "@logged(logging.CRITICAL, 'example')\n",
    "def spam():\n",
    "    print('Spam!')"
   ]
  },
  {
   "cell_type": "code",
   "execution_count": 13,
   "id": "0bcc36b9-7e94-4fbb-9641-5536cb41d551",
   "metadata": {},
   "outputs": [],
   "source": [
    "import logging\n",
    "logging.basicConfig(level=logging.DEBUG)"
   ]
  },
  {
   "cell_type": "code",
   "execution_count": 14,
   "id": "c45cc67b-3a05-4d6f-a318-b02613028d06",
   "metadata": {},
   "outputs": [
    {
     "name": "stderr",
     "output_type": "stream",
     "text": [
      "DEBUG:__main__:add\n"
     ]
    },
    {
     "data": {
      "text/plain": [
       "5"
      ]
     },
     "execution_count": 14,
     "metadata": {},
     "output_type": "execute_result"
    }
   ],
   "source": [
    "add(2,3)"
   ]
  },
  {
   "cell_type": "code",
   "execution_count": 17,
   "id": "908d72c2-cc39-478e-bc36-cd7588704cac",
   "metadata": {},
   "outputs": [
    {
     "name": "stderr",
     "output_type": "stream",
     "text": [
      "DEBUG:__main__:Add called\n"
     ]
    },
    {
     "data": {
      "text/plain": [
       "5"
      ]
     },
     "execution_count": 17,
     "metadata": {},
     "output_type": "execute_result"
    }
   ],
   "source": [
    "add.set_message('Add called')\n",
    "add(2,3)"
   ]
  },
  {
   "cell_type": "code",
   "execution_count": 18,
   "id": "b1d4e941-1cb9-4da5-82fd-dc54ea04b8d7",
   "metadata": {},
   "outputs": [
    {
     "name": "stderr",
     "output_type": "stream",
     "text": [
      "WARNING:__main__:Add called\n"
     ]
    },
    {
     "data": {
      "text/plain": [
       "5"
      ]
     },
     "execution_count": 18,
     "metadata": {},
     "output_type": "execute_result"
    }
   ],
   "source": [
    "add.set_level(logging.WARNING)\n",
    "add(2,3)"
   ]
  },
  {
   "cell_type": "markdown",
   "id": "b73db9e7-f107-46b5-8bd5-956b1f395f25",
   "metadata": {},
   "source": [
    "# 带可选参数的装饰器"
   ]
  },
  {
   "cell_type": "code",
   "execution_count": 19,
   "id": "7abbf87a-71b5-49b5-be75-ab11d13f3660",
   "metadata": {},
   "outputs": [],
   "source": [
    "from functools import wraps, partial\n",
    "import logging\n",
    "\n",
    "def logged(func=None, *, level=logging.DEBUG, name=None, message=None):\n",
    "    if func is None:\n",
    "        return partial(logged, level=level, name=name, message=message)\n",
    "\n",
    "    logname = name if name else func.__module__\n",
    "    log = logging.getLogger(logname)\n",
    "    logmsg = message if message else func.__name__\n",
    "\n",
    "    @wraps(func)\n",
    "    def wrapper(*args, **kwargs):\n",
    "        log.log(level, logmsg)\n",
    "        return func(*args, **kwargs)\n",
    "\n",
    "    return wrapper\n",
    "\n",
    "# Example use\n",
    "@logged\n",
    "def add(x, y):\n",
    "    return x + y\n",
    "\n",
    "@logged(level=logging.CRITICAL, name='example')\n",
    "def spam():\n",
    "    print('Spam!')"
   ]
  },
  {
   "cell_type": "markdown",
   "id": "58f99e92-1b44-452a-87e3-d175fb1bbf02",
   "metadata": {},
   "source": [
    "# 利用装饰器强制函数上的类型检查"
   ]
  },
  {
   "cell_type": "code",
   "execution_count": 20,
   "id": "b24b15c8-21db-42ad-85d2-28fb628c298b",
   "metadata": {},
   "outputs": [],
   "source": [
    "from inspect import signature\n",
    "from functools import wraps\n",
    "\n",
    "def typeassert(*ty_args, **ty_kwargs):\n",
    "    def decorate(func):\n",
    "        # If in optimized mode, disable type checking\n",
    "        if not __debug__:\n",
    "            return func\n",
    "\n",
    "        # Map function argument names to supplied types\n",
    "        sig = signature(func)\n",
    "        bound_types = sig.bind_partial(*ty_args, **ty_kwargs).arguments\n",
    "\n",
    "        @wraps(func)\n",
    "        def wrapper(*args, **kwargs):\n",
    "            bound_values = sig.bind(*args, **kwargs)\n",
    "            # Enforce type assertions across supplied arguments\n",
    "            for name, value in bound_values.arguments.items():\n",
    "                if name in bound_types:\n",
    "                    if not isinstance(value, bound_types[name]):\n",
    "                        raise TypeError(\n",
    "                            'Argument {} must be {}'.format(name, bound_types[name])\n",
    "                            )\n",
    "            return func(*args, **kwargs)\n",
    "        return wrapper\n",
    "    return decorate"
   ]
  },
  {
   "cell_type": "code",
   "execution_count": 21,
   "id": "088b6a2d-06a0-4706-b89c-d62d0050ad44",
   "metadata": {},
   "outputs": [
    {
     "data": {
      "text/plain": [
       "<Signature (x, y, z=42)>"
      ]
     },
     "execution_count": 21,
     "metadata": {},
     "output_type": "execute_result"
    }
   ],
   "source": [
    "from inspect import signature\n",
    "def spam(x,y,z=42):pass\n",
    "sig = signature(spam)\n",
    "sig"
   ]
  },
  {
   "cell_type": "code",
   "execution_count": 22,
   "id": "e2b4663d-bceb-4667-9cc2-9a53a051c260",
   "metadata": {},
   "outputs": [
    {
     "data": {
      "text/plain": [
       "mappingproxy({'x': <Parameter \"x\">,\n",
       "              'y': <Parameter \"y\">,\n",
       "              'z': <Parameter \"z=42\">})"
      ]
     },
     "execution_count": 22,
     "metadata": {},
     "output_type": "execute_result"
    }
   ],
   "source": [
    "sig.parameters"
   ]
  },
  {
   "cell_type": "code",
   "execution_count": 24,
   "id": "acc08ccf-f007-4e8f-b9c4-d5d91687a737",
   "metadata": {},
   "outputs": [
    {
     "data": {
      "text/plain": [
       "<BoundArguments (x=<class 'int'>, z=<class 'int'>)>"
      ]
     },
     "execution_count": 24,
     "metadata": {},
     "output_type": "execute_result"
    }
   ],
   "source": [
    "bound_types = sig.bind_partial(int,z=int)\n",
    "bound_types"
   ]
  },
  {
   "cell_type": "code",
   "execution_count": 25,
   "id": "85ade568-0cc5-4870-ac62-45ae1a76378f",
   "metadata": {},
   "outputs": [
    {
     "data": {
      "text/plain": [
       "OrderedDict([('x', int), ('z', int)])"
      ]
     },
     "execution_count": 25,
     "metadata": {},
     "output_type": "execute_result"
    }
   ],
   "source": [
    "bound_types.arguments"
   ]
  },
  {
   "cell_type": "code",
   "execution_count": 27,
   "id": "eb24278e-e0c7-4765-90cd-d48d5469ebf7",
   "metadata": {},
   "outputs": [
    {
     "data": {
      "text/plain": [
       "<BoundArguments (x=1, y=2, z=3)>"
      ]
     },
     "execution_count": 27,
     "metadata": {},
     "output_type": "execute_result"
    }
   ],
   "source": [
    "bound_values  = sig.bind(1,2,3)\n",
    "bound_values"
   ]
  },
  {
   "cell_type": "code",
   "execution_count": 28,
   "id": "58746729-5b62-4387-bd5d-4917097c5638",
   "metadata": {},
   "outputs": [
    {
     "ename": "TypeError",
     "evalue": "Argument y must be <class 'int'>",
     "output_type": "error",
     "traceback": [
      "\u001b[0;31m---------------------------------------------------------------------------\u001b[0m",
      "\u001b[0;31mTypeError\u001b[0m                                 Traceback (most recent call last)",
      "\u001b[0;32m/var/folders/g6/h24w2cnn0bzbzz1dc4v4fplm0000gn/T/ipykernel_19916/2065451041.py\u001b[0m in \u001b[0;36m<module>\u001b[0;34m\u001b[0m\n\u001b[1;32m      2\u001b[0m \u001b[0;32mdef\u001b[0m \u001b[0madd\u001b[0m\u001b[0;34m(\u001b[0m\u001b[0mx\u001b[0m\u001b[0;34m,\u001b[0m \u001b[0my\u001b[0m\u001b[0;34m)\u001b[0m\u001b[0;34m:\u001b[0m\u001b[0;34m\u001b[0m\u001b[0;34m\u001b[0m\u001b[0m\n\u001b[1;32m      3\u001b[0m     \u001b[0;32mreturn\u001b[0m \u001b[0mx\u001b[0m \u001b[0;34m+\u001b[0m \u001b[0my\u001b[0m\u001b[0;34m\u001b[0m\u001b[0;34m\u001b[0m\u001b[0m\n\u001b[0;32m----> 4\u001b[0;31m \u001b[0madd\u001b[0m\u001b[0;34m(\u001b[0m\u001b[0;36m1\u001b[0m\u001b[0;34m,\u001b[0m\u001b[0;34m's'\u001b[0m\u001b[0;34m)\u001b[0m\u001b[0;34m\u001b[0m\u001b[0;34m\u001b[0m\u001b[0m\n\u001b[0m",
      "\u001b[0;32m/var/folders/g6/h24w2cnn0bzbzz1dc4v4fplm0000gn/T/ipykernel_19916/2954097138.py\u001b[0m in \u001b[0;36mwrapper\u001b[0;34m(*args, **kwargs)\u001b[0m\n\u001b[1;32m     19\u001b[0m                 \u001b[0;32mif\u001b[0m \u001b[0mname\u001b[0m \u001b[0;32min\u001b[0m \u001b[0mbound_types\u001b[0m\u001b[0;34m:\u001b[0m\u001b[0;34m\u001b[0m\u001b[0;34m\u001b[0m\u001b[0m\n\u001b[1;32m     20\u001b[0m                     \u001b[0;32mif\u001b[0m \u001b[0;32mnot\u001b[0m \u001b[0misinstance\u001b[0m\u001b[0;34m(\u001b[0m\u001b[0mvalue\u001b[0m\u001b[0;34m,\u001b[0m \u001b[0mbound_types\u001b[0m\u001b[0;34m[\u001b[0m\u001b[0mname\u001b[0m\u001b[0;34m]\u001b[0m\u001b[0;34m)\u001b[0m\u001b[0;34m:\u001b[0m\u001b[0;34m\u001b[0m\u001b[0;34m\u001b[0m\u001b[0m\n\u001b[0;32m---> 21\u001b[0;31m                         raise TypeError(\n\u001b[0m\u001b[1;32m     22\u001b[0m                             \u001b[0;34m'Argument {} must be {}'\u001b[0m\u001b[0;34m.\u001b[0m\u001b[0mformat\u001b[0m\u001b[0;34m(\u001b[0m\u001b[0mname\u001b[0m\u001b[0;34m,\u001b[0m \u001b[0mbound_types\u001b[0m\u001b[0;34m[\u001b[0m\u001b[0mname\u001b[0m\u001b[0;34m]\u001b[0m\u001b[0;34m)\u001b[0m\u001b[0;34m\u001b[0m\u001b[0;34m\u001b[0m\u001b[0m\n\u001b[1;32m     23\u001b[0m                             )\n",
      "\u001b[0;31mTypeError\u001b[0m: Argument y must be <class 'int'>"
     ]
    }
   ],
   "source": [
    "@typeassert(int, int)\n",
    "def add(x, y):\n",
    "    return x + y\n",
    "add(1,'s')"
   ]
  },
  {
   "cell_type": "markdown",
   "id": "0c07d194-0617-4182-a4a2-7bb7fdc07505",
   "metadata": {},
   "source": [
    "# 将装饰器定义为类的一部分"
   ]
  },
  {
   "cell_type": "code",
   "execution_count": 29,
   "id": "9e838cb8-f91b-4da3-849d-971cf9dc7348",
   "metadata": {},
   "outputs": [],
   "source": [
    "from functools import wraps\n",
    "\n",
    "class A:\n",
    "    # Decorator as an instance method\n",
    "    def decorator1(self, func):\n",
    "        @wraps(func)\n",
    "        def wrapper(*args, **kwargs):\n",
    "            print('Decorator 1')\n",
    "            return func(*args, **kwargs)\n",
    "        return wrapper\n",
    "\n",
    "    # Decorator as a class method\n",
    "    @classmethod\n",
    "    def decorator2(cls, func):\n",
    "        @wraps(func)\n",
    "        def wrapper(*args, **kwargs):\n",
    "            print('Decorator 2')\n",
    "            return func(*args, **kwargs)\n",
    "        return wrapper"
   ]
  },
  {
   "cell_type": "code",
   "execution_count": 30,
   "id": "42b7d057-0163-4b47-a946-2e2a6deae60a",
   "metadata": {},
   "outputs": [],
   "source": [
    "# As an instance method\n",
    "a = A()\n",
    "@a.decorator1\n",
    "def spam():\n",
    "    pass\n",
    "# As a class method\n",
    "@A.decorator2\n",
    "def grok():\n",
    "    pass"
   ]
  },
  {
   "cell_type": "markdown",
   "id": "d09b18ea-3f9c-4871-98db-7a6823b288f7",
   "metadata": {},
   "source": [
    "# 将装饰器定义为类"
   ]
  },
  {
   "cell_type": "markdown",
   "id": "cb5e844c-2434-441b-90bf-6b144821dcc1",
   "metadata": {},
   "source": [
    "将装饰器定义成一个实例，你需要确保它实现了 `__call__()` 和 `__get__()` 方法"
   ]
  },
  {
   "cell_type": "code",
   "execution_count": 32,
   "id": "198904e7-2278-4359-9cd2-e8ffa06d7b35",
   "metadata": {},
   "outputs": [],
   "source": [
    "import types\n",
    "from functools import wraps\n",
    "\n",
    "class Profiled:\n",
    "    def __init__(self, func):\n",
    "        wraps(func)(self)\n",
    "        print('__init__')\n",
    "        self.ncalls = 0\n",
    "\n",
    "    def __call__(self, *args, **kwargs):\n",
    "        self.ncalls += 1\n",
    "        print('__call__')\n",
    "        return self.__wrapped__(*args, **kwargs)\n",
    "\n",
    "    def __get__(self, instance, cls):\n",
    "        print('__get__')\n",
    "        if instance is None:\n",
    "            return self\n",
    "        else:\n",
    "            return types.MethodType(self, instance)"
   ]
  },
  {
   "cell_type": "code",
   "execution_count": 33,
   "id": "2acf822f-ab53-4ff6-9630-3d3d78c5d9c3",
   "metadata": {},
   "outputs": [
    {
     "name": "stdout",
     "output_type": "stream",
     "text": [
      "__init__\n"
     ]
    }
   ],
   "source": [
    "@Profiled\n",
    "def add(x, y):\n",
    "    return x + y"
   ]
  },
  {
   "cell_type": "code",
   "execution_count": 34,
   "id": "774ec537-7598-4754-b5db-2d40288f7c80",
   "metadata": {},
   "outputs": [
    {
     "name": "stdout",
     "output_type": "stream",
     "text": [
      "__call__\n"
     ]
    },
    {
     "data": {
      "text/plain": [
       "3"
      ]
     },
     "execution_count": 34,
     "metadata": {},
     "output_type": "execute_result"
    }
   ],
   "source": [
    "add(1,2)"
   ]
  },
  {
   "cell_type": "code",
   "execution_count": 35,
   "id": "7b4853bf-568b-4b91-9c9f-896e433e6b67",
   "metadata": {},
   "outputs": [
    {
     "name": "stdout",
     "output_type": "stream",
     "text": [
      "__init__\n"
     ]
    }
   ],
   "source": [
    "class Spam:\n",
    "    @Profiled\n",
    "    def bar(self, x):\n",
    "        print(self, x)"
   ]
  },
  {
   "cell_type": "code",
   "execution_count": 36,
   "id": "f82acf33-5841-4521-9109-544dc3fc75b3",
   "metadata": {},
   "outputs": [],
   "source": [
    "s = Spam()"
   ]
  },
  {
   "cell_type": "code",
   "execution_count": 37,
   "id": "78c54c53-eb62-4572-a3c0-66ed15897250",
   "metadata": {},
   "outputs": [
    {
     "name": "stdout",
     "output_type": "stream",
     "text": [
      "__get__\n",
      "__call__\n",
      "<__main__.Spam object at 0x7fe1340bea90> 1\n"
     ]
    }
   ],
   "source": [
    "s.bar(1)"
   ]
  },
  {
   "cell_type": "markdown",
   "id": "a7f3ab09-cfab-43bf-92e7-507b80451b1e",
   "metadata": {},
   "source": [
    "# 为类和静态方法提供装饰器"
   ]
  },
  {
   "cell_type": "markdown",
   "id": "53737482-b7b1-4f61-8d64-78596401e144",
   "metadata": {},
   "source": [
    "给类或静态方法提供装饰器是很简单的，不过要确保装饰器在 `@classmethod` 或 `@staticmethod` 之前  \n",
    "在于 `@classmethod` 和 `@staticmethod` 实际上并不会创建可直接调用的对象， 而是创建特殊的描述器对象"
   ]
  },
  {
   "cell_type": "code",
   "execution_count": 39,
   "id": "3d33b371-2ebc-4471-bb58-5810c6345837",
   "metadata": {},
   "outputs": [],
   "source": [
    "import time\n",
    "from functools import wraps\n",
    "\n",
    "# A simple decorator\n",
    "def timethis(func):\n",
    "    @wraps(func)\n",
    "    def wrapper(*args, **kwargs):\n",
    "        start = time.time()\n",
    "        r = func(*args, **kwargs)\n",
    "        end = time.time()\n",
    "        print(end-start)\n",
    "        return r\n",
    "    return wrapper\n",
    "\n",
    "# Class illustrating application of the decorator to different kinds of methods\n",
    "class Spam:\n",
    "    @timethis\n",
    "    def instance_method(self, n):\n",
    "        print(self, n)\n",
    "        while n > 0:\n",
    "            n -= 1\n",
    "\n",
    "    @classmethod\n",
    "    @timethis\n",
    "    def class_method(cls, n):\n",
    "        print(cls, n)\n",
    "        while n > 0:\n",
    "            n -= 1\n",
    "\n",
    "    @staticmethod\n",
    "    @timethis\n",
    "    def static_method(n):\n",
    "        print(n)\n",
    "        while n > 0:\n",
    "            n -= 1"
   ]
  },
  {
   "cell_type": "markdown",
   "id": "f4d4ae19-7d2b-47ad-94d1-a4cacc1e8fa8",
   "metadata": {},
   "source": [
    "# 装饰器为被包装函数增加参数"
   ]
  },
  {
   "cell_type": "markdown",
   "id": "79e2025f-da21-49b9-aaa9-b7012070f318",
   "metadata": {},
   "source": [
    "## 增加参数"
   ]
  },
  {
   "cell_type": "code",
   "execution_count": 40,
   "id": "a54069c3-1c07-4ea7-91d8-ea25264647c6",
   "metadata": {},
   "outputs": [],
   "source": [
    "from functools import wraps\n",
    "\n",
    "def optional_debug(func):\n",
    "    @wraps(func)\n",
    "    def wrapper(*args, debug=False, **kwargs):\n",
    "        if debug:\n",
    "            print('Calling', func.__name__)\n",
    "        return func(*args, **kwargs)\n",
    "\n",
    "    return wrapper"
   ]
  },
  {
   "cell_type": "markdown",
   "id": "bc9ee2c2-1c81-458c-bd1f-5c780459ebe2",
   "metadata": {},
   "source": [
    "## 修正函数签名"
   ]
  },
  {
   "cell_type": "code",
   "execution_count": 41,
   "id": "781b520e-b58c-4205-95e9-9eade8416101",
   "metadata": {},
   "outputs": [],
   "source": [
    "from functools import wraps\n",
    "import inspect\n",
    "\n",
    "def optional_debug(func):\n",
    "    if 'debug' in inspect.getargspec(func).args:\n",
    "        raise TypeError('debug argument already defined')\n",
    "\n",
    "    @wraps(func)\n",
    "    def wrapper(*args, debug=False, **kwargs):\n",
    "        if debug:\n",
    "            print('Calling', func.__name__)\n",
    "        return func(*args, **kwargs)\n",
    "\n",
    "    sig = inspect.signature(func)\n",
    "    parms = list(sig.parameters.values())\n",
    "    parms.append(inspect.Parameter('debug',\n",
    "                inspect.Parameter.KEYWORD_ONLY,\n",
    "                default=False))\n",
    "    wrapper.__signature__ = sig.replace(parameters=parms)\n",
    "    return wrapper"
   ]
  },
  {
   "cell_type": "markdown",
   "id": "990c6acb-8811-46ec-8f64-d9d8cbeef509",
   "metadata": {},
   "source": [
    "# 使用装饰器扩充类的功能"
   ]
  },
  {
   "cell_type": "code",
   "execution_count": 44,
   "id": "c807addd-f7de-4505-b1c8-a751cfc4d4d1",
   "metadata": {},
   "outputs": [],
   "source": [
    "def log_getattribute(cls):\n",
    "    # Get the original implementation\n",
    "    orig_getattribute = cls.__getattribute__\n",
    "\n",
    "    # Make a new definition\n",
    "    def new_getattribute(self, name):\n",
    "        print('getting:', name)\n",
    "        return orig_getattribute(self, name)\n",
    "\n",
    "    # Attach to the class and return\n",
    "    cls.__getattribute__ = new_getattribute\n",
    "    return cls\n",
    "\n",
    "# Example use\n",
    "@log_getattribute\n",
    "class A:\n",
    "    def __init__(self,x):\n",
    "        self.x = x\n",
    "    def spam(self):\n",
    "        pass"
   ]
  },
  {
   "cell_type": "code",
   "execution_count": 45,
   "id": "4dc6d63e-976a-4967-abb3-4714bd1a919c",
   "metadata": {},
   "outputs": [],
   "source": [
    "a = A(42)"
   ]
  },
  {
   "cell_type": "code",
   "execution_count": 46,
   "id": "43c0da5d-4605-4770-beca-b19d2c330b33",
   "metadata": {},
   "outputs": [
    {
     "name": "stdout",
     "output_type": "stream",
     "text": [
      "getting: x\n"
     ]
    },
    {
     "data": {
      "text/plain": [
       "42"
      ]
     },
     "execution_count": 46,
     "metadata": {},
     "output_type": "execute_result"
    }
   ],
   "source": [
    "a.x"
   ]
  },
  {
   "cell_type": "code",
   "execution_count": 47,
   "id": "c34a3c9d-5068-477d-bb51-7ae1b7d92c3c",
   "metadata": {},
   "outputs": [
    {
     "name": "stdout",
     "output_type": "stream",
     "text": [
      "getting: spam\n"
     ]
    }
   ],
   "source": [
    "a.spam()"
   ]
  },
  {
   "cell_type": "markdown",
   "id": "f1db3457-389f-483c-ba05-40cbd6a15d68",
   "metadata": {},
   "source": [
    "# 使用元类控制实例的创建"
   ]
  },
  {
   "cell_type": "markdown",
   "id": "de6a6427-424c-4523-9f9b-bcdb019df2f3",
   "metadata": {},
   "source": [
    "## 不能创建实例的类"
   ]
  },
  {
   "cell_type": "code",
   "execution_count": 48,
   "id": "a676d373-f78a-459c-8814-8144de962b36",
   "metadata": {},
   "outputs": [],
   "source": [
    "class NoInstances(type):\n",
    "    def __call__(self, *args, **kwargs):\n",
    "        raise TypeError(\"Can't instantiate directly\")\n",
    "\n",
    "# Example\n",
    "class Spam(metaclass=NoInstances):\n",
    "    @staticmethod\n",
    "    def grok(x):\n",
    "        print('Spam.grok')"
   ]
  },
  {
   "cell_type": "code",
   "execution_count": 49,
   "id": "66f1475d-d57d-4ef7-9c5c-14b3f4502113",
   "metadata": {},
   "outputs": [
    {
     "ename": "TypeError",
     "evalue": "Can't instantiate directly",
     "output_type": "error",
     "traceback": [
      "\u001b[0;31m---------------------------------------------------------------------------\u001b[0m",
      "\u001b[0;31mTypeError\u001b[0m                                 Traceback (most recent call last)",
      "\u001b[0;32m/var/folders/g6/h24w2cnn0bzbzz1dc4v4fplm0000gn/T/ipykernel_19916/3028803093.py\u001b[0m in \u001b[0;36m<module>\u001b[0;34m\u001b[0m\n\u001b[0;32m----> 1\u001b[0;31m \u001b[0ms\u001b[0m \u001b[0;34m=\u001b[0m \u001b[0mSpam\u001b[0m\u001b[0;34m(\u001b[0m\u001b[0;34m)\u001b[0m\u001b[0;34m\u001b[0m\u001b[0;34m\u001b[0m\u001b[0m\n\u001b[0m",
      "\u001b[0;32m/var/folders/g6/h24w2cnn0bzbzz1dc4v4fplm0000gn/T/ipykernel_19916/2428408527.py\u001b[0m in \u001b[0;36m__call__\u001b[0;34m(self, *args, **kwargs)\u001b[0m\n\u001b[1;32m      1\u001b[0m \u001b[0;32mclass\u001b[0m \u001b[0mNoInstances\u001b[0m\u001b[0;34m(\u001b[0m\u001b[0mtype\u001b[0m\u001b[0;34m)\u001b[0m\u001b[0;34m:\u001b[0m\u001b[0;34m\u001b[0m\u001b[0;34m\u001b[0m\u001b[0m\n\u001b[1;32m      2\u001b[0m     \u001b[0;32mdef\u001b[0m \u001b[0m__call__\u001b[0m\u001b[0;34m(\u001b[0m\u001b[0mself\u001b[0m\u001b[0;34m,\u001b[0m \u001b[0;34m*\u001b[0m\u001b[0margs\u001b[0m\u001b[0;34m,\u001b[0m \u001b[0;34m**\u001b[0m\u001b[0mkwargs\u001b[0m\u001b[0;34m)\u001b[0m\u001b[0;34m:\u001b[0m\u001b[0;34m\u001b[0m\u001b[0;34m\u001b[0m\u001b[0m\n\u001b[0;32m----> 3\u001b[0;31m         \u001b[0;32mraise\u001b[0m \u001b[0mTypeError\u001b[0m\u001b[0;34m(\u001b[0m\u001b[0;34m\"Can't instantiate directly\"\u001b[0m\u001b[0;34m)\u001b[0m\u001b[0;34m\u001b[0m\u001b[0;34m\u001b[0m\u001b[0m\n\u001b[0m\u001b[1;32m      4\u001b[0m \u001b[0;34m\u001b[0m\u001b[0m\n\u001b[1;32m      5\u001b[0m \u001b[0;31m# Example\u001b[0m\u001b[0;34m\u001b[0m\u001b[0;34m\u001b[0m\u001b[0;34m\u001b[0m\u001b[0m\n",
      "\u001b[0;31mTypeError\u001b[0m: Can't instantiate directly"
     ]
    }
   ],
   "source": [
    "s = Spam()"
   ]
  },
  {
   "cell_type": "markdown",
   "id": "9fda54d9-1c04-4701-bab9-e1bcc69af402",
   "metadata": {},
   "source": [
    "## 单例模式"
   ]
  },
  {
   "cell_type": "code",
   "execution_count": 50,
   "id": "1c744c0b-795e-48cb-a3f1-fd97caf67159",
   "metadata": {},
   "outputs": [],
   "source": [
    "class Singleton(type):\n",
    "    def __init__(self, *args, **kwargs):\n",
    "        self.__instance = None\n",
    "        super().__init__(*args, **kwargs)\n",
    "\n",
    "    def __call__(self, *args, **kwargs):\n",
    "        if self.__instance is None:\n",
    "            self.__instance = super().__call__(*args, **kwargs)\n",
    "            return self.__instance\n",
    "        else:\n",
    "            return self.__instance\n",
    "\n",
    "# Example\n",
    "class Spam(metaclass=Singleton):\n",
    "    def __init__(self):\n",
    "        print('Creating Spam')"
   ]
  },
  {
   "cell_type": "markdown",
   "id": "94fb1720-ff1b-4010-a5bd-0d8ae0daee9f",
   "metadata": {},
   "source": [
    "## 缓存实例"
   ]
  },
  {
   "cell_type": "code",
   "execution_count": 51,
   "id": "76f1f300-fd1f-45cc-ac4f-14815d777a8f",
   "metadata": {},
   "outputs": [],
   "source": [
    "import weakref\n",
    "\n",
    "class Cached(type):\n",
    "    def __init__(self, *args, **kwargs):\n",
    "        super().__init__(*args, **kwargs)\n",
    "        self.__cache = weakref.WeakValueDictionary()\n",
    "\n",
    "    def __call__(self, *args):\n",
    "        if args in self.__cache:\n",
    "            return self.__cache[args]\n",
    "        else:\n",
    "            obj = super().__call__(*args)\n",
    "            self.__cache[args] = obj\n",
    "            return obj\n",
    "\n",
    "# Example\n",
    "class Spam(metaclass=Cached):\n",
    "    def __init__(self, name):\n",
    "        print('Creating Spam({!r})'.format(name))\n",
    "        self.name = name"
   ]
  },
  {
   "cell_type": "markdown",
   "id": "a4d9db0a-7a67-4694-a5fb-9daf5f6f188e",
   "metadata": {},
   "source": [
    "# 捕获类的属性定义顺序"
   ]
  },
  {
   "cell_type": "markdown",
   "id": "1c91963d-5f41-4094-9454-ac49d7bd0834",
   "metadata": {},
   "source": [
    "` __new__()` 方法中对于元类中被修改字典的处理。 尽管类使用了另外一个字典来定义，在构造最终的 `class`对象的时候， 我们仍然需要将这个字典转换为一个正确的 `dict` 实例。 通过语句 `d = dict(clsdict)` 来完成这个效果  \n",
    "`__prepare__()` 方法。 这个方法会在开始定义类和它的父类的时候被执行。它必须返回一个映射对象以便在类定义体中被使用到。"
   ]
  },
  {
   "cell_type": "markdown",
   "id": "46a515b7-e57a-4994-8f90-b1f0ae7f62db",
   "metadata": {},
   "source": [
    "## 定义顺序"
   ]
  },
  {
   "cell_type": "code",
   "execution_count": 54,
   "id": "385fc1e4-df4c-46d4-9e8b-9d43ca634eca",
   "metadata": {},
   "outputs": [],
   "source": [
    "from collections import OrderedDict\n",
    "\n",
    "# A set of descriptors for various types\n",
    "class Typed:\n",
    "    _expected_type = type(None)\n",
    "    def __init__(self, name=None):\n",
    "        self._name = name\n",
    "\n",
    "    def __set__(self, instance, value):\n",
    "        if not isinstance(value, self._expected_type):\n",
    "            raise TypeError('Expected ' + str(self._expected_type))\n",
    "        instance.__dict__[self._name] = value\n",
    "\n",
    "class Integer(Typed):\n",
    "    _expected_type = int\n",
    "\n",
    "class Float(Typed):\n",
    "    _expected_type = float\n",
    "\n",
    "class String(Typed):\n",
    "    _expected_type = str\n",
    "\n",
    "# Metaclass that uses an OrderedDict for class body\n",
    "class OrderedMeta(type):\n",
    "    def __new__(cls, clsname, bases, clsdict):\n",
    "        d = dict(clsdict)\n",
    "        order = []\n",
    "        for name, value in clsdict.items():\n",
    "            if isinstance(value, Typed):\n",
    "                value._name = name\n",
    "                order.append(name)\n",
    "        d['_order'] = order\n",
    "        return type.__new__(cls, clsname, bases, d)\n",
    "\n",
    "    @classmethod\n",
    "    def __prepare__(cls, clsname, bases):\n",
    "        return OrderedDict()"
   ]
  },
  {
   "cell_type": "code",
   "execution_count": 55,
   "id": "bf120f7f-0d2d-418f-ade6-84fed2bb56a7",
   "metadata": {},
   "outputs": [],
   "source": [
    "class Structure(metaclass=OrderedMeta):\n",
    "    def as_csv(self):\n",
    "        return ','.join(str(getattr(self,name)) for name in self._order)\n",
    "\n",
    "# Example use\n",
    "class Stock(Structure):\n",
    "    name = String()\n",
    "    shares = Integer()\n",
    "    price = Float()\n",
    "\n",
    "    def __init__(self, name, shares, price):\n",
    "        self.name = name\n",
    "        self.shares = shares\n",
    "        self.price = price"
   ]
  },
  {
   "cell_type": "code",
   "execution_count": 56,
   "id": "69fe5682-4721-4492-b95d-a0b92d2d22c4",
   "metadata": {},
   "outputs": [
    {
     "data": {
      "text/plain": [
       "'GOOG'"
      ]
     },
     "execution_count": 56,
     "metadata": {},
     "output_type": "execute_result"
    }
   ],
   "source": [
    "s = Stock('GOOG',100,490.1)\n",
    "s.name"
   ]
  },
  {
   "cell_type": "code",
   "execution_count": 58,
   "id": "f9c44a03-9507-4d43-a45a-fbaea3fb462c",
   "metadata": {},
   "outputs": [
    {
     "data": {
      "text/plain": [
       "'GOOG,100,490.1'"
      ]
     },
     "execution_count": 58,
     "metadata": {},
     "output_type": "execute_result"
    }
   ],
   "source": [
    "s.as_csv()"
   ]
  },
  {
   "cell_type": "markdown",
   "id": "f3de4db4-fbb6-49a5-82c0-71f4b02f07e5",
   "metadata": {},
   "source": [
    "## 防止重复定义"
   ]
  },
  {
   "cell_type": "code",
   "execution_count": 59,
   "id": "5827ab6a-b30c-442e-b4ab-525f0833dab1",
   "metadata": {},
   "outputs": [],
   "source": [
    "from collections import OrderedDict\n",
    "\n",
    "class NoDupOrderedDict(OrderedDict):\n",
    "    def __init__(self, clsname):\n",
    "        self.clsname = clsname\n",
    "        super().__init__()\n",
    "    def __setitem__(self, name, value):\n",
    "        if name in self:\n",
    "            raise TypeError('{} already defined in {}'.format(name, self.clsname))\n",
    "        super().__setitem__(name, value)\n",
    "\n",
    "class OrderedMeta(type):\n",
    "    def __new__(cls, clsname, bases, clsdict):\n",
    "        d = dict(clsdict)\n",
    "        d['_order'] = [name for name in clsdict if name[0] != '_']\n",
    "        return type.__new__(cls, clsname, bases, d)\n",
    "\n",
    "    @classmethod\n",
    "    def __prepare__(cls, clsname, bases):\n",
    "        return NoDupOrderedDict(clsname)"
   ]
  },
  {
   "cell_type": "code",
   "execution_count": 60,
   "id": "45698945-77e4-4bdc-8dcb-d6ce848531f3",
   "metadata": {},
   "outputs": [
    {
     "ename": "TypeError",
     "evalue": "spam already defined in A",
     "output_type": "error",
     "traceback": [
      "\u001b[0;31m---------------------------------------------------------------------------\u001b[0m",
      "\u001b[0;31mTypeError\u001b[0m                                 Traceback (most recent call last)",
      "\u001b[0;32m/var/folders/g6/h24w2cnn0bzbzz1dc4v4fplm0000gn/T/ipykernel_19916/135781572.py\u001b[0m in \u001b[0;36m<module>\u001b[0;34m\u001b[0m\n\u001b[0;32m----> 1\u001b[0;31m \u001b[0;32mclass\u001b[0m \u001b[0mA\u001b[0m\u001b[0;34m(\u001b[0m\u001b[0mmetaclass\u001b[0m\u001b[0;34m=\u001b[0m\u001b[0mOrderedMeta\u001b[0m\u001b[0;34m)\u001b[0m\u001b[0;34m:\u001b[0m\u001b[0;34m\u001b[0m\u001b[0;34m\u001b[0m\u001b[0m\n\u001b[0m\u001b[1;32m      2\u001b[0m     \u001b[0;32mdef\u001b[0m \u001b[0mspam\u001b[0m\u001b[0;34m(\u001b[0m\u001b[0mself\u001b[0m\u001b[0;34m)\u001b[0m\u001b[0;34m:\u001b[0m\u001b[0;34m\u001b[0m\u001b[0;34m\u001b[0m\u001b[0m\n\u001b[1;32m      3\u001b[0m         \u001b[0;32mpass\u001b[0m\u001b[0;34m\u001b[0m\u001b[0;34m\u001b[0m\u001b[0m\n\u001b[1;32m      4\u001b[0m     \u001b[0;32mdef\u001b[0m \u001b[0mspam\u001b[0m\u001b[0;34m(\u001b[0m\u001b[0mself\u001b[0m\u001b[0;34m)\u001b[0m\u001b[0;34m:\u001b[0m\u001b[0;34m\u001b[0m\u001b[0;34m\u001b[0m\u001b[0m\n\u001b[1;32m      5\u001b[0m         \u001b[0;32mpass\u001b[0m\u001b[0;34m\u001b[0m\u001b[0;34m\u001b[0m\u001b[0m\n",
      "\u001b[0;32m/var/folders/g6/h24w2cnn0bzbzz1dc4v4fplm0000gn/T/ipykernel_19916/135781572.py\u001b[0m in \u001b[0;36mA\u001b[0;34m()\u001b[0m\n\u001b[1;32m      2\u001b[0m     \u001b[0;32mdef\u001b[0m \u001b[0mspam\u001b[0m\u001b[0;34m(\u001b[0m\u001b[0mself\u001b[0m\u001b[0;34m)\u001b[0m\u001b[0;34m:\u001b[0m\u001b[0;34m\u001b[0m\u001b[0;34m\u001b[0m\u001b[0m\n\u001b[1;32m      3\u001b[0m         \u001b[0;32mpass\u001b[0m\u001b[0;34m\u001b[0m\u001b[0;34m\u001b[0m\u001b[0m\n\u001b[0;32m----> 4\u001b[0;31m     \u001b[0;32mdef\u001b[0m \u001b[0mspam\u001b[0m\u001b[0;34m(\u001b[0m\u001b[0mself\u001b[0m\u001b[0;34m)\u001b[0m\u001b[0;34m:\u001b[0m\u001b[0;34m\u001b[0m\u001b[0;34m\u001b[0m\u001b[0m\n\u001b[0m\u001b[1;32m      5\u001b[0m         \u001b[0;32mpass\u001b[0m\u001b[0;34m\u001b[0m\u001b[0;34m\u001b[0m\u001b[0m\n",
      "\u001b[0;32m/var/folders/g6/h24w2cnn0bzbzz1dc4v4fplm0000gn/T/ipykernel_19916/2076552255.py\u001b[0m in \u001b[0;36m__setitem__\u001b[0;34m(self, name, value)\u001b[0m\n\u001b[1;32m      7\u001b[0m     \u001b[0;32mdef\u001b[0m \u001b[0m__setitem__\u001b[0m\u001b[0;34m(\u001b[0m\u001b[0mself\u001b[0m\u001b[0;34m,\u001b[0m \u001b[0mname\u001b[0m\u001b[0;34m,\u001b[0m \u001b[0mvalue\u001b[0m\u001b[0;34m)\u001b[0m\u001b[0;34m:\u001b[0m\u001b[0;34m\u001b[0m\u001b[0;34m\u001b[0m\u001b[0m\n\u001b[1;32m      8\u001b[0m         \u001b[0;32mif\u001b[0m \u001b[0mname\u001b[0m \u001b[0;32min\u001b[0m \u001b[0mself\u001b[0m\u001b[0;34m:\u001b[0m\u001b[0;34m\u001b[0m\u001b[0;34m\u001b[0m\u001b[0m\n\u001b[0;32m----> 9\u001b[0;31m             \u001b[0;32mraise\u001b[0m \u001b[0mTypeError\u001b[0m\u001b[0;34m(\u001b[0m\u001b[0;34m'{} already defined in {}'\u001b[0m\u001b[0;34m.\u001b[0m\u001b[0mformat\u001b[0m\u001b[0;34m(\u001b[0m\u001b[0mname\u001b[0m\u001b[0;34m,\u001b[0m \u001b[0mself\u001b[0m\u001b[0;34m.\u001b[0m\u001b[0mclsname\u001b[0m\u001b[0;34m)\u001b[0m\u001b[0;34m)\u001b[0m\u001b[0;34m\u001b[0m\u001b[0;34m\u001b[0m\u001b[0m\n\u001b[0m\u001b[1;32m     10\u001b[0m         \u001b[0msuper\u001b[0m\u001b[0;34m(\u001b[0m\u001b[0;34m)\u001b[0m\u001b[0;34m.\u001b[0m\u001b[0m__setitem__\u001b[0m\u001b[0;34m(\u001b[0m\u001b[0mname\u001b[0m\u001b[0;34m,\u001b[0m \u001b[0mvalue\u001b[0m\u001b[0;34m)\u001b[0m\u001b[0;34m\u001b[0m\u001b[0;34m\u001b[0m\u001b[0m\n\u001b[1;32m     11\u001b[0m \u001b[0;34m\u001b[0m\u001b[0m\n",
      "\u001b[0;31mTypeError\u001b[0m: spam already defined in A"
     ]
    }
   ],
   "source": [
    "class A(metaclass=OrderedMeta):\n",
    "    def spam(self):\n",
    "        pass\n",
    "    def spam(self):\n",
    "        pass"
   ]
  },
  {
   "cell_type": "markdown",
   "id": "73df291f-717f-40f1-aaff-928f6971a27e",
   "metadata": {},
   "source": [
    "# 定义有可选参数的元类"
   ]
  },
  {
   "cell_type": "markdown",
   "id": "bbbee91e-3ddf-495e-a281-72abda42520d",
   "metadata": {},
   "source": [
    "为了使元类支持这些关键字参数，你必须确保在 `__prepare__()` , `__new__()` 和 `__init__()` 方法中 都使用强制关键字参数。"
   ]
  },
  {
   "cell_type": "code",
   "execution_count": 63,
   "id": "90dfe4a1-8c4c-48ec-adf2-3f737247ddd6",
   "metadata": {},
   "outputs": [],
   "source": [
    "class MyMeta(type):\n",
    "    # Optional\n",
    "    @classmethod\n",
    "    def __prepare__(cls, name, bases, *, debug=False, synchronize=False):\n",
    "        # Custom processing\n",
    "        pass\n",
    "        return super().__prepare__(name, bases)\n",
    "\n",
    "    # Required\n",
    "    def __new__(cls, name, bases, ns, *, debug=False, synchronize=False):\n",
    "        # Custom processing\n",
    "        pass\n",
    "        return super().__new__(cls, name, bases, ns)\n",
    "\n",
    "    # Required\n",
    "    def __init__(self, name, bases, ns, *, debug=False, synchronize=False):\n",
    "        # Custom processing\n",
    "        pass\n",
    "        super().__init__(name, bases, ns)"
   ]
  },
  {
   "cell_type": "markdown",
   "id": "cffcc4e2-b042-47a2-82f0-c71044f72515",
   "metadata": {},
   "source": [
    "`__prepare__()` 方法在所有类定义开始执行前首先被调用，用来创建类命名空间。通常来讲，这个方法只是简单的返回一个字典或其他映射对象。  \n",
    " `__new__()` 方法被用来实例化最终的类对象。它在类的主体被执行完后开始执行。   \n",
    " `__init__()` 方法最后被调用，用来执行其他的一些初始化工作。"
   ]
  },
  {
   "cell_type": "markdown",
   "id": "909f2cae-8384-4454-9e20-52eda3d0c11c",
   "metadata": {},
   "source": [
    "将这些属性定义为参数的好处在于它们不会污染类的名称空间， 这些属性仅仅只从属于类的创建阶段，而不是类中的语句执行阶段。  \n",
    "另外，它们在 `__prepare__()` 方法中是可以被访问的，因为这个方法会在所有类主体执行前被执行。 但是类变量只能在元类的 `__new__()` 和 `__init__()` 方法中可见。"
   ]
  },
  {
   "cell_type": "markdown",
   "id": "0090e156-1d2f-4cc3-88cb-adc8c0262566",
   "metadata": {},
   "source": [
    "# `*args`和`**kwargs`的强制参数签名"
   ]
  },
  {
   "cell_type": "code",
   "execution_count": 65,
   "id": "c1dc7687-c7fd-41bc-a249-da65ba2aca04",
   "metadata": {},
   "outputs": [
    {
     "data": {
      "text/plain": [
       "<Signature (x, y=42, *, z=None)>"
      ]
     },
     "execution_count": 65,
     "metadata": {},
     "output_type": "execute_result"
    }
   ],
   "source": [
    "from inspect import Signature, Parameter\n",
    "parms = [ Parameter('x', Parameter.POSITIONAL_OR_KEYWORD),\n",
    "    Parameter('y', Parameter.POSITIONAL_OR_KEYWORD, default=42),\n",
    "    Parameter('z', Parameter.KEYWORD_ONLY, default=None) ]\n",
    "sig = Signature(parms)\n",
    "sig"
   ]
  },
  {
   "cell_type": "code",
   "execution_count": 66,
   "id": "1ff34e09-13ef-4240-888d-878515788688",
   "metadata": {},
   "outputs": [],
   "source": [
    "from inspect import Signature, Parameter\n",
    "\n",
    "def make_sig(*names):\n",
    "    parms = [Parameter(name, Parameter.POSITIONAL_OR_KEYWORD)\n",
    "            for name in names]\n",
    "    return Signature(parms)\n",
    "\n",
    "class Structure:\n",
    "    __signature__ = make_sig()\n",
    "    def __init__(self, *args, **kwargs):\n",
    "        bound_values = self.__signature__.bind(*args, **kwargs)\n",
    "        for name, value in bound_values.arguments.items():\n",
    "            setattr(self, name, value)\n",
    "\n",
    "# Example use\n",
    "class Stock(Structure):\n",
    "    __signature__ = make_sig('name', 'shares', 'price')\n",
    "\n",
    "class Point(Structure):\n",
    "    __signature__ = make_sig('x', 'y')"
   ]
  },
  {
   "cell_type": "code",
   "execution_count": 68,
   "id": "ae58eb90-115d-401c-a3fd-923551eaa5f5",
   "metadata": {},
   "outputs": [
    {
     "name": "stdout",
     "output_type": "stream",
     "text": [
      "(name, shares, price)\n"
     ]
    },
    {
     "ename": "TypeError",
     "evalue": "missing a required argument: 'price'",
     "output_type": "error",
     "traceback": [
      "\u001b[0;31m---------------------------------------------------------------------------\u001b[0m",
      "\u001b[0;31mTypeError\u001b[0m                                 Traceback (most recent call last)",
      "\u001b[0;32m/var/folders/g6/h24w2cnn0bzbzz1dc4v4fplm0000gn/T/ipykernel_19916/2863003824.py\u001b[0m in \u001b[0;36m<module>\u001b[0;34m\u001b[0m\n\u001b[1;32m      2\u001b[0m \u001b[0mprint\u001b[0m\u001b[0;34m(\u001b[0m\u001b[0minspect\u001b[0m\u001b[0;34m.\u001b[0m\u001b[0msignature\u001b[0m\u001b[0;34m(\u001b[0m\u001b[0mStock\u001b[0m\u001b[0;34m)\u001b[0m\u001b[0;34m)\u001b[0m\u001b[0;34m\u001b[0m\u001b[0;34m\u001b[0m\u001b[0m\n\u001b[1;32m      3\u001b[0m \u001b[0ms1\u001b[0m \u001b[0;34m=\u001b[0m \u001b[0mStock\u001b[0m\u001b[0;34m(\u001b[0m\u001b[0;34m'ACME'\u001b[0m\u001b[0;34m,\u001b[0m \u001b[0;36m100\u001b[0m\u001b[0;34m,\u001b[0m \u001b[0;36m490.1\u001b[0m\u001b[0;34m)\u001b[0m\u001b[0;34m\u001b[0m\u001b[0;34m\u001b[0m\u001b[0m\n\u001b[0;32m----> 4\u001b[0;31m \u001b[0ms2\u001b[0m \u001b[0;34m=\u001b[0m \u001b[0mStock\u001b[0m\u001b[0;34m(\u001b[0m\u001b[0;34m'ACME'\u001b[0m\u001b[0;34m,\u001b[0m \u001b[0;36m100\u001b[0m\u001b[0;34m)\u001b[0m\u001b[0;34m\u001b[0m\u001b[0;34m\u001b[0m\u001b[0m\n\u001b[0m",
      "\u001b[0;32m/var/folders/g6/h24w2cnn0bzbzz1dc4v4fplm0000gn/T/ipykernel_19916/1984389360.py\u001b[0m in \u001b[0;36m__init__\u001b[0;34m(self, *args, **kwargs)\u001b[0m\n\u001b[1;32m      9\u001b[0m     \u001b[0m__signature__\u001b[0m \u001b[0;34m=\u001b[0m \u001b[0mmake_sig\u001b[0m\u001b[0;34m(\u001b[0m\u001b[0;34m)\u001b[0m\u001b[0;34m\u001b[0m\u001b[0;34m\u001b[0m\u001b[0m\n\u001b[1;32m     10\u001b[0m     \u001b[0;32mdef\u001b[0m \u001b[0m__init__\u001b[0m\u001b[0;34m(\u001b[0m\u001b[0mself\u001b[0m\u001b[0;34m,\u001b[0m \u001b[0;34m*\u001b[0m\u001b[0margs\u001b[0m\u001b[0;34m,\u001b[0m \u001b[0;34m**\u001b[0m\u001b[0mkwargs\u001b[0m\u001b[0;34m)\u001b[0m\u001b[0;34m:\u001b[0m\u001b[0;34m\u001b[0m\u001b[0;34m\u001b[0m\u001b[0m\n\u001b[0;32m---> 11\u001b[0;31m         \u001b[0mbound_values\u001b[0m \u001b[0;34m=\u001b[0m \u001b[0mself\u001b[0m\u001b[0;34m.\u001b[0m\u001b[0m__signature__\u001b[0m\u001b[0;34m.\u001b[0m\u001b[0mbind\u001b[0m\u001b[0;34m(\u001b[0m\u001b[0;34m*\u001b[0m\u001b[0margs\u001b[0m\u001b[0;34m,\u001b[0m \u001b[0;34m**\u001b[0m\u001b[0mkwargs\u001b[0m\u001b[0;34m)\u001b[0m\u001b[0;34m\u001b[0m\u001b[0;34m\u001b[0m\u001b[0m\n\u001b[0m\u001b[1;32m     12\u001b[0m         \u001b[0;32mfor\u001b[0m \u001b[0mname\u001b[0m\u001b[0;34m,\u001b[0m \u001b[0mvalue\u001b[0m \u001b[0;32min\u001b[0m \u001b[0mbound_values\u001b[0m\u001b[0;34m.\u001b[0m\u001b[0marguments\u001b[0m\u001b[0;34m.\u001b[0m\u001b[0mitems\u001b[0m\u001b[0;34m(\u001b[0m\u001b[0;34m)\u001b[0m\u001b[0;34m:\u001b[0m\u001b[0;34m\u001b[0m\u001b[0;34m\u001b[0m\u001b[0m\n\u001b[1;32m     13\u001b[0m             \u001b[0msetattr\u001b[0m\u001b[0;34m(\u001b[0m\u001b[0mself\u001b[0m\u001b[0;34m,\u001b[0m \u001b[0mname\u001b[0m\u001b[0;34m,\u001b[0m \u001b[0mvalue\u001b[0m\u001b[0;34m)\u001b[0m\u001b[0;34m\u001b[0m\u001b[0;34m\u001b[0m\u001b[0m\n",
      "\u001b[0;32m/Library/Frameworks/Python.framework/Versions/3.8/lib/python3.8/inspect.py\u001b[0m in \u001b[0;36mbind\u001b[0;34m(self, *args, **kwargs)\u001b[0m\n\u001b[1;32m   3035\u001b[0m         \u001b[0;32mif\u001b[0m \u001b[0mthe\u001b[0m \u001b[0mpassed\u001b[0m \u001b[0marguments\u001b[0m \u001b[0mcan\u001b[0m \u001b[0;32mnot\u001b[0m \u001b[0mbe\u001b[0m \u001b[0mbound\u001b[0m\u001b[0;34m.\u001b[0m\u001b[0;34m\u001b[0m\u001b[0;34m\u001b[0m\u001b[0m\n\u001b[1;32m   3036\u001b[0m         \"\"\"\n\u001b[0;32m-> 3037\u001b[0;31m         \u001b[0;32mreturn\u001b[0m \u001b[0mself\u001b[0m\u001b[0;34m.\u001b[0m\u001b[0m_bind\u001b[0m\u001b[0;34m(\u001b[0m\u001b[0margs\u001b[0m\u001b[0;34m,\u001b[0m \u001b[0mkwargs\u001b[0m\u001b[0;34m)\u001b[0m\u001b[0;34m\u001b[0m\u001b[0;34m\u001b[0m\u001b[0m\n\u001b[0m\u001b[1;32m   3038\u001b[0m \u001b[0;34m\u001b[0m\u001b[0m\n\u001b[1;32m   3039\u001b[0m     \u001b[0;32mdef\u001b[0m \u001b[0mbind_partial\u001b[0m\u001b[0;34m(\u001b[0m\u001b[0mself\u001b[0m\u001b[0;34m,\u001b[0m \u001b[0;34m/\u001b[0m\u001b[0;34m,\u001b[0m \u001b[0;34m*\u001b[0m\u001b[0margs\u001b[0m\u001b[0;34m,\u001b[0m \u001b[0;34m**\u001b[0m\u001b[0mkwargs\u001b[0m\u001b[0;34m)\u001b[0m\u001b[0;34m:\u001b[0m\u001b[0;34m\u001b[0m\u001b[0;34m\u001b[0m\u001b[0m\n",
      "\u001b[0;32m/Library/Frameworks/Python.framework/Versions/3.8/lib/python3.8/inspect.py\u001b[0m in \u001b[0;36m_bind\u001b[0;34m(self, args, kwargs, partial)\u001b[0m\n\u001b[1;32m   2950\u001b[0m                             \u001b[0mmsg\u001b[0m \u001b[0;34m=\u001b[0m \u001b[0;34m'missing a required argument: {arg!r}'\u001b[0m\u001b[0;34m\u001b[0m\u001b[0;34m\u001b[0m\u001b[0m\n\u001b[1;32m   2951\u001b[0m                             \u001b[0mmsg\u001b[0m \u001b[0;34m=\u001b[0m \u001b[0mmsg\u001b[0m\u001b[0;34m.\u001b[0m\u001b[0mformat\u001b[0m\u001b[0;34m(\u001b[0m\u001b[0marg\u001b[0m\u001b[0;34m=\u001b[0m\u001b[0mparam\u001b[0m\u001b[0;34m.\u001b[0m\u001b[0mname\u001b[0m\u001b[0;34m)\u001b[0m\u001b[0;34m\u001b[0m\u001b[0;34m\u001b[0m\u001b[0m\n\u001b[0;32m-> 2952\u001b[0;31m                             \u001b[0;32mraise\u001b[0m \u001b[0mTypeError\u001b[0m\u001b[0;34m(\u001b[0m\u001b[0mmsg\u001b[0m\u001b[0;34m)\u001b[0m \u001b[0;32mfrom\u001b[0m \u001b[0;32mNone\u001b[0m\u001b[0;34m\u001b[0m\u001b[0;34m\u001b[0m\u001b[0m\n\u001b[0m\u001b[1;32m   2953\u001b[0m             \u001b[0;32melse\u001b[0m\u001b[0;34m:\u001b[0m\u001b[0;34m\u001b[0m\u001b[0;34m\u001b[0m\u001b[0m\n\u001b[1;32m   2954\u001b[0m                 \u001b[0;31m# We have a positional argument to process\u001b[0m\u001b[0;34m\u001b[0m\u001b[0;34m\u001b[0m\u001b[0;34m\u001b[0m\u001b[0m\n",
      "\u001b[0;31mTypeError\u001b[0m: missing a required argument: 'price'"
     ]
    }
   ],
   "source": [
    "import inspect\n",
    "print(inspect.signature(Stock))\n",
    "s1 = Stock('ACME', 100, 490.1)\n",
    "s2 = Stock('ACME', 100)"
   ]
  },
  {
   "cell_type": "code",
   "execution_count": 69,
   "id": "917a2c2a-9fcb-48bf-9c40-a0dc22116aae",
   "metadata": {},
   "outputs": [
    {
     "ename": "TypeError",
     "evalue": "multiple values for argument 'shares'",
     "output_type": "error",
     "traceback": [
      "\u001b[0;31m---------------------------------------------------------------------------\u001b[0m",
      "\u001b[0;31mTypeError\u001b[0m                                 Traceback (most recent call last)",
      "\u001b[0;32m/var/folders/g6/h24w2cnn0bzbzz1dc4v4fplm0000gn/T/ipykernel_19916/1647062396.py\u001b[0m in \u001b[0;36m<module>\u001b[0;34m\u001b[0m\n\u001b[0;32m----> 1\u001b[0;31m \u001b[0ms3\u001b[0m \u001b[0;34m=\u001b[0m \u001b[0mStock\u001b[0m\u001b[0;34m(\u001b[0m\u001b[0;34m'ACME'\u001b[0m\u001b[0;34m,\u001b[0m \u001b[0;36m100\u001b[0m\u001b[0;34m,\u001b[0m \u001b[0;36m490.1\u001b[0m\u001b[0;34m,\u001b[0m \u001b[0mshares\u001b[0m\u001b[0;34m=\u001b[0m\u001b[0;36m50\u001b[0m\u001b[0;34m)\u001b[0m\u001b[0;34m\u001b[0m\u001b[0;34m\u001b[0m\u001b[0m\n\u001b[0m",
      "\u001b[0;32m/var/folders/g6/h24w2cnn0bzbzz1dc4v4fplm0000gn/T/ipykernel_19916/1984389360.py\u001b[0m in \u001b[0;36m__init__\u001b[0;34m(self, *args, **kwargs)\u001b[0m\n\u001b[1;32m      9\u001b[0m     \u001b[0m__signature__\u001b[0m \u001b[0;34m=\u001b[0m \u001b[0mmake_sig\u001b[0m\u001b[0;34m(\u001b[0m\u001b[0;34m)\u001b[0m\u001b[0;34m\u001b[0m\u001b[0;34m\u001b[0m\u001b[0m\n\u001b[1;32m     10\u001b[0m     \u001b[0;32mdef\u001b[0m \u001b[0m__init__\u001b[0m\u001b[0;34m(\u001b[0m\u001b[0mself\u001b[0m\u001b[0;34m,\u001b[0m \u001b[0;34m*\u001b[0m\u001b[0margs\u001b[0m\u001b[0;34m,\u001b[0m \u001b[0;34m**\u001b[0m\u001b[0mkwargs\u001b[0m\u001b[0;34m)\u001b[0m\u001b[0;34m:\u001b[0m\u001b[0;34m\u001b[0m\u001b[0;34m\u001b[0m\u001b[0m\n\u001b[0;32m---> 11\u001b[0;31m         \u001b[0mbound_values\u001b[0m \u001b[0;34m=\u001b[0m \u001b[0mself\u001b[0m\u001b[0;34m.\u001b[0m\u001b[0m__signature__\u001b[0m\u001b[0;34m.\u001b[0m\u001b[0mbind\u001b[0m\u001b[0;34m(\u001b[0m\u001b[0;34m*\u001b[0m\u001b[0margs\u001b[0m\u001b[0;34m,\u001b[0m \u001b[0;34m**\u001b[0m\u001b[0mkwargs\u001b[0m\u001b[0;34m)\u001b[0m\u001b[0;34m\u001b[0m\u001b[0;34m\u001b[0m\u001b[0m\n\u001b[0m\u001b[1;32m     12\u001b[0m         \u001b[0;32mfor\u001b[0m \u001b[0mname\u001b[0m\u001b[0;34m,\u001b[0m \u001b[0mvalue\u001b[0m \u001b[0;32min\u001b[0m \u001b[0mbound_values\u001b[0m\u001b[0;34m.\u001b[0m\u001b[0marguments\u001b[0m\u001b[0;34m.\u001b[0m\u001b[0mitems\u001b[0m\u001b[0;34m(\u001b[0m\u001b[0;34m)\u001b[0m\u001b[0;34m:\u001b[0m\u001b[0;34m\u001b[0m\u001b[0;34m\u001b[0m\u001b[0m\n\u001b[1;32m     13\u001b[0m             \u001b[0msetattr\u001b[0m\u001b[0;34m(\u001b[0m\u001b[0mself\u001b[0m\u001b[0;34m,\u001b[0m \u001b[0mname\u001b[0m\u001b[0;34m,\u001b[0m \u001b[0mvalue\u001b[0m\u001b[0;34m)\u001b[0m\u001b[0;34m\u001b[0m\u001b[0;34m\u001b[0m\u001b[0m\n",
      "\u001b[0;32m/Library/Frameworks/Python.framework/Versions/3.8/lib/python3.8/inspect.py\u001b[0m in \u001b[0;36mbind\u001b[0;34m(self, *args, **kwargs)\u001b[0m\n\u001b[1;32m   3035\u001b[0m         \u001b[0;32mif\u001b[0m \u001b[0mthe\u001b[0m \u001b[0mpassed\u001b[0m \u001b[0marguments\u001b[0m \u001b[0mcan\u001b[0m \u001b[0;32mnot\u001b[0m \u001b[0mbe\u001b[0m \u001b[0mbound\u001b[0m\u001b[0;34m.\u001b[0m\u001b[0;34m\u001b[0m\u001b[0;34m\u001b[0m\u001b[0m\n\u001b[1;32m   3036\u001b[0m         \"\"\"\n\u001b[0;32m-> 3037\u001b[0;31m         \u001b[0;32mreturn\u001b[0m \u001b[0mself\u001b[0m\u001b[0;34m.\u001b[0m\u001b[0m_bind\u001b[0m\u001b[0;34m(\u001b[0m\u001b[0margs\u001b[0m\u001b[0;34m,\u001b[0m \u001b[0mkwargs\u001b[0m\u001b[0;34m)\u001b[0m\u001b[0;34m\u001b[0m\u001b[0;34m\u001b[0m\u001b[0m\n\u001b[0m\u001b[1;32m   3038\u001b[0m \u001b[0;34m\u001b[0m\u001b[0m\n\u001b[1;32m   3039\u001b[0m     \u001b[0;32mdef\u001b[0m \u001b[0mbind_partial\u001b[0m\u001b[0;34m(\u001b[0m\u001b[0mself\u001b[0m\u001b[0;34m,\u001b[0m \u001b[0;34m/\u001b[0m\u001b[0;34m,\u001b[0m \u001b[0;34m*\u001b[0m\u001b[0margs\u001b[0m\u001b[0;34m,\u001b[0m \u001b[0;34m**\u001b[0m\u001b[0mkwargs\u001b[0m\u001b[0;34m)\u001b[0m\u001b[0;34m:\u001b[0m\u001b[0;34m\u001b[0m\u001b[0;34m\u001b[0m\u001b[0m\n",
      "\u001b[0;32m/Library/Frameworks/Python.framework/Versions/3.8/lib/python3.8/inspect.py\u001b[0m in \u001b[0;36m_bind\u001b[0;34m(self, args, kwargs, partial)\u001b[0m\n\u001b[1;32m   2974\u001b[0m \u001b[0;34m\u001b[0m\u001b[0m\n\u001b[1;32m   2975\u001b[0m                     \u001b[0;32mif\u001b[0m \u001b[0mparam\u001b[0m\u001b[0;34m.\u001b[0m\u001b[0mname\u001b[0m \u001b[0;32min\u001b[0m \u001b[0mkwargs\u001b[0m \u001b[0;32mand\u001b[0m \u001b[0mparam\u001b[0m\u001b[0;34m.\u001b[0m\u001b[0mkind\u001b[0m \u001b[0;34m!=\u001b[0m \u001b[0m_POSITIONAL_ONLY\u001b[0m\u001b[0;34m:\u001b[0m\u001b[0;34m\u001b[0m\u001b[0;34m\u001b[0m\u001b[0m\n\u001b[0;32m-> 2976\u001b[0;31m                         raise TypeError(\n\u001b[0m\u001b[1;32m   2977\u001b[0m                             'multiple values for argument {arg!r}'.format(\n\u001b[1;32m   2978\u001b[0m                                 arg=param.name)) from None\n",
      "\u001b[0;31mTypeError\u001b[0m: multiple values for argument 'shares'"
     ]
    }
   ],
   "source": [
    "s3 = Stock('ACME', 100, 490.1, shares=50)"
   ]
  },
  {
   "cell_type": "code",
   "execution_count": 70,
   "id": "0e1653fb-3454-456b-a589-24662262b6c7",
   "metadata": {},
   "outputs": [],
   "source": [
    "from inspect import Signature, Parameter\n",
    "\n",
    "def make_sig(*names):\n",
    "    parms = [Parameter(name, Parameter.POSITIONAL_OR_KEYWORD)\n",
    "            for name in names]\n",
    "    return Signature(parms)\n",
    "\n",
    "class StructureMeta(type):\n",
    "    def __new__(cls, clsname, bases, clsdict):\n",
    "        clsdict['__signature__'] = make_sig(*clsdict.get('_fields',[]))\n",
    "        return super().__new__(cls, clsname, bases, clsdict)\n",
    "\n",
    "class Structure(metaclass=StructureMeta):\n",
    "    _fields = []\n",
    "    def __init__(self, *args, **kwargs):\n",
    "        bound_values = self.__signature__.bind(*args, **kwargs)\n",
    "        for name, value in bound_values.arguments.items():\n",
    "            setattr(self, name, value)\n",
    "\n",
    "# Example\n",
    "class Stock(Structure):\n",
    "    _fields = ['name', 'shares', 'price']\n",
    "\n",
    "class Point(Structure):\n",
    "    _fields = ['x', 'y']"
   ]
  },
  {
   "cell_type": "markdown",
   "id": "f4fb5c03-d740-40da-ad29-fb9ca134b6cd",
   "metadata": {},
   "source": [
    "当我们自定义签名的时候，将签名存储在特定的属性 `__signature__` 中通常是很有用的。 这样的话，在使用 `inspect` 模块执行内省的代码就能发现签名并将它作为调用约定。"
   ]
  },
  {
   "cell_type": "markdown",
   "id": "28034012-570d-4b9f-9733-c1d8c0719c26",
   "metadata": {},
   "source": [
    "# 在类上强制使用编程规约"
   ]
  },
  {
   "cell_type": "markdown",
   "id": "d3a16b78-a086-44a6-82f7-da64b8943bf4",
   "metadata": {},
   "source": [
    "在元类中选择重新定义 `__new__()` 方法还是 `__init__()` 方法取决于你想怎样使用结果类。  \n",
    "`__new__()` 方法在类创建之前被调用，通常用于通过某种方式（比如通过改变类字典的内容）修改类的定义。 而 `__init__()` 方法是在类被创建之后被调用，当你需要完整构建类对象的时候会很有用。  \n",
    "在最后一个例子中，这是必要的，因为它使用了 `super()` 函数来搜索之前的定义。 它只能在类的实例被创建之后，并且相应的方法解析顺序也已经被设置好了。"
   ]
  },
  {
   "cell_type": "markdown",
   "id": "80fee1d4-d223-47b2-aef7-8da155432479",
   "metadata": {},
   "source": [
    "## 拒绝任何有混合大小写名字作为方法的类定义"
   ]
  },
  {
   "cell_type": "code",
   "execution_count": 71,
   "id": "4ed7aaa2-ece7-4cb7-a1c0-bc56bbf75f53",
   "metadata": {},
   "outputs": [
    {
     "ename": "TypeError",
     "evalue": "Bad attribute name: fooBar",
     "output_type": "error",
     "traceback": [
      "\u001b[0;31m---------------------------------------------------------------------------\u001b[0m",
      "\u001b[0;31mTypeError\u001b[0m                                 Traceback (most recent call last)",
      "\u001b[0;32m/var/folders/g6/h24w2cnn0bzbzz1dc4v4fplm0000gn/T/ipykernel_19916/3094526414.py\u001b[0m in \u001b[0;36m<module>\u001b[0;34m\u001b[0m\n\u001b[1;32m     13\u001b[0m         \u001b[0;32mpass\u001b[0m\u001b[0;34m\u001b[0m\u001b[0;34m\u001b[0m\u001b[0m\n\u001b[1;32m     14\u001b[0m \u001b[0;34m\u001b[0m\u001b[0m\n\u001b[0;32m---> 15\u001b[0;31m \u001b[0;32mclass\u001b[0m \u001b[0mB\u001b[0m\u001b[0;34m(\u001b[0m\u001b[0mRoot\u001b[0m\u001b[0;34m)\u001b[0m\u001b[0;34m:\u001b[0m\u001b[0;34m\u001b[0m\u001b[0;34m\u001b[0m\u001b[0m\n\u001b[0m\u001b[1;32m     16\u001b[0m     \u001b[0;32mdef\u001b[0m \u001b[0mfooBar\u001b[0m\u001b[0;34m(\u001b[0m\u001b[0mself\u001b[0m\u001b[0;34m)\u001b[0m\u001b[0;34m:\u001b[0m \u001b[0;31m# TypeError\u001b[0m\u001b[0;34m\u001b[0m\u001b[0;34m\u001b[0m\u001b[0m\n\u001b[1;32m     17\u001b[0m         \u001b[0;32mpass\u001b[0m\u001b[0;34m\u001b[0m\u001b[0;34m\u001b[0m\u001b[0m\n",
      "\u001b[0;32m/var/folders/g6/h24w2cnn0bzbzz1dc4v4fplm0000gn/T/ipykernel_19916/3094526414.py\u001b[0m in \u001b[0;36m__new__\u001b[0;34m(cls, clsname, bases, clsdict)\u001b[0m\n\u001b[1;32m      3\u001b[0m         \u001b[0;32mfor\u001b[0m \u001b[0mname\u001b[0m \u001b[0;32min\u001b[0m \u001b[0mclsdict\u001b[0m\u001b[0;34m:\u001b[0m\u001b[0;34m\u001b[0m\u001b[0;34m\u001b[0m\u001b[0m\n\u001b[1;32m      4\u001b[0m             \u001b[0;32mif\u001b[0m \u001b[0mname\u001b[0m\u001b[0;34m.\u001b[0m\u001b[0mlower\u001b[0m\u001b[0;34m(\u001b[0m\u001b[0;34m)\u001b[0m \u001b[0;34m!=\u001b[0m \u001b[0mname\u001b[0m\u001b[0;34m:\u001b[0m\u001b[0;34m\u001b[0m\u001b[0;34m\u001b[0m\u001b[0m\n\u001b[0;32m----> 5\u001b[0;31m                 \u001b[0;32mraise\u001b[0m \u001b[0mTypeError\u001b[0m\u001b[0;34m(\u001b[0m\u001b[0;34m'Bad attribute name: '\u001b[0m \u001b[0;34m+\u001b[0m \u001b[0mname\u001b[0m\u001b[0;34m)\u001b[0m\u001b[0;34m\u001b[0m\u001b[0;34m\u001b[0m\u001b[0m\n\u001b[0m\u001b[1;32m      6\u001b[0m         \u001b[0;32mreturn\u001b[0m \u001b[0msuper\u001b[0m\u001b[0;34m(\u001b[0m\u001b[0;34m)\u001b[0m\u001b[0;34m.\u001b[0m\u001b[0m__new__\u001b[0m\u001b[0;34m(\u001b[0m\u001b[0mcls\u001b[0m\u001b[0;34m,\u001b[0m \u001b[0mclsname\u001b[0m\u001b[0;34m,\u001b[0m \u001b[0mbases\u001b[0m\u001b[0;34m,\u001b[0m \u001b[0mclsdict\u001b[0m\u001b[0;34m)\u001b[0m\u001b[0;34m\u001b[0m\u001b[0;34m\u001b[0m\u001b[0m\n\u001b[1;32m      7\u001b[0m \u001b[0;34m\u001b[0m\u001b[0m\n",
      "\u001b[0;31mTypeError\u001b[0m: Bad attribute name: fooBar"
     ]
    }
   ],
   "source": [
    "class NoMixedCaseMeta(type):\n",
    "    def __new__(cls, clsname, bases, clsdict):\n",
    "        for name in clsdict:\n",
    "            if name.lower() != name:\n",
    "                raise TypeError('Bad attribute name: ' + name)\n",
    "        return super().__new__(cls, clsname, bases, clsdict)\n",
    "\n",
    "class Root(metaclass=NoMixedCaseMeta):\n",
    "    pass\n",
    "\n",
    "class A(Root):\n",
    "    def foo_bar(self): # Ok\n",
    "        pass\n",
    "\n",
    "class B(Root):\n",
    "    def fooBar(self): # TypeError\n",
    "        pass"
   ]
  },
  {
   "cell_type": "markdown",
   "id": "b480c319-d7de-4c74-9b4f-de4a8bb7c09b",
   "metadata": {},
   "source": [
    "## 检测重载方法，确保它的调用参数跟父类中原始方法有着相同的参数签名。"
   ]
  },
  {
   "cell_type": "code",
   "execution_count": 72,
   "id": "08a69f16-fcc6-4127-abe1-bc53aa41727d",
   "metadata": {},
   "outputs": [
    {
     "name": "stderr",
     "output_type": "stream",
     "text": [
      "WARNING:root:Signature mismatch in B.foo. (self, x, y) != (self, a, b)\n",
      "WARNING:root:Signature mismatch in B.spam. (self, x, *, z) != (self, x, z)\n"
     ]
    }
   ],
   "source": [
    "from inspect import signature\n",
    "import logging\n",
    "\n",
    "class MatchSignaturesMeta(type):\n",
    "\n",
    "    def __init__(self, clsname, bases, clsdict):\n",
    "        super().__init__(clsname, bases, clsdict)\n",
    "        sup = super(self, self)\n",
    "        for name, value in clsdict.items():\n",
    "            if name.startswith('_') or not callable(value):\n",
    "                continue\n",
    "            # Get the previous definition (if any) and compare the signatures\n",
    "            prev_dfn = getattr(sup,name,None)\n",
    "            if prev_dfn:\n",
    "                prev_sig = signature(prev_dfn)\n",
    "                val_sig = signature(value)\n",
    "                if prev_sig != val_sig:\n",
    "                    logging.warning('Signature mismatch in %s. %s != %s',\n",
    "                                    value.__qualname__, prev_sig, val_sig)\n",
    "\n",
    "# Example\n",
    "class Root(metaclass=MatchSignaturesMeta):\n",
    "    pass\n",
    "\n",
    "class A(Root):\n",
    "    def foo(self, x, y):\n",
    "        pass\n",
    "\n",
    "    def spam(self, x, *, z):\n",
    "        pass\n",
    "\n",
    "# Class with redefined methods, but slightly different signatures\n",
    "class B(A):\n",
    "    def foo(self, a, b):\n",
    "        pass\n",
    "\n",
    "    def spam(self,x,z):\n",
    "        pass"
   ]
  },
  {
   "cell_type": "markdown",
   "id": "17d7d886-c123-4644-a8a2-ed39c39c2428",
   "metadata": {},
   "source": [
    "# 以编程的方式定义类"
   ]
  },
  {
   "cell_type": "markdown",
   "id": "42714d7d-f56f-4ecb-856a-560ba353e5a6",
   "metadata": {},
   "source": [
    "`new_class()` 第四个参数最神秘，它是一个用来接受类命名空间的映射对象的函数。 通常这是一个普通的字典，但是它实际上是 `__prepare__()` 方法返回的任意对象"
   ]
  },
  {
   "cell_type": "code",
   "execution_count": 77,
   "id": "538fdee2-398f-4ccd-bbc1-8c12be8e061c",
   "metadata": {},
   "outputs": [],
   "source": [
    "# stock.py\n",
    "# Example of making a class manually from parts\n",
    "\n",
    "# Methods\n",
    "def __init__(self, name, shares, price):\n",
    "    self.name = name\n",
    "    self.shares = shares\n",
    "    self.price = price\n",
    "def cost(self):\n",
    "    return self.shares * self.price\n",
    "\n",
    "cls_dict = {\n",
    "    '__init__' : __init__,\n",
    "    'cost' : cost,\n",
    "}\n",
    "\n",
    "# Make a class\n",
    "import types\n",
    "\n",
    "Stock = types.new_class('Stock', (), {}, lambda ns: ns.update(cls_dict))\n",
    "Stock.__module__ = __name__"
   ]
  },
  {
   "cell_type": "code",
   "execution_count": 78,
   "id": "39879dc4-5826-4c57-9169-463c6387ce2a",
   "metadata": {},
   "outputs": [],
   "source": [
    "s = Stock('acme',50,91.1)"
   ]
  },
  {
   "cell_type": "markdown",
   "id": "4ae1cac5-f8ee-4b25-8498-2c44e0a00e97",
   "metadata": {},
   "source": [
    "每次当一个类被定义后，它的 `__module__` 属性包含定义它的模块名。 这个名字用于生成 `__repr__()` 方法的输出。它同样也被用于很多库，比如 `pickle` 。 因此，为了让你创建的类是“正确”的，你需要确保这个属性也设置正确了。"
   ]
  },
  {
   "cell_type": "code",
   "execution_count": 80,
   "id": "50827293-c671-4e6b-96f7-9a04013b60d2",
   "metadata": {},
   "outputs": [
    {
     "data": {
      "text/plain": [
       "(__main__.Stock, abc.ABCMeta)"
      ]
     },
     "execution_count": 80,
     "metadata": {},
     "output_type": "execute_result"
    }
   ],
   "source": [
    "import abc\n",
    "Stock = types.new_class('Stock', (), {'metaclass': abc.ABCMeta},lambda ns: ns.update(cls_dict))\n",
    "Stock.__module__ = __name__\n",
    "Stock,type(Stock)"
   ]
  },
  {
   "cell_type": "code",
   "execution_count": 88,
   "id": "6f68c399-fed4-47ca-9ddb-c46639873789",
   "metadata": {},
   "outputs": [],
   "source": [
    "class Base(metaclass=MyMeta,debug=True, synchronize=False):\n",
    "    pass\n",
    "class Spam(Base, debug=True, synchronize=False):\n",
    "    pass\n",
    "Spam = types.new_class('Spam', (Base,),{'debug': True, 'synchronize': False},lambda ns: ns.update(cls_dict))"
   ]
  },
  {
   "cell_type": "markdown",
   "id": "f3c87730-31cd-4616-a9bb-34c53a69405a",
   "metadata": {},
   "source": [
    "通过调用 `sys._getframe()` 来获取调用者的模块名。"
   ]
  },
  {
   "cell_type": "code",
   "execution_count": 90,
   "id": "c85eae98-d8da-4c24-9f1d-196f811cfc71",
   "metadata": {},
   "outputs": [],
   "source": [
    "import operator\n",
    "import types\n",
    "import sys\n",
    "\n",
    "def named_tuple(classname, fieldnames):\n",
    "    # Populate a dictionary of field property accessors\n",
    "    cls_dict = { name: property(operator.itemgetter(n))\n",
    "                for n, name in enumerate(fieldnames) }\n",
    "\n",
    "    # Make a __new__ function and add to the class dict\n",
    "    def __new__(cls, *args):\n",
    "        if len(args) != len(fieldnames):\n",
    "            raise TypeError('Expected {} arguments'.format(len(fieldnames)))\n",
    "        return tuple.__new__(cls, args)\n",
    "\n",
    "    cls_dict['__new__'] = __new__\n",
    "\n",
    "    # Make the class\n",
    "    cls = types.new_class(classname, (tuple,), {},\n",
    "                        lambda ns: ns.update(cls_dict))\n",
    "\n",
    "    # Set the module to that of the caller\n",
    "    cls.__module__ = sys._getframe(1).f_globals['__name__']\n",
    "    return cls"
   ]
  },
  {
   "cell_type": "code",
   "execution_count": 92,
   "id": "94cbb204-cdfb-438b-9a0a-831ad0e43493",
   "metadata": {},
   "outputs": [
    {
     "data": {
      "text/plain": [
       "(type, {}, {})"
      ]
     },
     "execution_count": 92,
     "metadata": {},
     "output_type": "execute_result"
    }
   ],
   "source": [
    "import types\n",
    "metaclass, kwargs, ns = types.prepare_class('Stock', (), {'metaclass': type})\n",
    "metaclass, kwargs, ns"
   ]
  },
  {
   "cell_type": "markdown",
   "id": "5fc2d5fd-4b4e-4a48-9c83-a97cffbc3bd5",
   "metadata": {},
   "source": [
    "```python\n",
    "Stock = type('Stock', (), cls_dict)\n",
    "```\n",
    "这种方法的问题在于它忽略了一些关键步骤，比如对于元类中 `__prepare__()` 方法的调用。 \n",
    "通过使用 `types.new_class()` ，你可以保证所有的必要初始化步骤都能得到执行。 比如，`types.new_class()` 第四个参数的回调函数接受 `__prepare__()` 方法返回的映射对象。"
   ]
  },
  {
   "cell_type": "markdown",
   "id": "652ce6f0-eb23-4179-9aaf-3a03f74bed3c",
   "metadata": {},
   "source": [
    "# 在定义的时候初始化类的成员"
   ]
  },
  {
   "cell_type": "code",
   "execution_count": 93,
   "id": "e6ad6744-e633-4899-9481-cf5183d21efc",
   "metadata": {},
   "outputs": [],
   "source": [
    "import operator\n",
    "\n",
    "class StructTupleMeta(type):\n",
    "    def __init__(cls, *args, **kwargs):\n",
    "        super().__init__(*args, **kwargs)\n",
    "        for n, name in enumerate(cls._fields):\n",
    "            setattr(cls, name, property(operator.itemgetter(n)))\n",
    "\n",
    "class StructTuple(tuple, metaclass=StructTupleMeta):\n",
    "    _fields = []\n",
    "    def __new__(cls, *args):\n",
    "        if len(args) != len(cls._fields):\n",
    "            raise ValueError('{} arguments required'.format(len(cls._fields)))\n",
    "        return super().__new__(cls,args)"
   ]
  },
  {
   "cell_type": "markdown",
   "id": "d63bd7a2-bb0b-4f8f-a778-f868bdfe6127",
   "metadata": {},
   "source": [
    "# 利用函数注解实现方法重载"
   ]
  },
  {
   "cell_type": "markdown",
   "id": "720a2fae-e122-4ac5-9012-72bf93acd929",
   "metadata": {},
   "source": [
    "## 简单方案"
   ]
  },
  {
   "cell_type": "code",
   "execution_count": 94,
   "id": "6e0b4bd7-4aa2-4d35-8752-918a91c511d4",
   "metadata": {},
   "outputs": [
    {
     "name": "stdout",
     "output_type": "stream",
     "text": [
      "Bar 2: 1 2\n",
      "Bar 2: a 0\n"
     ]
    }
   ],
   "source": [
    "class Spam:\n",
    "    def bar(self, x:int, y:int):\n",
    "        print('Bar 1:', x, y)\n",
    "\n",
    "    def bar(self, s:str, n:int = 0):\n",
    "        print('Bar 2:', s, n)\n",
    "s = Spam()\n",
    "s.bar(1,2)\n",
    "s.bar('a')"
   ]
  },
  {
   "cell_type": "markdown",
   "id": "46852ad6-db55-4bd5-b070-a6f095a5964c",
   "metadata": {},
   "source": [
    "元类和注解、描述器方案都不支持关键字参数和继承\n",
    "+ 关键字参数位置比较混乱\n",
    "+ 继承无法识别子类"
   ]
  },
  {
   "cell_type": "markdown",
   "id": "ab7cfa5f-9d13-4f0e-89bf-c7610834f65b",
   "metadata": {},
   "source": [
    "## 元类和注解"
   ]
  },
  {
   "cell_type": "code",
   "execution_count": 95,
   "id": "a6fc4d54-81c8-408c-99f0-cf22a4205534",
   "metadata": {},
   "outputs": [],
   "source": [
    "# multiple.py\n",
    "import inspect\n",
    "import types\n",
    "\n",
    "class MultiMethod:\n",
    "    '''\n",
    "    Represents a single multimethod.\n",
    "    '''\n",
    "    def __init__(self, name):\n",
    "        self._methods = {}\n",
    "        self.__name__ = name\n",
    "\n",
    "    def register(self, meth):\n",
    "        '''\n",
    "        Register a new method as a multimethod\n",
    "        '''\n",
    "        sig = inspect.signature(meth)\n",
    "\n",
    "        # Build a type signature from the method's annotations\n",
    "        types = []\n",
    "        for name, parm in sig.parameters.items():\n",
    "            if name == 'self':\n",
    "                continue\n",
    "            if parm.annotation is inspect.Parameter.empty:\n",
    "                raise TypeError(\n",
    "                    'Argument {} must be annotated with a type'.format(name)\n",
    "                )\n",
    "            if not isinstance(parm.annotation, type):\n",
    "                raise TypeError(\n",
    "                    'Argument {} annotation must be a type'.format(name)\n",
    "                )\n",
    "            if parm.default is not inspect.Parameter.empty:\n",
    "                self._methods[tuple(types)] = meth\n",
    "            types.append(parm.annotation)\n",
    "\n",
    "        self._methods[tuple(types)] = meth\n",
    "\n",
    "    def __call__(self, *args):\n",
    "        '''\n",
    "        Call a method based on type signature of the arguments\n",
    "        '''\n",
    "        types = tuple(type(arg) for arg in args[1:])\n",
    "        meth = self._methods.get(types, None)\n",
    "        if meth:\n",
    "            return meth(*args)\n",
    "        else:\n",
    "            raise TypeError('No matching method for types {}'.format(types))\n",
    "\n",
    "    def __get__(self, instance, cls):\n",
    "        '''\n",
    "        Descriptor method needed to make calls work in a class\n",
    "        '''\n",
    "        if instance is not None:\n",
    "            return types.MethodType(self, instance)\n",
    "        else:\n",
    "            return self\n",
    "\n",
    "class MultiDict(dict):\n",
    "    '''\n",
    "    Special dictionary to build multimethods in a metaclass\n",
    "    '''\n",
    "    def __setitem__(self, key, value):\n",
    "        if key in self:\n",
    "            # If key already exists, it must be a multimethod or callable\n",
    "            current_value = self[key]\n",
    "            if isinstance(current_value, MultiMethod):\n",
    "                current_value.register(value)\n",
    "            else:\n",
    "                mvalue = MultiMethod(key)\n",
    "                mvalue.register(current_value)\n",
    "                mvalue.register(value)\n",
    "                super().__setitem__(key, mvalue)\n",
    "        else:\n",
    "            super().__setitem__(key, value)\n",
    "\n",
    "class MultipleMeta(type):\n",
    "    '''\n",
    "    Metaclass that allows multiple dispatch of methods\n",
    "    '''\n",
    "    def __new__(cls, clsname, bases, clsdict):\n",
    "        return type.__new__(cls, clsname, bases, dict(clsdict))\n",
    "\n",
    "    @classmethod\n",
    "    def __prepare__(cls, clsname, bases):\n",
    "        return MultiDict()"
   ]
  },
  {
   "cell_type": "code",
   "execution_count": 96,
   "id": "3919bfa5-7043-4dd8-a0bf-873fce1a8d81",
   "metadata": {},
   "outputs": [],
   "source": [
    "class Spam(metaclass=MultipleMeta):\n",
    "    def bar(self, x:int, y:int):\n",
    "        print('Bar 1:', x, y)\n",
    "\n",
    "    def bar(self, s:str, n:int = 0):\n",
    "        print('Bar 2:', s, n)\n",
    "\n",
    "# Example: overloaded __init__\n",
    "import time\n",
    "\n",
    "class Date(metaclass=MultipleMeta):\n",
    "    def __init__(self, year: int, month:int, day:int):\n",
    "        self.year = year\n",
    "        self.month = month\n",
    "        self.day = day\n",
    "\n",
    "    def __init__(self):\n",
    "        t = time.localtime()\n",
    "        self.__init__(t.tm_year, t.tm_mon, t.tm_mday)"
   ]
  },
  {
   "cell_type": "markdown",
   "id": "11caa92e-2856-4b05-b7de-76f2920a58bf",
   "metadata": {},
   "source": [
    "## 描述器方案"
   ]
  },
  {
   "cell_type": "code",
   "execution_count": 101,
   "id": "6e732a61-7e14-466a-97af-0fd1508a5f15",
   "metadata": {},
   "outputs": [],
   "source": [
    "import types\n",
    "\n",
    "class multimethod:\n",
    "    def __init__(self, func):\n",
    "        self._methods = {}\n",
    "        self.__name__ = func.__name__\n",
    "        self._default = func\n",
    "\n",
    "    def match(self, *types):\n",
    "        def register(func):\n",
    "            ndefaults = len(func.__defaults__) if func.__defaults__ else 0\n",
    "            for n in range(ndefaults+1):\n",
    "                self._methods[types[:len(types) - n]] = func\n",
    "            return self\n",
    "        return register\n",
    "\n",
    "    def __call__(self, *args):\n",
    "        types = tuple(type(arg) for arg in args[1:])\n",
    "        meth = self._methods.get(types, None)\n",
    "        if meth:\n",
    "            return meth(*args)\n",
    "        else:\n",
    "            return self._default(*args)\n",
    "\n",
    "    def __get__(self, instance, cls):\n",
    "        if instance is not None:\n",
    "            return types.MethodType(self, instance)\n",
    "        else:\n",
    "            return self"
   ]
  },
  {
   "cell_type": "code",
   "execution_count": 102,
   "id": "2bcd9d5f-34d8-4489-8bed-511344d7d88f",
   "metadata": {},
   "outputs": [],
   "source": [
    "class Spam:\n",
    "    @multimethod\n",
    "    def bar(self, *args):\n",
    "        # Default method called if no match\n",
    "        raise TypeError('No matching method for bar')\n",
    "\n",
    "    @bar.match(int, int)\n",
    "    def bar(self, x, y):\n",
    "        print('Bar 1:', x, y)\n",
    "\n",
    "    @bar.match(str, int)\n",
    "    def bar(self, s, n = 0):\n",
    "        print('Bar 2:', s, n)"
   ]
  },
  {
   "cell_type": "markdown",
   "id": "6d9a2588-9306-4557-9343-6d9ff81aa52e",
   "metadata": {},
   "source": [
    "# 避免重复的属性方法"
   ]
  },
  {
   "cell_type": "code",
   "execution_count": 103,
   "id": "2e93bd78-b936-4e5d-a8d8-57e1b7a0d5c0",
   "metadata": {},
   "outputs": [],
   "source": [
    "class Person:\n",
    "    def __init__(self, name ,age):\n",
    "        self.name = name\n",
    "        self.age = age\n",
    "\n",
    "    @property\n",
    "    def name(self):\n",
    "        return self._name\n",
    "\n",
    "    @name.setter\n",
    "    def name(self, value):\n",
    "        if not isinstance(value, str):\n",
    "            raise TypeError('name must be a string')\n",
    "        self._name = value\n",
    "\n",
    "    @property\n",
    "    def age(self):\n",
    "        return self._age\n",
    "\n",
    "    @age.setter\n",
    "    def age(self, value):\n",
    "        if not isinstance(value, int):\n",
    "            raise TypeError('age must be an int')\n",
    "        self._age = value"
   ]
  },
  {
   "cell_type": "code",
   "execution_count": 104,
   "id": "26f9d865-0c4b-4cf3-9835-ec34afbecd85",
   "metadata": {},
   "outputs": [],
   "source": [
    "def typed_property(name, expected_type):\n",
    "    storage_name = '_' + name\n",
    "\n",
    "    @property\n",
    "    def prop(self):\n",
    "        return getattr(self, storage_name)\n",
    "\n",
    "    @prop.setter\n",
    "    def prop(self, value):\n",
    "        if not isinstance(value, expected_type):\n",
    "            raise TypeError('{} must be a {}'.format(name, expected_type))\n",
    "        setattr(self, storage_name, value)\n",
    "\n",
    "    return prop\n",
    "\n",
    "# Example use\n",
    "class Person:\n",
    "    name = typed_property('name', str)\n",
    "    age = typed_property('age', int)\n",
    "\n",
    "    def __init__(self, name, age):\n",
    "        self.name = name\n",
    "        self.age = age"
   ]
  },
  {
   "cell_type": "code",
   "execution_count": 105,
   "id": "f2e8ee70-f40b-4112-9f85-4bc1026d8797",
   "metadata": {},
   "outputs": [],
   "source": [
    "from functools import partial\n",
    "\n",
    "String = partial(typed_property, expected_type=str)\n",
    "Integer = partial(typed_property, expected_type=int)\n",
    "\n",
    "# Example:\n",
    "class Person:\n",
    "    name = String('name')\n",
    "    age = Integer('age')\n",
    "\n",
    "    def __init__(self, name, age):\n",
    "        self.name = name\n",
    "        self.age = age"
   ]
  },
  {
   "cell_type": "markdown",
   "id": "eca37373-302d-43f4-9b21-10b94e61e741",
   "metadata": {},
   "source": [
    "# 定义上下文管理器的简单方法"
   ]
  },
  {
   "cell_type": "markdown",
   "id": "14920dcf-3bb1-45af-b0fa-fb3e1b48d024",
   "metadata": {},
   "source": [
    "使用 `contexlib` 模块中的 `@contextmanager` 装饰器"
   ]
  },
  {
   "cell_type": "markdown",
   "id": "1836d291-42bc-4f5c-a06a-3a0b32d02e98",
   "metadata": {},
   "source": [
    "## 计时器"
   ]
  },
  {
   "cell_type": "code",
   "execution_count": 108,
   "id": "82c4e59e-c018-4d7f-a9be-a2b5ca14cb75",
   "metadata": {},
   "outputs": [
    {
     "name": "stdout",
     "output_type": "stream",
     "text": [
      "counting: 1.528010368347168\n"
     ]
    }
   ],
   "source": [
    "import time\n",
    "from contextlib import contextmanager\n",
    "\n",
    "@contextmanager\n",
    "def timethis(label):\n",
    "    start = time.time()\n",
    "    try:\n",
    "        yield\n",
    "    finally:\n",
    "        end = time.time()\n",
    "        print('{}: {}'.format(label, end - start))\n",
    "\n",
    "# Example use\n",
    "with timethis('counting'):\n",
    "    n = 10000000\n",
    "    while n > 0:\n",
    "        n -= 1"
   ]
  },
  {
   "cell_type": "markdown",
   "id": "aff2c1ad-e65d-4873-a557-9fe40bd47677",
   "metadata": {},
   "source": [
    "## 列表事务"
   ]
  },
  {
   "cell_type": "code",
   "execution_count": 109,
   "id": "ce819168-2023-4ee7-a28d-d4c6066c9e0f",
   "metadata": {},
   "outputs": [],
   "source": [
    "@contextmanager\n",
    "def list_transaction(orig_list):\n",
    "    working = list(orig_list)\n",
    "    yield working\n",
    "    orig_list[:] = working"
   ]
  },
  {
   "cell_type": "code",
   "execution_count": 111,
   "id": "a6467cd2-c351-4e63-8470-40933d28980f",
   "metadata": {},
   "outputs": [
    {
     "data": {
      "text/plain": [
       "[1, 2, 3, 4, 5]"
      ]
     },
     "execution_count": 111,
     "metadata": {},
     "output_type": "execute_result"
    }
   ],
   "source": [
    "items = [1, 2, 3]\n",
    "with list_transaction(items) as working:\n",
    "    working.append(4)\n",
    "    working.append(5)\n",
    "items"
   ]
  },
  {
   "cell_type": "code",
   "execution_count": 114,
   "id": "925e651c-282f-4ecb-b4ba-0261c32e9b61",
   "metadata": {},
   "outputs": [
    {
     "ename": "RuntimeError",
     "evalue": "oops",
     "output_type": "error",
     "traceback": [
      "\u001b[0;31m---------------------------------------------------------------------------\u001b[0m",
      "\u001b[0;31mRuntimeError\u001b[0m                              Traceback (most recent call last)",
      "\u001b[0;32m/var/folders/g6/h24w2cnn0bzbzz1dc4v4fplm0000gn/T/ipykernel_19916/3569827619.py\u001b[0m in \u001b[0;36m<module>\u001b[0;34m\u001b[0m\n\u001b[1;32m      2\u001b[0m     \u001b[0mworking\u001b[0m\u001b[0;34m.\u001b[0m\u001b[0mappend\u001b[0m\u001b[0;34m(\u001b[0m\u001b[0;36m6\u001b[0m\u001b[0;34m)\u001b[0m\u001b[0;34m\u001b[0m\u001b[0;34m\u001b[0m\u001b[0m\n\u001b[1;32m      3\u001b[0m     \u001b[0mworking\u001b[0m\u001b[0;34m.\u001b[0m\u001b[0mappend\u001b[0m\u001b[0;34m(\u001b[0m\u001b[0;36m7\u001b[0m\u001b[0;34m)\u001b[0m\u001b[0;34m\u001b[0m\u001b[0;34m\u001b[0m\u001b[0m\n\u001b[0;32m----> 4\u001b[0;31m     \u001b[0;32mraise\u001b[0m \u001b[0mRuntimeError\u001b[0m\u001b[0;34m(\u001b[0m\u001b[0;34m'oops'\u001b[0m\u001b[0;34m)\u001b[0m\u001b[0;34m\u001b[0m\u001b[0;34m\u001b[0m\u001b[0m\n\u001b[0m",
      "\u001b[0;31mRuntimeError\u001b[0m: oops"
     ]
    }
   ],
   "source": [
    "with list_transaction(items) as working:\n",
    "    working.append(6)\n",
    "    working.append(7)\n",
    "    raise RuntimeError('oops')"
   ]
  },
  {
   "cell_type": "code",
   "execution_count": 115,
   "id": "c42392f6-124b-48f2-93bb-9ec7a97ba149",
   "metadata": {},
   "outputs": [
    {
     "data": {
      "text/plain": [
       "[1, 2, 3, 4, 5]"
      ]
     },
     "execution_count": 115,
     "metadata": {},
     "output_type": "execute_result"
    }
   ],
   "source": [
    "items"
   ]
  },
  {
   "cell_type": "code",
   "execution_count": 110,
   "id": "da9d53b9-a950-49c2-be8d-e5d1f3e77fcb",
   "metadata": {},
   "outputs": [],
   "source": [
    "import time\n",
    "\n",
    "class timethis:\n",
    "    def __init__(self, label):\n",
    "        self.label = label\n",
    "\n",
    "    def __enter__(self):\n",
    "        self.start = time.time()\n",
    "\n",
    "    def __exit__(self, exc_ty, exc_val, exc_tb):\n",
    "        end = time.time()\n",
    "        print('{}: {}'.format(self.label, end - self.start))"
   ]
  },
  {
   "cell_type": "markdown",
   "id": "4f18fdc8-d286-461d-a1a7-d31724e6c445",
   "metadata": {},
   "source": [
    "# 在局部变量域中执行代码"
   ]
  },
  {
   "cell_type": "code",
   "execution_count": 117,
   "id": "446cd0b2-5c17-4011-b455-4af18e074b57",
   "metadata": {},
   "outputs": [],
   "source": [
    "def test():\n",
    "    a = 13\n",
    "    exec('b = a + 1')\n",
    "    print(b)"
   ]
  },
  {
   "cell_type": "code",
   "execution_count": 118,
   "id": "7700b48b-3c90-4e9e-8a04-5bd3a20bab8e",
   "metadata": {},
   "outputs": [
    {
     "ename": "NameError",
     "evalue": "name 'b' is not defined",
     "output_type": "error",
     "traceback": [
      "\u001b[0;31m---------------------------------------------------------------------------\u001b[0m",
      "\u001b[0;31mNameError\u001b[0m                                 Traceback (most recent call last)",
      "\u001b[0;32m/var/folders/g6/h24w2cnn0bzbzz1dc4v4fplm0000gn/T/ipykernel_19916/756179265.py\u001b[0m in \u001b[0;36m<module>\u001b[0;34m\u001b[0m\n\u001b[0;32m----> 1\u001b[0;31m \u001b[0mtest\u001b[0m\u001b[0;34m(\u001b[0m\u001b[0;34m)\u001b[0m\u001b[0;34m\u001b[0m\u001b[0;34m\u001b[0m\u001b[0m\n\u001b[0m",
      "\u001b[0;32m/var/folders/g6/h24w2cnn0bzbzz1dc4v4fplm0000gn/T/ipykernel_19916/977636292.py\u001b[0m in \u001b[0;36mtest\u001b[0;34m()\u001b[0m\n\u001b[1;32m      2\u001b[0m     \u001b[0ma\u001b[0m \u001b[0;34m=\u001b[0m \u001b[0;36m13\u001b[0m\u001b[0;34m\u001b[0m\u001b[0;34m\u001b[0m\u001b[0m\n\u001b[1;32m      3\u001b[0m     \u001b[0mexec\u001b[0m\u001b[0;34m(\u001b[0m\u001b[0;34m'b = a + 1'\u001b[0m\u001b[0;34m)\u001b[0m\u001b[0;34m\u001b[0m\u001b[0;34m\u001b[0m\u001b[0m\n\u001b[0;32m----> 4\u001b[0;31m     \u001b[0mprint\u001b[0m\u001b[0;34m(\u001b[0m\u001b[0mb\u001b[0m\u001b[0;34m)\u001b[0m\u001b[0;34m\u001b[0m\u001b[0;34m\u001b[0m\u001b[0m\n\u001b[0m",
      "\u001b[0;31mNameError\u001b[0m: name 'b' is not defined"
     ]
    }
   ],
   "source": [
    "test()"
   ]
  },
  {
   "cell_type": "code",
   "execution_count": 119,
   "id": "e92b2d35-6f84-4b84-bc8f-028e3741a527",
   "metadata": {},
   "outputs": [],
   "source": [
    "def test():\n",
    "    a  = 13\n",
    "    loc = locals()\n",
    "    exec('b = a  + 1')\n",
    "    b = loc['b']\n",
    "    print(b)"
   ]
  },
  {
   "cell_type": "code",
   "execution_count": 120,
   "id": "f7ed372f-6135-4afa-ae24-b12f93243067",
   "metadata": {},
   "outputs": [
    {
     "name": "stdout",
     "output_type": "stream",
     "text": [
      "14\n"
     ]
    }
   ],
   "source": [
    "test()"
   ]
  },
  {
   "cell_type": "markdown",
   "id": "c8fb1e7c-16fb-4670-95dd-c9cdea043f69",
   "metadata": {},
   "source": [
    "在函数里面， 传递给 `exec()` 的局部范围是拷贝实际局部变量组成的一个字典。 因此，如果 `exec()` 如果执行了修改操作，这种修改后的结果对实际局部变量值是没有影响的。  \n",
    "调用 `locals()` 获取局部变量时，获得的是传递给 `exec()` 的局部变量的一个拷贝。通过在代码执行后审查这个字典的值，那就能获取修改后的值了。  \n",
    "`locals()` 会获取局部变量值中的值并覆盖字典中相应的变量。  \n",
    "作为 `locals()` 的一个替代方案，你可以使用你自己的字典，并将它传递给 `exec()`"
   ]
  },
  {
   "cell_type": "code",
   "execution_count": 121,
   "id": "b58cf0ac-252f-4c3d-b21c-c642336b60de",
   "metadata": {},
   "outputs": [],
   "source": [
    "def test1():\n",
    "    x = 0\n",
    "    exec('x += 1')\n",
    "    print(x)"
   ]
  },
  {
   "cell_type": "code",
   "execution_count": 122,
   "id": "028fe7bf-1d01-4daa-ad36-14e63399cd74",
   "metadata": {},
   "outputs": [
    {
     "name": "stdout",
     "output_type": "stream",
     "text": [
      "0\n"
     ]
    }
   ],
   "source": [
    "test1()"
   ]
  },
  {
   "cell_type": "code",
   "execution_count": 124,
   "id": "f15eb45e-1be8-49f1-ad6b-3221dd347f57",
   "metadata": {},
   "outputs": [],
   "source": [
    "def test3():\n",
    "    x = 0 \n",
    "    loc = locals()\n",
    "    print(loc)\n",
    "    exec('x+=1')\n",
    "    print(loc)\n",
    "    locals()\n",
    "    print(loc)"
   ]
  },
  {
   "cell_type": "code",
   "execution_count": 126,
   "id": "a7b5e633-555b-4dc0-954c-954e84bb34d7",
   "metadata": {},
   "outputs": [
    {
     "name": "stdout",
     "output_type": "stream",
     "text": [
      "{'x': 0}\n",
      "{'x': 1, 'loc': {...}}\n",
      "{'x': 0, 'loc': {...}}\n"
     ]
    }
   ],
   "source": [
    "test3()"
   ]
  },
  {
   "cell_type": "code",
   "execution_count": 127,
   "id": "0ff9f0c0-9e80-46d8-b6ff-060cde1854a8",
   "metadata": {},
   "outputs": [],
   "source": [
    "def test4():\n",
    "    a = 13 \n",
    "    loc = {'a':a}\n",
    "    glb = {}\n",
    "    exec('b=a+1',glb,loc)\n",
    "    b = loc['b']\n",
    "    print(b)"
   ]
  },
  {
   "cell_type": "code",
   "execution_count": 128,
   "id": "8803c1c0-77e3-45e7-8d14-d964e3390f88",
   "metadata": {},
   "outputs": [
    {
     "name": "stdout",
     "output_type": "stream",
     "text": [
      "14\n"
     ]
    }
   ],
   "source": [
    "test4()"
   ]
  },
  {
   "cell_type": "markdown",
   "id": "31b51055-e5ce-441c-a769-0c3a7fca6352",
   "metadata": {},
   "source": [
    "# 解析与分析Python源码"
   ]
  },
  {
   "cell_type": "code",
   "execution_count": 130,
   "id": "563a9f78-4a60-4268-8cbd-0500b68c95a3",
   "metadata": {},
   "outputs": [
    {
     "name": "stdout",
     "output_type": "stream",
     "text": [
      "56\n",
      "0\n",
      "1\n",
      "2\n",
      "3\n",
      "4\n",
      "5\n",
      "6\n",
      "7\n",
      "8\n",
      "9\n"
     ]
    }
   ],
   "source": [
    "x = 42\n",
    "print(eval('2 + 3 *4 +x'))\n",
    "exec('for i in range(10):print(i)')"
   ]
  },
  {
   "cell_type": "markdown",
   "id": "5b649f62-d658-43aa-819e-6d0429699a3b",
   "metadata": {},
   "source": [
    "## `ast`解析"
   ]
  },
  {
   "cell_type": "code",
   "execution_count": 131,
   "id": "c3ba02f7-2d78-45ac-a835-48cb15a30f8a",
   "metadata": {},
   "outputs": [
    {
     "data": {
      "text/plain": [
       "<_ast.Expression at 0x7fe135aad580>"
      ]
     },
     "execution_count": 131,
     "metadata": {},
     "output_type": "execute_result"
    }
   ],
   "source": [
    "import ast \n",
    "ex = ast.parse('2 + 3*4 + x', mode='eval')\n",
    "ex"
   ]
  },
  {
   "cell_type": "code",
   "execution_count": 132,
   "id": "0a536cb6-ca12-4215-b80a-d7dce4394f5c",
   "metadata": {},
   "outputs": [
    {
     "data": {
      "text/plain": [
       "\"Expression(body=BinOp(left=BinOp(left=Constant(value=2, kind=None), op=Add(), right=BinOp(left=Constant(value=3, kind=None), op=Mult(), right=Constant(value=4, kind=None))), op=Add(), right=Name(id='x', ctx=Load())))\""
      ]
     },
     "execution_count": 132,
     "metadata": {},
     "output_type": "execute_result"
    }
   ],
   "source": [
    "ast.dump(ex)"
   ]
  },
  {
   "cell_type": "code",
   "execution_count": 133,
   "id": "b457516b-e0fc-42f2-9d19-6d57e13588c1",
   "metadata": {},
   "outputs": [
    {
     "data": {
      "text/plain": [
       "<_ast.Module at 0x7fe1353628b0>"
      ]
     },
     "execution_count": 133,
     "metadata": {},
     "output_type": "execute_result"
    }
   ],
   "source": [
    "top = ast.parse('for i in range(10): print(i)', mode='exec')\n",
    "top"
   ]
  },
  {
   "cell_type": "code",
   "execution_count": 134,
   "id": "c363bd78-c7ca-484e-b998-28acd44fa9a8",
   "metadata": {},
   "outputs": [
    {
     "data": {
      "text/plain": [
       "\"Module(body=[For(target=Name(id='i', ctx=Store()), iter=Call(func=Name(id='range', ctx=Load()), args=[Constant(value=10, kind=None)], keywords=[]), body=[Expr(value=Call(func=Name(id='print', ctx=Load()), args=[Name(id='i', ctx=Load())], keywords=[]))], orelse=[], type_comment=None)], type_ignores=[])\""
      ]
     },
     "execution_count": 134,
     "metadata": {},
     "output_type": "execute_result"
    }
   ],
   "source": [
    "ast.dump(top)"
   ]
  },
  {
   "cell_type": "code",
   "execution_count": 135,
   "id": "faa44848-a3d4-4ee5-af35-9a8315b95b0b",
   "metadata": {},
   "outputs": [],
   "source": [
    "import ast\n",
    "\n",
    "class CodeAnalyzer(ast.NodeVisitor):\n",
    "    def __init__(self):\n",
    "        self.loaded = set()\n",
    "        self.stored = set()\n",
    "        self.deleted = set()\n",
    "\n",
    "    def visit_Name(self, node):\n",
    "        if isinstance(node.ctx, ast.Load):\n",
    "            self.loaded.add(node.id)\n",
    "        elif isinstance(node.ctx, ast.Store):\n",
    "            self.stored.add(node.id)\n",
    "        elif isinstance(node.ctx, ast.Del):\n",
    "            self.deleted.add(node.id)"
   ]
  },
  {
   "cell_type": "code",
   "execution_count": 136,
   "id": "c0eb75b7-e973-4f76-a234-266315a176cb",
   "metadata": {},
   "outputs": [
    {
     "name": "stdout",
     "output_type": "stream",
     "text": [
      "Loaded: {'print', 'i', 'range'}\n",
      "Stored: {'i'}\n",
      "Deleted: {'i'}\n"
     ]
    }
   ],
   "source": [
    "# Some Python code\n",
    "code = '''\n",
    "for i in range(10):\n",
    "    print(i)\n",
    "del i\n",
    "'''\n",
    "\n",
    "# Parse into an AST\n",
    "top = ast.parse(code, mode='exec')\n",
    "\n",
    "# Feed the AST to analyze name usage\n",
    "c = CodeAnalyzer()\n",
    "c.visit(top)\n",
    "print('Loaded:', c.loaded)\n",
    "print('Stored:', c.stored)\n",
    "print('Deleted:', c.deleted)"
   ]
  },
  {
   "cell_type": "code",
   "execution_count": 138,
   "id": "8ac871ae-f9fd-458c-ba11-1878fcd91b9d",
   "metadata": {},
   "outputs": [
    {
     "name": "stdout",
     "output_type": "stream",
     "text": [
      "0\n",
      "1\n",
      "2\n",
      "3\n",
      "4\n",
      "5\n",
      "6\n",
      "7\n",
      "8\n",
      "9\n"
     ]
    }
   ],
   "source": [
    "exec(compile(top,'<stdin>', 'exec'))"
   ]
  },
  {
   "cell_type": "markdown",
   "id": "30e4df66-b328-4039-ab1c-b970d6e87cf1",
   "metadata": {},
   "source": [
    "## 装饰器:通过重新解析函数体源码、 重写AST并重新创建函数代码对象来将全局访问变量降为函数体作用范围"
   ]
  },
  {
   "cell_type": "code",
   "execution_count": 146,
   "id": "16f56126-1851-4c84-a531-53c7e7a52eb7",
   "metadata": {},
   "outputs": [],
   "source": [
    "# namelower.py\n",
    "import ast\n",
    "import inspect\n",
    "\n",
    "# Node visitor that lowers globally accessed names into\n",
    "# the function body as local variables.\n",
    "class NameLower(ast.NodeVisitor):\n",
    "    def __init__(self, lowered_names):\n",
    "        self.lowered_names = lowered_names\n",
    "\n",
    "    def visit_FunctionDef(self, node):\n",
    "        # Compile some assignments to lower the constants\n",
    "        code = '__globals = globals()\\n'\n",
    "        code += '\\n'.join(\"{0} = __globals['{0}']\".format(name)\n",
    "                            for name in self.lowered_names)\n",
    "        code_ast = ast.parse(code, mode='exec')\n",
    "\n",
    "        # Inject new statements into the function body\n",
    "        node.body[:0] = code_ast.body\n",
    "\n",
    "        # Save the function object\n",
    "        self.func = node\n",
    "\n",
    "# Decorator that turns global names into locals\n",
    "def lower_names(*namelist):\n",
    "    def lower(func):\n",
    "        srclines = inspect.getsource(func).splitlines()\n",
    "        # Skip source lines prior to the @lower_names decorator\n",
    "        for n, line in enumerate(srclines):\n",
    "            if '@lower_names' in line:\n",
    "                break\n",
    "\n",
    "        src = '\\n'.join(srclines[n+1:])\n",
    "        # Hack to deal with indented code\n",
    "        if src.startswith((' ','\\t')):\n",
    "            src = 'if 1:\\n' + src\n",
    "        top = ast.parse(src, mode='exec')\n",
    "\n",
    "        # Transform the AST\n",
    "        cl = NameLower(namelist)\n",
    "        cl.visit(top)\n",
    "\n",
    "        # Execute the modified AST\n",
    "        temp = {}\n",
    "        exec(compile(top,'','exec'), temp, temp)\n",
    "\n",
    "        # Pull out the modified code object\n",
    "        func.__code__ = temp[func.__name__].__code__\n",
    "        return func\n",
    "    return lower"
   ]
  },
  {
   "cell_type": "code",
   "execution_count": 152,
   "id": "46b12688-824e-4a56-aa4b-00ba03b01dd7",
   "metadata": {},
   "outputs": [],
   "source": [
    "INCR = 1\n",
    "@lower_names('INCR')\n",
    "def countdown(n):\n",
    "    while n > 0:\n",
    "        n -= INCR"
   ]
  },
  {
   "cell_type": "code",
   "execution_count": 153,
   "id": "744366e2-4b98-4ca7-93e2-17bd290f63a0",
   "metadata": {},
   "outputs": [],
   "source": [
    "def countdown(n):\n",
    "    __globals = globals()\n",
    "    INCR = __globals['INCR']\n",
    "    while n > 0:\n",
    "        n -= INCR"
   ]
  },
  {
   "cell_type": "code",
   "execution_count": 155,
   "id": "d236d9bf-10f9-478b-ac2a-aa1572262d0b",
   "metadata": {},
   "outputs": [],
   "source": [
    "def countdown1(n):\n",
    "    while n > 0:\n",
    "        n -= INCR"
   ]
  },
  {
   "cell_type": "code",
   "execution_count": 157,
   "id": "674b0c65-c60c-4e0e-ad0d-1d4cc92c2830",
   "metadata": {},
   "outputs": [
    {
     "data": {
      "text/plain": [
       "47.48684930600575"
      ]
     },
     "execution_count": 157,
     "metadata": {},
     "output_type": "execute_result"
    }
   ],
   "source": [
    "from timeit import timeit\n",
    "timeit('countdown(1000)','from __main__ import countdown')"
   ]
  },
  {
   "cell_type": "code",
   "execution_count": 158,
   "id": "642ab32f-4c9c-4bc6-aa7d-1ab9e2f24622",
   "metadata": {},
   "outputs": [
    {
     "data": {
      "text/plain": [
       "50.49969709399738"
      ]
     },
     "execution_count": 158,
     "metadata": {},
     "output_type": "execute_result"
    }
   ],
   "source": [
    "from timeit import timeit\n",
    "timeit('countdown1(1000)','from __main__ import countdown1')"
   ]
  },
  {
   "cell_type": "markdown",
   "id": "7f55ccd4-fcca-421a-99a2-4d3c70e8d012",
   "metadata": {},
   "source": [
    "# 拆解Python字节码"
   ]
  },
  {
   "cell_type": "markdown",
   "id": "f48b54ca-2105-4e84-bf26-fd205b338de6",
   "metadata": {},
   "source": [
    "## `dis` 模块可以被用来输出任何Python函数的反编译结果"
   ]
  },
  {
   "cell_type": "code",
   "execution_count": 160,
   "id": "dcf7adaa-604f-427d-9b9b-63e99d6c3a68",
   "metadata": {},
   "outputs": [],
   "source": [
    "def countdown(n):\n",
    "    while n > 0:\n",
    "        print('T-minus', n)\n",
    "        n -= 1\n",
    "    print('Blastoff!')"
   ]
  },
  {
   "cell_type": "code",
   "execution_count": 169,
   "id": "29958ad0-82b6-415d-8ab9-aca9ad79aaa7",
   "metadata": {},
   "outputs": [
    {
     "name": "stdout",
     "output_type": "stream",
     "text": [
      "  2     >>    0 LOAD_FAST                0 (n)\n",
      "              2 LOAD_CONST               1 (0)\n",
      "              4 COMPARE_OP               4 (>)\n",
      "              6 POP_JUMP_IF_FALSE       28\n",
      "\n",
      "  3           8 LOAD_GLOBAL              0 (print)\n",
      "             10 LOAD_CONST               2 ('T-minus')\n",
      "             12 LOAD_FAST                0 (n)\n",
      "             14 CALL_FUNCTION            2\n",
      "             16 POP_TOP\n",
      "\n",
      "  4          18 LOAD_FAST                0 (n)\n",
      "             20 LOAD_CONST               3 (1)\n",
      "             22 INPLACE_SUBTRACT\n",
      "             24 STORE_FAST               0 (n)\n",
      "             26 JUMP_ABSOLUTE            0\n",
      "\n",
      "  5     >>   28 LOAD_GLOBAL              0 (print)\n",
      "             30 LOAD_CONST               4 ('Blastoff!')\n",
      "             32 CALL_FUNCTION            1\n",
      "             34 POP_TOP\n",
      "             36 LOAD_CONST               0 (None)\n",
      "             38 RETURN_VALUE\n"
     ]
    }
   ],
   "source": [
    "import dis\n",
    "dis.dis(countdown)"
   ]
  },
  {
   "cell_type": "code",
   "execution_count": 163,
   "id": "233c3391-e099-47f1-8050-dbb649e7eb4e",
   "metadata": {},
   "outputs": [
    {
     "data": {
      "text/plain": [
       "b'|\\x00d\\x01k\\x04r\\x1ct\\x00d\\x02|\\x00\\x83\\x02\\x01\\x00|\\x00d\\x038\\x00}\\x00q\\x00t\\x00d\\x04\\x83\\x01\\x01\\x00d\\x00S\\x00'"
      ]
     },
     "execution_count": 163,
     "metadata": {},
     "output_type": "execute_result"
    }
   ],
   "source": [
    "# dix()函数解析的原始字节码\n",
    "countdown.__code__.co_code"
   ]
  },
  {
   "cell_type": "code",
   "execution_count": 164,
   "id": "542075f3-414f-478b-b3f6-df7f5f4337ea",
   "metadata": {},
   "outputs": [],
   "source": [
    "c = countdown.__code__.co_code"
   ]
  },
  {
   "cell_type": "code",
   "execution_count": 168,
   "id": "96b24421-9867-470c-aafe-c2bdc081f1af",
   "metadata": {},
   "outputs": [
    {
     "data": {
      "text/plain": [
       "('LOAD_FAST', '<0>', 'LOAD_CONST')"
      ]
     },
     "execution_count": 168,
     "metadata": {},
     "output_type": "execute_result"
    }
   ],
   "source": [
    "import opcode\n",
    "opcode.opname[c[0]],opcode.opname[c[1]],opcode.opname[c[2]]"
   ]
  },
  {
   "cell_type": "markdown",
   "id": "b10169e1-b1c5-445e-bcc2-d12b7fc415f8",
   "metadata": {},
   "source": [
    "## 将原始字节码序列转换成`opcodes`和参数"
   ]
  },
  {
   "cell_type": "code",
   "execution_count": 171,
   "id": "93422e45-77e9-4fdb-aaf9-05590ec959c4",
   "metadata": {},
   "outputs": [],
   "source": [
    "import opcode\n",
    "\n",
    "def generate_opcodes(codebytes):\n",
    "    extended_arg = 0\n",
    "    i = 0\n",
    "    n = len(codebytes)\n",
    "    while i < n:\n",
    "        op = codebytes[i]\n",
    "        i += 1\n",
    "        if op >= opcode.HAVE_ARGUMENT:\n",
    "            oparg = codebytes[i] + codebytes[i+1]*256 + extended_arg\n",
    "            extended_arg = 0\n",
    "            i += 2\n",
    "            if op == opcode.EXTENDED_ARG:\n",
    "                extended_arg = oparg * 65536\n",
    "                continue\n",
    "        else:\n",
    "            oparg = None\n",
    "        yield (op, oparg)"
   ]
  },
  {
   "cell_type": "code",
   "execution_count": 178,
   "id": "b2265a34-d63b-46bf-85b5-4e017cdcd2b5",
   "metadata": {},
   "outputs": [
    {
     "name": "stdout",
     "output_type": "stream",
     "text": [
      "124 LOAD_FAST 25600\n",
      "1 POP_TOP None\n",
      "107 COMPARE_OP 29188\n",
      "28 INPLACE_FLOOR_DIVIDE None\n",
      "116 LOAD_GLOBAL 25600\n",
      "2 ROT_TWO None\n",
      "124 LOAD_FAST 33536\n",
      "2 ROT_TWO None\n",
      "1 POP_TOP None\n",
      "0 <0> None\n",
      "124 LOAD_FAST 25600\n",
      "3 ROT_THREE None\n",
      "56 INPLACE_SUBTRACT None\n",
      "0 <0> None\n",
      "125 STORE_FAST 28928\n",
      "0 <0> None\n",
      "116 LOAD_GLOBAL 25600\n",
      "4 DUP_TOP None\n",
      "131 CALL_FUNCTION 257\n",
      "0 <0> None\n",
      "100 LOAD_CONST 21248\n",
      "0 <0> None\n"
     ]
    }
   ],
   "source": [
    "for op, oparg in generate_opcodes(countdown.__code__.co_code):\n",
    "    print(op, opcode.opname[op], oparg)"
   ]
  },
  {
   "cell_type": "code",
   "execution_count": null,
   "id": "7537fb65-5747-4a01-ba4f-7ac864fbdfcb",
   "metadata": {},
   "outputs": [],
   "source": []
  }
 ],
 "metadata": {
  "kernelspec": {
   "display_name": "Python 3 (ipykernel)",
   "language": "python",
   "name": "python3"
  },
  "language_info": {
   "codemirror_mode": {
    "name": "ipython",
    "version": 3
   },
   "file_extension": ".py",
   "mimetype": "text/x-python",
   "name": "python",
   "nbconvert_exporter": "python",
   "pygments_lexer": "ipython3",
   "version": "3.8.10"
  },
  "toc-showmarkdowntxt": false
 },
 "nbformat": 4,
 "nbformat_minor": 5
}
