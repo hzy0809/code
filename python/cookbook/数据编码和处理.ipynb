{
 "cells": [
  {
   "cell_type": "markdown",
   "id": "cb62b14d-922b-413f-b04f-6b1ea8e4145e",
   "metadata": {},
   "source": [
    "+ 读取csv数据"
   ]
  },
  {
   "cell_type": "code",
   "execution_count": 11,
   "id": "2f05a5a2-1ab0-4687-b1cd-97862761913d",
   "metadata": {},
   "outputs": [
    {
     "name": "stdout",
     "output_type": "stream",
     "text": [
      "['Symbol', 'Price', 'Date', 'Time', 'Change', 'Volume']\n",
      "['AA', '39.48', '6/11/2007', '9:36am', '-0.18', '181800']\n",
      "['AIG', '71.38', '6/11/2007', '9:36am', '-0.15', '195500']\n",
      "['AXP', '62.58', '6/11/2007', '9:36am', '-0.46', '935000']\n",
      "['BA', '98.31', '6/11/2007', '9:36am', '+0.12', '104800']\n",
      "['C', '53.08', '6/11/2007', '9:36am', '-0.25', '360900']\n",
      "['CAT', '78.29', '6/11/2007', '9:36am', '-0.23', '225400']\n"
     ]
    }
   ],
   "source": [
    "from io import StringIO\n",
    "data = \"\"\"Symbol,Price,Date,Time,Change,Volume\n",
    "\"AA\",39.48,\"6/11/2007\",\"9:36am\",-0.18,181800\n",
    "\"AIG\",71.38,\"6/11/2007\",\"9:36am\",-0.15,195500\n",
    "\"AXP\",62.58,\"6/11/2007\",\"9:36am\",-0.46,935000\n",
    "\"BA\",98.31,\"6/11/2007\",\"9:36am\",+0.12,104800\n",
    "\"C\",53.08,\"6/11/2007\",\"9:36am\",-0.25,360900\n",
    "\"CAT\",78.29,\"6/11/2007\",\"9:36am\",-0.23,225400\"\"\"\n",
    "f = StringIO(data)\n",
    "import csv\n",
    "f_csv = csv.reader(f)\n",
    "headers = next(f_csv)\n",
    "print(headers)\n",
    "for r in f_csv:\n",
    "    print(r)\n",
    "f.close()"
   ]
  },
  {
   "cell_type": "code",
   "execution_count": 10,
   "id": "203a9210-3edd-4ee8-817b-e1cd1eba85c6",
   "metadata": {},
   "outputs": [
    {
     "name": "stdout",
     "output_type": "stream",
     "text": [
      "Row(Symbol='AA', Price='39.48', Date='6/11/2007', Time='9:36am', Change='-0.18', Volume='181800')\n",
      "Row(Symbol='AIG', Price='71.38', Date='6/11/2007', Time='9:36am', Change='-0.15', Volume='195500')\n",
      "Row(Symbol='AXP', Price='62.58', Date='6/11/2007', Time='9:36am', Change='-0.46', Volume='935000')\n",
      "Row(Symbol='BA', Price='98.31', Date='6/11/2007', Time='9:36am', Change='+0.12', Volume='104800')\n",
      "Row(Symbol='C', Price='53.08', Date='6/11/2007', Time='9:36am', Change='-0.25', Volume='360900')\n",
      "Row(Symbol='CAT', Price='78.29', Date='6/11/2007', Time='9:36am', Change='-0.23', Volume='225400')\n"
     ]
    }
   ],
   "source": [
    "from collections import namedtuple\n",
    "f = StringIO(data)\n",
    "f_csv = csv.reader(f)\n",
    "headers = next(f_csv)\n",
    "Row = namedtuple('Row',headers)\n",
    "for r in f_csv:\n",
    "    row = Row(*r)\n",
    "    print(row)\n",
    "f.close()"
   ]
  },
  {
   "cell_type": "code",
   "execution_count": 9,
   "id": "ce6da5eb-3233-4ddb-830f-b195d4317895",
   "metadata": {},
   "outputs": [
    {
     "name": "stdout",
     "output_type": "stream",
     "text": [
      "{'Symbol': 'AA', 'Price': '39.48', 'Date': '6/11/2007', 'Time': '9:36am', 'Change': '-0.18', 'Volume': '181800'}\n",
      "{'Symbol': 'AIG', 'Price': '71.38', 'Date': '6/11/2007', 'Time': '9:36am', 'Change': '-0.15', 'Volume': '195500'}\n",
      "{'Symbol': 'AXP', 'Price': '62.58', 'Date': '6/11/2007', 'Time': '9:36am', 'Change': '-0.46', 'Volume': '935000'}\n",
      "{'Symbol': 'BA', 'Price': '98.31', 'Date': '6/11/2007', 'Time': '9:36am', 'Change': '+0.12', 'Volume': '104800'}\n",
      "{'Symbol': 'C', 'Price': '53.08', 'Date': '6/11/2007', 'Time': '9:36am', 'Change': '-0.25', 'Volume': '360900'}\n",
      "{'Symbol': 'CAT', 'Price': '78.29', 'Date': '6/11/2007', 'Time': '9:36am', 'Change': '-0.23', 'Volume': '225400'}\n"
     ]
    }
   ],
   "source": [
    "f = StringIO(data)\n",
    "f_csv = csv.DictReader(f)\n",
    "for row in f_csv:\n",
    "    print(row)\n",
    "f.close()"
   ]
  },
  {
   "cell_type": "markdown",
   "id": "836206d6-c0bf-4789-8185-cf296e4d5932",
   "metadata": {},
   "source": [
    "+ 写入csv数据"
   ]
  },
  {
   "cell_type": "code",
   "execution_count": 12,
   "id": "58742a64-2441-47ee-a12f-6b448a306e68",
   "metadata": {},
   "outputs": [],
   "source": [
    "headers = ['Symbol','Price','Date','Time','Change','Volume']\n",
    "rows = [('AA', 39.48, '6/11/2007', '9:36am', -0.18, 181800),\n",
    "         ('AIG', 71.38, '6/11/2007', '9:36am', -0.15, 195500),\n",
    "         ('AXP', 62.58, '6/11/2007', '9:36am', -0.46, 935000),\n",
    "       ]\n",
    "\n",
    "with StringIO() as f:\n",
    "    f_csv = csv.writer(f)\n",
    "    f_csv.writerow(headers)\n",
    "    f_csv.writerows(rows)"
   ]
  },
  {
   "cell_type": "code",
   "execution_count": 13,
   "id": "ae182342-02f7-4597-89eb-0da79e91a6df",
   "metadata": {},
   "outputs": [],
   "source": [
    "headers = ['Symbol', 'Price', 'Date', 'Time', 'Change', 'Volume']\n",
    "rows = [{'Symbol':'AA', 'Price':39.48, 'Date':'6/11/2007',\n",
    "        'Time':'9:36am', 'Change':-0.18, 'Volume':181800},\n",
    "        {'Symbol':'AIG', 'Price': 71.38, 'Date':'6/11/2007',\n",
    "        'Time':'9:36am', 'Change':-0.15, 'Volume': 195500},\n",
    "        {'Symbol':'AXP', 'Price': 62.58, 'Date':'6/11/2007',\n",
    "        'Time':'9:36am', 'Change':-0.46, 'Volume': 935000},\n",
    "        ]\n",
    "\n",
    "with StringIO() as f:\n",
    "    f_csv = csv.DictWriter(f, headers)\n",
    "    f_csv.writeheader()\n",
    "    f_csv.writerows(rows)"
   ]
  },
  {
   "cell_type": "markdown",
   "id": "d8915672-e4b4-4625-bf42-11e6d59f3a98",
   "metadata": {},
   "source": [
    "+ 读写json数据"
   ]
  },
  {
   "cell_type": "code",
   "execution_count": 15,
   "id": "0aef96bb-dc72-4217-9493-49b893dac122",
   "metadata": {},
   "outputs": [
    {
     "data": {
      "text/plain": [
       "('{\"name\": \"ACME\", \"shares\": 100, \"price\": 542.23}',\n",
       " {'name': 'ACME', 'shares': 100, 'price': 542.23})"
      ]
     },
     "execution_count": 15,
     "metadata": {},
     "output_type": "execute_result"
    }
   ],
   "source": [
    "import json\n",
    "data = {\n",
    "    'name' : 'ACME',\n",
    "    'shares' : 100,\n",
    "    'price' : 542.23\n",
    "}\n",
    "json_srt = json.dumps(data)\n",
    "data = json.loads(json_srt)\n",
    "json_srt,data"
   ]
  },
  {
   "cell_type": "code",
   "execution_count": 16,
   "id": "194b645a-2de1-469f-842e-28496e2d6dd5",
   "metadata": {},
   "outputs": [
    {
     "data": {
      "text/plain": [
       "{'name': 'ACME', 'shares': 100, 'price': 542.23}"
      ]
     },
     "execution_count": 16,
     "metadata": {},
     "output_type": "execute_result"
    }
   ],
   "source": [
    "from io import StringIO\n",
    "# Writing JSON data\n",
    "with StringIO() as f:\n",
    "    json.dump(data, f)\n",
    "\n",
    "# Reading data back\n",
    "with StringIO('{\"name\": \"ACME\", \"shares\": 100, \"price\": 542.23}') as f:\n",
    "    data = json.load(f)\n",
    "data"
   ]
  },
  {
   "cell_type": "code",
   "execution_count": 18,
   "id": "51eb439d-8fc8-43d7-891c-fd4540d7e910",
   "metadata": {},
   "outputs": [
    {
     "name": "stdout",
     "output_type": "stream",
     "text": [
      "{'name': 'ACME', 'price': 542.23, 'shares': 100}\n"
     ]
    }
   ],
   "source": [
    "from pprint import pprint\n",
    "pprint(data)"
   ]
  },
  {
   "cell_type": "code",
   "execution_count": 19,
   "id": "07e2ef1d-673e-4d24-93cb-7f022c927a66",
   "metadata": {},
   "outputs": [
    {
     "name": "stdout",
     "output_type": "stream",
     "text": [
      "{\n",
      "    \"name\": \"ACME\",\n",
      "    \"shares\": 100,\n",
      "    \"price\": 542.23\n",
      "}\n"
     ]
    }
   ],
   "source": [
    "print(json.dumps(data,indent=4))"
   ]
  },
  {
   "cell_type": "markdown",
   "id": "69ebcd8a-0815-4b96-bfe8-8423fb81c010",
   "metadata": {},
   "source": [
    "+ 解析xml数据"
   ]
  },
  {
   "cell_type": "markdown",
   "id": "027ce915-8f23-4c74-8f5a-4af5c58eb548",
   "metadata": {},
   "source": [
    "```python\n",
    "from urllib.request import urlopen\n",
    "from xml.etree.ElementTree import parse\n",
    "\n",
    "# Download the RSS feed and parse it\n",
    "u = urlopen('http://planet.python.org/rss20.xml')\n",
    "doc = parse(u)\n",
    "\n",
    "# Extract and output tags of interest\n",
    "for item in doc.iterfind('channel/item'):\n",
    "    title = item.findtext('title')\n",
    "    date = item.findtext('pubDate')\n",
    "    link = item.findtext('link')\n",
    "\n",
    "    print(title)\n",
    "    print(date)\n",
    "    print(link)\n",
    "    print()\n",
    "```"
   ]
  },
  {
   "cell_type": "markdown",
   "id": "2612df9e-abef-4832-a788-137b9766df3b",
   "metadata": {},
   "source": [
    "+ 增量式解析大型XML文件"
   ]
  },
  {
   "cell_type": "code",
   "execution_count": 1,
   "id": "4ccb85bc-92fe-4574-aaf5-2c14982d30af",
   "metadata": {},
   "outputs": [],
   "source": [
    "from xml.etree.ElementTree import iterparse\n",
    "\n",
    "def parse_and_remove(filename, path):\n",
    "    path_parts = path.split('/')\n",
    "    doc = iterparse(filename, ('start', 'end'))\n",
    "    # Skip the root element\n",
    "    next(doc)\n",
    "\n",
    "    tag_stack = []\n",
    "    elem_stack = []\n",
    "    for event, elem in doc:\n",
    "        if event == 'start':\n",
    "            tag_stack.append(elem.tag)\n",
    "            elem_stack.append(elem)\n",
    "        elif event == 'end':\n",
    "            if tag_stack == path_parts:\n",
    "                yield elem\n",
    "                elem_stack[-2].remove(elem)\n",
    "            try:\n",
    "                tag_stack.pop()\n",
    "                elem_stack.pop()\n",
    "            except IndexError:\n",
    "                pass"
   ]
  },
  {
   "cell_type": "code",
   "execution_count": 7,
   "id": "d1d0c15c-4fc1-4fec-9374-881be00b6720",
   "metadata": {},
   "outputs": [],
   "source": [
    "from io import StringIO\n",
    "file = StringIO(\"\"\"<response>\n",
    "    <row>\n",
    "        <row>\n",
    "            <creation_date>2012-11-18T00:00:00</creation_date>\n",
    "            <status>Completed</status>\n",
    "            <completion_date>2012-11-18T00:00:00</completion_date>\n",
    "            <service_request_number>12-01906549</service_request_number>\n",
    "            <type_of_service_request>Pot Hole in Street</type_of_service_request>\n",
    "            <current_activity>Final Outcome</current_activity>\n",
    "            <most_recent_action>CDOT Street Cut ... Outcome</most_recent_action>\n",
    "            <street_address>4714 S TALMAN AVE</street_address>\n",
    "            <zip>60632</zip>\n",
    "            <x_coordinate>1159494.68618856</x_coordinate>\n",
    "            <y_coordinate>1873313.83503384</y_coordinate>\n",
    "            <ward>14</ward>\n",
    "            <police_district>9</police_district>\n",
    "            <community_area>58</community_area>\n",
    "            <latitude>41.808090232127896</latitude>\n",
    "            <longitude>-87.69053684711305</longitude>\n",
    "            <location latitude=\"41.808090232127896\"\n",
    "            longitude=\"-87.69053684711305\" />\n",
    "        </row>\n",
    "        <row>\n",
    "            <creation_date>2012-11-18T00:00:00</creation_date>\n",
    "            <status>Completed</status>\n",
    "            <completion_date>2012-11-18T00:00:00</completion_date>\n",
    "            <service_request_number>12-01906695</service_request_number>\n",
    "            <type_of_service_request>Pot Hole in Street</type_of_service_request>\n",
    "            <current_activity>Final Outcome</current_activity>\n",
    "            <most_recent_action>CDOT Street Cut ... Outcome</most_recent_action>\n",
    "            <street_address>3510 W NORTH AVE</street_address>\n",
    "            <zip>60647</zip>\n",
    "            <x_coordinate>1152732.14127696</x_coordinate>\n",
    "            <y_coordinate>1910409.38979075</y_coordinate>\n",
    "            <ward>26</ward>\n",
    "            <police_district>14</police_district>\n",
    "            <community_area>23</community_area>\n",
    "            <latitude>41.91002084292946</latitude>\n",
    "            <longitude>-87.71435952353961</longitude>\n",
    "            <location latitude=\"41.91002084292946\"\n",
    "            longitude=\"-87.71435952353961\" />\n",
    "        </row>\n",
    "    </row>\n",
    "</response>\"\"\")"
   ]
  },
  {
   "cell_type": "code",
   "execution_count": 8,
   "id": "b76fd61f-1e3e-4f5f-a6d5-6df6ab8dd16e",
   "metadata": {},
   "outputs": [
    {
     "name": "stdout",
     "output_type": "stream",
     "text": [
      "60632 1\n",
      "60647 1\n"
     ]
    }
   ],
   "source": [
    "from collections import Counter\n",
    "\n",
    "potholes_by_zip = Counter()\n",
    "\n",
    "data = parse_and_remove(file, 'row/row')\n",
    "for pothole in data:\n",
    "    potholes_by_zip[pothole.findtext('zip')] += 1\n",
    "for zipcode, num in potholes_by_zip.most_common():\n",
    "    print(zipcode, num)"
   ]
  },
  {
   "cell_type": "markdown",
   "id": "0cae7d16-ac5c-467a-908c-f7e2abbbc621",
   "metadata": {},
   "source": [
    "+ 将字典转换为XML"
   ]
  },
  {
   "cell_type": "code",
   "execution_count": 2,
   "id": "592f9369-03b1-4f3a-9f40-a069f1c2de3e",
   "metadata": {},
   "outputs": [],
   "source": [
    "from xml.etree.ElementTree import Element\n",
    "def dict_to_xml(tag,d):\n",
    "    elem = Element(tag)\n",
    "    for key,val in d.items():\n",
    "        child = Element(key)\n",
    "        child.text = str(val)\n",
    "        elem.append(child)\n",
    "    return elem"
   ]
  },
  {
   "cell_type": "code",
   "execution_count": 4,
   "id": "e7f1ebc2-2cd6-4672-8561-4aae42f5346c",
   "metadata": {},
   "outputs": [
    {
     "data": {
      "text/plain": [
       "<Element 'stock' at 0x7f9befbc6090>"
      ]
     },
     "execution_count": 4,
     "metadata": {},
     "output_type": "execute_result"
    }
   ],
   "source": [
    "s = { 'name': 'GOOG', 'shares': 100, 'price':490.1 }\n",
    "e = dict_to_xml('stock',s)\n",
    "e"
   ]
  },
  {
   "cell_type": "code",
   "execution_count": 5,
   "id": "a820a05a-cb82-438e-90bb-de0241697431",
   "metadata": {},
   "outputs": [
    {
     "data": {
      "text/plain": [
       "b'<stock><name>GOOG</name><shares>100</shares><price>490.1</price></stock>'"
      ]
     },
     "execution_count": 5,
     "metadata": {},
     "output_type": "execute_result"
    }
   ],
   "source": [
    "from xml.etree.ElementTree import tostring\n",
    "tostring(e)"
   ]
  },
  {
   "cell_type": "markdown",
   "id": "21f4eaf4-4464-455d-b430-b0dbe421c5ed",
   "metadata": {},
   "source": [
    "+ 解析和修改XML"
   ]
  },
  {
   "cell_type": "code",
   "execution_count": 10,
   "id": "13c34895-b384-45e1-8f37-27b6b881cf52",
   "metadata": {},
   "outputs": [],
   "source": [
    "s = \"\"\"<?xml version=\"1.0\"?>\n",
    "<stop>\n",
    "    <id>14791</id>\n",
    "    <nm>Clark &amp; Balmoral</nm>\n",
    "    <sri>\n",
    "        <rt>22</rt>\n",
    "        <d>North Bound</d>\n",
    "        <dd>North Bound</dd>\n",
    "    </sri>\n",
    "    <cr>22</cr>\n",
    "    <pre>\n",
    "        <pt>5 MIN</pt>\n",
    "        <fd>Howard</fd>\n",
    "        <v>1378</v>\n",
    "        <rn>22</rn>\n",
    "    </pre>\n",
    "    <pre>\n",
    "        <pt>15 MIN</pt>\n",
    "        <fd>Howard</fd>\n",
    "        <v>1867</v>\n",
    "        <rn>22</rn>\n",
    "    </pre>\n",
    "</stop>\n",
    "\"\"\"\n",
    "from io import StringIO\n",
    "f = StringIO(s)"
   ]
  },
  {
   "cell_type": "code",
   "execution_count": 11,
   "id": "d2671d21-fcb4-4825-9b6e-fe5a50365de3",
   "metadata": {},
   "outputs": [
    {
     "data": {
      "text/plain": [
       "<Element 'stop' at 0x7f9bf06cd0e0>"
      ]
     },
     "execution_count": 11,
     "metadata": {},
     "output_type": "execute_result"
    }
   ],
   "source": [
    "from xml.etree.ElementTree import parse,Element\n",
    "doc = parse(f)\n",
    "root = doc.getroot()\n",
    "root"
   ]
  },
  {
   "cell_type": "code",
   "execution_count": 16,
   "id": "418472a7-d025-49ea-8fd2-d802c4ff9b1f",
   "metadata": {},
   "outputs": [
    {
     "data": {
      "text/plain": [
       "<Element 'pre' at 0x7f9bf0517860>"
      ]
     },
     "execution_count": 16,
     "metadata": {},
     "output_type": "execute_result"
    }
   ],
   "source": [
    "root.find('pre')"
   ]
  },
  {
   "cell_type": "code",
   "execution_count": 17,
   "id": "6ccdc6b8-2911-4400-b980-8e4431866ac0",
   "metadata": {},
   "outputs": [],
   "source": [
    "root.remove(root.find('pre'))"
   ]
  },
  {
   "cell_type": "code",
   "execution_count": 18,
   "id": "092e96d4-2ff5-4973-9559-a260cd8f8d48",
   "metadata": {},
   "outputs": [
    {
     "data": {
      "text/plain": [
       "<Element 'pre' at 0x7f9bf05179f0>"
      ]
     },
     "execution_count": 18,
     "metadata": {},
     "output_type": "execute_result"
    }
   ],
   "source": [
    "root.find('pre')"
   ]
  },
  {
   "cell_type": "code",
   "execution_count": 19,
   "id": "4db42cb5-d393-4ac0-92e0-0a4b36fdfd31",
   "metadata": {},
   "outputs": [],
   "source": [
    "root.remove(root.find('pre'))"
   ]
  },
  {
   "cell_type": "code",
   "execution_count": 20,
   "id": "8c4aae64-0a3d-43d6-bb2c-46f2efbae9fb",
   "metadata": {},
   "outputs": [],
   "source": [
    "root.find('pre')"
   ]
  },
  {
   "cell_type": "code",
   "execution_count": 21,
   "id": "f6d6319f-f160-4d46-bf60-c9b01e6b1428",
   "metadata": {},
   "outputs": [
    {
     "name": "stderr",
     "output_type": "stream",
     "text": [
      "/var/folders/g6/h24w2cnn0bzbzz1dc4v4fplm0000gn/T/ipykernel_1971/64001446.py:1: DeprecationWarning: This method will be removed in future versions.  Use 'list(elem)' or iteration over elem instead.\n",
      "  root.getchildren()\n"
     ]
    },
    {
     "data": {
      "text/plain": [
       "[<Element 'id' at 0x7f9bf06cd9a0>,\n",
       " <Element 'nm' at 0x7f9bf0517680>,\n",
       " <Element 'sri' at 0x7f9bf05176d0>,\n",
       " <Element 'cr' at 0x7f9bf0517810>]"
      ]
     },
     "execution_count": 21,
     "metadata": {},
     "output_type": "execute_result"
    }
   ],
   "source": [
    "root.getchildren()"
   ]
  },
  {
   "cell_type": "code",
   "execution_count": 16,
   "id": "33b4e704-6904-4f6b-907e-e7f9b2927675",
   "metadata": {},
   "outputs": [],
   "source": [
    "from io import StringIO\n",
    "from xml.etree.ElementTree import parse,Element\n",
    "s = \"\"\"<?xml version=\"1.0\" encoding=\"utf-8\"?>\n",
    "<top>\n",
    "    <author>David Beazley</author>\n",
    "    <content>\n",
    "        <html xmlns=\"http://www.w3.org/1999/xhtml\">\n",
    "            <head>\n",
    "                <title>Hello World</title>\n",
    "            </head>\n",
    "            <body>\n",
    "                <h1>Hello World!</h1>\n",
    "            </body>\n",
    "        </html>\n",
    "    </content>\n",
    "</top>\"\"\"\n",
    "f = StringIO(s)\n",
    "doc = parse(f)\n",
    "root = doc.getroot()"
   ]
  },
  {
   "cell_type": "code",
   "execution_count": 2,
   "id": "9e5f2d05-23e3-4fa6-862c-c48760435443",
   "metadata": {},
   "outputs": [
    {
     "data": {
      "text/plain": [
       "'David Beazley'"
      ]
     },
     "execution_count": 2,
     "metadata": {},
     "output_type": "execute_result"
    }
   ],
   "source": [
    "root.findtext('author')"
   ]
  },
  {
   "cell_type": "code",
   "execution_count": 3,
   "id": "b360b34a-494c-4646-8a78-8828c3d3d4bc",
   "metadata": {},
   "outputs": [
    {
     "data": {
      "text/plain": [
       "<Element 'content' at 0x7fcb7dfdfdb0>"
      ]
     },
     "execution_count": 3,
     "metadata": {},
     "output_type": "execute_result"
    }
   ],
   "source": [
    "root.find('content')"
   ]
  },
  {
   "cell_type": "code",
   "execution_count": 4,
   "id": "4e10f553-3fcf-4734-9c55-c7274c3b4cbd",
   "metadata": {},
   "outputs": [],
   "source": [
    "root.find('content/html')"
   ]
  },
  {
   "cell_type": "code",
   "execution_count": 5,
   "id": "9ab32419-1986-4bb8-9d4b-630b56f0bbb5",
   "metadata": {},
   "outputs": [
    {
     "data": {
      "text/plain": [
       "<Element '{http://www.w3.org/1999/xhtml}html' at 0x7fcb7d438cc0>"
      ]
     },
     "execution_count": 5,
     "metadata": {},
     "output_type": "execute_result"
    }
   ],
   "source": [
    "root.find('content/{http://www.w3.org/1999/xhtml}html')"
   ]
  },
  {
   "cell_type": "code",
   "execution_count": 6,
   "id": "8fcc9803-3d36-4729-bfee-eec7c89c8402",
   "metadata": {},
   "outputs": [],
   "source": [
    "doc.findtext('content/{http://www.w3.org/1999/xhtml}html/head/title')"
   ]
  },
  {
   "cell_type": "code",
   "execution_count": 7,
   "id": "6fda40eb-eabd-449b-b871-d76c65dbce27",
   "metadata": {},
   "outputs": [
    {
     "data": {
      "text/plain": [
       "'Hello World'"
      ]
     },
     "execution_count": 7,
     "metadata": {},
     "output_type": "execute_result"
    }
   ],
   "source": [
    "doc.findtext('content/{http://www.w3.org/1999/xhtml}html/{http://www.w3.org/1999/xhtml}head/{http://www.w3.org/1999/xhtml}title')"
   ]
  },
  {
   "cell_type": "code",
   "execution_count": 15,
   "id": "13a61d2b-9dba-4e5c-9346-6c95a3f8ad1a",
   "metadata": {},
   "outputs": [
    {
     "name": "stdout",
     "output_type": "stream",
     "text": [
      "end <Element 'author' at 0x7fcb7dfadd60>\n",
      "start-ns ('', 'http://www.w3.org/1999/xhtml')\n",
      "end <Element '{http://www.w3.org/1999/xhtml}title' at 0x7fcb7df9e090>\n",
      "end <Element '{http://www.w3.org/1999/xhtml}head' at 0x7fcb7dfadf40>\n",
      "end <Element '{http://www.w3.org/1999/xhtml}h1' at 0x7fcb7df9e1d0>\n",
      "end <Element '{http://www.w3.org/1999/xhtml}body' at 0x7fcb7df9e130>\n",
      "end <Element '{http://www.w3.org/1999/xhtml}html' at 0x7fcb7dfadea0>\n",
      "end-ns None\n",
      "end <Element 'content' at 0x7fcb7dfaddb0>\n",
      "end <Element 'top' at 0x7fcb7dfadd10>\n"
     ]
    }
   ],
   "source": [
    "from xml.etree.ElementTree import iterparse\n",
    "f = StringIO(s)\n",
    "for evt, elem in iterparse(f, ('end', 'start-ns', 'end-ns')):\n",
    "    print(evt, elem)"
   ]
  },
  {
   "cell_type": "markdown",
   "id": "6bd23d4c-062b-4ddd-b099-203d6ee2e32f",
   "metadata": {},
   "source": [
    "# 编码和解码十六进制数"
   ]
  },
  {
   "cell_type": "code",
   "execution_count": 17,
   "id": "d8247db5-a7c3-42cb-9b9f-8747e56ef7e6",
   "metadata": {},
   "outputs": [
    {
     "data": {
      "text/plain": [
       "b'68656c6c6f'"
      ]
     },
     "execution_count": 17,
     "metadata": {},
     "output_type": "execute_result"
    }
   ],
   "source": [
    "s = b'hello'\n",
    "import binascii\n",
    "h = binascii.b2a_hex(s)\n",
    "h"
   ]
  },
  {
   "cell_type": "code",
   "execution_count": 18,
   "id": "845fc421-2d61-4454-88fe-2bf1c126d2d9",
   "metadata": {},
   "outputs": [
    {
     "data": {
      "text/plain": [
       "b'hello'"
      ]
     },
     "execution_count": 18,
     "metadata": {},
     "output_type": "execute_result"
    }
   ],
   "source": [
    "binascii.a2b_hex(h)"
   ]
  },
  {
   "cell_type": "code",
   "execution_count": 19,
   "id": "545f3be5-c150-428e-87ac-775448090812",
   "metadata": {},
   "outputs": [
    {
     "data": {
      "text/plain": [
       "b'68656C6C6F'"
      ]
     },
     "execution_count": 19,
     "metadata": {},
     "output_type": "execute_result"
    }
   ],
   "source": [
    "import base64\n",
    "h = base64.b16encode(s)\n",
    "h"
   ]
  },
  {
   "cell_type": "code",
   "execution_count": 20,
   "id": "1956ca9d-84a6-41c0-a0a1-b6ce86ee476c",
   "metadata": {},
   "outputs": [
    {
     "data": {
      "text/plain": [
       "b'hello'"
      ]
     },
     "execution_count": 20,
     "metadata": {},
     "output_type": "execute_result"
    }
   ],
   "source": [
    "base64.b16decode(h)"
   ]
  },
  {
   "cell_type": "code",
   "execution_count": 22,
   "id": "08cc2cd7-ac79-4908-8bda-65267f198a32",
   "metadata": {},
   "outputs": [
    {
     "name": "stdout",
     "output_type": "stream",
     "text": [
      "b'68656C6C6F'\n",
      "68656C6C6F\n"
     ]
    }
   ],
   "source": [
    "h = base64.b16encode(s)\n",
    "print(h)\n",
    "print(h.decode('ascii'))"
   ]
  },
  {
   "cell_type": "code",
   "execution_count": 23,
   "id": "7d0a5ca2-7374-49e0-90d2-274ad588b39d",
   "metadata": {},
   "outputs": [
    {
     "name": "stdout",
     "output_type": "stream",
     "text": [
      "b'aGVsbG8='\n"
     ]
    },
    {
     "data": {
      "text/plain": [
       "b'hello'"
      ]
     },
     "execution_count": 23,
     "metadata": {},
     "output_type": "execute_result"
    }
   ],
   "source": [
    "s = b'hello'\n",
    "import base64\n",
    "a = base64.b64encode(s)\n",
    "print(a)\n",
    "base64.b64decode(a)"
   ]
  },
  {
   "cell_type": "markdown",
   "id": "63c22196-3b56-4ee6-877a-4562053cd553",
   "metadata": {},
   "source": [
    "# 读写二进制数组数据"
   ]
  },
  {
   "cell_type": "code",
   "execution_count": 36,
   "id": "a3ce050c-aa82-4a76-b29b-5c8c743e6d11",
   "metadata": {},
   "outputs": [
    {
     "data": {
      "text/plain": [
       "<_io.BytesIO at 0x7fcb7e1e2860>"
      ]
     },
     "execution_count": 36,
     "metadata": {},
     "output_type": "execute_result"
    }
   ],
   "source": [
    "from struct import Struct\n",
    "def write_records(records,_format,f):\n",
    "    record_struct = Struct(_format)\n",
    "    for r in records:\n",
    "        f.write(record_struct.pack(*r))\n",
    "records = [ (1, 2.3, 4.5),\n",
    "            (6, 7.8, 9.0),\n",
    "            (12, 13.4, 56.7) ]\n",
    "\n",
    "from io import BytesIO\n",
    "s = BytesIO()\n",
    "write_records(records,'<idd',s)\n",
    "s"
   ]
  },
  {
   "cell_type": "code",
   "execution_count": 40,
   "id": "a058190e-eb15-4778-a354-3d323db5e690",
   "metadata": {},
   "outputs": [
    {
     "name": "stdout",
     "output_type": "stream",
     "text": [
      "(1, 2.3, 4.5)\n",
      "(6, 7.8, 9.0)\n",
      "(12, 13.4, 56.7)\n",
      "(1, 2.3, 4.5)\n",
      "(6, 7.8, 9.0)\n",
      "(12, 13.4, 56.7)\n",
      "(1, 2.3, 4.5)\n"
     ]
    }
   ],
   "source": [
    "s.seek(0)\n",
    "def read_records(_format,f):\n",
    "    record_struct = Struct(_format)\n",
    "    chunks = iter(lambda:f.read(record_struct.size),b'')\n",
    "    return (record_struct.unpack(chunk) for chunk in chunks)\n",
    "for rec in read_records('<idd',s):\n",
    "    print(rec)\n",
    "s.seek(0)\n",
    "\n",
    "def unpack_records(format, data):\n",
    "    record_struct = Struct(format)\n",
    "    return (record_struct.unpack_from(data, offset)\n",
    "            for offset in range(0, len(data), record_struct.size))\n",
    "data = s.read()\n",
    "for rec in unpack_records('<idd',data):\n",
    "    print(rec)\n",
    "s.seek(0)\n",
    "record_struct = Struct('<idd')\n",
    "data = s.read(record_struct.size)\n",
    "print(record_struct.unpack(data))"
   ]
  },
  {
   "cell_type": "markdown",
   "id": "c9aa9ebf-8ad8-4842-8ae1-356b171707ee",
   "metadata": {},
   "source": [
    "# 数据的累加和统计操作"
   ]
  },
  {
   "cell_type": "code",
   "execution_count": 41,
   "id": "859e9e1b-5047-4728-a718-29522d95731e",
   "metadata": {},
   "outputs": [],
   "source": [
    "import pandas as pd"
   ]
  },
  {
   "cell_type": "code",
   "execution_count": null,
   "id": "50f853e4-c8ab-4608-b6be-13d1bb6ba817",
   "metadata": {},
   "outputs": [],
   "source": []
  }
 ],
 "metadata": {
  "kernelspec": {
   "display_name": "Python 3 (ipykernel)",
   "language": "python",
   "name": "python3"
  },
  "language_info": {
   "codemirror_mode": {
    "name": "ipython",
    "version": 3
   },
   "file_extension": ".py",
   "mimetype": "text/x-python",
   "name": "python",
   "nbconvert_exporter": "python",
   "pygments_lexer": "ipython3",
   "version": "3.8.10"
  }
 },
 "nbformat": 4,
 "nbformat_minor": 5
}