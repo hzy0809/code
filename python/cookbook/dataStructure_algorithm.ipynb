{
 "cells": [
  {
   "cell_type": "code",
   "execution_count": 1,
   "metadata": {
    "collapsed": true
   },
   "outputs": [
    {
     "name": "stdout",
     "output_type": "stream",
     "text": [
      "deque([0], maxlen=2)\n",
      "deque([0, 1], maxlen=2)\n",
      "deque([1, 2], maxlen=2)\n",
      "deque([2, 3], maxlen=2)\n",
      "deque([3, 4], maxlen=2)\n"
     ]
    }
   ],
   "source": [
    "# 队列，两端添加和删除元素复杂度都是O(1）\n",
    "from collections import deque\n",
    "a = deque(maxlen=2)\n",
    "for i in range(5):\n",
    "    a.append(i)\n",
    "    print(a)"
   ]
  },
  {
   "cell_type": "code",
   "execution_count": 4,
   "outputs": [
    {
     "name": "stdout",
     "output_type": "stream",
     "text": [
      "[(8, 42), (9, 37), (3, 34)]\n",
      "[(5, -4), (0, 1), (2, 2)]\n",
      "[-4, 2, 1, 23, 7, 2, 18, 34, 42, 37, 8]\n",
      "-4\n",
      "[1, 2, 2, 23, 7, 8, 18, 34, 42, 37]\n"
     ]
    }
   ],
   "source": [
    "# 堆heapq模块\n",
    "import heapq\n",
    "nums = [1,8,2,34,7,-4,18,23,42,37,2]\n",
    "en_nums = list(enumerate(nums))\n",
    "print(heapq.nlargest(3,en_nums,key=lambda x:x[1]))\n",
    "print(heapq.nsmallest(3,en_nums,key=lambda x:x[1]))\n",
    "heapq.heapify(nums) # 堆排序\n",
    "print(nums)\n",
    "print(heapq.heappop(nums))\n",
    "print(nums)"
   ],
   "metadata": {
    "collapsed": false,
    "pycharm": {
     "name": "#%%\n"
    }
   }
  },
  {
   "cell_type": "markdown",
   "source": [
    "+ 查找元素比较少时`nlargest`和`nsmallest`比较合适\n",
    "+ 查找唯一元素时，`min`和`max`更快\n",
    "+ 查找元素的大小和集合大小接近的时候，`sorted(items)[:N]`和`sorted(items)[-N:]`更快"
   ],
   "metadata": {
    "collapsed": false
   }
  },
  {
   "cell_type": "code",
   "execution_count": null,
   "outputs": [],
   "source": [
    "# 优先级队列heapq"
   ],
   "metadata": {
    "collapsed": false,
    "pycharm": {
     "name": "#%%\n"
    }
   }
  }
 ],
 "metadata": {
  "kernelspec": {
   "display_name": "Python 3",
   "language": "python",
   "name": "python3"
  },
  "language_info": {
   "codemirror_mode": {
    "name": "ipython",
    "version": 2
   },
   "file_extension": ".py",
   "mimetype": "text/x-python",
   "name": "python",
   "nbconvert_exporter": "python",
   "pygments_lexer": "ipython2",
   "version": "2.7.6"
  }
 },
 "nbformat": 4,
 "nbformat_minor": 0
}