{
 "cells": [
  {
   "cell_type": "markdown",
   "id": "6a009e5f-a9ea-4099-976e-c537a5a93f6c",
   "metadata": {},
   "source": [
    "# 通过重定向/管道/文件接受输入"
   ]
  },
  {
   "cell_type": "markdown",
   "id": "e84433c7-dcbb-43eb-b981-a95f568d1b07",
   "metadata": {},
   "source": [
    "```python\n",
    "#!/usr/bin/env python3\n",
    "import fileinput\n",
    "\n",
    "with fileinput.input() as f_input:\n",
    "    for line in f_input:\n",
    "        print(line, end='')\n",
    "```"
   ]
  },
  {
   "cell_type": "markdown",
   "id": "8e4c5b30-20ce-405d-918e-792b1a737e73",
   "metadata": {},
   "source": [
    "```bash\n",
    "$ ls | ./filein.py          # Prints a directory listing to stdout.\n",
    "$ ./filein.py /etc/passwd   # Reads /etc/passwd to stdout.\n",
    "$ ./filein.py < /etc/passwd # Reads /etc/passwd to stdout.\n",
    "```"
   ]
  },
  {
   "cell_type": "markdown",
   "id": "97f8c7ae-4ffa-4978-a3fe-e70b1c55a71e",
   "metadata": {},
   "source": [
    "# 终止程序并给出错误信息"
   ]
  },
  {
   "cell_type": "markdown",
   "id": "78e06725-cfe9-421a-a259-c45b1e01c01a",
   "metadata": {},
   "source": [
    "```python\n",
    "raise SystemExit('It failed!')\n",
    "```"
   ]
  },
  {
   "cell_type": "markdown",
   "id": "71652f49-2709-4368-bf04-e2ff842eb519",
   "metadata": {},
   "source": [
    "将消息在 `sys.stderr` 中打印，然后程序以状态码`1`退出"
   ]
  },
  {
   "cell_type": "markdown",
   "id": "85093764-a52a-405b-bdac-998aaf712c0a",
   "metadata": {},
   "source": [
    "# 解析命令行选项"
   ]
  },
  {
   "cell_type": "markdown",
   "id": "7ce73787-e25a-4c4f-933f-165827992e38",
   "metadata": {},
   "source": [
    "```python\n",
    "# search.py\n",
    "'''\n",
    "Hypothetical command-line tool for searching a collection of\n",
    "files for one or more text patterns.\n",
    "'''\n",
    "import argparse\n",
    "parser = argparse.ArgumentParser(description='Search some files')\n",
    "\n",
    "parser.add_argument(dest='filenames',metavar='filename', nargs='*')\n",
    "\n",
    "# 允许某个参数重复出现多次，并将它们追加到一个列表中去。 required 标志表示该参数至少要有一个。-p 和 --pat 表示两个参数名形式都可使用。\n",
    "parser.add_argument('-p', '--pat',metavar='pattern', required=True,\n",
    "                    dest='patterns', action='append',\n",
    "                    help='text pattern to search for')\n",
    "\n",
    "# 根据参数是否存在来设置一个 Boolean 标志\n",
    "parser.add_argument('-v', dest='verbose', action='store_true',\n",
    "                    help='verbose mode')\n",
    "\n",
    "# 接受一个单独值并将其存储为一个字符串\n",
    "parser.add_argument('-o', dest='outfile', action='store',\n",
    "                    help='output file')\n",
    "\n",
    "# 接受一个值，但是会将其和可能的选择值做比较，以检测其合法性\n",
    "parser.add_argument('--speed', dest='speed', action='store',\n",
    "                    choices={'slow','fast'}, default='slow',\n",
    "                    help='search speed')\n",
    "\n",
    "args = parser.parse_args()\n",
    "\n",
    "# Output the collected arguments\n",
    "print(args.filenames)\n",
    "print(args.patterns)\n",
    "print(args.verbose)\n",
    "print(args.outfile)\n",
    "print(args.speed)\n",
    "```"
   ]
  },
  {
   "cell_type": "markdown",
   "id": "87600d4d-c835-4014-b05b-00f17c8a7cc8",
   "metadata": {},
   "source": [
    "```bash\n",
    "bash % python3 search.py -h\n",
    "usage: search.py [-h] [-p pattern] [-v] [-o OUTFILE] [--speed {slow,fast}]\n",
    "                 [filename [filename ...]]\n",
    "\n",
    "Search some files\n",
    "\n",
    "positional arguments:\n",
    "  filename\n",
    "\n",
    "optional arguments:\n",
    "  -h, --help            show this help message and exit\n",
    "  -p pattern, --pat pattern\n",
    "                        text pattern to search for\n",
    "  -v                    verbose mode\n",
    "  -o OUTFILE            output file\n",
    "  --speed {slow,fast}   search speed\n",
    "```"
   ]
  },
  {
   "cell_type": "markdown",
   "id": "3edab222-b9fc-4d50-a8d1-65337eb062dd",
   "metadata": {},
   "source": [
    "# 运行时弹出密码输入提示"
   ]
  },
  {
   "cell_type": "code",
   "execution_count": 8,
   "id": "40d5f336-10af-436a-bff2-cfe716916147",
   "metadata": {},
   "outputs": [
    {
     "name": "stdin",
     "output_type": "stream",
     "text": [
      " ··········\n"
     ]
    },
    {
     "name": "stdout",
     "output_type": "stream",
     "text": [
      "huzhenyu test!@1234\n",
      "Yay!\n"
     ]
    }
   ],
   "source": [
    "import getpass\n",
    "\n",
    "user = getpass.getuser()\n",
    "passwd = getpass.getpass()\n",
    "\n",
    "def svc_login(user,passwd):\n",
    "    print(user,passwd)\n",
    "    return True\n",
    "\n",
    "if svc_login(user, passwd):    # You must write svc_login()\n",
    "   print('Yay!')\n",
    "else:\n",
    "   print('Boo!')"
   ]
  },
  {
   "cell_type": "markdown",
   "id": "83a877aa-3966-4a0d-949e-699457718a5d",
   "metadata": {},
   "source": [
    "`getpass.getuser()` 不会弹出用户名的输入提示。 它会根据该用户的shell环境或者会依据本地系统的密码库（支持 pwd 模块的平台）来使用当前用户的登录名"
   ]
  },
  {
   "cell_type": "markdown",
   "id": "ee8280da-dff4-45c4-a46c-b39dabeab1ac",
   "metadata": {},
   "source": [
    "# 获取终端的大小"
   ]
  },
  {
   "cell_type": "markdown",
   "id": "be634caa-9b3a-4291-9c12-381dd02425ba",
   "metadata": {},
   "source": [
    "```python\n",
    ">>> import os\n",
    ">>> sz = os.get_terminal_size()\n",
    ">>> sz\n",
    "os.terminal_size(columns=138, lines=16)\n",
    ">>> sz.columns\n",
    "138\n",
    ">>> sz.lines\n",
    "16\n",
    "```"
   ]
  },
  {
   "cell_type": "markdown",
   "id": "59739c45-0bb5-41c3-a3e3-00d3c11780d3",
   "metadata": {},
   "source": [
    "# 执行外部命令并获取它的输出"
   ]
  },
  {
   "cell_type": "code",
   "execution_count": 11,
   "id": "57acad53-ea7a-4dcf-81cd-6fd4d3cbdab9",
   "metadata": {},
   "outputs": [],
   "source": [
    "import subprocess\n",
    "out_bytes = subprocess.check_output(['ls','-a'])"
   ]
  },
  {
   "cell_type": "code",
   "execution_count": 15,
   "id": "a271eb52-d9d5-4802-93ff-2b5e6d9f3280",
   "metadata": {},
   "outputs": [
    {
     "name": "stdout",
     "output_type": "stream",
     "text": [
      ".\n",
      "..\n",
      ".ipynb_checkpoints\n",
      "Metaprogramming.ipynb\n",
      "class_object.ipynb\n",
      "dataStructure_algorithm.ipynb\n",
      "express_evaluator.py\n",
      "file_io.ipynb\n",
      "function.ipynb\n",
      "module_package.ipynb\n",
      "multitask.ipynb\n",
      "network_web.ipynb\n",
      "number&date&time.ipynb\n",
      "script_system.ipynb\n",
      "str&text.ipynb\n",
      "数据编码和处理.ipynb\n",
      "\n"
     ]
    }
   ],
   "source": [
    "print(out_bytes.decode('utf-8'))"
   ]
  },
  {
   "cell_type": "markdown",
   "id": "9a28137f-5437-47e4-87e8-35568c515c6d",
   "metadata": {},
   "source": [
    "捕获到错误并获取返回\n",
    "```python\n",
    "try:\n",
    "    out_bytes = subprocess.check_output(['cmd','arg1','arg2'])\n",
    "except subprocess.CalledProcessError as e:\n",
    "    out_bytes = e.output       # Output generated before error\n",
    "    code      = e.returncode   # Return code\n",
    "```"
   ]
  },
  {
   "cell_type": "markdown",
   "id": "2c01a4ed-1c41-4ef3-918d-6054a555f871",
   "metadata": {},
   "source": [
    "默认情况下，check_output() 仅仅返回输入到标准输出的值。 如果你需要同时收集标准输出和错误输出，使用 `stderr` 参数:\n",
    "```python\n",
    "out_bytes = subprocess.check_output(['cmd','arg1','arg2'],\n",
    "                                stderr=subprocess.STDOUT)\n",
    "```"
   ]
  },
  {
   "cell_type": "markdown",
   "id": "eb12dd8a-26dc-4bb6-9da2-8a5acd532b83",
   "metadata": {},
   "source": [
    "超时机制来执行命令，使用 `timeout` 参数：\n",
    "```python\n",
    "try:\n",
    "    out_bytes = subprocess.check_output(['cmd','arg1','arg2'], timeout=5)\n",
    "except subprocess.TimeoutExpired as e:\n",
    "    ...\n",
    "```"
   ]
  },
  {
   "cell_type": "markdown",
   "id": "0531c9b3-01fd-4176-8cb1-d317f8379e43",
   "metadata": {},
   "source": [
    "让命令被一个shell执行，传递一个字符串参数，并设置参数 `shell=True`\n",
    "```python\n",
    "out_bytes = subprocess.check_output('grep python | wc > out', shell=True)\n",
    "```"
   ]
  },
  {
   "cell_type": "code",
   "execution_count": 21,
   "id": "3b5e5f5b-feab-481f-b826-406297d887d3",
   "metadata": {},
   "outputs": [],
   "source": [
    "import subprocess\n",
    "\n",
    "# Some text to send\n",
    "text = b'''\n",
    "hello world\n",
    "this is a test\n",
    "goodbye\n",
    "'''\n",
    "\n",
    "# Launch a command with pipes\n",
    "p = subprocess.Popen(['wc'],\n",
    "          stdout = subprocess.PIPE,\n",
    "          stdin = subprocess.PIPE)\n",
    "\n",
    "# Send the data and get the output\n",
    "stdout, stderr = p.communicate(text)\n",
    "\n",
    "# To interpret as text, decode\n",
    "out = stdout.decode('utf-8')\n",
    "if stderr is not None:\n",
    "    err = stderr.decode('utf-8')"
   ]
  },
  {
   "cell_type": "code",
   "execution_count": 19,
   "id": "0dc27fe0-eb34-4039-a618-6a726eef5cdc",
   "metadata": {},
   "outputs": [
    {
     "data": {
      "text/plain": [
       "'       4       7      36\\n'"
      ]
     },
     "execution_count": 19,
     "metadata": {},
     "output_type": "execute_result"
    }
   ],
   "source": [
    "out"
   ]
  },
  {
   "cell_type": "markdown",
   "id": "ea7d113d-c6bf-4e21-8e73-24a940ca5220",
   "metadata": {},
   "source": [
    "# 复制或者移动文件和目录"
   ]
  },
  {
   "cell_type": "markdown",
   "id": "30a5195c-4c0a-43ea-afc4-ce3f7b8569ac",
   "metadata": {},
   "source": [
    "```python\n",
    "import shutil\n",
    "\n",
    "# Copy src to dst. (cp src dst)\n",
    "shutil.copy(src, dst)\n",
    "\n",
    "# Copy files, but preserve metadata (cp -p src dst)\n",
    "shutil.copy2(src, dst)\n",
    "\n",
    "# Copy directory tree (cp -R src dst)\n",
    "shutil.copytree(src, dst)\n",
    "\n",
    "# Move src to dst (mv src dst)\n",
    "shutil.move(src, dst)\n",
    "```"
   ]
  },
  {
   "cell_type": "markdown",
   "id": "2a12a849-bc85-462c-893b-d9878e734f06",
   "metadata": {},
   "source": [
    "默认情况下，对于符号链接而已这些命令处理的是它指向的东西。 例如，如果源文件是一个符号链接，那么目标文件将会是符号链接指向的文件。 如果你只想复制符号链接本身，那么需要指定关键字参数 `follow_symlinks`\n",
    "```python\n",
    "shutil.copytree(src, dst, symlinks=True)\n",
    "```"
   ]
  },
  {
   "cell_type": "markdown",
   "id": "9ee280c3-c076-4398-aa49-1384957b5dba",
   "metadata": {},
   "source": [
    "`copytree()` 可以让你在复制过程中选择性的忽略某些文件或目录。 你可以提供一个忽略函数，接受一个目录名和文件名列表作为输入，返回一个忽略的名称列表。\n",
    "```python\n",
    "def ignore_pyc_files(dirname, filenames):\n",
    "    return [name in filenames if name.endswith('.pyc')]\n",
    "\n",
    "shutil.copytree(src, dst, ignore=ignore_pyc_files)\n",
    "```"
   ]
  },
  {
   "cell_type": "markdown",
   "id": "8a8117f6-c843-4aa1-9a2f-d0616b63083d",
   "metadata": {},
   "source": [
    "忽略某种模式的文件名\n",
    "```python\n",
    "shutil.copytree(src, dst, ignore=shutil.ignore_patterns('*~', '*.pyc'))\n",
    "```"
   ]
  },
  {
   "cell_type": "markdown",
   "id": "6abfddd1-39e6-42a1-be5e-7e1b48a2d656",
   "metadata": {},
   "source": [
    "在复制过程中，函数可能会碰到损坏的符号链接，因为权限无法访问文件的问题等等。 为了解决这个问题，所有碰到的问题会被收集到一个列表中并打包为一个单独的异常，到了最后再抛出。\n",
    "```python\n",
    "try:\n",
    "    shutil.copytree(src, dst)\n",
    "except shutil.Error as e:\n",
    "    for src, dst, msg in e.args[0]:\n",
    "         # src is source name\n",
    "         # dst is destination name\n",
    "         # msg is error message from exception\n",
    "         print(dst, src, msg)\n",
    "```"
   ]
  },
  {
   "cell_type": "markdown",
   "id": "886a94aa-4103-4a90-9980-a413bb4d05eb",
   "metadata": {},
   "source": [
    "关键字参数 `ignore_dangling_symlinks=True` ， 这时候 copytree() 会忽略掉无效符号链接。"
   ]
  },
  {
   "cell_type": "markdown",
   "id": "fe5af425-85a2-4e0b-833b-90a9229a667f",
   "metadata": {},
   "source": [
    "# 创建和解压归档文件"
   ]
  },
  {
   "cell_type": "markdown",
   "id": "cd073a23-1fed-4f5b-be4e-860ef9395cbe",
   "metadata": {},
   "source": [
    "```python\n",
    ">>> import shutil\n",
    ">>> shutil.unpack_archive('Python-3.3.0.tgz')\n",
    "\n",
    ">>> shutil.make_archive('py33','zip','Python-3.3.0')\n",
    "'/Users/beazley/Downloads/py33.zip'\n",
    ">>> shutil.get_archive_formats()\n",
    "[('bztar', \"bzip2'ed tar-file\"), ('gztar', \"gzip'ed tar-file\"),\n",
    " ('tar', 'uncompressed tar file'), ('zip', 'ZIP file')]\n",
    "```"
   ]
  },
  {
   "cell_type": "markdown",
   "id": "ee17b6e5-d9ab-40d0-911e-4faf692c7d8f",
   "metadata": {},
   "source": [
    "# 通过文件名查找文件"
   ]
  },
  {
   "cell_type": "code",
   "execution_count": 23,
   "id": "1b86ac3a-e6a5-4d17-a317-92938ddd851a",
   "metadata": {},
   "outputs": [],
   "source": [
    "#!/usr/bin/env python3.3\n",
    "import os\n",
    "\n",
    "def findfile(start, name):\n",
    "    for relpath, dirs, files in os.walk(start):\n",
    "        if name in files:\n",
    "            full_path = os.path.join(start, relpath, name)\n",
    "            print(os.path.normpath(os.path.abspath(full_path)))\n",
    "\n",
    "def main():\n",
    "    findfile(sys.argv[1], sys.argv[2])"
   ]
  },
  {
   "cell_type": "code",
   "execution_count": 24,
   "id": "b9eae390-d37e-4d36-a741-9f7eebcd63fe",
   "metadata": {},
   "outputs": [
    {
     "name": "stdout",
     "output_type": "stream",
     "text": [
      "/Users/huzhenyu/Documents/personal/python_personal/python/cookbook/script_system.ipynb\n"
     ]
    }
   ],
   "source": [
    "findfile('.','script_system.ipynb')"
   ]
  },
  {
   "cell_type": "markdown",
   "id": "f063b22a-caa0-432f-a118-e159efd46349",
   "metadata": {},
   "source": [
    "`os.walk()` 方法为我们遍历目录树， 每次进入一个目录，它会返回一个三元组，包含相对于查找目录的相对路径，一个该目录下的目录名列表， 以及那个目录下面的文件名列表。  \n",
    "`os.path.join()` 合并路径。  \n",
    "`os.path.abspath()` ,它接受一个路径，可能是相对路径，最后返回绝对路径。  \n",
    "`os.path.normpath()` ，用来返回正常路径，可以解决双斜杆、对目录的多重引用的问题等。  "
   ]
  },
  {
   "cell_type": "code",
   "execution_count": 25,
   "id": "cefd6428-3723-4eaa-9caa-eff804dd9a4f",
   "metadata": {},
   "outputs": [],
   "source": [
    "import os\n",
    "import time\n",
    "\n",
    "def modified_within(top, seconds):\n",
    "    now = time.time()\n",
    "    for path, dirs, files in os.walk(top):\n",
    "        for name in files:\n",
    "            fullpath = os.path.join(path, name)\n",
    "            if os.path.exists(fullpath):\n",
    "                mtime = os.path.getmtime(fullpath)\n",
    "                if mtime > (now - seconds):\n",
    "                    print(fullpath)\n",
    "def main():\n",
    "    import sys\n",
    "    if len(sys.argv) != 3:\n",
    "        print('Usage: {} dir seconds'.format(sys.argv[0]))\n",
    "        raise SystemExit(1)\n",
    "\n",
    "    modified_within(sys.argv[1], float(sys.argv[2]))"
   ]
  },
  {
   "cell_type": "code",
   "execution_count": 26,
   "id": "1eb8692d-a99b-45a7-af08-868643664273",
   "metadata": {},
   "outputs": [
    {
     "name": "stdout",
     "output_type": "stream",
     "text": [
      "./script_system.ipynb\n"
     ]
    }
   ],
   "source": [
    "modified_within('.',1000)"
   ]
  },
  {
   "cell_type": "markdown",
   "id": "049e5181-2ca2-4a57-9f25-4b1cabbcf76d",
   "metadata": {},
   "source": [
    "# 读取配置文件"
   ]
  },
  {
   "cell_type": "code",
   "execution_count": 27,
   "id": "3035c3de-a39a-4689-9a18-f61bd4372d6c",
   "metadata": {},
   "outputs": [],
   "source": [
    "ini = \"\"\"\n",
    "; config.ini\n",
    "; Sample configuration file\n",
    "\n",
    "[installation]\n",
    "library=%(prefix)s/lib\n",
    "include=%(prefix)s/include\n",
    "bin=%(prefix)s/bin\n",
    "prefix=/usr/local\n",
    "\n",
    "# Setting related to debug configuration\n",
    "[debug]\n",
    "log_errors=true\n",
    "show_warnings=False\n",
    "\n",
    "[server]\n",
    "port: 8080\n",
    "nworkers: 32\n",
    "pid-file=/tmp/spam.pid\n",
    "root=/www/root\n",
    "signature:\n",
    "    =================================\n",
    "    Brought to you by the Python Cookbook\n",
    "    =================================\n",
    "\"\"\""
   ]
  },
  {
   "cell_type": "code",
   "execution_count": 28,
   "id": "5f59705e-64aa-4b58-9881-f1dbb3e0721e",
   "metadata": {},
   "outputs": [],
   "source": [
    "from io import StringIO\n",
    "f = StringIO(ini)"
   ]
  },
  {
   "cell_type": "code",
   "execution_count": 36,
   "id": "2f32a646-0d35-422b-9c3e-edcd988ddef9",
   "metadata": {},
   "outputs": [],
   "source": [
    "from configparser import ConfigParser\n",
    "cfg = ConfigParser()\n",
    "cfg.read_string(ini)"
   ]
  },
  {
   "cell_type": "code",
   "execution_count": 38,
   "id": "e7b75f3c-d8fe-4bde-b9d0-dc125dc4f12c",
   "metadata": {},
   "outputs": [
    {
     "data": {
      "text/plain": [
       "(['installation', 'debug', 'server'], '/usr/local/lib')"
      ]
     },
     "execution_count": 38,
     "metadata": {},
     "output_type": "execute_result"
    }
   ],
   "source": [
    "cfg.sections(),cfg.get('installation','library')"
   ]
  },
  {
   "cell_type": "code",
   "execution_count": 39,
   "id": "b02517da-0441-4c26-94d9-aec8377c6666",
   "metadata": {},
   "outputs": [],
   "source": [
    "cfg.set('server','port','9000')"
   ]
  },
  {
   "cell_type": "code",
   "execution_count": 41,
   "id": "d73e980a-84ec-44e6-87a2-d8a87c4a334e",
   "metadata": {},
   "outputs": [],
   "source": [
    "cfg.set('debug','log_errors','False')"
   ]
  },
  {
   "cell_type": "code",
   "execution_count": 42,
   "id": "1c3468a1-bfea-4be6-86ad-8ba78d2b3d82",
   "metadata": {},
   "outputs": [
    {
     "data": {
      "text/plain": [
       "9000"
      ]
     },
     "execution_count": 42,
     "metadata": {},
     "output_type": "execute_result"
    }
   ],
   "source": [
    "cfg.getint('server','port')"
   ]
  },
  {
   "cell_type": "code",
   "execution_count": 43,
   "id": "7ed3329a-7baa-4620-8aa0-85eeae589a62",
   "metadata": {},
   "outputs": [
    {
     "name": "stdout",
     "output_type": "stream",
     "text": [
      "[installation]\n",
      "library = %(prefix)s/lib\n",
      "include = %(prefix)s/include\n",
      "bin = %(prefix)s/bin\n",
      "prefix = /usr/local\n",
      "\n",
      "[debug]\n",
      "log_errors = False\n",
      "show_warnings = False\n",
      "\n",
      "[server]\n",
      "port = 9000\n",
      "nworkers = 32\n",
      "pid-file = /tmp/spam.pid\n",
      "root = /www/root\n",
      "signature = \n",
      "\t=================================\n",
      "\tBrought to you by the Python Cookbook\n",
      "\t=================================\n",
      "\n"
     ]
    }
   ],
   "source": [
    "import sys\n",
    "cfg.write(sys.stdout)"
   ]
  },
  {
   "cell_type": "markdown",
   "id": "cea07589-a41b-4044-a927-add83be779d6",
   "metadata": {},
   "source": [
    "配置文件的语法要更自由些，下面的赋值语句是等效的：\n",
    "```ini\n",
    "prefix=/usr/local\n",
    "prefix: /usr/local\n",
    "```"
   ]
  },
  {
   "cell_type": "markdown",
   "id": "bf880972-1b35-4b50-bc4d-6ea7eafa275c",
   "metadata": {},
   "source": [
    "配置文件中的名字是不区分大小写的。  \n",
    "在解析值的时候，`getboolean()` 方法查找任何可行的值。\n",
    "```python\n",
    "log_errors = true\n",
    "log_errors = TRUE\n",
    "log_errors = Yes\n",
    "log_errors = 1\n",
    "```"
   ]
  },
  {
   "cell_type": "markdown",
   "id": "63ba42d2-1eba-453b-a30d-439fc89ebe83",
   "metadata": {},
   "source": [
    "文件是安装一个整体被读取的。如果碰到了变量替换，它实际上已经被替换完成了。  \n",
    "变量在使用它的变量之前或之后定义都是可以的。  \n",
    "变量的改写采取的是后发制人策略，以最后一个为准。"
   ]
  },
  {
   "cell_type": "markdown",
   "id": "f4d35820-4453-4835-a470-f09d92bfffe3",
   "metadata": {},
   "source": [
    "# 给简单脚本增加日志功能"
   ]
  },
  {
   "cell_type": "code",
   "execution_count": 52,
   "id": "57871160-d57e-4df2-839b-fe90837b38cb",
   "metadata": {},
   "outputs": [],
   "source": [
    "import logging\n",
    "\n",
    "def main():\n",
    "    # Configure the logging system\n",
    "    logging.basicConfig(\n",
    "        filename='app.log',\n",
    "        level=logging.ERROR\n",
    "    )\n",
    "\n",
    "    # Variables (to make the calls that follow work)\n",
    "    hostname = 'www.python.org'\n",
    "    item = 'spam'\n",
    "    filename = 'data.csv'\n",
    "    mode = 'r'\n",
    "\n",
    "    # Example logging calls (insert into your program)\n",
    "    logging.critical('Host %s unknown', hostname)\n",
    "    logging.error(\"Couldn't find %r\", item)\n",
    "    logging.warning('Feature is deprecated')\n",
    "    logging.info('Opening file %r, mode=%r', filename, mode)\n",
    "    logging.debug('Got here')\n",
    "\n",
    "if __name__ == '__main__':\n",
    "    main()"
   ]
  },
  {
   "cell_type": "code",
   "execution_count": 53,
   "id": "1351dd6c-8798-4582-89c6-f3cd66c78b4e",
   "metadata": {},
   "outputs": [],
   "source": [
    "logging.basicConfig(\n",
    "     filename='app.log',\n",
    "     level=logging.WARNING,\n",
    "     format='%(levelname)s:%(asctime)s:%(message)s')"
   ]
  },
  {
   "cell_type": "markdown",
   "id": "3dc2b390-cfe0-4633-8c7d-3b9f7a7397b3",
   "metadata": {},
   "source": [
    "```python\n",
    "import logging\n",
    "import logging.config\n",
    "\n",
    "def main():\n",
    "    # Configure the logging system\n",
    "    logging.config.fileConfig('logconfig.ini')\n",
    "    ...\n",
    "```\n",
    "\n",
    "+ logconfig.ini  \n",
    "\n",
    "```ini\n",
    "[loggers]\n",
    "keys=root\n",
    "\n",
    "[handlers]\n",
    "keys=defaultHandler\n",
    "\n",
    "[formatters]\n",
    "keys=defaultFormatter\n",
    "\n",
    "[logger_root]\n",
    "level=INFO\n",
    "handlers=defaultHandler\n",
    "qualname=root\n",
    "\n",
    "[handler_defaultHandler]\n",
    "class=FileHandler\n",
    "formatter=defaultFormatter\n",
    "args=('app.log', 'a')\n",
    "\n",
    "[formatter_defaultFormatter]\n",
    "format=%(levelname)s:%(name)s:%(message)s\n",
    "```"
   ]
  },
  {
   "cell_type": "code",
   "execution_count": 55,
   "id": "84d409d2-9beb-46b1-9157-527943d734f8",
   "metadata": {},
   "outputs": [],
   "source": [
    "logging.basicConfig(level=logging.INFO)"
   ]
  },
  {
   "cell_type": "code",
   "execution_count": 57,
   "id": "962d66c5-366e-4597-ae65-ca2860920061",
   "metadata": {},
   "outputs": [],
   "source": [
    "# basicConfig() 在程序中只能被执行一次。如果你稍后想改变日志配置， 就需要先获取 root logger ，然后直接修改它。\n",
    "logging.getLogger().level = logging.DEBUG"
   ]
  },
  {
   "cell_type": "markdown",
   "id": "7c5ac6d6-9c2a-4b2b-983b-170acdd48628",
   "metadata": {},
   "source": [
    "# 给函数库增加日志功能"
   ]
  },
  {
   "cell_type": "code",
   "execution_count": 58,
   "id": "044d1d6c-f23b-4188-9238-9072e3b75e65",
   "metadata": {},
   "outputs": [],
   "source": [
    "# somelib.py\n",
    "\n",
    "import logging\n",
    "log = logging.getLogger(__name__)\n",
    "log.addHandler(logging.NullHandler())\n",
    "\n",
    "# Example function (for testing)\n",
    "def func():\n",
    "    log.critical('A Critical Error!')\n",
    "    log.debug('A debug message')"
   ]
  },
  {
   "cell_type": "markdown",
   "id": "4c0bb873-a96a-4eb9-a8b9-b807e7041b52",
   "metadata": {},
   "source": [
    "默认情况下不会打印日志\n",
    "```python\n",
    "import somelib\n",
    "somelib.func()\n",
    "```"
   ]
  },
  {
   "cell_type": "markdown",
   "id": "b8a6565d-ba77-48e7-8f9d-660c96296951",
   "metadata": {},
   "source": [
    "如果配置过日志系统，那么日志消息打印就开始生效\n",
    "```python\n",
    "import logging\n",
    "logging.basicConfig()\n",
    "somelib.func()\n",
    ">>> CRITICAL:somelib:A Critical Error!\n",
    "```"
   ]
  },
  {
   "cell_type": "markdown",
   "id": "c9fcd919-564f-42c2-a76e-aa2ddd4bdcad",
   "metadata": {},
   "source": [
    "# 实现一个计时器"
   ]
  },
  {
   "cell_type": "code",
   "execution_count": 62,
   "id": "dd7c191a-0aba-4731-84bd-3c26690ad4eb",
   "metadata": {},
   "outputs": [],
   "source": [
    "import time\n",
    "\n",
    "class Timer:\n",
    "    def __init__(self, func=time.perf_counter):\n",
    "        self.elapsed = 0.0\n",
    "        self._func = func\n",
    "        self._start = None\n",
    "\n",
    "    def start(self):\n",
    "        if self._start is not None:\n",
    "            raise RuntimeError('Already started')\n",
    "        self._start = self._func()\n",
    "\n",
    "    def stop(self):\n",
    "        if self._start is None:\n",
    "            raise RuntimeError('Not started')\n",
    "        end = self._func()\n",
    "        self.elapsed += end - self._start\n",
    "        self._start = None\n",
    "\n",
    "    def reset(self):\n",
    "        self.elapsed = 0.0\n",
    "\n",
    "    @property\n",
    "    def running(self):\n",
    "        return self._start is not None\n",
    "\n",
    "    def __enter__(self):\n",
    "        self.start()\n",
    "        return self\n",
    "\n",
    "    def __exit__(self, *args):\n",
    "        self.stop()"
   ]
  },
  {
   "cell_type": "code",
   "execution_count": 63,
   "id": "e8bb5adf-4acb-400c-b1a3-9be4e66b1478",
   "metadata": {},
   "outputs": [
    {
     "name": "stdout",
     "output_type": "stream",
     "text": [
      "0.07213246100582182\n",
      "0.12283272201602813\n",
      "0.0449462269898504\n"
     ]
    }
   ],
   "source": [
    "def countdown(n):\n",
    "    while n > 0:\n",
    "        n -= 1\n",
    "\n",
    "# Use 1: Explicit start/stop\n",
    "t = Timer()\n",
    "t.start()\n",
    "countdown(1000000)\n",
    "t.stop()\n",
    "print(t.elapsed)\n",
    "\n",
    "# Use 2: As a context manager\n",
    "with t:\n",
    "    countdown(1000000)\n",
    "\n",
    "print(t.elapsed)\n",
    "\n",
    "with Timer() as t2:\n",
    "    countdown(1000000)\n",
    "print(t2.elapsed)"
   ]
  },
  {
   "cell_type": "markdown",
   "id": "a6e2741a-812c-411e-a812-4e54243a2bb0",
   "metadata": {},
   "source": [
    "`time.perf_counter()` 函数可以确保使用系统上面最精确的计时器。   \n",
    "`time.process_time()` 计算该进程所花费的CPU时间。"
   ]
  },
  {
   "cell_type": "markdown",
   "id": "6986990a-501c-4931-a6f9-cd127b435af0",
   "metadata": {},
   "source": [
    "# 限制内存和CPU的使用量"
   ]
  },
  {
   "cell_type": "code",
   "execution_count": 67,
   "id": "56ce3576-1b0a-48f0-ada6-ac17702daf9c",
   "metadata": {},
   "outputs": [],
   "source": [
    "# 限制cpu\n",
    "import signal\n",
    "import resource\n",
    "import os\n",
    "\n",
    "def time_exceeded(signo, frame):\n",
    "    print(\"Time's up!\")\n",
    "    raise SystemExit(1)\n",
    "\n",
    "def set_max_runtime(seconds):\n",
    "    # Install the signal handler and set a resource limit\n",
    "    soft, hard = resource.getrlimit(resource.RLIMIT_CPU)\n",
    "    resource.setrlimit(resource.RLIMIT_CPU, (seconds, hard))\n",
    "    signal.signal(signal.SIGXCPU, time_exceeded)\n",
    "\n",
    "def main():\n",
    "    set_max_runtime(15)\n",
    "    while True:\n",
    "        pass"
   ]
  },
  {
   "cell_type": "code",
   "execution_count": 68,
   "id": "ca7d856b-afff-47c1-a79c-39bd1c8fb24c",
   "metadata": {},
   "outputs": [],
   "source": [
    "# 限制内存\n",
    "import resource\n",
    "\n",
    "def limit_memory(maxsize):\n",
    "    soft, hard = resource.getrlimit(resource.RLIMIT_AS)\n",
    "    resource.setrlimit(resource.RLIMIT_AS, (maxsize, hard))"
   ]
  },
  {
   "cell_type": "code",
   "execution_count": 69,
   "id": "9c99954e-843d-4470-855d-f4287e540163",
   "metadata": {},
   "outputs": [],
   "source": [
    "soft, hard = resource.getrlimit(resource.RLIMIT_CPU)"
   ]
  },
  {
   "cell_type": "code",
   "execution_count": 70,
   "id": "b5c465f4-76a5-4817-9a96-e9e834584c64",
   "metadata": {},
   "outputs": [
    {
     "data": {
      "text/plain": [
       "(9223372036854775807, 9223372036854775807)"
      ]
     },
     "execution_count": 70,
     "metadata": {},
     "output_type": "execute_result"
    }
   ],
   "source": [
    "soft,hard"
   ]
  },
  {
   "cell_type": "code",
   "execution_count": 71,
   "id": "693dadce-251e-4373-aaa2-c32edbd8c694",
   "metadata": {},
   "outputs": [],
   "source": [
    "soft, hard = resource.getrlimit(resource.RLIMIT_AS)"
   ]
  },
  {
   "cell_type": "code",
   "execution_count": 72,
   "id": "0f11c067-8ef5-4f47-9be6-6d7e74ff8266",
   "metadata": {},
   "outputs": [
    {
     "data": {
      "text/plain": [
       "(9223372036854775807, 9223372036854775807)"
      ]
     },
     "execution_count": 72,
     "metadata": {},
     "output_type": "execute_result"
    }
   ],
   "source": [
    "soft,hard"
   ]
  },
  {
   "cell_type": "markdown",
   "id": "49049a60-647d-4a40-bb15-065c7548a4b9",
   "metadata": {},
   "source": [
    "# 启动一个WEB浏览器"
   ]
  },
  {
   "cell_type": "code",
   "execution_count": 73,
   "id": "2c14e455-d57a-428d-8a06-f6d608e6f1a7",
   "metadata": {},
   "outputs": [
    {
     "data": {
      "text/plain": [
       "True"
      ]
     },
     "execution_count": 73,
     "metadata": {},
     "output_type": "execute_result"
    }
   ],
   "source": [
    "import webbrowser\n",
    "webbrowser.open('http://www.python.org')"
   ]
  },
  {
   "cell_type": "code",
   "execution_count": 74,
   "id": "a580d898-e914-450f-ab28-7ff0883c4966",
   "metadata": {},
   "outputs": [
    {
     "data": {
      "text/plain": [
       "True"
      ]
     },
     "execution_count": 74,
     "metadata": {},
     "output_type": "execute_result"
    }
   ],
   "source": [
    "webbrowser.open_new('http://www.python.org')"
   ]
  },
  {
   "cell_type": "code",
   "execution_count": 75,
   "id": "4fec603d-f6a7-40c5-b32c-8af277401985",
   "metadata": {},
   "outputs": [
    {
     "data": {
      "text/plain": [
       "True"
      ]
     },
     "execution_count": 75,
     "metadata": {},
     "output_type": "execute_result"
    }
   ],
   "source": [
    "webbrowser.open_new_tab('http://www.python.org')"
   ]
  },
  {
   "cell_type": "code",
   "execution_count": null,
   "id": "c53716e3-558b-425c-88c0-e1f837484a14",
   "metadata": {},
   "outputs": [],
   "source": []
  }
 ],
 "metadata": {
  "kernelspec": {
   "display_name": "Python 3 (ipykernel)",
   "language": "python",
   "name": "python3"
  },
  "language_info": {
   "codemirror_mode": {
    "name": "ipython",
    "version": 3
   },
   "file_extension": ".py",
   "mimetype": "text/x-python",
   "name": "python",
   "nbconvert_exporter": "python",
   "pygments_lexer": "ipython3",
   "version": "3.8.10"
  },
  "toc-autonumbering": true
 },
 "nbformat": 4,
 "nbformat_minor": 5
}
