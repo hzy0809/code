{
 "cells": [
  {
   "cell_type": "markdown",
   "id": "477a6140-db38-466c-8718-5b3b6ce8932d",
   "metadata": {},
   "source": [
    "+ 数字的四舍五入"
   ]
  },
  {
   "cell_type": "code",
   "execution_count": 2,
   "id": "ef2e2fec-8bc8-43e6-9838-a13294f679b9",
   "metadata": {},
   "outputs": [
    {
     "data": {
      "text/plain": [
       "(1.2, -1.3, 1.254)"
      ]
     },
     "execution_count": 2,
     "metadata": {},
     "output_type": "execute_result"
    }
   ],
   "source": [
    "round(1.23,1),round(-1.27,1),round(1.25361,3)"
   ]
  },
  {
   "cell_type": "markdown",
   "id": "7a3856b8-7151-4998-ba1e-b874b4e313e0",
   "metadata": {},
   "source": [
    "`round` 当一个值在两个边界中间时，返回离它最近的偶数"
   ]
  },
  {
   "cell_type": "code",
   "execution_count": 3,
   "id": "cd668844-f1fa-4ee2-bc95-6aa312c8c6c0",
   "metadata": {},
   "outputs": [
    {
     "data": {
      "text/plain": [
       "(2, 2)"
      ]
     },
     "execution_count": 3,
     "metadata": {},
     "output_type": "execute_result"
    }
   ],
   "source": [
    "round(1.5),round(2.5)"
   ]
  },
  {
   "cell_type": "code",
   "execution_count": 4,
   "id": "b9d4c127-1a06-4340-97f3-779f6eb37a8b",
   "metadata": {},
   "outputs": [
    {
     "data": {
      "text/plain": [
       "(1627730, 1627700, 1628000)"
      ]
     },
     "execution_count": 4,
     "metadata": {},
     "output_type": "execute_result"
    }
   ],
   "source": [
    "a = 1627731\n",
    "round(a,-1),round(a,-2),round(a,-3)"
   ]
  },
  {
   "cell_type": "markdown",
   "id": "866313bf-efa2-4363-9c76-b7333b061a15",
   "metadata": {},
   "source": [
    "+ 精确的浮点数运算"
   ]
  },
  {
   "cell_type": "code",
   "execution_count": 6,
   "id": "344761ed-b9c8-405f-b36d-e9a8ce1d8cf8",
   "metadata": {},
   "outputs": [
    {
     "data": {
      "text/plain": [
       "Decimal('6.3')"
      ]
     },
     "execution_count": 6,
     "metadata": {},
     "output_type": "execute_result"
    }
   ],
   "source": [
    "from decimal import Decimal\n",
    "a = Decimal('4.2')\n",
    "b = Decimal('2.1')\n",
    "a + b"
   ]
  },
  {
   "cell_type": "code",
   "execution_count": 7,
   "id": "7bf670cf-e916-452d-90fe-e32d7f5ce057",
   "metadata": {},
   "outputs": [
    {
     "data": {
      "text/plain": [
       "6.300000000000001"
      ]
     },
     "execution_count": 7,
     "metadata": {},
     "output_type": "execute_result"
    }
   ],
   "source": [
    "a,b = 4.2,2.1\n",
    "a + b"
   ]
  },
  {
   "cell_type": "code",
   "execution_count": 8,
   "id": "e5882f44-411a-4de3-a7fe-17bd73237b56",
   "metadata": {},
   "outputs": [
    {
     "data": {
      "text/plain": [
       "Decimal('0.7647058823529411764705882353')"
      ]
     },
     "execution_count": 8,
     "metadata": {},
     "output_type": "execute_result"
    }
   ],
   "source": [
    "from decimal import localcontext\n",
    "a,b = Decimal('1.3'),Decimal('1.7')\n",
    "a/b"
   ]
  },
  {
   "cell_type": "code",
   "execution_count": 10,
   "id": "9f699caa-4275-4113-b5d2-89058864e5c2",
   "metadata": {},
   "outputs": [
    {
     "name": "stdout",
     "output_type": "stream",
     "text": [
      "0.765\n"
     ]
    }
   ],
   "source": [
    "with localcontext() as ctx:\n",
    "    ctx.prec = 3\n",
    "    print(a/b)"
   ]
  },
  {
   "cell_type": "code",
   "execution_count": 11,
   "id": "70b9554e-1b0e-43f1-a419-331c9e80001f",
   "metadata": {},
   "outputs": [
    {
     "name": "stdout",
     "output_type": "stream",
     "text": [
      "0.76470588235294117647058823529411764705882352941176\n"
     ]
    }
   ],
   "source": [
    "with localcontext() as ctx:\n",
    "    ctx.prec = 50\n",
    "    print(a/b)"
   ]
  },
  {
   "cell_type": "code",
   "execution_count": 13,
   "id": "96e0094d-add8-4f7d-84a7-84a8ed6e381c",
   "metadata": {},
   "outputs": [
    {
     "data": {
      "text/plain": [
       "(0.0, 1.0)"
      ]
     },
     "execution_count": 13,
     "metadata": {},
     "output_type": "execute_result"
    }
   ],
   "source": [
    "nums = [1.23e+18, 1, -1.23e+18]\n",
    "import math\n",
    "sum(nums),math.fsum(nums)"
   ]
  },
  {
   "cell_type": "markdown",
   "id": "e80a9557-8f71-4cb5-b99d-55a3d2d7aa1a",
   "metadata": {},
   "source": [
    "+ 数字的格式化输出"
   ]
  },
  {
   "cell_type": "code",
   "execution_count": 14,
   "id": "9bf889da-d377-4937-beb9-c122c3461aaa",
   "metadata": {},
   "outputs": [
    {
     "data": {
      "text/plain": [
       "('1234.57',\n",
       " '    1234.6',\n",
       " '1234.6    ',\n",
       " '  1234.6  ',\n",
       " '1,234.56789',\n",
       " '   1,234.6')"
      ]
     },
     "execution_count": 14,
     "metadata": {},
     "output_type": "execute_result"
    }
   ],
   "source": [
    "x = 1234.56789\n",
    "format(x,'0.2f'),format(x,'>10.1f'),format(x,'<10.1f'),format(x,'^10.1f'),format(x,','),format(x,'10,.1f')"
   ]
  },
  {
   "cell_type": "code",
   "execution_count": 15,
   "id": "299be2b7-6afd-4452-9b26-be2720c657f3",
   "metadata": {},
   "outputs": [
    {
     "data": {
      "text/plain": [
       "('1.234568e+03', '1.23E+03')"
      ]
     },
     "execution_count": 15,
     "metadata": {},
     "output_type": "execute_result"
    }
   ],
   "source": [
    "format(x,'e'),format(x,'0.2E')"
   ]
  },
  {
   "cell_type": "markdown",
   "id": "e135aa02-e835-4a4d-a50b-e50d85d4a9bf",
   "metadata": {},
   "source": [
    "`'[<>^]?width[,]?(.digits)?'` ?代表可选部分"
   ]
  },
  {
   "cell_type": "markdown",
   "id": "106c695b-a71f-4c7d-bd3f-079495ed0f88",
   "metadata": {},
   "source": [
    "`format` 指定位数后使用`round()`函数进行四舍五入后返回"
   ]
  },
  {
   "cell_type": "markdown",
   "id": "57b9c6bd-ac89-4806-bfa8-10c6b9cdc633",
   "metadata": {},
   "source": [
    "+ 二八十六进制整数"
   ]
  },
  {
   "cell_type": "markdown",
   "id": "4ad8b45c-eedb-4041-8bee-c52a2082be42",
   "metadata": {},
   "source": [
    "`bin()`  \n",
    "`oct()`  \n",
    "`hex()`"
   ]
  },
  {
   "cell_type": "code",
   "execution_count": 16,
   "id": "053a155c-ab1e-4e70-b682-9260a9b5e88b",
   "metadata": {},
   "outputs": [
    {
     "data": {
      "text/plain": [
       "('0b10011010010', '0o2322', '0x4d2')"
      ]
     },
     "execution_count": 16,
     "metadata": {},
     "output_type": "execute_result"
    }
   ],
   "source": [
    "x = 1234\n",
    "bin(x),oct(x),hex(x)"
   ]
  },
  {
   "cell_type": "code",
   "execution_count": 17,
   "id": "ce6a288e-6d9d-43f8-bbb9-aefab207017c",
   "metadata": {},
   "outputs": [
    {
     "data": {
      "text/plain": [
       "('10011010010', '2322', '4d2')"
      ]
     },
     "execution_count": 17,
     "metadata": {},
     "output_type": "execute_result"
    }
   ],
   "source": [
    "format(x,'b'),format(x,'o'),format(x,'x')"
   ]
  },
  {
   "cell_type": "markdown",
   "id": "f687a81a-99c4-4f8e-a9d1-0055e7cb86bf",
   "metadata": {},
   "source": [
    "+ 复数的数学运算"
   ]
  },
  {
   "cell_type": "code",
   "execution_count": 18,
   "id": "5079e102-92c4-4394-ac54-86b4af70b326",
   "metadata": {},
   "outputs": [
    {
     "data": {
      "text/plain": [
       "((2+4j), (3-5j))"
      ]
     },
     "execution_count": 18,
     "metadata": {},
     "output_type": "execute_result"
    }
   ],
   "source": [
    "a = complex(2,4)\n",
    "b = 3-5j\n",
    "a,b"
   ]
  },
  {
   "cell_type": "code",
   "execution_count": 19,
   "id": "fe758470-2261-4d7c-aa96-c9cd8e93bfce",
   "metadata": {},
   "outputs": [
    {
     "data": {
      "text/plain": [
       "(2.0, 4.0, (2-4j))"
      ]
     },
     "execution_count": 19,
     "metadata": {},
     "output_type": "execute_result"
    }
   ],
   "source": [
    "a.real,a.imag,a.conjugate()"
   ]
  },
  {
   "cell_type": "code",
   "execution_count": 20,
   "id": "43e6a9df-897e-4c41-9820-3fb8328f8187",
   "metadata": {},
   "outputs": [
    {
     "data": {
      "text/plain": [
       "((5-1j), (26+2j), (-0.4117647058823529+0.6470588235294118j), 4.47213595499958)"
      ]
     },
     "execution_count": 20,
     "metadata": {},
     "output_type": "execute_result"
    }
   ],
   "source": [
    "a+b,a*b,a/b,abs(a)"
   ]
  },
  {
   "cell_type": "code",
   "execution_count": 22,
   "id": "4b78078a-c233-49d7-ba9f-e511cdebd28c",
   "metadata": {},
   "outputs": [
    {
     "data": {
      "text/plain": [
       "((24.83130584894638-11.356612711218174j),\n",
       " (-11.36423470640106-24.814651485634187j),\n",
       " (-4.829809383269385-5.5920560936409816j),\n",
       " 1j)"
      ]
     },
     "execution_count": 22,
     "metadata": {},
     "output_type": "execute_result"
    }
   ],
   "source": [
    "import cmath\n",
    "cmath.sin(a),cmath.cos(a),cmath.exp(a),cmath.sqrt(-1)"
   ]
  },
  {
   "cell_type": "markdown",
   "id": "617fa53d-ad60-4409-8310-62416dad43a6",
   "metadata": {},
   "source": [
    "+ 无穷大和nan"
   ]
  },
  {
   "cell_type": "code",
   "execution_count": 23,
   "id": "49f08261-68da-476c-83f2-9da2025d3350",
   "metadata": {},
   "outputs": [
    {
     "data": {
      "text/plain": [
       "(inf, -inf, nan)"
      ]
     },
     "execution_count": 23,
     "metadata": {},
     "output_type": "execute_result"
    }
   ],
   "source": [
    "a,b,c = float('inf'),float('-inf'),float('nan')\n",
    "a,b,c"
   ]
  },
  {
   "cell_type": "code",
   "execution_count": 24,
   "id": "25a63916-9414-4656-9002-d86e9e79d836",
   "metadata": {},
   "outputs": [
    {
     "data": {
      "text/plain": [
       "(True, True)"
      ]
     },
     "execution_count": 24,
     "metadata": {},
     "output_type": "execute_result"
    }
   ],
   "source": [
    "math.isinf(a),math.isnan(c)"
   ]
  },
  {
   "cell_type": "markdown",
   "id": "c92fd70f-1e01-4d13-9e18-46ea76e810cd",
   "metadata": {},
   "source": [
    "+ 分数运算"
   ]
  },
  {
   "cell_type": "code",
   "execution_count": 26,
   "id": "2427514b-e1cc-495b-98b3-edd6b13fa996",
   "metadata": {},
   "outputs": [
    {
     "data": {
      "text/plain": [
       "(Fraction(27, 16), Fraction(35, 64))"
      ]
     },
     "execution_count": 26,
     "metadata": {},
     "output_type": "execute_result"
    }
   ],
   "source": [
    "from fractions import Fraction\n",
    "a,b = Fraction(5,4),Fraction(7,16)\n",
    "a+b,a*b"
   ]
  },
  {
   "cell_type": "code",
   "execution_count": 27,
   "id": "ce9473d1-84b8-4c12-83c0-f9045987e36a",
   "metadata": {},
   "outputs": [
    {
     "data": {
      "text/plain": [
       "(35, 64)"
      ]
     },
     "execution_count": 27,
     "metadata": {},
     "output_type": "execute_result"
    }
   ],
   "source": [
    "c=a*b\n",
    "c.numerator,c.denominator"
   ]
  },
  {
   "cell_type": "code",
   "execution_count": 28,
   "id": "ad2cfb24-e7f5-4a76-8e26-87eda2e3c1a2",
   "metadata": {},
   "outputs": [
    {
     "data": {
      "text/plain": [
       "0.546875"
      ]
     },
     "execution_count": 28,
     "metadata": {},
     "output_type": "execute_result"
    }
   ],
   "source": [
    "float(c)"
   ]
  },
  {
   "cell_type": "code",
   "execution_count": 29,
   "id": "345a88a1-b045-4409-b511-b221c5467419",
   "metadata": {},
   "outputs": [
    {
     "data": {
      "text/plain": [
       "Fraction(4, 7)"
      ]
     },
     "execution_count": 29,
     "metadata": {},
     "output_type": "execute_result"
    }
   ],
   "source": [
    "c.limit_denominator(8)"
   ]
  },
  {
   "cell_type": "code",
   "execution_count": 31,
   "id": "4411b6ef-8de4-45c3-8343-a07731ee782b",
   "metadata": {},
   "outputs": [
    {
     "data": {
      "text/plain": [
       "((15, 4), Fraction(15, 4))"
      ]
     },
     "execution_count": 31,
     "metadata": {},
     "output_type": "execute_result"
    }
   ],
   "source": [
    "x = 3.75\n",
    "y = Fraction(*x.as_integer_ratio())\n",
    "x.as_integer_ratio(),y"
   ]
  },
  {
   "cell_type": "code",
   "execution_count": 32,
   "id": "57dae881-0a13-4344-821d-817ab31fc4cb",
   "metadata": {},
   "outputs": [
    {
     "data": {
      "text/plain": [
       "(array([2, 4, 6, 8]),\n",
       " array([11, 12, 13, 14]),\n",
       " array([ 6,  8, 10, 12]),\n",
       " array([ 5, 12, 21, 32]))"
      ]
     },
     "execution_count": 32,
     "metadata": {},
     "output_type": "execute_result"
    }
   ],
   "source": [
    "import numpy as np\n",
    "ax = np.array([1,2,3,4])\n",
    "ay = np.array([5,6,7,8])\n",
    "ax*2,ax+10,ax+ay,ax*ay"
   ]
  },
  {
   "cell_type": "code",
   "execution_count": 33,
   "id": "7f70c9c1-88a5-4b43-a43c-ab75faf3d3e6",
   "metadata": {},
   "outputs": [
    {
     "data": {
      "text/plain": [
       "array([[ 1,  2,  3,  4],\n",
       "       [ 5,  6,  7,  8],\n",
       "       [ 9, 10, 11, 12]])"
      ]
     },
     "execution_count": 33,
     "metadata": {},
     "output_type": "execute_result"
    }
   ],
   "source": [
    "a = np.array([[1, 2, 3, 4], [5, 6, 7, 8], [9, 10, 11, 12]])\n",
    "a"
   ]
  },
  {
   "cell_type": "code",
   "execution_count": 34,
   "id": "07fef0ee-66d9-4358-8077-facd098aca59",
   "metadata": {},
   "outputs": [
    {
     "data": {
      "text/plain": [
       "array([[ 6,  7],\n",
       "       [10, 11]])"
      ]
     },
     "execution_count": 34,
     "metadata": {},
     "output_type": "execute_result"
    }
   ],
   "source": [
    "a[1:3,1:3]"
   ]
  },
  {
   "cell_type": "markdown",
   "id": "75d2c958-7971-4849-892f-73d36e870e72",
   "metadata": {},
   "source": [
    "+ 矩阵和线性代数运算"
   ]
  },
  {
   "cell_type": "code",
   "execution_count": 35,
   "id": "980bd6e1-c4ee-49cf-bc2e-ce13716c9eb8",
   "metadata": {},
   "outputs": [
    {
     "data": {
      "text/plain": [
       "matrix([[ 1, -2,  3],\n",
       "        [ 0,  4,  5],\n",
       "        [ 7,  8, -9]])"
      ]
     },
     "execution_count": 35,
     "metadata": {},
     "output_type": "execute_result"
    }
   ],
   "source": [
    "m = np.matrix([[1,-2,3],[0,4,5],[7,8,-9]])\n",
    "m"
   ]
  },
  {
   "cell_type": "code",
   "execution_count": 36,
   "id": "d7f4a9b0-bb0b-4d42-a94b-dc4bba55c273",
   "metadata": {},
   "outputs": [
    {
     "data": {
      "text/plain": [
       "(matrix([[ 1,  0,  7],\n",
       "         [-2,  4,  8],\n",
       "         [ 3,  5, -9]]),\n",
       " matrix([[ 0.33043478, -0.02608696,  0.09565217],\n",
       "         [-0.15217391,  0.13043478,  0.02173913],\n",
       "         [ 0.12173913,  0.09565217, -0.0173913 ]]))"
      ]
     },
     "execution_count": 36,
     "metadata": {},
     "output_type": "execute_result"
    }
   ],
   "source": [
    "m.T,m.I"
   ]
  },
  {
   "cell_type": "code",
   "execution_count": 37,
   "id": "58e32ff8-5c11-4e36-9c0e-eebb634ff8fd",
   "metadata": {},
   "outputs": [
    {
     "data": {
      "text/plain": [
       "matrix([[ 8],\n",
       "        [32],\n",
       "        [ 2]])"
      ]
     },
     "execution_count": 37,
     "metadata": {},
     "output_type": "execute_result"
    }
   ],
   "source": [
    "v = np.matrix([[2],[3],[4]])\n",
    "m*v"
   ]
  },
  {
   "cell_type": "code",
   "execution_count": 39,
   "id": "0ebbdd46-c345-45fd-81fa-854305750e88",
   "metadata": {},
   "outputs": [
    {
     "data": {
      "text/plain": [
       "-229.99999999999983"
      ]
     },
     "execution_count": 39,
     "metadata": {},
     "output_type": "execute_result"
    }
   ],
   "source": [
    "import numpy.linalg\n",
    "numpy.linalg.det(m)"
   ]
  },
  {
   "cell_type": "code",
   "execution_count": 40,
   "id": "ce956f4d-436f-49a4-a3da-4d91e9f97ca9",
   "metadata": {},
   "outputs": [
    {
     "data": {
      "text/plain": [
       "array([-13.11474312,   2.75956154,   6.35518158])"
      ]
     },
     "execution_count": 40,
     "metadata": {},
     "output_type": "execute_result"
    }
   ],
   "source": [
    "numpy.linalg.eigvals(m)"
   ]
  },
  {
   "cell_type": "code",
   "execution_count": 41,
   "id": "efebae24-e41b-4823-ade2-c375382a444f",
   "metadata": {},
   "outputs": [
    {
     "data": {
      "text/plain": [
       "(matrix([[0.96521739],\n",
       "         [0.17391304],\n",
       "         [0.46086957]]),\n",
       " matrix([[2.],\n",
       "         [3.],\n",
       "         [4.]]),\n",
       " matrix([[2],\n",
       "         [3],\n",
       "         [4]]))"
      ]
     },
     "execution_count": 41,
     "metadata": {},
     "output_type": "execute_result"
    }
   ],
   "source": [
    "x = numpy.linalg.solve(m,v)\n",
    "x,m*x,v"
   ]
  },
  {
   "cell_type": "markdown",
   "id": "d99a9d6d-cf08-4bd9-9e45-7a6919a49e13",
   "metadata": {},
   "source": [
    "+ 随机选择"
   ]
  },
  {
   "cell_type": "code",
   "execution_count": 42,
   "id": "25be526f-cb00-4bf0-98a8-071358e6cea9",
   "metadata": {},
   "outputs": [
    {
     "data": {
      "text/plain": [
       "(2, 6, 4, 4, 1)"
      ]
     },
     "execution_count": 42,
     "metadata": {},
     "output_type": "execute_result"
    }
   ],
   "source": [
    "import random\n",
    "values = [1,2,3,4,5,6]\n",
    "random.choice(values),random.choice(values),random.choice(values),random.choice(values),random.choice(values)"
   ]
  },
  {
   "cell_type": "code",
   "execution_count": 44,
   "id": "faf9334f-30c9-483e-a728-9bce90859304",
   "metadata": {},
   "outputs": [
    {
     "data": {
      "text/plain": [
       "([1], [3, 4], [6, 5, 2], [3, 4, 2, 6], [5, 4, 6, 3, 2])"
      ]
     },
     "execution_count": 44,
     "metadata": {},
     "output_type": "execute_result"
    }
   ],
   "source": [
    "random.sample(values,1),random.sample(values,2),random.sample(values,3),random.sample(values,4),random.sample(values,5)"
   ]
  },
  {
   "cell_type": "code",
   "execution_count": 46,
   "id": "1544c22a-a124-4871-bef8-daacfd8cc7ba",
   "metadata": {},
   "outputs": [
    {
     "data": {
      "text/plain": [
       "[1, 5, 2, 3, 6, 4]"
      ]
     },
     "execution_count": 46,
     "metadata": {},
     "output_type": "execute_result"
    }
   ],
   "source": [
    "random.shuffle(values)\n",
    "values"
   ]
  },
  {
   "cell_type": "code",
   "execution_count": 47,
   "id": "7082319b-0aba-40e7-b42d-65acf7990690",
   "metadata": {},
   "outputs": [
    {
     "data": {
      "text/plain": [
       "7"
      ]
     },
     "execution_count": 47,
     "metadata": {},
     "output_type": "execute_result"
    }
   ],
   "source": [
    "random.randint(0,10)"
   ]
  },
  {
   "cell_type": "code",
   "execution_count": 48,
   "id": "b48ced6c-0c17-4c11-a640-03ba658d525f",
   "metadata": {},
   "outputs": [
    {
     "data": {
      "text/plain": [
       "0.09952122601852131"
      ]
     },
     "execution_count": 48,
     "metadata": {},
     "output_type": "execute_result"
    }
   ],
   "source": [
    "random.random()"
   ]
  },
  {
   "cell_type": "code",
   "execution_count": 52,
   "id": "284c9233-16b0-4f44-b320-780384843e01",
   "metadata": {},
   "outputs": [
    {
     "data": {
      "text/plain": [
       "2330191825908414359731058177250367513359221766007894310196640648786935488876957405843728994496612312720372511184684942903394859102620185814061574199541211099081840518039097082188629795252963070634040309319684429514228331469143777977254944287740922386406034095283886617484311552818399124887356814228733"
      ]
     },
     "execution_count": 52,
     "metadata": {},
     "output_type": "execute_result"
    }
   ],
   "source": [
    "random.getrandbits(1000)"
   ]
  },
  {
   "cell_type": "markdown",
   "id": "f52d734a-1791-4e07-bc8b-0d1dfebd6ee7",
   "metadata": {},
   "source": [
    "+ 基本的日期和时间转换"
   ]
  },
  {
   "cell_type": "code",
   "execution_count": 56,
   "id": "b6a5521d-0f0a-4b79-8000-e18642d8b2f9",
   "metadata": {},
   "outputs": [
    {
     "data": {
      "text/plain": [
       "(2, 37800, 10.5, 58.5)"
      ]
     },
     "execution_count": 56,
     "metadata": {},
     "output_type": "execute_result"
    }
   ],
   "source": [
    "from datetime import timedelta,datetime\n",
    "a = timedelta(days = 2,hours=6)\n",
    "b = timedelta(hours=4.5)\n",
    "c = a+b\n",
    "c.days,c.seconds,c.seconds/3600,c.total_seconds()/3600"
   ]
  },
  {
   "cell_type": "code",
   "execution_count": 57,
   "id": "4b94d877-c5d3-4413-96e8-e0f0a4d92f93",
   "metadata": {},
   "outputs": [
    {
     "data": {
      "text/plain": [
       "datetime.datetime(2021, 10, 23, 0, 0)"
      ]
     },
     "execution_count": 57,
     "metadata": {},
     "output_type": "execute_result"
    }
   ],
   "source": [
    "from dateutil.relativedelta import relativedelta\n",
    "a = datetime(2021,9,23)\n",
    "a + relativedelta(months=+1)"
   ]
  },
  {
   "cell_type": "code",
   "execution_count": 58,
   "id": "b5fb0316-8774-4318-b57e-8528920411a4",
   "metadata": {},
   "outputs": [],
   "source": [
    "\n",
    "from datetime import datetime, date, timedelta\n",
    "import calendar\n",
    "def get_month_range(start_date=None):\n",
    "    if start_date is None:\n",
    "        start_date = date.today().replace(day=1)\n",
    "    _, days_in_month = calendar.monthrange(start_date.year, start_date.month)\n",
    "    end_date = start_date + timedelta(days=days_in_month)\n",
    "    return (start_date, end_date)"
   ]
  },
  {
   "cell_type": "markdown",
   "id": "0e0edf66-bbb3-4d7a-951f-b3b01f85a93c",
   "metadata": {},
   "source": [
    "+ Python的迭代器协议需要 `__iter__()` 方法返回一个实现了`__next__()` 方法的迭代器对象"
   ]
  },
  {
   "cell_type": "code",
   "execution_count": 60,
   "id": "3ac6f735-b579-4499-a46b-fdea1793f6ca",
   "metadata": {},
   "outputs": [
    {
     "name": "stdout",
     "output_type": "stream",
     "text": [
      "Node(0)\n",
      "Node(1)\n",
      "Node(3)\n",
      "Node(4)\n",
      "Node(2)\n",
      "Node(5)\n"
     ]
    }
   ],
   "source": [
    "class Node:\n",
    "    def __init__(self, value):\n",
    "        self._value = value\n",
    "        self._children = []\n",
    "\n",
    "    def __repr__(self):\n",
    "        return 'Node({!r})'.format(self._value)\n",
    "\n",
    "    def add_child(self, node):\n",
    "        self._children.append(node)\n",
    "\n",
    "    def __iter__(self):\n",
    "        return iter(self._children)\n",
    "\n",
    "    def depth_first(self):\n",
    "        yield self\n",
    "        for c in self:\n",
    "            yield from c.depth_first()\n",
    "root = Node(0)\n",
    "child1 = Node(1)\n",
    "child2 = Node(2)\n",
    "root.add_child(child1)\n",
    "root.add_child(child2)\n",
    "child1.add_child(Node(3))\n",
    "child1.add_child(Node(4))\n",
    "child2.add_child(Node(5))\n",
    "for ch in root.depth_first():\n",
    "    print(ch)"
   ]
  },
  {
   "cell_type": "markdown",
   "id": "75a61bcb-a036-4ce3-a289-d37346ad72e7",
   "metadata": {},
   "source": [
    "+ 带有外部状态的生成器  \n",
    "一个函数中需要有一个 `yield` 语句即可将其转换为一个生成器。"
   ]
  },
  {
   "cell_type": "code",
   "execution_count": 61,
   "id": "81ae3a0b-87fa-4891-b806-86617fa8a908",
   "metadata": {},
   "outputs": [],
   "source": [
    "from collections import deque\n",
    "\n",
    "class linehistory:\n",
    "    def __init__(self, lines, histlen=3):\n",
    "        self.lines = lines\n",
    "        self.history = deque(maxlen=histlen)\n",
    "\n",
    "    def __iter__(self):\n",
    "        for lineno, line in enumerate(self.lines, 1):\n",
    "            self.history.append((lineno, line))\n",
    "            yield line  # 生成器协议\n",
    "\n",
    "    def clear(self):\n",
    "        self.history.clear()"
   ]
  },
  {
   "cell_type": "markdown",
   "id": "2bdbbb04-7674-474e-a1b2-487bc075404c",
   "metadata": {},
   "source": [
    "+ 迭代器切片  \n",
    "`itertools.islice`"
   ]
  },
  {
   "cell_type": "code",
   "execution_count": 63,
   "id": "0c4902d6-7d82-458b-b225-cbd438d0cd1f",
   "metadata": {},
   "outputs": [
    {
     "name": "stdout",
     "output_type": "stream",
     "text": [
      "10\n",
      "11\n",
      "12\n",
      "13\n",
      "14\n",
      "15\n",
      "16\n",
      "17\n",
      "18\n",
      "19\n"
     ]
    }
   ],
   "source": [
    "def count(n):\n",
    "    while True:         \n",
    "        yield n\n",
    "        n += 1\n",
    "import itertools\n",
    "c = count(0)\n",
    "for x in itertools.islice(c, 10, 20):\n",
    "    print(x)"
   ]
  },
  {
   "cell_type": "markdown",
   "id": "1996e2ac-65fb-4c89-b2d9-68e25b91e976",
   "metadata": {},
   "source": [
    "+ 跳过可迭代对象的开始部分  \n",
    "`itertools.islice`  \n",
    "`itertools.dropwhile`"
   ]
  },
  {
   "cell_type": "code",
   "execution_count": 70,
   "id": "c20b6243-1cc2-47c7-b613-2ef483bb9957",
   "metadata": {},
   "outputs": [
    {
     "name": "stdout",
     "output_type": "stream",
     "text": [
      "1\n",
      "True\n",
      "4\n",
      "True\n",
      "10\n",
      "True\n",
      "15\n",
      "True\n",
      "e\n",
      "False\n"
     ]
    }
   ],
   "source": [
    "from itertools import dropwhile\n",
    "items = ['a', 'b', 'c', 1, 4, 10, 15,'e']\n",
    "for x in dropwhile(lambda x:isinstance(x,str),items):\n",
    "    print(x)\n",
    "    print(not isinstance(x,str))"
   ]
  },
  {
   "cell_type": "markdown",
   "id": "6caec57c-c7db-483c-925e-c4bc1ad84fbc",
   "metadata": {},
   "source": [
    "+ 排列组合的迭代  \n",
    "排列：`itertools.permutations`  \n",
    "组合：`itertools.combinations`"
   ]
  },
  {
   "cell_type": "code",
   "execution_count": 71,
   "id": "c6414fd5-27cd-4176-a6f6-443d774a1a3a",
   "metadata": {},
   "outputs": [
    {
     "name": "stdout",
     "output_type": "stream",
     "text": [
      "('a', 'b', 'c')\n",
      "('a', 'c', 'b')\n",
      "('b', 'a', 'c')\n",
      "('b', 'c', 'a')\n",
      "('c', 'a', 'b')\n",
      "('c', 'b', 'a')\n"
     ]
    }
   ],
   "source": [
    "from itertools import permutations\n",
    "items = ['a','b','c']\n",
    "for p in permutations(items):\n",
    "    print(p)"
   ]
  },
  {
   "cell_type": "code",
   "execution_count": 72,
   "id": "10cd20ea-02fd-46f4-88b6-5320186ca022",
   "metadata": {},
   "outputs": [
    {
     "name": "stdout",
     "output_type": "stream",
     "text": [
      "('a', 'b')\n",
      "('a', 'c')\n",
      "('b', 'a')\n",
      "('b', 'c')\n",
      "('c', 'a')\n",
      "('c', 'b')\n"
     ]
    }
   ],
   "source": [
    "for p in permutations(items,2):\n",
    "    print(p)"
   ]
  },
  {
   "cell_type": "code",
   "execution_count": 74,
   "id": "b87bf2e5-ae28-42f7-b4e4-69525b9f9945",
   "metadata": {},
   "outputs": [
    {
     "name": "stdout",
     "output_type": "stream",
     "text": [
      "('a', 'b', 'c')\n"
     ]
    }
   ],
   "source": [
    "from itertools import combinations\n",
    "for c in combinations(items,3):\n",
    "    print(c)"
   ]
  },
  {
   "cell_type": "code",
   "execution_count": 75,
   "id": "ad2f0ca4-1c6e-4d1a-b9da-c478bba374b2",
   "metadata": {},
   "outputs": [
    {
     "name": "stdout",
     "output_type": "stream",
     "text": [
      "('a', 'b')\n",
      "('a', 'c')\n",
      "('b', 'c')\n"
     ]
    }
   ],
   "source": [
    "for c in combinations(items,2):\n",
    "    print(c)"
   ]
  },
  {
   "cell_type": "code",
   "execution_count": 76,
   "id": "74129ff3-8d32-421b-911e-f83b8c298118",
   "metadata": {},
   "outputs": [
    {
     "name": "stdout",
     "output_type": "stream",
     "text": [
      "('a', 'a', 'a')\n",
      "('a', 'a', 'b')\n",
      "('a', 'a', 'c')\n",
      "('a', 'b', 'b')\n",
      "('a', 'b', 'c')\n",
      "('a', 'c', 'c')\n",
      "('b', 'b', 'b')\n",
      "('b', 'b', 'c')\n",
      "('b', 'c', 'c')\n",
      "('c', 'c', 'c')\n"
     ]
    }
   ],
   "source": [
    "from itertools import combinations_with_replacement\n",
    "for c in combinations_with_replacement(items,3):\n",
    "    print(c)"
   ]
  },
  {
   "cell_type": "markdown",
   "id": "157144ed-aa5a-4e12-9728-8e118c1c15e2",
   "metadata": {},
   "source": [
    "+ 序列上索引值迭代  \n",
    "`enumerate`"
   ]
  },
  {
   "cell_type": "markdown",
   "id": "9b1aeb6d-afa1-445c-9fef-91a33bc97a24",
   "metadata": {},
   "source": [
    "+ 同时迭代多个序列  \n",
    "`zip`  \n",
    "`itertools.zip_longest`"
   ]
  },
  {
   "cell_type": "code",
   "execution_count": 80,
   "id": "28e05ffc-c7b6-49e7-b780-be1a25fe28b5",
   "metadata": {},
   "outputs": [
    {
     "data": {
      "text/plain": [
       "{0: 10, 1: 9, 2: 8, 3: 7, 4: 6, 5: 5, 6: 4, 7: 3, 8: 2, 9: 1}"
      ]
     },
     "execution_count": 80,
     "metadata": {},
     "output_type": "execute_result"
    }
   ],
   "source": [
    "dict(zip(range(10),range(10,0,-1)))"
   ]
  },
  {
   "cell_type": "code",
   "execution_count": 81,
   "id": "c42f1f11-3891-46f2-acd3-f418837fa02f",
   "metadata": {},
   "outputs": [
    {
     "data": {
      "text/plain": [
       "([(1, 'w'), (2, 'x'), (3, 'y')], [(1, 'w'), (2, 'x'), (3, 'y'), (None, 'z')])"
      ]
     },
     "execution_count": 81,
     "metadata": {},
     "output_type": "execute_result"
    }
   ],
   "source": [
    "from itertools import zip_longest\n",
    "a = [1,2,3]\n",
    "b = ['w', 'x', 'y', 'z']\n",
    "list(zip(a,b)),list(zip_longest(a,b))"
   ]
  },
  {
   "cell_type": "markdown",
   "id": "45abdb19-1608-4b80-9874-da2caf4f390e",
   "metadata": {},
   "source": [
    "+ 不同集合上元素的迭代  \n",
    "`itertools.chain`"
   ]
  },
  {
   "cell_type": "code",
   "execution_count": 82,
   "id": "bd1b5248-c8f8-45d3-b51d-497c7193e7a0",
   "metadata": {},
   "outputs": [
    {
     "name": "stdout",
     "output_type": "stream",
     "text": [
      "1\n",
      "2\n",
      "3\n",
      "w\n",
      "x\n",
      "y\n",
      "z\n"
     ]
    }
   ],
   "source": [
    "from itertools import chain\n",
    "for x in chain(a,b):\n",
    "    print(x)"
   ]
  },
  {
   "cell_type": "code",
   "execution_count": 86,
   "id": "8d2cc545-2fe2-4593-9ab3-8f527c177f8a",
   "metadata": {},
   "outputs": [
    {
     "name": "stdout",
     "output_type": "stream",
     "text": [
      "/Users/huzhenyu/Downloads/4月份/changanoushangX7-2021\n",
      "[]\n",
      "['2021款长安睿行M80配置表（附指导价）(1).xlsx', '2021款长安睿行M80配置表（附指导价）(1)_new.xlsx', '2021款长安欧尚X7Geeker版配置表(1)(1)_new.xlsx', '2021款长安欧尚X7Geeker版配置表(1)(1).xlsx']\n",
      "/Users/huzhenyu/Downloads/4月份/xinbaojunvalli-2021\n",
      "[]\n",
      "['新宝骏Valli产品参数配置表_new.xlsx', '新宝骏Valli产品参数配置表.xlsx']\n",
      "/Users/huzhenyu/Downloads/4月份/jinlongkaige-2021\n",
      "[]\n",
      "['2021年厦门金龙轻客车型配置价格表_new.xlsx', '2021年厦门金龙轻客车型配置价格表.xlsx']\n",
      "/Users/huzhenyu/Downloads/4月份/jianglingfutelingyu-2021\n",
      "[]\n",
      "['2021款江铃福特领裕配置表_new.xlsx', '2021款江铃福特领裕配置表.xlsx', '福特领裕6座车型配置表.xlsx', '福特领裕6座车型配置表_new.xlsx']\n",
      "/Users/huzhenyu/Downloads/4月份/weiting-2021\n",
      "[]\n",
      "['2021-Vito_brochure.pdf']\n",
      "/Users/huzhenyu/Downloads/4月份/dongfengfengguangS560-2021\n",
      "[]\n",
      "['2021款风光S560参数配置表(1)_new.xlsx', '2021款风光S560参数配置表(1).xlsx']\n",
      "/Users/huzhenyu/Downloads/4月份/jilidihaos-2021\n",
      "[]\n",
      "['帝豪S车型参数配置表(1).xlsx', '帝豪S车型参数配置表(1)_new.xlsx']\n",
      "/Users/huzhenyu/Downloads/4月份/tianjime7-2021\n",
      "[]\n",
      "['天际me7最新配置表_new.xlsx', '天际me7最新配置表.xlsx']\n",
      "/Users/huzhenyu/Downloads/4月份/gaohe HiPhi X-2021\n",
      "[]\n",
      "['HiPhi X配置表_A-Day_final_带价格信息(1)_new.xlsx', 'HiPhi X配置表_A-Day_final_带价格信息(1).xlsx']\n",
      "/Users/huzhenyu/Downloads/4月份/leidingmangguo-2021\n",
      "[]\n",
      "['雷丁芒果配置表(1).xlsx', '雷丁芒果配置表(1)_new.xlsx']\n",
      "/Users/huzhenyu/Downloads/4月份/jinlongkairui-2021\n",
      "[]\n",
      "['2021年厦门金龙轻客车型配置价格表_new.xlsx', '2021年厦门金龙轻客车型配置价格表.xlsx']\n",
      "/Users/huzhenyu/Downloads/4月份/jinlongjinwei-2021\n",
      "[]\n",
      "['2021年厦门金龙轻客车型配置价格表_new.xlsx', '2021年厦门金龙轻客车型配置价格表.xlsx']\n",
      "/Users/huzhenyu/Downloads/4月份/rongweiRX5PLUS-2021\n",
      "[]\n",
      "['荣威RX5 PLUS配置表-V2.0-20210402-新增荣麟版to外(2)(1)(1).xlsx', '荣威RX5 PLUS配置表-V2.0-20210402-新增荣麟版to外(2)(1)(1)_new.xlsx']\n",
      "/Users/huzhenyu/Downloads/4月份/dongfengfengshenyixuangs-2021\n",
      "[]\n",
      "['2021款奕炫GS配置表0402_new.xlsx', '2021款奕炫GS配置表0402.xlsx']\n",
      "/Users/huzhenyu/Downloads/4月份/kuayuexingV5-2021\n",
      "[]\n",
      "['跨越星V5配置表0310 V4_new.xlsx', '跨越星V5配置表0310 V4.xlsx']\n",
      "/Users/huzhenyu/Downloads/4月份/yiqibentengT99-2021\n",
      "[]\n",
      "['T99参数表-增加机长版210221_new.xlsx', 'T99参数表-增加机长版210221.xlsx']\n",
      "/Users/huzhenyu/Downloads/4月份/changanCS55PLUS-2021\n",
      "[]\n",
      "['CS55PLUS蓝鲸版 媒体配置表0409(1)_new.xlsx', 'CS55PLUS蓝鲸版 媒体配置表0409(1).xlsx']\n",
      "/Users/huzhenyu/Downloads/4月份/huanghaixiaoniu-2021\n",
      "[]\n",
      "['2021款小牛（N1）皮卡配置表.xlsx', '2021款小牛（N1）皮卡配置表_new.xlsx']\n",
      "/Users/huzhenyu/Downloads/4月份/sihaoe10x-2021\n",
      "[]\n",
      "['1.2021年思皓E10X系列车型配置表20210301- 发布版.xls']\n",
      "/Users/huzhenyu/Downloads/4月份/huanghaidaniu-2021\n",
      "[]\n",
      "['2021款大牛商用版（N1S)产品配置表.xlsx', '2021款大牛商用版（N1S)产品配置表_new.xlsx']\n",
      "/Users/huzhenyu/Downloads/4月份/rongweiRX3 PRO-2021\n",
      "[]\n",
      "['荣威RX3\\xa0PRO配置表(1)_new.xlsx', '荣威RX3\\xa0PRO配置表(1).xlsx']\n",
      "/Users/huzhenyu/Downloads/4月份/changanruixingM80-2021\n",
      "[]\n",
      "[]\n",
      "/Users/huzhenyu/Downloads/4月份/shenqiT20-2021\n",
      "[]\n",
      "['汽车之家 配置样式（神骐T20豪华版）4.9.xlsx', '汽车之家 配置样式（神骐T20豪华版）4.9_new.xlsx']\n",
      "/Users/huzhenyu/Downloads/4月份/jinbeihaishiwang-2021\n",
      "[]\n",
      "['金杯海狮王配置表-媒体-参数补充版(1).xls']\n",
      "/Users/huzhenyu/Downloads/4月份/guangqiaian Y-2021\n",
      "[]\n",
      "['广汽埃安AION Y配置表.xls']\n",
      "/Users/huzhenyu/Downloads/4月份/huanghaiyeniu-2021\n",
      "[]\n",
      "['2021黄海野牛（N2S）产品配置表.xlsx', '2021黄海野牛（N2S）产品配置表_new.xlsx']\n",
      "/Users/huzhenyu/Downloads/4月份/lingpaoT03-2021\n",
      "[]\n",
      "['2021款零跑T03广宣配置表V2.1(1)_new.xlsx', '2021款零跑T03广宣配置表V2.1(1).xlsx']\n",
      "/Users/huzhenyu/Downloads/4月份/dongfengfengshenyixuan-2021\n",
      "[]\n",
      "['2021款风神奕炫上市配置表0407.xlsx', '2021款风神奕炫上市配置表0407_new.xlsx']\n",
      "/Users/huzhenyu/Downloads/4月份/hongguangminiev-2021\n",
      "[]\n",
      "['【配置表】宏光MINIEV马卡龙主要参数及配置表(1)(2)_new.xlsx', '【配置表】宏光MINIEV马卡龙主要参数及配置表(1)(2).xlsx']\n",
      "/Users/huzhenyu/Downloads/4月份\n",
      "['changanoushangX7-2021', 'xinbaojunvalli-2021', 'jinlongkaige-2021', 'jianglingfutelingyu-2021', 'weiting-2021', 'dongfengfengguangS560-2021', 'jilidihaos-2021', 'tianjime7-2021', 'gaohe HiPhi X-2021', 'leidingmangguo-2021', 'jinlongkairui-2021', 'jinlongjinwei-2021', 'rongweiRX5PLUS-2021', 'dongfengfengshenyixuangs-2021', 'kuayuexingV5-2021', 'yiqibentengT99-2021', 'changanCS55PLUS-2021', 'huanghaixiaoniu-2021', 'sihaoe10x-2021', 'huanghaidaniu-2021', 'rongweiRX3 PRO-2021', 'changanruixingM80-2021', 'shenqiT20-2021', 'jinbeihaishiwang-2021', 'guangqiaian Y-2021', 'huanghaiyeniu-2021', 'lingpaoT03-2021', 'dongfengfengshenyixuan-2021', 'hongguangminiev-2021']\n",
      "['.DS_Store']\n"
     ]
    }
   ],
   "source": [
    "import os\n",
    "for root, dirs, files in os.walk(\"/Users/huzhenyu/Downloads/4月份\", topdown=False):\n",
    "    print(root,dirs,files,sep='\\n')"
   ]
  },
  {
   "cell_type": "code",
   "execution_count": 88,
   "id": "3a0425fe-673f-466c-a8dc-a1587c00e806",
   "metadata": {},
   "outputs": [],
   "source": [
    "import os\n",
    "import fnmatch\n",
    "import gzip\n",
    "import bz2\n",
    "import re\n",
    "\n",
    "def gen_find(filepat, top):\n",
    "    '''\n",
    "    Find all filenames in a directory tree that match a shell wildcard pattern\n",
    "    '''\n",
    "    for path, dirlist, filelist in os.walk(top):\n",
    "        for name in fnmatch.filter(filelist, filepat):\n",
    "            yield os.path.join(path,name)\n",
    "\n",
    "def gen_opener(filenames):\n",
    "    '''\n",
    "    Open a sequence of filenames one at a time producing a file object.\n",
    "    The file is closed immediately when proceeding to the next iteration.\n",
    "    '''\n",
    "    for filename in filenames:\n",
    "        if filename.endswith('.gz'):\n",
    "            f = gzip.open(filename, 'rt')\n",
    "        elif filename.endswith('.bz2'):\n",
    "            f = bz2.open(filename, 'rt')\n",
    "        else:\n",
    "            f = open(filename, 'rt')\n",
    "        yield f\n",
    "        f.close()\n",
    "\n",
    "def gen_concatenate(iterators):\n",
    "    '''\n",
    "    Chain a sequence of iterators together into a single sequence.\n",
    "    '''\n",
    "    for it in iterators:\n",
    "        yield from it\n",
    "\n",
    "def gen_grep(pattern, lines):\n",
    "    '''\n",
    "    Look for a regex pattern in a sequence of lines\n",
    "    '''\n",
    "    pat = re.compile(pattern)\n",
    "    for line in lines:\n",
    "        if pat.search(line):\n",
    "            yield line\n",
    "            \n",
    "lognames = gen_find('access-log*', '.')\n",
    "files = gen_opener(lognames)\n",
    "lines = gen_concatenate(files)\n",
    "pylines = gen_grep('(?i)python', lines)\n",
    "for line in pylines:\n",
    "    print(line)"
   ]
  },
  {
   "cell_type": "markdown",
   "id": "39f4a3cb-1a04-4dce-851f-f56c0e04292d",
   "metadata": {},
   "source": [
    "+ 展开嵌套的序列"
   ]
  },
  {
   "cell_type": "code",
   "execution_count": 90,
   "id": "46e6ccc4-10bf-42ed-b4b0-9ce16b3509ba",
   "metadata": {},
   "outputs": [
    {
     "name": "stdout",
     "output_type": "stream",
     "text": [
      "1\n",
      "2\n",
      "3\n",
      "4\n",
      "5\n",
      "6\n",
      "7\n",
      "8\n"
     ]
    },
    {
     "name": "stderr",
     "output_type": "stream",
     "text": [
      "/var/folders/g6/h24w2cnn0bzbzz1dc4v4fplm0000gn/T/ipykernel_74780/3239541074.py:1: DeprecationWarning: Using or importing the ABCs from 'collections' instead of from 'collections.abc' is deprecated since Python 3.3, and in 3.10 it will stop working\n",
      "  from collections import Iterable\n"
     ]
    }
   ],
   "source": [
    "from collections import Iterable\n",
    "\n",
    "def flatten(items, ignore_types=(str, bytes)):\n",
    "    for x in items:\n",
    "        if isinstance(x, Iterable) and not isinstance(x, ignore_types):\n",
    "            yield from flatten(x)\n",
    "        else:\n",
    "            yield x\n",
    "\n",
    "items = [1, 2, [3, 4, [5, 6], 7], 8]\n",
    "# Produces 1 2 3 4 5 6 7 8\n",
    "for x in flatten(items):\n",
    "    print(x)"
   ]
  },
  {
   "cell_type": "markdown",
   "id": "314efaf9-07e4-4615-8da9-2e4f73ac3110",
   "metadata": {},
   "source": [
    "+ 顺序迭代合并后的排序迭代对象  \n",
    "`heapq.merge`"
   ]
  },
  {
   "cell_type": "code",
   "execution_count": 92,
   "id": "ab857093-a2ca-406a-8f66-bb0dc61fe79c",
   "metadata": {},
   "outputs": [
    {
     "name": "stdout",
     "output_type": "stream",
     "text": [
      "1\n",
      "2\n",
      "3\n",
      "4\n",
      "6\n",
      "7\n",
      "10\n",
      "11\n"
     ]
    }
   ],
   "source": [
    "import heapq\n",
    "a = [1,4,7,10]\n",
    "b = [2,3,6,11]\n",
    "for c in heapq.merge(a,b):\n",
    "    print(c)"
   ]
  },
  {
   "cell_type": "code",
   "execution_count": 93,
   "id": "871c3a55-2caf-4dc1-8e38-4180004bf07c",
   "metadata": {},
   "outputs": [
    {
     "name": "stdout",
     "output_type": "stream",
     "text": [
      "1\n",
      "2\n",
      "3\n",
      "4\n",
      "7\n",
      "10\n",
      "11\n",
      "6\n"
     ]
    }
   ],
   "source": [
    "a = [1,4,7,10]\n",
    "b = [2,3,11,6]\n",
    "for c in heapq.merge(a,b):\n",
    "    print(c)"
   ]
  },
  {
   "cell_type": "code",
   "execution_count": null,
   "id": "9a449a19-c97e-48f0-96d1-fddb5f9965c2",
   "metadata": {},
   "outputs": [],
   "source": []
  }
 ],
 "metadata": {
  "kernelspec": {
   "display_name": "Python 3 (ipykernel)",
   "language": "python",
   "name": "python3"
  },
  "language_info": {
   "codemirror_mode": {
    "name": "ipython",
    "version": 3
   },
   "file_extension": ".py",
   "mimetype": "text/x-python",
   "name": "python",
   "nbconvert_exporter": "python",
   "pygments_lexer": "ipython3",
   "version": "3.8.10"
  }
 },
 "nbformat": 4,
 "nbformat_minor": 5
}