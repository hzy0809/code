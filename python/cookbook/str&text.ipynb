{
 "cells": [
  {
   "cell_type": "code",
   "execution_count": 1,
   "id": "22ec33d7-d2a6-471d-8e27-d9cc9487e276",
   "metadata": {},
   "outputs": [
    {
     "data": {
      "text/plain": [
       "['asdf', 'fjdk', 'afed', 'fjek', 'asdf', 'foo']"
      ]
     },
     "execution_count": 1,
     "metadata": {},
     "output_type": "execute_result"
    }
   ],
   "source": [
    "# 使用多个界定符分割字符串\n",
    "import re\n",
    "line = 'asdf fjdk; afed, fjek,asdf, foo'\n",
    "re.split(r'[;,\\s]\\s*',line)"
   ]
  },
  {
   "cell_type": "code",
   "execution_count": 2,
   "id": "141abe45-6629-416c-b1d6-bb83960783cf",
   "metadata": {},
   "outputs": [
    {
     "data": {
      "text/plain": [
       "['asdf', ' ', 'fjdk', ';', 'afed', ',', 'fjek', ',', 'asdf', ',', 'foo']"
      ]
     },
     "execution_count": 2,
     "metadata": {},
     "output_type": "execute_result"
    }
   ],
   "source": [
    "re.split(r'(;|,|\\s)\\s*',line)"
   ]
  },
  {
   "cell_type": "code",
   "execution_count": 3,
   "id": "5e81ec22-298f-4663-aef8-d9f4059671ba",
   "metadata": {},
   "outputs": [
    {
     "data": {
      "text/plain": [
       "['asdf', 'fjdk', 'afed', 'fjek', 'asdf', 'foo']"
      ]
     },
     "execution_count": 3,
     "metadata": {},
     "output_type": "execute_result"
    }
   ],
   "source": [
    "#  ?: 非分组捕获\n",
    "re.split(r'(?:;|,|\\s)\\s*',line)"
   ]
  },
  {
   "cell_type": "code",
   "execution_count": 4,
   "id": "f31f2879-667a-4570-9d3b-b18278ca8265",
   "metadata": {},
   "outputs": [
    {
     "data": {
      "text/plain": [
       "True"
      ]
     },
     "execution_count": 4,
     "metadata": {},
     "output_type": "execute_result"
    }
   ],
   "source": [
    "# 字符串开头或结尾匹配\n",
    "# str.startswith() str.endswith()\n",
    "# 字符串或者元组\n",
    "filename = 'foo.c'\n",
    "filename.endswith(('.c','.h'))"
   ]
  },
  {
   "cell_type": "code",
   "execution_count": 5,
   "id": "4e851eeb-cc15-426d-815b-c33a42830bfa",
   "metadata": {},
   "outputs": [
    {
     "data": {
      "text/plain": [
       "<re.Match object; span=(0, 10), match='11/27/2012'>"
      ]
     },
     "execution_count": 5,
     "metadata": {},
     "output_type": "execute_result"
    }
   ],
   "source": [
    "# re\n",
    "import re\n",
    "text1 = '11/27/2012'\n",
    "test2 = 'Nov 27,2012'\n",
    "datepat = re.compile(r'\\d+/\\d+/\\d+')\n",
    "datepat.match(text1)"
   ]
  },
  {
   "cell_type": "code",
   "execution_count": 8,
   "id": "e6e678a6-5993-44e0-ad9d-f067afe77b71",
   "metadata": {},
   "outputs": [
    {
     "data": {
      "text/plain": [
       "['11/27/2012', '3/13/2013']"
      ]
     },
     "execution_count": 8,
     "metadata": {},
     "output_type": "execute_result"
    }
   ],
   "source": [
    "text = 'Today is 11/27/2012. PyCon starts 3/13/2013.'\n",
    "datepat.findall(text)"
   ]
  },
  {
   "cell_type": "code",
   "execution_count": 10,
   "id": "8c40579a-c2d2-4ce3-b8c1-de9480dde9e0",
   "metadata": {},
   "outputs": [
    {
     "data": {
      "text/plain": [
       "<re.Match object; span=(0, 10), match='11/27/2012'>"
      ]
     },
     "execution_count": 10,
     "metadata": {},
     "output_type": "execute_result"
    }
   ],
   "source": [
    "datepat = re.compile(r'(\\d+)/(\\d+)/(\\d+)')\n",
    "m = datepat.match('11/27/2012')\n",
    "m"
   ]
  },
  {
   "cell_type": "code",
   "execution_count": 12,
   "id": "f031d8f3-ecf6-4861-95e6-d818b8635674",
   "metadata": {},
   "outputs": [
    {
     "data": {
      "text/plain": [
       "('11/27/2012', '11', '27', '2012', ('11', '27', '2012'))"
      ]
     },
     "execution_count": 12,
     "metadata": {},
     "output_type": "execute_result"
    }
   ],
   "source": [
    "m.group(0),m.group(1),m.group(2),m.group(3),m.groups()"
   ]
  },
  {
   "cell_type": "code",
   "execution_count": 13,
   "id": "0d8303b3-e08a-456d-a214-2c3dd6a6de99",
   "metadata": {},
   "outputs": [
    {
     "data": {
      "text/plain": [
       "[('11', '27', '2012'), ('3', '13', '2013')]"
      ]
     },
     "execution_count": 13,
     "metadata": {},
     "output_type": "execute_result"
    }
   ],
   "source": [
    "datepat.findall(text)"
   ]
  },
  {
   "cell_type": "code",
   "execution_count": 15,
   "id": "f1dbfa1a-31ba-4e79-90b7-3d087da10b76",
   "metadata": {},
   "outputs": [
    {
     "name": "stdout",
     "output_type": "stream",
     "text": [
      "('11', '27', '2012')\n",
      "('3', '13', '2013')\n"
     ]
    }
   ],
   "source": [
    "# finditer() 返回一个可迭代对象\n",
    "for m in datepat.finditer(text):\n",
    "    print(m.groups())"
   ]
  },
  {
   "cell_type": "code",
   "execution_count": 16,
   "id": "aeb407af-ed94-4c85-9a94-ca4081a0286c",
   "metadata": {},
   "outputs": [
    {
     "data": {
      "text/plain": [
       "'Today is 11/27/2012. PyCon starts 3/13/2013.'"
      ]
     },
     "execution_count": 16,
     "metadata": {},
     "output_type": "execute_result"
    }
   ],
   "source": [
    "# 字符串搜索和替换\n",
    "# str.replace()\n",
    "# re.sub()\n",
    "text"
   ]
  },
  {
   "cell_type": "markdown",
   "id": "bf2ebbde-ccc1-448b-85f3-0d0d256511a0",
   "metadata": {},
   "source": [
    "`sub()` 函数中的第一个参数是被匹配的模式，第二个参数是替换模式。反斜杠数字比如 \\3 指向前面模式的捕获组号。"
   ]
  },
  {
   "cell_type": "code",
   "execution_count": 17,
   "id": "fcc4fda8-28fe-4ad1-a3f9-05ac6b3dbf27",
   "metadata": {},
   "outputs": [
    {
     "data": {
      "text/plain": [
       "'Today is 2012-11-27. PyCon starts 2013-3-13.'"
      ]
     },
     "execution_count": 17,
     "metadata": {},
     "output_type": "execute_result"
    }
   ],
   "source": [
    "re.sub(r'(\\d+)/(\\d+)/(\\d+)', r'\\3-\\1-\\2', text)"
   ]
  },
  {
   "cell_type": "markdown",
   "id": "f203003a-e895-4be6-af3c-3765949f2165",
   "metadata": {},
   "source": [
    "`\\g<group_name>`指向命名分组"
   ]
  },
  {
   "cell_type": "code",
   "execution_count": 18,
   "id": "4595b380-1650-41ea-9028-7635dcf8330e",
   "metadata": {},
   "outputs": [
    {
     "data": {
      "text/plain": [
       "'Today is 2012-11-27. PyCon starts 2013-3-13.'"
      ]
     },
     "execution_count": 18,
     "metadata": {},
     "output_type": "execute_result"
    }
   ],
   "source": [
    "re.sub(r'(?P<month>\\d+)/(?P<day>\\d+)/(?P<year>\\d+)', r'\\g<year>-\\g<month>-\\g<day>', text)"
   ]
  },
  {
   "cell_type": "code",
   "execution_count": 19,
   "id": "d596ec84-7a89-41eb-a42a-8411dd48d941",
   "metadata": {},
   "outputs": [
    {
     "data": {
      "text/plain": [
       "('Today is 2012-11-27. PyCon starts 2013-3-13.', 2)"
      ]
     },
     "execution_count": 19,
     "metadata": {},
     "output_type": "execute_result"
    }
   ],
   "source": [
    "newtext,n = re.subn(r'(?P<month>\\d+)/(?P<day>\\d+)/(?P<year>\\d+)', r'\\g<year>-\\g<month>-\\g<day>', text)\n",
    "newtext,n"
   ]
  },
  {
   "cell_type": "markdown",
   "id": "81d0a614-dfd7-4afe-a5dd-c649058440ea",
   "metadata": {},
   "source": [
    "+ 替换回调函数"
   ]
  },
  {
   "cell_type": "code",
   "execution_count": 24,
   "id": "4f721cac-499f-45dd-a3d9-5f54a8e28a26",
   "metadata": {},
   "outputs": [
    {
     "data": {
      "text/plain": [
       "('Today is 27 Nov 2012. PyCon starts 13 Mar 2013.', 2)"
      ]
     },
     "execution_count": 24,
     "metadata": {},
     "output_type": "execute_result"
    }
   ],
   "source": [
    "from calendar import month_abbr\n",
    "def change_date(m):\n",
    "    mon_name=month_abbr[int(m.group(1))]\n",
    "    return f'{m.group(2)} {mon_name} {m.group(3)}'\n",
    "datepat = re.compile(r'(\\d+)/(\\d+)/(\\d+)')\n",
    "datepat.subn(change_date,text)"
   ]
  },
  {
   "cell_type": "markdown",
   "id": "7a66a3c4-6b9e-4e09-a4d5-eec804c723c8",
   "metadata": {},
   "source": [
    "+ 忽略大小写，`re.IGNORECASE`"
   ]
  },
  {
   "cell_type": "code",
   "execution_count": 25,
   "id": "5ef87942-036b-4c4c-bfb2-ecb6cee20fb6",
   "metadata": {},
   "outputs": [
    {
     "data": {
      "text/plain": [
       "['PYTHON', 'python', 'Python']"
      ]
     },
     "execution_count": 25,
     "metadata": {},
     "output_type": "execute_result"
    }
   ],
   "source": [
    "text = 'UPPER PYTHON, lower python, Mixed Python'\n",
    "re.findall('python', text, flags=re.IGNORECASE)"
   ]
  },
  {
   "cell_type": "code",
   "execution_count": 26,
   "id": "9601fa2a-4039-4700-9172-8a3deb8aa829",
   "metadata": {},
   "outputs": [
    {
     "data": {
      "text/plain": [
       "'UPPER snake, lower snake, Mixed snake'"
      ]
     },
     "execution_count": 26,
     "metadata": {},
     "output_type": "execute_result"
    }
   ],
   "source": [
    "re.sub('python', 'snake', text, flags=re.IGNORECASE)"
   ]
  },
  {
   "cell_type": "markdown",
   "id": "68b6fb4f-bfd7-4972-b9f1-cc07743e0f84",
   "metadata": {},
   "source": [
    "+ 最短匹配模式  \n",
    "在`*`后面添加`?`使得匹配变成非贪婪模式"
   ]
  },
  {
   "cell_type": "code",
   "execution_count": 28,
   "id": "0acd0e09-ac71-4df7-870e-66b561e8098f",
   "metadata": {},
   "outputs": [
    {
     "data": {
      "text/plain": [
       "(['no.'], ['no.\" Phone says \"yes.'])"
      ]
     },
     "execution_count": 28,
     "metadata": {},
     "output_type": "execute_result"
    }
   ],
   "source": [
    "str_pat = re.compile(r'\"(.*)\"')\n",
    "text1 = 'Computer says \"no.\"'\n",
    "text2 = 'Computer says \"no.\" Phone says \"yes.\"'\n",
    "str_pat.findall(text1),str_pat.findall(text2)"
   ]
  },
  {
   "cell_type": "code",
   "execution_count": 29,
   "id": "0d8bc6ce-57a3-4471-a795-041f66864847",
   "metadata": {},
   "outputs": [
    {
     "data": {
      "text/plain": [
       "['no.', 'yes.']"
      ]
     },
     "execution_count": 29,
     "metadata": {},
     "output_type": "execute_result"
    }
   ],
   "source": [
    "str_pat = re.compile(r'\"(.*?)\"')\n",
    "str_pat.findall(text2)"
   ]
  },
  {
   "cell_type": "markdown",
   "id": "d591be9c-e321-4963-9e85-d5699a10f727",
   "metadata": {},
   "source": [
    "+ 多行匹配   \n",
    "`.`不能匹配换行符   \n",
    "`(?:.|\\n)`指定一个非捕获组\n",
    "`re.DOTALL` 让正则表达式中的`.`匹配包括换行符在内的任意字符"
   ]
  },
  {
   "cell_type": "code",
   "execution_count": 30,
   "id": "7b60f376-c6ec-4e18-8a1c-746a65eaad3a",
   "metadata": {},
   "outputs": [
    {
     "data": {
      "text/plain": [
       "[' this is a\\n multiline comment ']"
      ]
     },
     "execution_count": 30,
     "metadata": {},
     "output_type": "execute_result"
    }
   ],
   "source": [
    "text2 = '''/* this is a\n",
    " multiline comment */\n",
    "'''\n",
    "comment = re.compile(r'/\\*((?:.|\\n)*?)\\*/')\n",
    "comment.findall(text2)"
   ]
  },
  {
   "cell_type": "code",
   "execution_count": 31,
   "id": "3b556d46-30a0-4aa8-a57c-95ffcf6f79ae",
   "metadata": {},
   "outputs": [
    {
     "data": {
      "text/plain": [
       "[' this is a\\n multiline comment ']"
      ]
     },
     "execution_count": 31,
     "metadata": {},
     "output_type": "execute_result"
    }
   ],
   "source": [
    "comment = re.compile(r'/\\*(.*?)\\*/', re.DOTALL)\n",
    "comment.findall(text2)"
   ]
  },
  {
   "cell_type": "markdown",
   "id": "f09c7057-96a5-4dd3-84f4-c9fbadfa388d",
   "metadata": {},
   "source": [
    "+ str.translate()"
   ]
  },
  {
   "cell_type": "code",
   "execution_count": 38,
   "id": "8d39262c-186f-4f28-9764-9cce13f72ae4",
   "metadata": {},
   "outputs": [
    {
     "data": {
      "text/plain": [
       "'pýtĥöñ is awesome\\n'"
      ]
     },
     "execution_count": 38,
     "metadata": {},
     "output_type": "execute_result"
    }
   ],
   "source": [
    "import sys\n",
    "import unicodedata\n",
    "cmb_chrs = dict.fromkeys(c for c in range(sys.maxunicode) if unicodedata.combining(chr(c)))\n",
    "s = 'pýtĥöñ\\fis\\tawesome\\r\\n'\n",
    "remap = {\n",
    " ord('\\t') : ' ',\n",
    "ord('\\f') : ' ',\n",
    "ord('\\r') : None # Deleted\n",
    "}\n",
    "a = s.translate(remap)\n",
    "a"
   ]
  },
  {
   "cell_type": "code",
   "execution_count": null,
   "id": "40fc3881-f33c-4442-adbb-cd932601aaee",
   "metadata": {},
   "outputs": [],
   "source": []
  },
  {
   "cell_type": "code",
   "execution_count": 40,
   "id": "d6704d35-1b83-4cf0-9c4e-18d09a5c5b67",
   "metadata": {},
   "outputs": [
    {
     "data": {
      "text/plain": [
       "'pýtĥöñ is awesome\\n'"
      ]
     },
     "execution_count": 40,
     "metadata": {},
     "output_type": "execute_result"
    }
   ],
   "source": [
    "b = unicodedata.normalize('NFD', a)\n",
    "b"
   ]
  },
  {
   "cell_type": "code",
   "execution_count": 41,
   "id": "3e6ff4e3-fcb6-4bb6-9c7a-a87a2c56a84c",
   "metadata": {},
   "outputs": [
    {
     "data": {
      "text/plain": [
       "'python is awesome\\n'"
      ]
     },
     "execution_count": 41,
     "metadata": {},
     "output_type": "execute_result"
    }
   ],
   "source": [
    "b.translate(cmb_chrs)"
   ]
  },
  {
   "cell_type": "markdown",
   "id": "9d2e4cee-8ec8-4d19-998a-3d17688a5900",
   "metadata": {},
   "source": [
    "+ 字符串对齐\n",
    "> `ljust(20,'+')`,`rjust(20,'-')`,`center(20,'*')`  \n",
    "> `format(x,'=>20')`  \n",
    "> `'%-20s' % text`  "
   ]
  },
  {
   "cell_type": "code",
   "execution_count": 42,
   "id": "4e8ceb80-8588-45d4-93f9-fc604d7331b3",
   "metadata": {},
   "outputs": [
    {
     "data": {
      "text/plain": [
       "('Hello World         ', '         Hello World', '    Hello World     ')"
      ]
     },
     "execution_count": 42,
     "metadata": {},
     "output_type": "execute_result"
    }
   ],
   "source": [
    "text = 'Hello World'\n",
    "text.ljust(20),text.rjust(20),text.center(20)"
   ]
  },
  {
   "cell_type": "code",
   "execution_count": 43,
   "id": "3cb8c730-ff00-4ddf-881c-b9f99e1037e8",
   "metadata": {},
   "outputs": [
    {
     "data": {
      "text/plain": [
       "('=========Hello World', '****Hello World*****')"
      ]
     },
     "execution_count": 43,
     "metadata": {},
     "output_type": "execute_result"
    }
   ],
   "source": [
    "text.rjust(20,'='),text.center(20,'*')"
   ]
  },
  {
   "cell_type": "code",
   "execution_count": 44,
   "id": "c72326a9-4a1a-416a-b23c-4e5d34bbf744",
   "metadata": {},
   "outputs": [
    {
     "data": {
      "text/plain": [
       "('         Hello World', 'Hello World         ', '    Hello World     ')"
      ]
     },
     "execution_count": 44,
     "metadata": {},
     "output_type": "execute_result"
    }
   ],
   "source": [
    "format(text,'>20'),format(text,'<20'),format(text,'^20')"
   ]
  },
  {
   "cell_type": "code",
   "execution_count": 47,
   "id": "bfa73f92-5a84-4e1c-ab41-4e40d83e31af",
   "metadata": {},
   "outputs": [
    {
     "data": {
      "text/plain": [
       "('=========Hello World', '****Hello World*****')"
      ]
     },
     "execution_count": 47,
     "metadata": {},
     "output_type": "execute_result"
    }
   ],
   "source": [
    "format(text,'=>20s'),format(text,'*^20s')"
   ]
  },
  {
   "cell_type": "code",
   "execution_count": 48,
   "id": "176139e6-ab5a-4488-94ca-34583f67e6f8",
   "metadata": {},
   "outputs": [
    {
     "data": {
      "text/plain": [
       "'     Hello      World'"
      ]
     },
     "execution_count": 48,
     "metadata": {},
     "output_type": "execute_result"
    }
   ],
   "source": [
    "'{:>10s} {:>10s}'.format('Hello','World')"
   ]
  },
  {
   "cell_type": "code",
   "execution_count": 52,
   "id": "91c2c40e-3a96-4326-9a79-f5702ff55181",
   "metadata": {},
   "outputs": [
    {
     "data": {
      "text/plain": [
       "('    1.2345', '   1.23   ', '0001.23000')"
      ]
     },
     "execution_count": 52,
     "metadata": {},
     "output_type": "execute_result"
    }
   ],
   "source": [
    "x = 1.2345\n",
    "format(x,'>10'),format(x,'^10.2f'),format(x,'0^10.2f')"
   ]
  },
  {
   "cell_type": "code",
   "execution_count": 53,
   "id": "4ea2a4b9-7ab8-4be0-87dd-b22a9a6769e0",
   "metadata": {},
   "outputs": [
    {
     "data": {
      "text/plain": [
       "'     Hello      World'"
      ]
     },
     "execution_count": 53,
     "metadata": {},
     "output_type": "execute_result"
    }
   ],
   "source": [
    "'{a:>10s} {b:>10s}'.format(a='Hello',b='World')"
   ]
  },
  {
   "cell_type": "markdown",
   "id": "e7c6e46d-d6c3-4868-8992-5ea7909c7655",
   "metadata": {},
   "source": [
    "+ 合并拼接字符串  \n",
    "`join`  \n",
    "`+`  \n",
    "`print`"
   ]
  },
  {
   "cell_type": "code",
   "execution_count": 54,
   "id": "b4de9801-60c2-47be-ac33-a51db36afeae",
   "metadata": {},
   "outputs": [
    {
     "name": "stdout",
     "output_type": "stream",
     "text": [
      "1:2:3\n"
     ]
    }
   ],
   "source": [
    "a,b,c = (1,2,3)\n",
    "print(a,b,c,sep=':')"
   ]
  },
  {
   "cell_type": "markdown",
   "id": "87ad43a1-42bb-4f11-90f0-b64f5c84913d",
   "metadata": {},
   "source": [
    "+ 字符串中加入变量"
   ]
  },
  {
   "cell_type": "code",
   "execution_count": 64,
   "id": "02866b1b-dd56-43f6-8beb-eaaa5e9a6536",
   "metadata": {},
   "outputs": [
    {
     "data": {
      "text/plain": [
       "'1 {age}'"
      ]
     },
     "execution_count": 64,
     "metadata": {},
     "output_type": "execute_result"
    }
   ],
   "source": [
    "class safesub(dict):\n",
    "    def __missing__(self,key):\n",
    "        return '{'+key+'}'\n",
    "'{name} {age}'.format_map(safesub(name=1))"
   ]
  },
  {
   "cell_type": "markdown",
   "id": "bc24c18e-0f7e-4e4f-b065-caeddfd8fe19",
   "metadata": {},
   "source": [
    "+ 以指定列宽格式化字符串  \n",
    "`textwrap`"
   ]
  },
  {
   "cell_type": "code",
   "execution_count": 66,
   "id": "272692d1-2485-4371-8f60-9cb1b92fc3dd",
   "metadata": {},
   "outputs": [
    {
     "data": {
      "text/plain": [
       "\"Look into my eyes, look into my eyes, the eyes, the eyes, the eyes, not around the eyes, don't look around the eyes, look into my eyes, you're under.\""
      ]
     },
     "execution_count": 66,
     "metadata": {},
     "output_type": "execute_result"
    }
   ],
   "source": [
    "s = \"Look into my eyes, look into my eyes, the eyes, the eyes, \\\n",
    "the eyes, not around the eyes, don't look around the eyes, \\\n",
    "look into my eyes, you're under.\"\n",
    "s"
   ]
  },
  {
   "cell_type": "code",
   "execution_count": 72,
   "id": "2eb657dc-d4fd-4a1d-9293-f93c23359150",
   "metadata": {},
   "outputs": [
    {
     "name": "stdout",
     "output_type": "stream",
     "text": [
      "Look into my eyes, look into my eyes, the eyes, the eyes, the eyes,\n",
      "not around the eyes, don't look around the eyes, look into my eyes,\n",
      "you're under.\n"
     ]
    }
   ],
   "source": [
    "import textwrap\n",
    "print(textwrap.fill(s,70))"
   ]
  },
  {
   "cell_type": "code",
   "execution_count": 73,
   "id": "7277a136-6c9d-4291-baf3-d07005176eb5",
   "metadata": {},
   "outputs": [
    {
     "name": "stdout",
     "output_type": "stream",
     "text": [
      "    Look into my eyes, look into my\n",
      "eyes, the eyes, the eyes, the eyes, not\n",
      "around the eyes, don't look around the\n",
      "eyes, look into my eyes, you're under.\n"
     ]
    }
   ],
   "source": [
    "print(textwrap.fill(s,40,initial_indent='    '))"
   ]
  },
  {
   "cell_type": "code",
   "execution_count": 74,
   "id": "e356331a-2bb2-45e0-ae58-6f9d3759b53c",
   "metadata": {},
   "outputs": [
    {
     "name": "stdout",
     "output_type": "stream",
     "text": [
      "Look into my eyes, look into my eyes,\n",
      "    the eyes, the eyes, the eyes, not\n",
      "    around the eyes, don't look around\n",
      "    the eyes, look into my eyes, you're\n",
      "    under.\n"
     ]
    }
   ],
   "source": [
    "print(textwrap.fill(s,40,subsequent_indent='    '))"
   ]
  },
  {
   "cell_type": "markdown",
   "id": "553a3f91-8a06-49c2-9a0e-cdda9e9d04f5",
   "metadata": {},
   "source": [
    "+ 字符串令牌解析"
   ]
  },
  {
   "cell_type": "code",
   "execution_count": 87,
   "id": "08ff81ea-163c-47b3-85aa-e4a574b6832e",
   "metadata": {},
   "outputs": [
    {
     "name": "stdout",
     "output_type": "stream",
     "text": [
      "<re.Match object; span=(0, 3), match='foo'>\n",
      "NAME foo\n",
      "<re.Match object; span=(3, 4), match=' '>\n",
      "WS  \n",
      "<re.Match object; span=(4, 5), match='='>\n",
      "EQ =\n",
      "<re.Match object; span=(5, 6), match=' '>\n",
      "WS  \n",
      "<re.Match object; span=(6, 8), match='42'>\n",
      "NUM 42\n",
      "None\n"
     ]
    }
   ],
   "source": [
    "text = 'foo = 23 + 42 * 10'\n",
    "import re\n",
    "NAME = r'(?P<NAME>[a-zA-Z_][a-zA-Z_0-9]*)'\n",
    "NUM = r'(?P<NUM>\\d+)'\n",
    "PLUS = r'(?P<PLUS>\\+)'\n",
    "TIMES = r'(?P<TIMES>\\*)'\n",
    "EQ = r'(?P<EQ>=)'\n",
    "WS = r'(?P<WS>\\s+)'\n",
    "\n",
    "master_pat = re.compile('|'.join([NAME, NUM, PLUS, TIMES, EQ, WS]))\n",
    "scanner = master_pat.scanner('foo = 42')\n",
    "for i in range(6):\n",
    "    _ = scanner.match()\n",
    "    print(_)\n",
    "    if _:\n",
    "        print(_.lastgroup,_.group())"
   ]
  },
  {
   "cell_type": "code",
   "execution_count": 91,
   "id": "beccae93-551b-4afd-b319-3a01391fc161",
   "metadata": {},
   "outputs": [
    {
     "name": "stdout",
     "output_type": "stream",
     "text": [
      "Token(type='NAME', value='foo')\n",
      "Token(type='WS', value=' ')\n",
      "Token(type='EQ', value='=')\n",
      "Token(type='WS', value=' ')\n",
      "Token(type='NUM', value='42')\n"
     ]
    }
   ],
   "source": [
    "from collections import namedtuple\n",
    "def generate_tokens(pat, text):\n",
    "    Token = namedtuple('Token', ['type', 'value'])\n",
    "    scanner = pat.scanner(text)\n",
    "    for m in iter(scanner.match, None):\n",
    "        yield Token(m.lastgroup, m.group())\n",
    "for tok in generate_tokens(master_pat, 'foo = 42'):\n",
    "    print(tok)"
   ]
  },
  {
   "cell_type": "code",
   "execution_count": 92,
   "id": "3a174fa4-653c-4f09-91d4-b1ffab4f6268",
   "metadata": {},
   "outputs": [
    {
     "name": "stdout",
     "output_type": "stream",
     "text": [
      "2\n",
      "5\n",
      "14\n",
      "37\n"
     ]
    }
   ],
   "source": [
    "#!/usr/bin/env python\n",
    "# -*- encoding: utf-8 -*-\n",
    "\"\"\"\n",
    "Topic: 下降解析器\n",
    "Desc :\n",
    "\"\"\"\n",
    "import re\n",
    "import collections\n",
    "\n",
    "# Token specification\n",
    "NUM = r'(?P<NUM>\\d+)'\n",
    "PLUS = r'(?P<PLUS>\\+)'\n",
    "MINUS = r'(?P<MINUS>-)'\n",
    "TIMES = r'(?P<TIMES>\\*)'\n",
    "DIVIDE = r'(?P<DIVIDE>/)'\n",
    "LPAREN = r'(?P<LPAREN>\\()'\n",
    "RPAREN = r'(?P<RPAREN>\\))'\n",
    "WS = r'(?P<WS>\\s+)'\n",
    "\n",
    "master_pat = re.compile('|'.join([NUM, PLUS, MINUS, TIMES,\n",
    "                                  DIVIDE, LPAREN, RPAREN, WS]))\n",
    "# Tokenizer\n",
    "Token = collections.namedtuple('Token', ['type', 'value'])\n",
    "\n",
    "\n",
    "def generate_tokens(text):\n",
    "    scanner = master_pat.scanner(text)\n",
    "    for m in iter(scanner.match, None):\n",
    "        tok = Token(m.lastgroup, m.group())\n",
    "        if tok.type != 'WS':\n",
    "            yield tok\n",
    "\n",
    "\n",
    "# Parser\n",
    "class ExpressionEvaluator:\n",
    "    '''\n",
    "    Implementation of a recursive descent parser. Each method\n",
    "    implements a single grammar rule. Use the ._accept() method\n",
    "    to test and accept the current lookahead token. Use the ._expect()\n",
    "    method to exactly match and discard the next token on on the input\n",
    "    (or raise a SyntaxError if it doesn't match).\n",
    "    '''\n",
    "\n",
    "    def parse(self, text):\n",
    "        self.tokens = generate_tokens(text)\n",
    "        self.tok = None  # Last symbol consumed\n",
    "        self.nexttok = None  # Next symbol tokenized\n",
    "        self._advance()  # Load first lookahead token\n",
    "        return self.expr()\n",
    "\n",
    "    def _advance(self):\n",
    "        'Advance one token ahead'\n",
    "        self.tok, self.nexttok = self.nexttok, next(self.tokens, None)\n",
    "\n",
    "    def _accept(self, toktype):\n",
    "        'Test and consume the next token if it matches toktype'\n",
    "        if self.nexttok and self.nexttok.type == toktype:\n",
    "            self._advance()\n",
    "            return True\n",
    "        else:\n",
    "            return False\n",
    "\n",
    "    def _expect(self, toktype):\n",
    "        'Consume next token if it matches toktype or raise SyntaxError'\n",
    "        if not self._accept(toktype):\n",
    "            raise SyntaxError('Expected ' + toktype)\n",
    "\n",
    "    # Grammar rules follow\n",
    "    def expr(self):\n",
    "        \"expression ::= term { ('+'|'-') term }*\"\n",
    "        exprval = self.term()\n",
    "        while self._accept('PLUS') or self._accept('MINUS'):\n",
    "            op = self.tok.type\n",
    "            right = self.term()\n",
    "            if op == 'PLUS':\n",
    "                exprval += right\n",
    "            elif op == 'MINUS':\n",
    "                exprval -= right\n",
    "        return exprval\n",
    "\n",
    "    def term(self):\n",
    "        \"term ::= factor { ('*'|'/') factor }*\"\n",
    "        termval = self.factor()\n",
    "        while self._accept('TIMES') or self._accept('DIVIDE'):\n",
    "            op = self.tok.type\n",
    "            right = self.factor()\n",
    "            if op == 'TIMES':\n",
    "                termval *= right\n",
    "            elif op == 'DIVIDE':\n",
    "                termval /= right\n",
    "        return termval\n",
    "\n",
    "    def factor(self):\n",
    "        \"factor ::= NUM | ( expr )\"\n",
    "        if self._accept('NUM'):\n",
    "            return int(self.tok.value)\n",
    "        elif self._accept('LPAREN'):\n",
    "            exprval = self.expr()\n",
    "            self._expect('RPAREN')\n",
    "            return exprval\n",
    "        else:\n",
    "            raise SyntaxError('Expected NUMBER or LPAREN')\n",
    "\n",
    "\n",
    "def descent_parser():\n",
    "    e = ExpressionEvaluator()\n",
    "    print(e.parse('2'))\n",
    "    print(e.parse('2 + 3'))\n",
    "    print(e.parse('2 + 3 * 4'))\n",
    "    print(e.parse('2 + (3 + 4) * 5'))\n",
    "    # print(e.parse('2 + (3 + * 4)'))\n",
    "    # Traceback (most recent call last):\n",
    "    #    File \"<stdin>\", line 1, in <module>\n",
    "    #    File \"exprparse.py\", line 40, in parse\n",
    "    #    return self.expr()\n",
    "    #    File \"exprparse.py\", line 67, in expr\n",
    "    #    right = self.term()\n",
    "    #    File \"exprparse.py\", line 77, in term\n",
    "    #    termval = self.factor()\n",
    "    #    File \"exprparse.py\", line 93, in factor\n",
    "    #    exprval = self.expr()\n",
    "    #    File \"exprparse.py\", line 67, in expr\n",
    "    #    right = self.term()\n",
    "    #    File \"exprparse.py\", line 77, in term\n",
    "    #    termval = self.factor()\n",
    "    #    File \"exprparse.py\", line 97, in factor\n",
    "    #    raise SyntaxError(\"Expected NUMBER or LPAREN\")\n",
    "    #    SyntaxError: Expected NUMBER or LPAREN\n",
    "\n",
    "\n",
    "if __name__ == '__main__':\n",
    "    descent_parser()"
   ]
  },
  {
   "cell_type": "code",
   "execution_count": null,
   "id": "50b6f7d7-8657-4bbf-b102-e280a59f49c9",
   "metadata": {},
   "outputs": [],
   "source": []
  }
 ],
 "metadata": {
  "kernelspec": {
   "display_name": "Python 3 (ipykernel)",
   "language": "python",
   "name": "python3"
  },
  "language_info": {
   "codemirror_mode": {
    "name": "ipython",
    "version": 3
   },
   "file_extension": ".py",
   "mimetype": "text/x-python",
   "name": "python",
   "nbconvert_exporter": "python",
   "pygments_lexer": "ipython3",
   "version": "3.8.10"
  }
 },
 "nbformat": 4,
 "nbformat_minor": 5
}