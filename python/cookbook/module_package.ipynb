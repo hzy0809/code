{
 "cells": [
  {
   "cell_type": "markdown",
   "id": "f94f5dcb-dfb6-4599-acff-4f8a5ebe427f",
   "metadata": {},
   "source": [
    "# 构建一个模块的层级包"
   ]
  },
  {
   "cell_type": "markdown",
   "id": "aae04a2f-6fc3-4226-b543-e23ae67d96c1",
   "metadata": {},
   "source": [
    "```\n",
    "graphics/\n",
    "    __init__.py\n",
    "    primitive/\n",
    "        __init__.py\n",
    "        line.py\n",
    "        fill.py\n",
    "        text.py\n",
    "    formats/\n",
    "        __init__.py\n",
    "        png.py\n",
    "        jpg.py\n",
    "```"
   ]
  },
  {
   "cell_type": "markdown",
   "id": "b8cc974a-23d8-4ca8-bb8c-ba2ce023a498",
   "metadata": {},
   "source": [
    " 文件`__init__.py`的目的是要包含不同运行级别的包的可选的初始化代码。"
   ]
  },
  {
   "cell_type": "markdown",
   "id": "6cfd2154-98dc-4785-a6fb-f7ce104dae64",
   "metadata": {},
   "source": [
    "# 控制模块被全部导入的内容"
   ]
  },
  {
   "cell_type": "markdown",
   "id": "3188b5fb-7bb0-4214-a824-f7a14146cc43",
   "metadata": {},
   "source": [
    "尽管强烈反对使用 `from module import *`, 但是在定义了大量变量名的模块中频繁使用。 如果你不做任何事, 这样的导入将会导入所有不以下划线开头的。 另一方面,如果定义了` __all__` , 那么只有被列举出的东西会被导出。\n",
    "\n",
    "如果你将 `__all__` 定义成一个空列表, 没有东西将被导入。 如果 `__all__` 包含未定义的名字, 在导入时引起`AttributeError`。"
   ]
  },
  {
   "cell_type": "code",
   "execution_count": 1,
   "id": "e51ca5eb-139c-46d6-ab90-4cef1f885e51",
   "metadata": {},
   "outputs": [],
   "source": [
    "# somemodule.py\n",
    "def spam():\n",
    "    pass\n",
    "\n",
    "def grok():\n",
    "    pass\n",
    "\n",
    "blah = 42\n",
    "# Only export 'spam' and 'grok'\n",
    "__all__ = ['spam', 'grok']"
   ]
  },
  {
   "cell_type": "markdown",
   "id": "19722a76-0afd-4c3b-8c17-12b6ab100b00",
   "metadata": {},
   "source": [
    "# 使用相对路径名导入包中子模块"
   ]
  },
  {
   "cell_type": "markdown",
   "id": "e5b5c2c1-c27e-4c84-934a-362dfe5b305a",
   "metadata": {},
   "source": [
    "```\n",
    "mypackage/\n",
    "    __init__.py\n",
    "    A/\n",
    "        __init__.py\n",
    "        spam.py\n",
    "        grok.py\n",
    "    B/\n",
    "        __init__.py\n",
    "        bar.py\n",
    "```"
   ]
  },
  {
   "cell_type": "markdown",
   "id": "116b2d7f-68a3-4e48-b7f6-1ea6a9a44643",
   "metadata": {},
   "source": [
    "如果模块`mypackage.A.spam`要导入同目录下的模块`grok`，它应该包括的`import`语句如下：\n",
    "```python\n",
    "# mypackage/A/spam.py\n",
    "from . import grok\n",
    "```"
   ]
  },
  {
   "cell_type": "markdown",
   "id": "7474b4a0-00b4-4c87-9a35-bdb7e5591950",
   "metadata": {},
   "source": [
    "如果模块`mypackage.A.spam`要导入不同目录下的模块`B.bar`，它应该使用的`import`语句如下：\n",
    "```python\n",
    "# mypackage/A/spam.py\n",
    "from ..B import bar\n",
    "```"
   ]
  },
  {
   "cell_type": "markdown",
   "id": "1e60bb9b-f2ff-4567-8805-ea0b2e303e56",
   "metadata": {},
   "source": [
    "`import`语句的 `.` 和 `..` 看起来很滑稽, 但它指定目录名`.`为当前目录，`..B`为目录`../B`。这种语法只适用于`from`。\n",
    "```python\n",
    "from . import grok # OK\n",
    "import .grok # ERROR\n",
    "```"
   ]
  },
  {
   "cell_type": "markdown",
   "id": "ba3e23cc-b8ba-4169-b84f-978ba1001ad9",
   "metadata": {},
   "source": [
    "相对导入只适用于在合适的包中的模块。尤其是在顶层的脚本的简单模块中，它们将不起作用。如果包的部分被作为脚本直接执行，那它们将不起作用"
   ]
  },
  {
   "cell_type": "markdown",
   "id": "4f475ba4-09a5-48b5-801c-536a54cdf0ca",
   "metadata": {},
   "source": [
    "使用Python的-m选项来执行先前的脚本，相对导入将会正确运行"
   ]
  },
  {
   "cell_type": "markdown",
   "id": "d9cbe99a-6a01-4578-9b37-b3be96855657",
   "metadata": {},
   "source": [
    "# 将模块分割成多个文件"
   ]
  },
  {
   "cell_type": "markdown",
   "id": "5661ad9e-37e6-44f6-8f2c-aa44e6f11c2c",
   "metadata": {},
   "source": [
    "```python\n",
    "# mymodule.py\n",
    "class A:\n",
    "    def spam(self):\n",
    "        print('A.spam')\n",
    "\n",
    "class B(A):\n",
    "    def bar(self):\n",
    "        print('B.bar')\n",
    "```"
   ]
  },
  {
   "cell_type": "markdown",
   "id": "8e5cad03-9f31-4f4e-a312-701c56f5f184",
   "metadata": {},
   "source": [
    "```\n",
    "mymodule/\n",
    "    __init__.py\n",
    "    a.py\n",
    "    b.py\n",
    "```"
   ]
  },
  {
   "cell_type": "markdown",
   "id": "0e428acb-e67a-46b6-a435-8057aebf356b",
   "metadata": {},
   "source": [
    "```python\n",
    "# a.py\n",
    "class A:\n",
    "    def spam(self):\n",
    "        print('A.spam')\n",
    "```"
   ]
  },
  {
   "cell_type": "markdown",
   "id": "18eccb8e-b0cc-4905-ae52-ffeb06e9c47b",
   "metadata": {},
   "source": [
    "```python\n",
    "# b.py\n",
    "from .a import A\n",
    "class B(A):\n",
    "    def bar(self):\n",
    "        print('B.bar')\n",
    "```"
   ]
  },
  {
   "cell_type": "markdown",
   "id": "9b66791f-ddc3-495b-8b6a-db705d1df6a6",
   "metadata": {},
   "source": [
    "```python\n",
    "# __init__.py\n",
    "from .a import A\n",
    "from .b import B\n",
    "```"
   ]
  },
  {
   "cell_type": "code",
   "execution_count": null,
   "id": "dc5b115c-e4b1-4477-a0e2-00cbc694b5a7",
   "metadata": {},
   "outputs": [],
   "source": []
  }
 ],
 "metadata": {
  "kernelspec": {
   "display_name": "Python 3 (ipykernel)",
   "language": "python",
   "name": "python3"
  },
  "language_info": {
   "codemirror_mode": {
    "name": "ipython",
    "version": 3
   },
   "file_extension": ".py",
   "mimetype": "text/x-python",
   "name": "python",
   "nbconvert_exporter": "python",
   "pygments_lexer": "ipython3",
   "version": "3.8.10"
  }
 },
 "nbformat": 4,
 "nbformat_minor": 5
}
