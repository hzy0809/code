{
 "cells": [
  {
   "cell_type": "markdown",
   "id": "f94f5dcb-dfb6-4599-acff-4f8a5ebe427f",
   "metadata": {},
   "source": [
    "# 构建一个模块的层级包"
   ]
  },
  {
   "cell_type": "markdown",
   "id": "aae04a2f-6fc3-4226-b543-e23ae67d96c1",
   "metadata": {},
   "source": [
    "```\n",
    "graphics/\n",
    "    __init__.py\n",
    "    primitive/\n",
    "        __init__.py\n",
    "        line.py\n",
    "        fill.py\n",
    "        text.py\n",
    "    formats/\n",
    "        __init__.py\n",
    "        png.py\n",
    "        jpg.py\n",
    "```"
   ]
  },
  {
   "cell_type": "markdown",
   "id": "b8cc974a-23d8-4ca8-bb8c-ba2ce023a498",
   "metadata": {},
   "source": [
    " 文件`__init__.py`的目的是要包含不同运行级别的包的可选的初始化代码。"
   ]
  },
  {
   "cell_type": "markdown",
   "id": "6cfd2154-98dc-4785-a6fb-f7ce104dae64",
   "metadata": {},
   "source": [
    "# 控制模块被全部导入的内容"
   ]
  },
  {
   "cell_type": "markdown",
   "id": "3188b5fb-7bb0-4214-a824-f7a14146cc43",
   "metadata": {},
   "source": [
    "尽管强烈反对使用 `from module import *`, 但是在定义了大量变量名的模块中频繁使用。 如果你不做任何事, 这样的导入将会导入所有不以下划线开头的。 另一方面,如果定义了` __all__` , 那么只有被列举出的东西会被导出。\n",
    "\n",
    "如果你将 `__all__` 定义成一个空列表, 没有东西将被导入。 如果 `__all__` 包含未定义的名字, 在导入时引起`AttributeError`。"
   ]
  },
  {
   "cell_type": "code",
   "execution_count": 1,
   "id": "e51ca5eb-139c-46d6-ab90-4cef1f885e51",
   "metadata": {},
   "outputs": [],
   "source": [
    "# somemodule.py\n",
    "def spam():\n",
    "    pass\n",
    "\n",
    "def grok():\n",
    "    pass\n",
    "\n",
    "blah = 42\n",
    "# Only export 'spam' and 'grok'\n",
    "__all__ = ['spam', 'grok']"
   ]
  },
  {
   "cell_type": "markdown",
   "id": "19722a76-0afd-4c3b-8c17-12b6ab100b00",
   "metadata": {},
   "source": [
    "# 使用相对路径名导入包中子模块"
   ]
  },
  {
   "cell_type": "markdown",
   "id": "e5b5c2c1-c27e-4c84-934a-362dfe5b305a",
   "metadata": {},
   "source": [
    "```\n",
    "mypackage/\n",
    "    __init__.py\n",
    "    A/\n",
    "        __init__.py\n",
    "        spam.py\n",
    "        grok.py\n",
    "    B/\n",
    "        __init__.py\n",
    "        bar.py\n",
    "```"
   ]
  },
  {
   "cell_type": "markdown",
   "id": "116b2d7f-68a3-4e48-b7f6-1ea6a9a44643",
   "metadata": {},
   "source": [
    "如果模块`mypackage.A.spam`要导入同目录下的模块`grok`，它应该包括的`import`语句如下：\n",
    "```python\n",
    "# mypackage/A/spam.py\n",
    "from . import grok\n",
    "```"
   ]
  },
  {
   "cell_type": "markdown",
   "id": "7474b4a0-00b4-4c87-9a35-bdb7e5591950",
   "metadata": {},
   "source": [
    "如果模块`mypackage.A.spam`要导入不同目录下的模块`B.bar`，它应该使用的`import`语句如下：\n",
    "```python\n",
    "# mypackage/A/spam.py\n",
    "from ..B import bar\n",
    "```"
   ]
  },
  {
   "cell_type": "markdown",
   "id": "1e60bb9b-f2ff-4567-8805-ea0b2e303e56",
   "metadata": {},
   "source": [
    "`import`语句的 `.` 和 `..` 看起来很滑稽, 但它指定目录名`.`为当前目录，`..B`为目录`../B`。这种语法只适用于`from`。\n",
    "```python\n",
    "from . import grok # OK\n",
    "import .grok # ERROR\n",
    "```"
   ]
  },
  {
   "cell_type": "markdown",
   "id": "ba3e23cc-b8ba-4169-b84f-978ba1001ad9",
   "metadata": {},
   "source": [
    "相对导入只适用于在合适的包中的模块。尤其是在顶层的脚本的简单模块中，它们将不起作用。如果包的部分被作为脚本直接执行，那它们将不起作用"
   ]
  },
  {
   "cell_type": "markdown",
   "id": "4f475ba4-09a5-48b5-801c-536a54cdf0ca",
   "metadata": {},
   "source": [
    "使用Python的-m选项来执行先前的脚本，相对导入将会正确运行"
   ]
  },
  {
   "cell_type": "markdown",
   "id": "d9cbe99a-6a01-4578-9b37-b3be96855657",
   "metadata": {},
   "source": [
    "# 将模块分割成多个文件"
   ]
  },
  {
   "cell_type": "markdown",
   "id": "5661ad9e-37e6-44f6-8f2c-aa44e6f11c2c",
   "metadata": {},
   "source": [
    "```python\n",
    "# mymodule.py\n",
    "class A:\n",
    "    def spam(self):\n",
    "        print('A.spam')\n",
    "\n",
    "class B(A):\n",
    "    def bar(self):\n",
    "        print('B.bar')\n",
    "```"
   ]
  },
  {
   "cell_type": "markdown",
   "id": "8e5cad03-9f31-4f4e-a312-701c56f5f184",
   "metadata": {},
   "source": [
    "```\n",
    "mymodule/\n",
    "    __init__.py\n",
    "    a.py\n",
    "    b.py\n",
    "```"
   ]
  },
  {
   "cell_type": "markdown",
   "id": "0e428acb-e67a-46b6-a435-8057aebf356b",
   "metadata": {},
   "source": [
    "```python\n",
    "# a.py\n",
    "class A:\n",
    "    def spam(self):\n",
    "        print('A.spam')\n",
    "```"
   ]
  },
  {
   "cell_type": "markdown",
   "id": "18eccb8e-b0cc-4905-ae52-ffeb06e9c47b",
   "metadata": {},
   "source": [
    "```python\n",
    "# b.py\n",
    "from .a import A\n",
    "class B(A):\n",
    "    def bar(self):\n",
    "        print('B.bar')\n",
    "```"
   ]
  },
  {
   "cell_type": "markdown",
   "id": "9b66791f-ddc3-495b-8b6a-db705d1df6a6",
   "metadata": {},
   "source": [
    "```python\n",
    "# __init__.py\n",
    "from .a import A\n",
    "from .b import B\n",
    "```"
   ]
  },
  {
   "cell_type": "markdown",
   "id": "026ff2cb-cf25-4fac-b667-c7aaf6540b8c",
   "metadata": {},
   "source": [
    "# 利用命名空间导入目录分散的代码"
   ]
  },
  {
   "cell_type": "markdown",
   "id": "f2901cec-2da6-4989-88fb-0ab2e5edeb6a",
   "metadata": {},
   "source": [
    "```python\n",
    "import sys\n",
    "sys.path.extend(['foo-package', 'bar-package'])\n",
    "```"
   ]
  },
  {
   "cell_type": "markdown",
   "id": "b2eb3451-c490-423e-9a6c-3cfdca0887c5",
   "metadata": {},
   "source": [
    "# 重新加载模块"
   ]
  },
  {
   "cell_type": "markdown",
   "id": "9a6ae0d3-2ef9-42ae-bf9e-ea69aeac2325",
   "metadata": {},
   "source": [
    "```python\n",
    "import imp\n",
    "imp.reload(spam)\n",
    "```"
   ]
  },
  {
   "cell_type": "markdown",
   "id": "01836998-b798-44cb-a63f-b19fff327206",
   "metadata": {},
   "source": [
    "`reload()`没有更新像`from module import name`这样使用`import`语句导入的定义"
   ]
  },
  {
   "cell_type": "markdown",
   "id": "a9394e26-f53f-49b3-9a07-309fa760b731",
   "metadata": {},
   "source": [
    "# 运行目录或压缩文件"
   ]
  },
  {
   "cell_type": "markdown",
   "id": "0ef03a20-eb65-4b90-b822-f1c218017269",
   "metadata": {},
   "source": [
    "如果你的应用程序已经有多个文件，你可以把你的应用程序放进它自己的目录并添加一个`__main__.py`文件。 "
   ]
  },
  {
   "cell_type": "markdown",
   "id": "944a0662-6ba1-4829-aa13-2794c249560d",
   "metadata": {},
   "source": [
    "```python\n",
    "myapplication/\n",
    "    spam.py\n",
    "    bar.py\n",
    "    grok.py\n",
    "    __main__.py\n",
    "```"
   ]
  },
  {
   "cell_type": "markdown",
   "id": "44aea56c-83d8-4452-9e12-e1bd175a611f",
   "metadata": {},
   "source": [
    "如果`__main__.py`存在，你可以简单地在顶级目录运行Python解释器：\n",
    "```bash\n",
    "bash % python3 myapplication\n",
    "```"
   ]
  },
  {
   "cell_type": "markdown",
   "id": "bc7500af-5b8d-4776-ba3b-e9a5201ccc3e",
   "metadata": {},
   "source": [
    "将你的代码打包成zip文件，这种技术同样也适用"
   ]
  },
  {
   "cell_type": "markdown",
   "id": "c14f47f0-c1eb-4aba-ab3e-1d327353a904",
   "metadata": {},
   "source": [
    "# 读取位于包中的数据文件"
   ]
  },
  {
   "cell_type": "markdown",
   "id": "aa51e127-7056-4a1a-8619-55281f331c80",
   "metadata": {},
   "source": [
    "```python\n",
    "mypackage/\n",
    "    __init__.py\n",
    "    somedata.dat\n",
    "    spam.py\n",
    "```"
   ]
  },
  {
   "cell_type": "markdown",
   "id": "74b62861-bfc1-41da-83b9-931542f7cd19",
   "metadata": {},
   "source": [
    "```python\n",
    "# spam.py\n",
    "import pkgutil\n",
    "data = pkgutil.get_data(__package__, 'somedata.dat')\n",
    "```"
   ]
  },
  {
   "cell_type": "markdown",
   "id": "b1343d59-9d82-4f93-90cc-78a2bdc34611",
   "metadata": {},
   "source": [
    "`get_data()`的第一个参数是包含包名的字符串。你可以直接使用包名，也可以使用特殊的变量，比如`__package__`。第二个参数是包内文件的相对名称。"
   ]
  },
  {
   "cell_type": "markdown",
   "id": "1403afcc-6c64-4117-b6ef-a31e861a9993",
   "metadata": {},
   "source": [
    "# 文件夹加入到`sys.path`"
   ]
  },
  {
   "cell_type": "markdown",
   "id": "0ee86b9c-bc3a-495d-892d-7b2acf6a8ce5",
   "metadata": {},
   "source": [
    "## 使用PYTHONPATH环境变量来添加"
   ]
  },
  {
   "cell_type": "markdown",
   "id": "2e98bf40-5cf2-4ed9-b8bf-ba21634b1d8a",
   "metadata": {},
   "source": [
    "```bash\n",
    "bash % env PYTHONPATH=/some/dir:/other/dir python3\n",
    "```"
   ]
  },
  {
   "cell_type": "markdown",
   "id": "31c79c9a-76f9-4b60-ab01-f7dab52fcb26",
   "metadata": {},
   "source": [
    "## 创建一个.pth文件，将目录列举出来"
   ]
  },
  {
   "cell_type": "markdown",
   "id": "70240b4c-799f-43ce-a1d0-ac3a98723b98",
   "metadata": {},
   "source": [
    "```python\n",
    "# myapplication.pth\n",
    "/some/dir\n",
    "/other/dir\n",
    "```"
   ]
  },
  {
   "cell_type": "markdown",
   "id": "eaa19427-fdcf-4bd9-94bb-651c03e47a8e",
   "metadata": {},
   "source": [
    "## 硬编码"
   ]
  },
  {
   "cell_type": "markdown",
   "id": "40ee89e3-9c53-41ae-996e-6e642dc92c3a",
   "metadata": {},
   "source": [
    "```python\n",
    "import sys\n",
    "from os.path import abspath, join, dirname\n",
    "sys.path.insert(0, join(abspath(dirname(__file__)), 'src'))\n",
    "```"
   ]
  },
  {
   "cell_type": "markdown",
   "id": "352b4854-b2a8-4238-a877-8748a0ee0469",
   "metadata": {},
   "source": [
    "# 通过字符串名导入模块"
   ]
  },
  {
   "cell_type": "code",
   "execution_count": 12,
   "id": "3e24ec64-6a38-4338-831f-48bca1198594",
   "metadata": {},
   "outputs": [
    {
     "data": {
      "text/plain": [
       "0.9092974268256817"
      ]
     },
     "execution_count": 12,
     "metadata": {},
     "output_type": "execute_result"
    }
   ],
   "source": [
    "import importlib\n",
    "math = importlib.import_module('math')\n",
    "math.sin(2)"
   ]
  },
  {
   "cell_type": "markdown",
   "id": "6aa6d755-fb86-46f2-a443-b81d03382fdd",
   "metadata": {},
   "source": [
    "正在使用的包，`import_module()`也可用于相对导入\n",
    "```python\n",
    "import importlib\n",
    "# Same as 'from . import b'\n",
    "b = importlib.import_module('.b', __package__)\n",
    "```"
   ]
  },
  {
   "cell_type": "markdown",
   "id": "ac01d738-8dbf-4033-ab3f-82b548133057",
   "metadata": {},
   "source": [
    "# 通过钩子远程加载模块"
   ]
  },
  {
   "cell_type": "markdown",
   "id": "f6bf2432-093c-465c-bb63-1633c45c7d9e",
   "metadata": {},
   "source": [
    "```python\n",
    "testcode/\n",
    "    spam.py\n",
    "    fib.py\n",
    "    grok/\n",
    "        __init__.py\n",
    "        blah.py\n",
    "```"
   ]
  },
  {
   "cell_type": "markdown",
   "id": "9ae02748-e4dc-4ed7-98ba-41e0b2cdd949",
   "metadata": {},
   "source": [
    "在`testcode`目录中像下面这样运行`Python`:\n",
    "```bash\n",
    "bash % cd testcode\n",
    "bash % python3 -m http.server 15000\n",
    "Serving HTTP on 0.0.0.0 port 15000 ...\n",
    "```"
   ]
  },
  {
   "cell_type": "markdown",
   "id": "d04e0acc-9608-48a3-a29d-8466982d5343",
   "metadata": {},
   "source": [
    "```python\n",
    "from urllib.request import urlopen\n",
    "u = urlopen('http://localhost:15000/fib.py')\n",
    "data = u.read().decode('utf-8')\n",
    "```"
   ]
  },
  {
   "cell_type": "markdown",
   "id": "9b158d95-70d6-441a-8bfe-1950fdf16fca",
   "metadata": {},
   "source": [
    "## 显式的加载函数"
   ]
  },
  {
   "cell_type": "code",
   "execution_count": 14,
   "id": "7ce11dad-8f6b-4eb0-a012-db1b5e0b28d0",
   "metadata": {},
   "outputs": [],
   "source": [
    "import imp\n",
    "import urllib.request\n",
    "import sys\n",
    "\n",
    "def load_module(url):\n",
    "    u = urllib.request.urlopen(url)\n",
    "    source = u.read().decode('utf-8')\n",
    "    mod = sys.modules.setdefault(url, imp.new_module(url))\n",
    "    code = compile(source, url, 'exec')\n",
    "    mod.__file__ = url\n",
    "    mod.__package__ = ''\n",
    "    exec(code, mod.__dict__)\n",
    "    return mod"
   ]
  },
  {
   "cell_type": "markdown",
   "id": "0cc28047-af87-41c5-ab1f-950d78aeeff2",
   "metadata": {},
   "source": [
    "## 元路径导入器"
   ]
  },
  {
   "cell_type": "code",
   "execution_count": 15,
   "id": "fc28b44c-7ad7-4128-9e58-1c82c94e79e5",
   "metadata": {},
   "outputs": [],
   "source": [
    "# urlimport.py\n",
    "import sys\n",
    "import importlib.abc\n",
    "import imp\n",
    "from urllib.request import urlopen\n",
    "from urllib.error import HTTPError, URLError\n",
    "from html.parser import HTMLParser\n",
    "\n",
    "# Debugging\n",
    "import logging\n",
    "log = logging.getLogger(__name__)\n",
    "\n",
    "# Get links from a given URL\n",
    "def _get_links(url):\n",
    "    class LinkParser(HTMLParser):\n",
    "        def handle_starttag(self, tag, attrs):\n",
    "            if tag == 'a':\n",
    "                attrs = dict(attrs)\n",
    "                links.add(attrs.get('href').rstrip('/'))\n",
    "    links = set()\n",
    "    try:\n",
    "        log.debug('Getting links from %s' % url)\n",
    "        u = urlopen(url)\n",
    "        parser = LinkParser()\n",
    "        parser.feed(u.read().decode('utf-8'))\n",
    "    except Exception as e:\n",
    "        log.debug('Could not get links. %s', e)\n",
    "    log.debug('links: %r', links)\n",
    "    return links\n",
    "\n",
    "class UrlMetaFinder(importlib.abc.MetaPathFinder):\n",
    "    def __init__(self, baseurl):\n",
    "        self._baseurl = baseurl\n",
    "        self._links = { }\n",
    "        self._loaders = { baseurl : UrlModuleLoader(baseurl) }\n",
    "\n",
    "    def find_module(self, fullname, path=None):\n",
    "        log.debug('find_module: fullname=%r, path=%r', fullname, path)\n",
    "        if path is None:\n",
    "            baseurl = self._baseurl\n",
    "        else:\n",
    "            if not path[0].startswith(self._baseurl):\n",
    "                return None\n",
    "            baseurl = path[0]\n",
    "        parts = fullname.split('.')\n",
    "        basename = parts[-1]\n",
    "        log.debug('find_module: baseurl=%r, basename=%r', baseurl, basename)\n",
    "\n",
    "        # Check link cache\n",
    "        if basename not in self._links:\n",
    "            self._links[baseurl] = _get_links(baseurl)\n",
    "\n",
    "        # Check if it's a package\n",
    "        if basename in self._links[baseurl]:\n",
    "            log.debug('find_module: trying package %r', fullname)\n",
    "            fullurl = self.base_url + '/' + basename\n",
    "            # Attempt to load the package (which accesses __init__.py)\n",
    "            loader = UrlPackageLoader(fullurl)\n",
    "            try:\n",
    "                loader.load_module(fullname)\n",
    "                self._links[fullurl] = _get_links(fullurl)\n",
    "                self._loaders[fullurl] = UrlModuleLoader(fullurl)\n",
    "                log.debug('find_module: package %r loaded', fullname)\n",
    "            except ImportError as e:\n",
    "                log.debug('find_module: package failed. %s', e)\n",
    "                loader = None\n",
    "            return loader\n",
    "        # A normal module\n",
    "        filename = basename + '.py'\n",
    "        if filename in self._links[baseurl]:\n",
    "            log.debug('find_module: module %r found', fullname)\n",
    "            return self._loaders[baseurl]\n",
    "        else:\n",
    "            log.debug('find_module: module %r not found', fullname)\n",
    "            return None\n",
    "\n",
    "    def invalidate_caches(self):\n",
    "        log.debug('invalidating link cache')\n",
    "        self._links.clear()\n",
    "\n",
    "# Module Loader for a URL\n",
    "class UrlModuleLoader(importlib.abc.SourceLoader):\n",
    "    def __init__(self, baseurl):\n",
    "        self._baseurl = baseurl\n",
    "        self._source_cache = {}\n",
    "\n",
    "    def module_repr(self, module):\n",
    "        return '<urlmodule %r from %r>' % (module.__name__, module.__file__)\n",
    "\n",
    "    # Required method\n",
    "    def load_module(self, fullname):\n",
    "        code = self.get_code(fullname)\n",
    "        mod = sys.modules.setdefault(fullname, imp.new_module(fullname))\n",
    "        mod.__file__ = self.get_filename(fullname)\n",
    "        mod.__loader__ = self\n",
    "        mod.__package__ = fullname.rpartition('.')[0]\n",
    "        exec(code, mod.__dict__)\n",
    "        return mod\n",
    "\n",
    "    # Optional extensions\n",
    "    def get_code(self, fullname):\n",
    "        src = self.get_source(fullname)\n",
    "        return compile(src, self.get_filename(fullname), 'exec')\n",
    "\n",
    "    def get_data(self, path):\n",
    "        pass\n",
    "\n",
    "    def get_filename(self, fullname):\n",
    "        return self._baseurl + '/' + fullname.split('.')[-1] + '.py'\n",
    "\n",
    "    def get_source(self, fullname):\n",
    "        filename = self.get_filename(fullname)\n",
    "        log.debug('loader: reading %r', filename)\n",
    "        if filename in self._source_cache:\n",
    "            log.debug('loader: cached %r', filename)\n",
    "            return self._source_cache[filename]\n",
    "        try:\n",
    "            u = urlopen(filename)\n",
    "            source = u.read().decode('utf-8')\n",
    "            log.debug('loader: %r loaded', filename)\n",
    "            self._source_cache[filename] = source\n",
    "            return source\n",
    "        except (HTTPError, URLError) as e:\n",
    "            log.debug('loader: %r failed. %s', filename, e)\n",
    "            raise ImportError(\"Can't load %s\" % filename)\n",
    "\n",
    "    def is_package(self, fullname):\n",
    "        return False\n",
    "\n",
    "# Package loader for a URL\n",
    "class UrlPackageLoader(UrlModuleLoader):\n",
    "    def load_module(self, fullname):\n",
    "        mod = super().load_module(fullname)\n",
    "        mod.__path__ = [ self._baseurl ]\n",
    "        mod.__package__ = fullname\n",
    "\n",
    "    def get_filename(self, fullname):\n",
    "        return self._baseurl + '/' + '__init__.py'\n",
    "\n",
    "    def is_package(self, fullname):\n",
    "        return True\n",
    "\n",
    "# Utility functions for installing/uninstalling the loader\n",
    "_installed_meta_cache = { }\n",
    "def install_meta(address):\n",
    "    if address not in _installed_meta_cache:\n",
    "        finder = UrlMetaFinder(address)\n",
    "        _installed_meta_cache[address] = finder\n",
    "        sys.meta_path.append(finder)\n",
    "        log.debug('%r installed on sys.meta_path', finder)\n",
    "\n",
    "def remove_meta(address):\n",
    "    if address in _installed_meta_cache:\n",
    "        finder = _installed_meta_cache.pop(address)\n",
    "        sys.meta_path.remove(finder)\n",
    "        log.debug('%r removed from sys.meta_path', finder)"
   ]
  },
  {
   "cell_type": "markdown",
   "id": "8ccc6b03-4247-43f9-bfaa-4f40dad453cb",
   "metadata": {},
   "source": [
    "## 编写一个钩子直接嵌入到 sys.path 变量中"
   ]
  },
  {
   "cell_type": "code",
   "execution_count": 16,
   "id": "1b219150-4524-456c-8768-608e5c0ff83e",
   "metadata": {},
   "outputs": [],
   "source": [
    "# urlimport.py\n",
    "# ... include previous code above ...\n",
    "# Path finder class for a URL\n",
    "class UrlPathFinder(importlib.abc.PathEntryFinder):\n",
    "    def __init__(self, baseurl):\n",
    "        self._links = None\n",
    "        self._loader = UrlModuleLoader(baseurl)\n",
    "        self._baseurl = baseurl\n",
    "\n",
    "    def find_loader(self, fullname):\n",
    "        log.debug('find_loader: %r', fullname)\n",
    "        parts = fullname.split('.')\n",
    "        basename = parts[-1]\n",
    "        # Check link cache\n",
    "        if self._links is None:\n",
    "            self._links = [] # See discussion\n",
    "            self._links = _get_links(self._baseurl)\n",
    "\n",
    "        # Check if it's a package\n",
    "        if basename in self._links:\n",
    "            log.debug('find_loader: trying package %r', fullname)\n",
    "            fullurl = self._baseurl + '/' + basename\n",
    "            # Attempt to load the package (which accesses __init__.py)\n",
    "            loader = UrlPackageLoader(fullurl)\n",
    "            try:\n",
    "                loader.load_module(fullname)\n",
    "                log.debug('find_loader: package %r loaded', fullname)\n",
    "            except ImportError as e:\n",
    "                log.debug('find_loader: %r is a namespace package', fullname)\n",
    "                loader = None\n",
    "            return (loader, [fullurl])\n",
    "\n",
    "        # A normal module\n",
    "        filename = basename + '.py'\n",
    "        if filename in self._links:\n",
    "            log.debug('find_loader: module %r found', fullname)\n",
    "            return (self._loader, [])\n",
    "        else:\n",
    "            log.debug('find_loader: module %r not found', fullname)\n",
    "            return (None, [])\n",
    "\n",
    "    def invalidate_caches(self):\n",
    "        log.debug('invalidating link cache')\n",
    "        self._links = None\n",
    "\n",
    "# Check path to see if it looks like a URL\n",
    "_url_path_cache = {}\n",
    "def handle_url(path):\n",
    "    if path.startswith(('http://', 'https://')):\n",
    "        log.debug('Handle path? %s. [Yes]', path)\n",
    "        if path in _url_path_cache:\n",
    "            finder = _url_path_cache[path]\n",
    "        else:\n",
    "            finder = UrlPathFinder(path)\n",
    "            _url_path_cache[path] = finder\n",
    "        return finder\n",
    "    else:\n",
    "        log.debug('Handle path? %s. [No]', path)\n",
    "\n",
    "def install_path_hook():\n",
    "    sys.path_hooks.append(handle_url)\n",
    "    sys.path_importer_cache.clear()\n",
    "    log.debug('Installing handle_url')\n",
    "\n",
    "def remove_path_hook():\n",
    "    sys.path_hooks.remove(handle_url)\n",
    "    sys.path_importer_cache.clear()\n",
    "    log.debug('Removing handle_url')"
   ]
  },
  {
   "cell_type": "markdown",
   "id": "52e4091b-f3f9-42a6-bdfc-bbc16a5dc21f",
   "metadata": {},
   "source": [
    "## 导入机制解析"
   ]
  },
  {
   "cell_type": "code",
   "execution_count": 19,
   "id": "e583271a-38a6-4d76-ac3d-ce0824a32a65",
   "metadata": {},
   "outputs": [
    {
     "data": {
      "text/plain": [
       "'spam'"
      ]
     },
     "execution_count": 19,
     "metadata": {},
     "output_type": "execute_result"
    }
   ],
   "source": [
    "# 创建一个新的模块对象\n",
    "import imp\n",
    "m = imp.new_module('spam')\n",
    "m.__name__"
   ]
  },
  {
   "cell_type": "markdown",
   "id": "275ff20d-6a13-4c68-96ff-eb0dc12f857e",
   "metadata": {},
   "source": [
    "模块会被解释器缓存起来。模块缓存可以在字典 `sys.modules` 中被找到"
   ]
  },
  {
   "cell_type": "code",
   "execution_count": 20,
   "id": "fb4dd4d2-98ca-4f04-8fab-85a1b5595cb0",
   "metadata": {},
   "outputs": [
    {
     "data": {
      "text/plain": [
       "<module 'spam'>"
      ]
     },
     "execution_count": 20,
     "metadata": {},
     "output_type": "execute_result"
    }
   ],
   "source": [
    "import sys\n",
    "import imp\n",
    "m = sys.modules.setdefault('spam',imp.new_module('spam'))\n",
    "m"
   ]
  },
  {
   "cell_type": "code",
   "execution_count": 21,
   "id": "02adfaf7-a590-4b78-ae95-6d16b6535351",
   "metadata": {},
   "outputs": [
    {
     "data": {
      "text/plain": [
       "<module 'math' from '/Library/Frameworks/Python.framework/Versions/3.8/lib/python3.8/lib-dynload/math.cpython-38-darwin.so'>"
      ]
     },
     "execution_count": 21,
     "metadata": {},
     "output_type": "execute_result"
    }
   ],
   "source": [
    "import math\n",
    "m = sys.modules.setdefault('math',imp.new_module('math'))\n",
    "m"
   ]
  },
  {
   "cell_type": "markdown",
   "id": "52cbc83d-0577-46e7-bcf7-47ca00acd94d",
   "metadata": {},
   "source": [
    "最高层上，导入操作被一个位于`sys.meta_path`列表中的“元路径”查找器处理。"
   ]
  },
  {
   "cell_type": "code",
   "execution_count": 22,
   "id": "ae4c0d95-7230-4e99-91c0-8e5876b43efe",
   "metadata": {},
   "outputs": [
    {
     "name": "stdout",
     "output_type": "stream",
     "text": [
      "[<class '_frozen_importlib.BuiltinImporter'>,\n",
      " <class '_frozen_importlib.FrozenImporter'>,\n",
      " <class '_frozen_importlib_external.PathFinder'>,\n",
      " <six._SixMetaPathImporter object at 0x7fec43c4ad90>]\n"
     ]
    }
   ],
   "source": [
    "from pprint import pprint\n",
    "pprint(sys.meta_path)"
   ]
  },
  {
   "cell_type": "code",
   "execution_count": 32,
   "id": "25be2fe3-ae1a-4df0-8724-e2900e687529",
   "metadata": {},
   "outputs": [
    {
     "name": "stdout",
     "output_type": "stream",
     "text": [
      "Looking for xml.etree.ElementTree ['/Library/Frameworks/Python.framework/Versions/3.8/lib/python3.8/xml/etree']\n",
      "Looking for xml.etree.ElementTree ['/Library/Frameworks/Python.framework/Versions/3.8/lib/python3.8/xml/etree']\n",
      "Looking for xml.etree.ElementTree ['/Library/Frameworks/Python.framework/Versions/3.8/lib/python3.8/xml/etree']\n",
      "Looking for xml.etree.ElementTree ['/Library/Frameworks/Python.framework/Versions/3.8/lib/python3.8/xml/etree']\n",
      "Looking for xml.etree.ElementTree ['/Library/Frameworks/Python.framework/Versions/3.8/lib/python3.8/xml/etree']\n",
      "Looking for xml.etree.ElementTree ['/Library/Frameworks/Python.framework/Versions/3.8/lib/python3.8/xml/etree']\n",
      "Looking for xml.etree.ElementTree ['/Library/Frameworks/Python.framework/Versions/3.8/lib/python3.8/xml/etree']\n",
      "Looking for xml.etree.ElementTree ['/Library/Frameworks/Python.framework/Versions/3.8/lib/python3.8/xml/etree']\n"
     ]
    },
    {
     "data": {
      "text/plain": [
       "<module 'xml.etree.ElementTree' from '/Library/Frameworks/Python.framework/Versions/3.8/lib/python3.8/xml/etree/ElementTree.py'>"
      ]
     },
     "execution_count": 32,
     "metadata": {},
     "output_type": "execute_result"
    }
   ],
   "source": [
    "class Finder:\n",
    "    def find_module(self, fullname, path):\n",
    "        print('Looking for', fullname, path)\n",
    "        return None\n",
    "import sys\n",
    "sys.meta_path.insert(0,Finder())\n",
    "imp.reload(xml.etree.ElementTree)"
   ]
  },
  {
   "cell_type": "code",
   "execution_count": 33,
   "id": "fa869481-ecfc-4bba-8509-2df2fbc55fb7",
   "metadata": {},
   "outputs": [
    {
     "name": "stdout",
     "output_type": "stream",
     "text": [
      "['/Users/huzhenyu/Documents/personal/python_personal/python/cookbook',\n",
      " '/Library/Frameworks/Python.framework/Versions/3.8/lib/python38.zip',\n",
      " '/Library/Frameworks/Python.framework/Versions/3.8/lib/python3.8',\n",
      " '/Library/Frameworks/Python.framework/Versions/3.8/lib/python3.8/lib-dynload',\n",
      " '',\n",
      " '/Library/Frameworks/Python.framework/Versions/3.8/lib/python3.8/site-packages',\n",
      " '/Library/Frameworks/Python.framework/Versions/3.8/lib/python3.8/site-packages/IPython/extensions',\n",
      " '/Users/huzhenyu/.ipython']\n"
     ]
    }
   ],
   "source": [
    "pprint(sys.path)"
   ]
  },
  {
   "cell_type": "code",
   "execution_count": 34,
   "id": "de08bbc9-f8bf-450d-97d2-bcb55ed81578",
   "metadata": {
    "scrolled": true,
    "tags": []
   },
   "outputs": [
    {
     "name": "stdout",
     "output_type": "stream",
     "text": [
      "{'/Library/Frameworks/Python.framework/Versions/3.8/lib/python3.8': FileFinder('/Library/Frameworks/Python.framework/Versions/3.8/lib/python3.8'),\n",
      " '/Library/Frameworks/Python.framework/Versions/3.8/lib/python3.8/asyncio': FileFinder('/Library/Frameworks/Python.framework/Versions/3.8/lib/python3.8/asyncio'),\n",
      " '/Library/Frameworks/Python.framework/Versions/3.8/lib/python3.8/collections': FileFinder('/Library/Frameworks/Python.framework/Versions/3.8/lib/python3.8/collections'),\n",
      " '/Library/Frameworks/Python.framework/Versions/3.8/lib/python3.8/concurrent': FileFinder('/Library/Frameworks/Python.framework/Versions/3.8/lib/python3.8/concurrent'),\n",
      " '/Library/Frameworks/Python.framework/Versions/3.8/lib/python3.8/concurrent/futures': FileFinder('/Library/Frameworks/Python.framework/Versions/3.8/lib/python3.8/concurrent/futures'),\n",
      " '/Library/Frameworks/Python.framework/Versions/3.8/lib/python3.8/ctypes': FileFinder('/Library/Frameworks/Python.framework/Versions/3.8/lib/python3.8/ctypes'),\n",
      " '/Library/Frameworks/Python.framework/Versions/3.8/lib/python3.8/ctypes/macholib': FileFinder('/Library/Frameworks/Python.framework/Versions/3.8/lib/python3.8/ctypes/macholib'),\n",
      " '/Library/Frameworks/Python.framework/Versions/3.8/lib/python3.8/distutils': FileFinder('/Library/Frameworks/Python.framework/Versions/3.8/lib/python3.8/distutils'),\n",
      " '/Library/Frameworks/Python.framework/Versions/3.8/lib/python3.8/email': FileFinder('/Library/Frameworks/Python.framework/Versions/3.8/lib/python3.8/email'),\n",
      " '/Library/Frameworks/Python.framework/Versions/3.8/lib/python3.8/encodings': FileFinder('/Library/Frameworks/Python.framework/Versions/3.8/lib/python3.8/encodings'),\n",
      " '/Library/Frameworks/Python.framework/Versions/3.8/lib/python3.8/html': FileFinder('/Library/Frameworks/Python.framework/Versions/3.8/lib/python3.8/html'),\n",
      " '/Library/Frameworks/Python.framework/Versions/3.8/lib/python3.8/http': FileFinder('/Library/Frameworks/Python.framework/Versions/3.8/lib/python3.8/http'),\n",
      " '/Library/Frameworks/Python.framework/Versions/3.8/lib/python3.8/importlib': FileFinder('/Library/Frameworks/Python.framework/Versions/3.8/lib/python3.8/importlib'),\n",
      " '/Library/Frameworks/Python.framework/Versions/3.8/lib/python3.8/json': FileFinder('/Library/Frameworks/Python.framework/Versions/3.8/lib/python3.8/json'),\n",
      " '/Library/Frameworks/Python.framework/Versions/3.8/lib/python3.8/lib-dynload': FileFinder('/Library/Frameworks/Python.framework/Versions/3.8/lib/python3.8/lib-dynload'),\n",
      " '/Library/Frameworks/Python.framework/Versions/3.8/lib/python3.8/logging': FileFinder('/Library/Frameworks/Python.framework/Versions/3.8/lib/python3.8/logging'),\n",
      " '/Library/Frameworks/Python.framework/Versions/3.8/lib/python3.8/pydoc_data': FileFinder('/Library/Frameworks/Python.framework/Versions/3.8/lib/python3.8/pydoc_data'),\n",
      " '/Library/Frameworks/Python.framework/Versions/3.8/lib/python3.8/site-packages': FileFinder('/Library/Frameworks/Python.framework/Versions/3.8/lib/python3.8/site-packages'),\n",
      " '/Library/Frameworks/Python.framework/Versions/3.8/lib/python3.8/site-packages/IPython': FileFinder('/Library/Frameworks/Python.framework/Versions/3.8/lib/python3.8/site-packages/IPython'),\n",
      " '/Library/Frameworks/Python.framework/Versions/3.8/lib/python3.8/site-packages/IPython/core': FileFinder('/Library/Frameworks/Python.framework/Versions/3.8/lib/python3.8/site-packages/IPython/core'),\n",
      " '/Library/Frameworks/Python.framework/Versions/3.8/lib/python3.8/site-packages/IPython/core/magics': FileFinder('/Library/Frameworks/Python.framework/Versions/3.8/lib/python3.8/site-packages/IPython/core/magics'),\n",
      " '/Library/Frameworks/Python.framework/Versions/3.8/lib/python3.8/site-packages/IPython/extensions': FileFinder('/Library/Frameworks/Python.framework/Versions/3.8/lib/python3.8/site-packages/IPython/extensions'),\n",
      " '/Library/Frameworks/Python.framework/Versions/3.8/lib/python3.8/site-packages/IPython/lib': FileFinder('/Library/Frameworks/Python.framework/Versions/3.8/lib/python3.8/site-packages/IPython/lib'),\n",
      " '/Library/Frameworks/Python.framework/Versions/3.8/lib/python3.8/site-packages/IPython/terminal': FileFinder('/Library/Frameworks/Python.framework/Versions/3.8/lib/python3.8/site-packages/IPython/terminal'),\n",
      " '/Library/Frameworks/Python.framework/Versions/3.8/lib/python3.8/site-packages/IPython/testing': FileFinder('/Library/Frameworks/Python.framework/Versions/3.8/lib/python3.8/site-packages/IPython/testing'),\n",
      " '/Library/Frameworks/Python.framework/Versions/3.8/lib/python3.8/site-packages/IPython/utils': FileFinder('/Library/Frameworks/Python.framework/Versions/3.8/lib/python3.8/site-packages/IPython/utils'),\n",
      " '/Library/Frameworks/Python.framework/Versions/3.8/lib/python3.8/site-packages/appnope': FileFinder('/Library/Frameworks/Python.framework/Versions/3.8/lib/python3.8/site-packages/appnope'),\n",
      " '/Library/Frameworks/Python.framework/Versions/3.8/lib/python3.8/site-packages/backcall': FileFinder('/Library/Frameworks/Python.framework/Versions/3.8/lib/python3.8/site-packages/backcall'),\n",
      " '/Library/Frameworks/Python.framework/Versions/3.8/lib/python3.8/site-packages/dateutil': FileFinder('/Library/Frameworks/Python.framework/Versions/3.8/lib/python3.8/site-packages/dateutil'),\n",
      " '/Library/Frameworks/Python.framework/Versions/3.8/lib/python3.8/site-packages/dateutil/parser': FileFinder('/Library/Frameworks/Python.framework/Versions/3.8/lib/python3.8/site-packages/dateutil/parser'),\n",
      " '/Library/Frameworks/Python.framework/Versions/3.8/lib/python3.8/site-packages/dateutil/tz': FileFinder('/Library/Frameworks/Python.framework/Versions/3.8/lib/python3.8/site-packages/dateutil/tz'),\n",
      " '/Library/Frameworks/Python.framework/Versions/3.8/lib/python3.8/site-packages/debugpy': FileFinder('/Library/Frameworks/Python.framework/Versions/3.8/lib/python3.8/site-packages/debugpy'),\n",
      " '/Library/Frameworks/Python.framework/Versions/3.8/lib/python3.8/site-packages/debugpy/common': FileFinder('/Library/Frameworks/Python.framework/Versions/3.8/lib/python3.8/site-packages/debugpy/common'),\n",
      " '/Library/Frameworks/Python.framework/Versions/3.8/lib/python3.8/site-packages/ipykernel': FileFinder('/Library/Frameworks/Python.framework/Versions/3.8/lib/python3.8/site-packages/ipykernel'),\n",
      " '/Library/Frameworks/Python.framework/Versions/3.8/lib/python3.8/site-packages/ipykernel/comm': FileFinder('/Library/Frameworks/Python.framework/Versions/3.8/lib/python3.8/site-packages/ipykernel/comm'),\n",
      " '/Library/Frameworks/Python.framework/Versions/3.8/lib/python3.8/site-packages/ipython_genutils': FileFinder('/Library/Frameworks/Python.framework/Versions/3.8/lib/python3.8/site-packages/ipython_genutils'),\n",
      " '/Library/Frameworks/Python.framework/Versions/3.8/lib/python3.8/site-packages/jedi': FileFinder('/Library/Frameworks/Python.framework/Versions/3.8/lib/python3.8/site-packages/jedi'),\n",
      " '/Library/Frameworks/Python.framework/Versions/3.8/lib/python3.8/site-packages/jedi/api': FileFinder('/Library/Frameworks/Python.framework/Versions/3.8/lib/python3.8/site-packages/jedi/api'),\n",
      " '/Library/Frameworks/Python.framework/Versions/3.8/lib/python3.8/site-packages/jedi/api/refactoring': FileFinder('/Library/Frameworks/Python.framework/Versions/3.8/lib/python3.8/site-packages/jedi/api/refactoring'),\n",
      " '/Library/Frameworks/Python.framework/Versions/3.8/lib/python3.8/site-packages/jedi/inference': FileFinder('/Library/Frameworks/Python.framework/Versions/3.8/lib/python3.8/site-packages/jedi/inference'),\n",
      " '/Library/Frameworks/Python.framework/Versions/3.8/lib/python3.8/site-packages/jedi/inference/compiled': FileFinder('/Library/Frameworks/Python.framework/Versions/3.8/lib/python3.8/site-packages/jedi/inference/compiled'),\n",
      " '/Library/Frameworks/Python.framework/Versions/3.8/lib/python3.8/site-packages/jedi/inference/compiled/subprocess': FileFinder('/Library/Frameworks/Python.framework/Versions/3.8/lib/python3.8/site-packages/jedi/inference/compiled/subprocess'),\n",
      " '/Library/Frameworks/Python.framework/Versions/3.8/lib/python3.8/site-packages/jedi/inference/gradual': FileFinder('/Library/Frameworks/Python.framework/Versions/3.8/lib/python3.8/site-packages/jedi/inference/gradual'),\n",
      " '/Library/Frameworks/Python.framework/Versions/3.8/lib/python3.8/site-packages/jedi/inference/value': FileFinder('/Library/Frameworks/Python.framework/Versions/3.8/lib/python3.8/site-packages/jedi/inference/value'),\n",
      " '/Library/Frameworks/Python.framework/Versions/3.8/lib/python3.8/site-packages/jedi/plugins': FileFinder('/Library/Frameworks/Python.framework/Versions/3.8/lib/python3.8/site-packages/jedi/plugins'),\n",
      " '/Library/Frameworks/Python.framework/Versions/3.8/lib/python3.8/site-packages/jupyter_client': FileFinder('/Library/Frameworks/Python.framework/Versions/3.8/lib/python3.8/site-packages/jupyter_client'),\n",
      " '/Library/Frameworks/Python.framework/Versions/3.8/lib/python3.8/site-packages/jupyter_client/asynchronous': FileFinder('/Library/Frameworks/Python.framework/Versions/3.8/lib/python3.8/site-packages/jupyter_client/asynchronous'),\n",
      " '/Library/Frameworks/Python.framework/Versions/3.8/lib/python3.8/site-packages/jupyter_client/blocking': FileFinder('/Library/Frameworks/Python.framework/Versions/3.8/lib/python3.8/site-packages/jupyter_client/blocking'),\n",
      " '/Library/Frameworks/Python.framework/Versions/3.8/lib/python3.8/site-packages/jupyter_core': FileFinder('/Library/Frameworks/Python.framework/Versions/3.8/lib/python3.8/site-packages/jupyter_core'),\n",
      " '/Library/Frameworks/Python.framework/Versions/3.8/lib/python3.8/site-packages/parso': FileFinder('/Library/Frameworks/Python.framework/Versions/3.8/lib/python3.8/site-packages/parso'),\n",
      " '/Library/Frameworks/Python.framework/Versions/3.8/lib/python3.8/site-packages/parso/pgen2': FileFinder('/Library/Frameworks/Python.framework/Versions/3.8/lib/python3.8/site-packages/parso/pgen2'),\n",
      " '/Library/Frameworks/Python.framework/Versions/3.8/lib/python3.8/site-packages/parso/python': FileFinder('/Library/Frameworks/Python.framework/Versions/3.8/lib/python3.8/site-packages/parso/python'),\n",
      " '/Library/Frameworks/Python.framework/Versions/3.8/lib/python3.8/site-packages/pexpect': FileFinder('/Library/Frameworks/Python.framework/Versions/3.8/lib/python3.8/site-packages/pexpect'),\n",
      " '/Library/Frameworks/Python.framework/Versions/3.8/lib/python3.8/site-packages/prompt_toolkit': FileFinder('/Library/Frameworks/Python.framework/Versions/3.8/lib/python3.8/site-packages/prompt_toolkit'),\n",
      " '/Library/Frameworks/Python.framework/Versions/3.8/lib/python3.8/site-packages/prompt_toolkit/application': FileFinder('/Library/Frameworks/Python.framework/Versions/3.8/lib/python3.8/site-packages/prompt_toolkit/application'),\n",
      " '/Library/Frameworks/Python.framework/Versions/3.8/lib/python3.8/site-packages/prompt_toolkit/clipboard': FileFinder('/Library/Frameworks/Python.framework/Versions/3.8/lib/python3.8/site-packages/prompt_toolkit/clipboard'),\n",
      " '/Library/Frameworks/Python.framework/Versions/3.8/lib/python3.8/site-packages/prompt_toolkit/completion': FileFinder('/Library/Frameworks/Python.framework/Versions/3.8/lib/python3.8/site-packages/prompt_toolkit/completion'),\n",
      " '/Library/Frameworks/Python.framework/Versions/3.8/lib/python3.8/site-packages/prompt_toolkit/eventloop': FileFinder('/Library/Frameworks/Python.framework/Versions/3.8/lib/python3.8/site-packages/prompt_toolkit/eventloop'),\n",
      " '/Library/Frameworks/Python.framework/Versions/3.8/lib/python3.8/site-packages/prompt_toolkit/filters': FileFinder('/Library/Frameworks/Python.framework/Versions/3.8/lib/python3.8/site-packages/prompt_toolkit/filters'),\n",
      " '/Library/Frameworks/Python.framework/Versions/3.8/lib/python3.8/site-packages/prompt_toolkit/formatted_text': FileFinder('/Library/Frameworks/Python.framework/Versions/3.8/lib/python3.8/site-packages/prompt_toolkit/formatted_text'),\n",
      " '/Library/Frameworks/Python.framework/Versions/3.8/lib/python3.8/site-packages/prompt_toolkit/input': FileFinder('/Library/Frameworks/Python.framework/Versions/3.8/lib/python3.8/site-packages/prompt_toolkit/input'),\n",
      " '/Library/Frameworks/Python.framework/Versions/3.8/lib/python3.8/site-packages/prompt_toolkit/key_binding': FileFinder('/Library/Frameworks/Python.framework/Versions/3.8/lib/python3.8/site-packages/prompt_toolkit/key_binding'),\n",
      " '/Library/Frameworks/Python.framework/Versions/3.8/lib/python3.8/site-packages/prompt_toolkit/key_binding/bindings': FileFinder('/Library/Frameworks/Python.framework/Versions/3.8/lib/python3.8/site-packages/prompt_toolkit/key_binding/bindings'),\n",
      " '/Library/Frameworks/Python.framework/Versions/3.8/lib/python3.8/site-packages/prompt_toolkit/layout': FileFinder('/Library/Frameworks/Python.framework/Versions/3.8/lib/python3.8/site-packages/prompt_toolkit/layout'),\n",
      " '/Library/Frameworks/Python.framework/Versions/3.8/lib/python3.8/site-packages/prompt_toolkit/lexers': FileFinder('/Library/Frameworks/Python.framework/Versions/3.8/lib/python3.8/site-packages/prompt_toolkit/lexers'),\n",
      " '/Library/Frameworks/Python.framework/Versions/3.8/lib/python3.8/site-packages/prompt_toolkit/output': FileFinder('/Library/Frameworks/Python.framework/Versions/3.8/lib/python3.8/site-packages/prompt_toolkit/output'),\n",
      " '/Library/Frameworks/Python.framework/Versions/3.8/lib/python3.8/site-packages/prompt_toolkit/shortcuts': FileFinder('/Library/Frameworks/Python.framework/Versions/3.8/lib/python3.8/site-packages/prompt_toolkit/shortcuts'),\n",
      " '/Library/Frameworks/Python.framework/Versions/3.8/lib/python3.8/site-packages/prompt_toolkit/shortcuts/progress_bar': FileFinder('/Library/Frameworks/Python.framework/Versions/3.8/lib/python3.8/site-packages/prompt_toolkit/shortcuts/progress_bar'),\n",
      " '/Library/Frameworks/Python.framework/Versions/3.8/lib/python3.8/site-packages/prompt_toolkit/styles': FileFinder('/Library/Frameworks/Python.framework/Versions/3.8/lib/python3.8/site-packages/prompt_toolkit/styles'),\n",
      " '/Library/Frameworks/Python.framework/Versions/3.8/lib/python3.8/site-packages/prompt_toolkit/widgets': FileFinder('/Library/Frameworks/Python.framework/Versions/3.8/lib/python3.8/site-packages/prompt_toolkit/widgets'),\n",
      " '/Library/Frameworks/Python.framework/Versions/3.8/lib/python3.8/site-packages/ptyprocess': FileFinder('/Library/Frameworks/Python.framework/Versions/3.8/lib/python3.8/site-packages/ptyprocess'),\n",
      " '/Library/Frameworks/Python.framework/Versions/3.8/lib/python3.8/site-packages/pygments': FileFinder('/Library/Frameworks/Python.framework/Versions/3.8/lib/python3.8/site-packages/pygments'),\n",
      " '/Library/Frameworks/Python.framework/Versions/3.8/lib/python3.8/site-packages/pygments/formatters': FileFinder('/Library/Frameworks/Python.framework/Versions/3.8/lib/python3.8/site-packages/pygments/formatters'),\n",
      " '/Library/Frameworks/Python.framework/Versions/3.8/lib/python3.8/site-packages/pygments/lexers': FileFinder('/Library/Frameworks/Python.framework/Versions/3.8/lib/python3.8/site-packages/pygments/lexers'),\n",
      " '/Library/Frameworks/Python.framework/Versions/3.8/lib/python3.8/site-packages/tornado': FileFinder('/Library/Frameworks/Python.framework/Versions/3.8/lib/python3.8/site-packages/tornado'),\n",
      " '/Library/Frameworks/Python.framework/Versions/3.8/lib/python3.8/site-packages/tornado/platform': FileFinder('/Library/Frameworks/Python.framework/Versions/3.8/lib/python3.8/site-packages/tornado/platform'),\n",
      " '/Library/Frameworks/Python.framework/Versions/3.8/lib/python3.8/site-packages/traitlets': FileFinder('/Library/Frameworks/Python.framework/Versions/3.8/lib/python3.8/site-packages/traitlets'),\n",
      " '/Library/Frameworks/Python.framework/Versions/3.8/lib/python3.8/site-packages/traitlets/config': FileFinder('/Library/Frameworks/Python.framework/Versions/3.8/lib/python3.8/site-packages/traitlets/config'),\n",
      " '/Library/Frameworks/Python.framework/Versions/3.8/lib/python3.8/site-packages/traitlets/utils': FileFinder('/Library/Frameworks/Python.framework/Versions/3.8/lib/python3.8/site-packages/traitlets/utils'),\n",
      " '/Library/Frameworks/Python.framework/Versions/3.8/lib/python3.8/site-packages/wcwidth': FileFinder('/Library/Frameworks/Python.framework/Versions/3.8/lib/python3.8/site-packages/wcwidth'),\n",
      " '/Library/Frameworks/Python.framework/Versions/3.8/lib/python3.8/site-packages/zmq': FileFinder('/Library/Frameworks/Python.framework/Versions/3.8/lib/python3.8/site-packages/zmq'),\n",
      " '/Library/Frameworks/Python.framework/Versions/3.8/lib/python3.8/site-packages/zmq/backend': FileFinder('/Library/Frameworks/Python.framework/Versions/3.8/lib/python3.8/site-packages/zmq/backend'),\n",
      " '/Library/Frameworks/Python.framework/Versions/3.8/lib/python3.8/site-packages/zmq/backend/cython': FileFinder('/Library/Frameworks/Python.framework/Versions/3.8/lib/python3.8/site-packages/zmq/backend/cython'),\n",
      " '/Library/Frameworks/Python.framework/Versions/3.8/lib/python3.8/site-packages/zmq/eventloop': FileFinder('/Library/Frameworks/Python.framework/Versions/3.8/lib/python3.8/site-packages/zmq/eventloop'),\n",
      " '/Library/Frameworks/Python.framework/Versions/3.8/lib/python3.8/site-packages/zmq/sugar': FileFinder('/Library/Frameworks/Python.framework/Versions/3.8/lib/python3.8/site-packages/zmq/sugar'),\n",
      " '/Library/Frameworks/Python.framework/Versions/3.8/lib/python3.8/site-packages/zmq/utils': FileFinder('/Library/Frameworks/Python.framework/Versions/3.8/lib/python3.8/site-packages/zmq/utils'),\n",
      " '/Library/Frameworks/Python.framework/Versions/3.8/lib/python3.8/sqlite3': FileFinder('/Library/Frameworks/Python.framework/Versions/3.8/lib/python3.8/sqlite3'),\n",
      " '/Library/Frameworks/Python.framework/Versions/3.8/lib/python3.8/urllib': FileFinder('/Library/Frameworks/Python.framework/Versions/3.8/lib/python3.8/urllib'),\n",
      " '/Library/Frameworks/Python.framework/Versions/3.8/lib/python3.8/xml': FileFinder('/Library/Frameworks/Python.framework/Versions/3.8/lib/python3.8/xml'),\n",
      " '/Library/Frameworks/Python.framework/Versions/3.8/lib/python3.8/xml/dom': FileFinder('/Library/Frameworks/Python.framework/Versions/3.8/lib/python3.8/xml/dom'),\n",
      " '/Library/Frameworks/Python.framework/Versions/3.8/lib/python3.8/xml/etree': FileFinder('/Library/Frameworks/Python.framework/Versions/3.8/lib/python3.8/xml/etree'),\n",
      " '/Library/Frameworks/Python.framework/Versions/3.8/lib/python3.8/xml/parsers': FileFinder('/Library/Frameworks/Python.framework/Versions/3.8/lib/python3.8/xml/parsers'),\n",
      " '/Library/Frameworks/Python.framework/Versions/3.8/lib/python38.zip': None,\n",
      " '/Users/huzhenyu/.ipython': FileFinder('/Users/huzhenyu/.ipython'),\n",
      " '/Users/huzhenyu/.ipython/extensions': FileFinder('/Users/huzhenyu/.ipython/extensions'),\n",
      " '/Users/huzhenyu/Documents/personal/python_personal/python/cookbook': FileFinder('/Users/huzhenyu/Documents/personal/python_personal/python/cookbook')}\n"
     ]
    }
   ],
   "source": [
    "pprint(sys.path_importer_cache)"
   ]
  },
  {
   "cell_type": "markdown",
   "id": "dd399682-df92-41cd-9c1b-0a9f4e356484",
   "metadata": {},
   "source": [
    "要执行 `import fib` ，会顺序检查 `sys.path` 中的目录。 对于每个目录，名称`fib`会被传给相应的 `sys.path_importer_cache` 中的查找器。"
   ]
  },
  {
   "cell_type": "code",
   "execution_count": 36,
   "id": "78133db2-2d26-4dec-9265-48b3f0d08585",
   "metadata": {},
   "outputs": [],
   "source": [
    "class Finder:\n",
    "    def find_loader(self, name):\n",
    "        print('Looking for', name)\n",
    "        return (None, [])"
   ]
  },
  {
   "cell_type": "code",
   "execution_count": 40,
   "id": "62272150-743b-4862-80ce-5022515b37b1",
   "metadata": {},
   "outputs": [
    {
     "name": "stdout",
     "output_type": "stream",
     "text": [
      "Looking for fib None\n",
      "Looking for fib None\n",
      "Looking for fib None\n",
      "Looking for fib None\n",
      "Looking for fib None\n",
      "Looking for fib None\n",
      "Looking for fib None\n",
      "Looking for fib None\n",
      "Looking for fib\n",
      "Looking for fib\n",
      "Looking for fib\n",
      "Looking for fib\n"
     ]
    },
    {
     "ename": "ModuleNotFoundError",
     "evalue": "No module named 'fib'",
     "output_type": "error",
     "traceback": [
      "\u001b[0;31m---------------------------------------------------------------------------\u001b[0m",
      "\u001b[0;31mModuleNotFoundError\u001b[0m                       Traceback (most recent call last)",
      "\u001b[0;32m/var/folders/g6/h24w2cnn0bzbzz1dc4v4fplm0000gn/T/ipykernel_853/504518858.py\u001b[0m in \u001b[0;36m<module>\u001b[0;34m\u001b[0m\n\u001b[1;32m      3\u001b[0m \u001b[0msys\u001b[0m\u001b[0;34m.\u001b[0m\u001b[0mpath_importer_cache\u001b[0m\u001b[0;34m[\u001b[0m\u001b[0;34m'debug'\u001b[0m\u001b[0;34m]\u001b[0m \u001b[0;34m=\u001b[0m \u001b[0mFinder\u001b[0m\u001b[0;34m(\u001b[0m\u001b[0;34m)\u001b[0m\u001b[0;34m\u001b[0m\u001b[0;34m\u001b[0m\u001b[0m\n\u001b[1;32m      4\u001b[0m \u001b[0msys\u001b[0m\u001b[0;34m.\u001b[0m\u001b[0mpath\u001b[0m\u001b[0;34m.\u001b[0m\u001b[0minsert\u001b[0m\u001b[0;34m(\u001b[0m\u001b[0;36m0\u001b[0m\u001b[0;34m,\u001b[0m \u001b[0;34m'debug'\u001b[0m\u001b[0;34m)\u001b[0m\u001b[0;34m\u001b[0m\u001b[0;34m\u001b[0m\u001b[0m\n\u001b[0;32m----> 5\u001b[0;31m \u001b[0;32mimport\u001b[0m \u001b[0mfib\u001b[0m\u001b[0;34m\u001b[0m\u001b[0;34m\u001b[0m\u001b[0m\n\u001b[0m",
      "\u001b[0;31mModuleNotFoundError\u001b[0m: No module named 'fib'"
     ]
    }
   ],
   "source": [
    "import sys\n",
    "sys.path_importer_cache.clear()\n",
    "sys.path_importer_cache['debug'] = Finder()\n",
    "sys.path.insert(0, 'debug')\n",
    "import fib"
   ]
  },
  {
   "cell_type": "markdown",
   "id": "62f93180-5935-4a50-ab29-b089c3ed28a0",
   "metadata": {},
   "source": [
    "`sys.path_importer_cache` 的使用被一个存储在 `sys.path_hooks` 中的函数列表控制"
   ]
  },
  {
   "cell_type": "code",
   "execution_count": 41,
   "id": "e69056d1-5c28-4f7e-a4b6-adeab2ad2b51",
   "metadata": {},
   "outputs": [],
   "source": [
    "sys.path_importer_cache.clear()\n",
    "def check_path(path):\n",
    "    print('Checking', path)\n",
    "    raise ImportError()"
   ]
  },
  {
   "cell_type": "code",
   "execution_count": 42,
   "id": "2f7b37e4-3eb3-4e26-b91d-bf66df905d3c",
   "metadata": {},
   "outputs": [
    {
     "name": "stdout",
     "output_type": "stream",
     "text": [
      "Looking for fib None\n",
      "Looking for fib None\n",
      "Looking for fib None\n",
      "Looking for fib None\n",
      "Looking for fib None\n",
      "Looking for fib None\n",
      "Looking for fib None\n",
      "Looking for fib None\n",
      "Checking debug\n",
      "Checking /Users/huzhenyu/Documents/personal/python_personal/python/cookbook\n",
      "Checking /Library/Frameworks/Python.framework/Versions/3.8/lib/python38.zip\n",
      "Checking /Library/Frameworks/Python.framework/Versions/3.8/lib/python3.8\n",
      "Checking /Library/Frameworks/Python.framework/Versions/3.8/lib/python3.8/lib-dynload\n",
      "Checking /Library/Frameworks/Python.framework/Versions/3.8/lib/python3.8/site-packages\n",
      "Checking /Library/Frameworks/Python.framework/Versions/3.8/lib/python3.8/site-packages/IPython/extensions\n",
      "Checking /Users/huzhenyu/.ipython\n"
     ]
    },
    {
     "ename": "ModuleNotFoundError",
     "evalue": "No module named 'fib'",
     "output_type": "error",
     "traceback": [
      "\u001b[0;31m---------------------------------------------------------------------------\u001b[0m",
      "\u001b[0;31mModuleNotFoundError\u001b[0m                       Traceback (most recent call last)",
      "\u001b[0;32m/var/folders/g6/h24w2cnn0bzbzz1dc4v4fplm0000gn/T/ipykernel_853/1499534757.py\u001b[0m in \u001b[0;36m<module>\u001b[0;34m\u001b[0m\n\u001b[1;32m      1\u001b[0m \u001b[0msys\u001b[0m\u001b[0;34m.\u001b[0m\u001b[0mpath_hooks\u001b[0m\u001b[0;34m.\u001b[0m\u001b[0minsert\u001b[0m\u001b[0;34m(\u001b[0m\u001b[0;36m0\u001b[0m\u001b[0;34m,\u001b[0m \u001b[0mcheck_path\u001b[0m\u001b[0;34m)\u001b[0m\u001b[0;34m\u001b[0m\u001b[0;34m\u001b[0m\u001b[0m\n\u001b[0;32m----> 2\u001b[0;31m \u001b[0;32mimport\u001b[0m \u001b[0mfib\u001b[0m\u001b[0;34m\u001b[0m\u001b[0;34m\u001b[0m\u001b[0m\n\u001b[0m",
      "\u001b[0;31mModuleNotFoundError\u001b[0m: No module named 'fib'"
     ]
    }
   ],
   "source": [
    "sys.path_hooks.insert(0, check_path)\n",
    "import fib"
   ]
  },
  {
   "cell_type": "markdown",
   "id": "3e255e7d-5f67-4f72-b928-86561eae11df",
   "metadata": {},
   "source": [
    "一个新的 `UrlPathFinder` 实例被创建并被放入 `sys.path_importer_cache`. 之后，所有需要检查 `sys.path` 的导入语句都会使用你的自定义查找器。"
   ]
  },
  {
   "cell_type": "markdown",
   "id": "b02d9cd3-50d5-4bbf-bf16-ad57249c8609",
   "metadata": {},
   "source": [
    "对于简单模块，`find_loader()` 返回一个元组`(loader, None)`， 其中的`loader`是一个用于导入模块的加载器实例。"
   ]
  },
  {
   "cell_type": "markdown",
   "id": "aeeb9e37-5d59-41ba-9bac-6f721a834f9c",
   "metadata": {},
   "source": [
    "对于一个普通的包，`find_loader()` 返回一个元组`(loader, path)`， 其中的`loader`是一个用于导入包（并执行`__init__.py`）的加载器实例， `path`是一个会初始化包的 `__path__` 属性的目录列表。"
   ]
  },
  {
   "cell_type": "markdown",
   "id": "658170a5-f1ae-4d85-9230-9f6020fe5f1c",
   "metadata": {},
   "source": [
    "`find_loader()` 还要能处理一个命名空间包。 一个命名空间包中有一个合法的包目录名，但是不存在`__init__.py`文件。   \n",
    "这样的话，`find_loader()` 必须返回一个元组`(None, path)`， `path`是一个目录列表，由它来构建包的定义有`__init__.py`文件的`__path__`属性。   \n",
    "对于这种情况，导入机制会继续前行去检查`sys.path`中的目录。 如果找到了命名空间包，所有的结果路径被加到一起来构建最终的命名空间包。  "
   ]
  },
  {
   "cell_type": "markdown",
   "id": "b9e93bf1-8188-413b-905f-76d1b7735802",
   "metadata": {},
   "source": [
    "所有的包都包含了一个内部路径设置，可以在`__path__`属性中看到"
   ]
  },
  {
   "cell_type": "code",
   "execution_count": 44,
   "id": "cffdb666-228f-40b8-9bb9-98612496e7d4",
   "metadata": {},
   "outputs": [
    {
     "data": {
      "text/plain": [
       "['/Library/Frameworks/Python.framework/Versions/3.8/lib/python3.8/xml']"
      ]
     },
     "execution_count": 44,
     "metadata": {},
     "output_type": "execute_result"
    }
   ],
   "source": [
    "import xml.etree.ElementTree\n",
    "xml.__path__"
   ]
  },
  {
   "cell_type": "markdown",
   "id": "f42e8ec3-a8a3-495b-8765-8804273d730d",
   "metadata": {},
   "source": [
    "# 导入模块的同时修改模块"
   ]
  },
  {
   "cell_type": "code",
   "execution_count": 51,
   "id": "b872ad84-58a6-40b8-bc80-76e9a234f9dd",
   "metadata": {},
   "outputs": [],
   "source": [
    "# postimport.py\n",
    "import importlib\n",
    "import sys\n",
    "from collections import defaultdict\n",
    "\n",
    "_post_import_hooks = defaultdict(list)\n",
    "\n",
    "class PostImportFinder:\n",
    "    def __init__(self):\n",
    "        self._skip = set()\n",
    "\n",
    "    def find_module(self, fullname, path=None):\n",
    "        if fullname in self._skip:\n",
    "            return None\n",
    "        self._skip.add(fullname)\n",
    "        return PostImportLoader(self)\n",
    "\n",
    "class PostImportLoader:\n",
    "    def __init__(self, finder):\n",
    "        self._finder = finder\n",
    "\n",
    "    def load_module(self, fullname):\n",
    "        importlib.import_module(fullname)\n",
    "        module = sys.modules[fullname]\n",
    "        for func in _post_import_hooks[fullname]:\n",
    "            func(module)\n",
    "        self._finder._skip.remove(fullname)\n",
    "        return module\n",
    "\n",
    "def when_imported(fullname):\n",
    "    def decorate(func):\n",
    "        if fullname in sys.modules:\n",
    "            func(sys.modules[fullname])\n",
    "        else:\n",
    "            _post_import_hooks[fullname].append(func)\n",
    "        return func\n",
    "    return decorate\n",
    "\n",
    "sys.meta_path.insert(0, PostImportFinder())"
   ]
  },
  {
   "cell_type": "code",
   "execution_count": 50,
   "id": "66a739a1-da49-4a25-a3c5-2ebbda9c21ad",
   "metadata": {},
   "outputs": [
    {
     "name": "stdout",
     "output_type": "stream",
     "text": [
      "Threads? Are you crazy?\n"
     ]
    }
   ],
   "source": [
    "@when_imported('threading')\n",
    "def warn_threads(mod):\n",
    "    print('Threads? Are you crazy?')"
   ]
  },
  {
   "cell_type": "code",
   "execution_count": 52,
   "id": "457c441e-4089-4902-8936-7fefba2ac512",
   "metadata": {},
   "outputs": [],
   "source": [
    "import threading"
   ]
  },
  {
   "cell_type": "code",
   "execution_count": 74,
   "id": "119ecb7f-817b-4bdb-abd7-1c8154dcac2c",
   "metadata": {},
   "outputs": [],
   "source": [
    "from functools import wraps\n",
    "\n",
    "def logged(func):\n",
    "    @wraps(func)\n",
    "    def wrapper(*args, **kwargs):\n",
    "        print('Calling', func.__name__, args, kwargs)\n",
    "        return func(*args, **kwargs)\n",
    "    return wrapper\n",
    "\n",
    "# Example\n",
    "@when_imported('math')\n",
    "def add_logging(mod):\n",
    "    mod.cos = logged(mod.cos)\n",
    "    mod.sin = logged(mod.sin)"
   ]
  },
  {
   "cell_type": "code",
   "execution_count": 75,
   "id": "b9a9c8c9-8075-4708-876b-3701ecf7f9a9",
   "metadata": {},
   "outputs": [
    {
     "name": "stdout",
     "output_type": "stream",
     "text": [
      "Calling sin (2,) {}\n",
      "Calling sin (2,) {}\n",
      "Calling sin (2,) {}\n",
      "Calling sin (2,) {}\n",
      "Calling sin (2,) {}\n",
      "Calling sin (2,) {}\n"
     ]
    },
    {
     "data": {
      "text/plain": [
       "0.9092974268256817"
      ]
     },
     "execution_count": 75,
     "metadata": {},
     "output_type": "execute_result"
    }
   ],
   "source": [
    "math.sin(2)"
   ]
  },
  {
   "cell_type": "code",
   "execution_count": 63,
   "id": "191dcc11-3f20-4b8d-85e8-4511d46e45e0",
   "metadata": {},
   "outputs": [
    {
     "data": {
      "text/plain": [
       "defaultdict(list, {'math': []})"
      ]
     },
     "execution_count": 63,
     "metadata": {},
     "output_type": "execute_result"
    }
   ],
   "source": [
    "_post_import_hooks"
   ]
  },
  {
   "cell_type": "markdown",
   "id": "632e37d3-024d-4182-a665-78d8582bacd1",
   "metadata": {},
   "source": [
    "# 安装私有的包"
   ]
  },
  {
   "cell_type": "markdown",
   "id": "307ea342-1c15-4b18-9ce9-bcc36baf22d2",
   "metadata": {},
   "source": [
    "```bash\n",
    "python3 setup.py install --user\n",
    "pip install --user packagename\n",
    "```"
   ]
  },
  {
   "cell_type": "markdown",
   "id": "19f0b77a-3c8d-4e5e-bf88-3d52b219b935",
   "metadata": {},
   "source": [
    "# 创建新的Python环境"
   ]
  },
  {
   "cell_type": "markdown",
   "id": "ee43fb7c-de8a-467f-b1a8-ead69f6a3b4e",
   "metadata": {},
   "source": [
    "```bash\n",
    "bash % pyvenv Spam\n",
    "```"
   ]
  },
  {
   "cell_type": "markdown",
   "id": "77de9808-3976-4fe8-9395-a2c6849d461d",
   "metadata": {},
   "source": [
    "# 分发包"
   ]
  },
  {
   "cell_type": "markdown",
   "id": "181b2202-a64c-4790-ab81-ba12fcd13d0a",
   "metadata": {},
   "source": [
    "目录结构"
   ]
  },
  {
   "cell_type": "markdown",
   "id": "320aac7e-452d-4012-bedd-9569b7ca5dec",
   "metadata": {},
   "source": [
    "```python\n",
    "projectname/\n",
    "    README.txt\n",
    "    Doc/\n",
    "        documentation.txt\n",
    "    projectname/\n",
    "        __init__.py\n",
    "        foo.py\n",
    "        bar.py\n",
    "        utils/\n",
    "            __init__.py\n",
    "            spam.py\n",
    "            grok.py\n",
    "    examples/\n",
    "        helloworld.py\n",
    "        ...\n",
    "```"
   ]
  },
  {
   "cell_type": "markdown",
   "id": "306f3ca2-bb91-4d15-a744-42777e999215",
   "metadata": {},
   "source": [
    "要让你的包可以发布出去，首先你要编写一个 `setup.py`"
   ]
  },
  {
   "cell_type": "markdown",
   "id": "1cbace3e-4962-4feb-8e5e-863a01a94407",
   "metadata": {},
   "source": [
    "```python\n",
    "# setup.py\n",
    "\n",
    "from distutils.core import setup\n",
    "\n",
    "setup(name='projectname',\n",
    "    version='1.0',\n",
    "    author='Your Name',\n",
    "    author_email='you@youraddress.com',\n",
    "    url='http://www.you.com/projectname',\n",
    "    packages=['projectname', 'projectname.utils'],\n",
    ")\n",
    "```"
   ]
  },
  {
   "cell_type": "markdown",
   "id": "9de81bd4-adc9-487c-94b5-086dcbe69f33",
   "metadata": {},
   "source": [
    "创建一个 `MANIFEST.in` 文件，列出所有在你的包中需要包含进来的非源码文件"
   ]
  },
  {
   "cell_type": "markdown",
   "id": "4ae221d5-d93d-4dfe-a24d-e79c00932cf2",
   "metadata": {},
   "source": [
    "```python\n",
    "# MANIFEST.in\n",
    "include *.txt\n",
    "recursive-include examples *\n",
    "recursive-include Doc *\n",
    "```"
   ]
  },
  {
   "cell_type": "markdown",
   "id": "0205c5c8-8082-4b4e-8eb9-c5eb0a7b08a0",
   "metadata": {},
   "source": [
    "确保 `setup.py` 和 `MANIFEST.in` 文件放在你的包的最顶级目录中"
   ]
  },
  {
   "cell_type": "markdown",
   "id": "d56b2ea3-973d-48cb-9ae0-bcb67cfcd290",
   "metadata": {},
   "source": [
    "```bash\n",
    "% bash python3 setup.py sdist\n",
    "```"
   ]
  },
  {
   "cell_type": "code",
   "execution_count": null,
   "id": "9d8d14ba-bb16-457f-af21-69535b761bcc",
   "metadata": {},
   "outputs": [],
   "source": []
  }
 ],
 "metadata": {
  "kernelspec": {
   "display_name": "Python 3 (ipykernel)",
   "language": "python",
   "name": "python3"
  },
  "language_info": {
   "codemirror_mode": {
    "name": "ipython",
    "version": 3
   },
   "file_extension": ".py",
   "mimetype": "text/x-python",
   "name": "python",
   "nbconvert_exporter": "python",
   "pygments_lexer": "ipython3",
   "version": "3.8.10"
  },
  "toc-autonumbering": true
 },
 "nbformat": 4,
 "nbformat_minor": 5
}
