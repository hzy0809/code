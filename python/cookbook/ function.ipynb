{
 "cells": [
  {
   "cell_type": "markdown",
   "id": "47e01da3-f8b8-487c-8c97-c48aa0d67740",
   "metadata": {},
   "source": [
    "# 可接受任意数量参数的函数"
   ]
  },
  {
   "cell_type": "markdown",
   "id": "8a78f808-d35a-4d43-8fd3-7a5831f72917",
   "metadata": {
    "raw_mimetype": "pdf",
    "tags": []
   },
   "source": [
    "```python\n",
    "def a(x,*args,**kwargs):\n",
    "    pass\n",
    "```\n",
    "`*args`收集位置参数  \n",
    "`*kwargs`:收集关键字参数"
   ]
  },
  {
   "cell_type": "markdown",
   "id": "bffcacd9-3b4a-4c60-bb5e-65cb4949c344",
   "metadata": {},
   "source": [
    "# 只接受关键之参数的函数"
   ]
  },
  {
   "cell_type": "code",
   "execution_count": 3,
   "id": "d31b16a3-6027-4c4e-b53f-9b7e50e7a30e",
   "metadata": {},
   "outputs": [],
   "source": [
    "def recv(maxsiez,*,block):\n",
    "    pass"
   ]
  },
  {
   "cell_type": "markdown",
   "id": "4e7994f0-1c7a-4a3e-843b-b53e78862f5b",
   "metadata": {},
   "source": [
    "# 给函数参数增加元信息"
   ]
  },
  {
   "cell_type": "code",
   "execution_count": 4,
   "id": "6403abc0-361a-4f20-9829-68a853e7dc4c",
   "metadata": {},
   "outputs": [
    {
     "name": "stdout",
     "output_type": "stream",
     "text": [
      "Help on function add in module __main__:\n",
      "\n",
      "add(x: int, y: int) -> int\n",
      "\n"
     ]
    }
   ],
   "source": [
    "def add(x:int,y:int)->int:\n",
    "    return x+y\n",
    "help(add)"
   ]
  },
  {
   "cell_type": "markdown",
   "id": "4abd706c-82b6-4d34-972e-c853de5b4361",
   "metadata": {},
   "source": [
    "函数注解只存储在函数的`__annotations__`属性中"
   ]
  },
  {
   "cell_type": "markdown",
   "id": "bcf1a0b1-2f08-471d-8a79-0b559de727a4",
   "metadata": {},
   "source": [
    "# 返回多个值得函数"
   ]
  },
  {
   "cell_type": "code",
   "execution_count": 5,
   "id": "2a2e3878-1c45-4b6f-bdde-c8890c592150",
   "metadata": {},
   "outputs": [],
   "source": [
    "def myfun():\n",
    "    return 1,2,3"
   ]
  },
  {
   "cell_type": "markdown",
   "id": "2262cf4f-d879-4113-9c44-71c97c3520df",
   "metadata": {},
   "source": [
    "可以使用`,`来生成一个元组"
   ]
  },
  {
   "cell_type": "markdown",
   "id": "a819f720-f9d5-4c71-b31b-2b111a467511",
   "metadata": {},
   "source": [
    "# 有默认参数的函数"
   ]
  },
  {
   "cell_type": "code",
   "execution_count": 7,
   "id": "93133bdd-6eae-4cab-a4e1-ef6c2de1a348",
   "metadata": {},
   "outputs": [],
   "source": [
    "def spam(a,b=42):\n",
    "    pass"
   ]
  },
  {
   "cell_type": "code",
   "execution_count": 11,
   "id": "63105e72-1b78-4793-b540-18948907d3f1",
   "metadata": {},
   "outputs": [],
   "source": [
    "_no_value = object()\n",
    "# 同一性测试\n",
    "def spam(a,b=_no_value):\n",
    "    if b is _no_value:\n",
    "        print('b no value')"
   ]
  },
  {
   "cell_type": "code",
   "execution_count": 10,
   "id": "f7068264-69a1-4ddc-9407-0a54a3ad60cc",
   "metadata": {},
   "outputs": [
    {
     "name": "stdout",
     "output_type": "stream",
     "text": [
      "b no value\n"
     ]
    },
    {
     "data": {
      "text/plain": [
       "(None, None)"
      ]
     },
     "execution_count": 10,
     "metadata": {},
     "output_type": "execute_result"
    }
   ],
   "source": [
    "spam(1),spam(1,None)"
   ]
  },
  {
   "cell_type": "markdown",
   "id": "75a9a86b-8cac-4648-9e1a-a7335f4dbb8a",
   "metadata": {},
   "source": [
    "# 定义匿名或内联函数"
   ]
  },
  {
   "cell_type": "code",
   "execution_count": 13,
   "id": "3a37f2fd-22dc-42ca-93e2-d6dc71ed055c",
   "metadata": {},
   "outputs": [
    {
     "data": {
      "text/plain": [
       "['Ned Batchelder', 'David Beazley', 'Raymond Hettinger', 'Brian Jones']"
      ]
     },
     "execution_count": 13,
     "metadata": {},
     "output_type": "execute_result"
    }
   ],
   "source": [
    "names = ['David Beazley', 'Brian Jones',\n",
    "       'Raymond Hettinger', 'Ned Batchelder']\n",
    "sorted(names, key=lambda name: name.split()[-1].lower())"
   ]
  },
  {
   "cell_type": "markdown",
   "id": "69d70b63-69ca-4c5b-9fd0-8d4d66d65c4c",
   "metadata": {},
   "source": [
    "# 匿名函数捕获变量值"
   ]
  },
  {
   "cell_type": "code",
   "execution_count": 14,
   "id": "3623721c-13b3-457b-bdc3-548410c1df42",
   "metadata": {},
   "outputs": [
    {
     "data": {
      "text/plain": [
       "(30, 30)"
      ]
     },
     "execution_count": 14,
     "metadata": {},
     "output_type": "execute_result"
    }
   ],
   "source": [
    "x = 10\n",
    "a = lambda y:x +y\n",
    "x = 20 \n",
    "b = lambda y:x+y\n",
    "a(10),b(10)"
   ]
  },
  {
   "cell_type": "markdown",
   "id": "f5cb174a-df8f-40c0-96cf-ca500163325a",
   "metadata": {},
   "source": [
    "`lambda`表达式中的`x`是一个自由变量，在运行时绑定值  \n",
    "通过使用函数默认值参数形式，`lambda`函数在定义时就能绑定到值。"
   ]
  },
  {
   "cell_type": "code",
   "execution_count": 16,
   "id": "2ce87772-3c20-4994-ac16-67d236657cfe",
   "metadata": {},
   "outputs": [
    {
     "name": "stdout",
     "output_type": "stream",
     "text": [
      "4\n",
      "4\n",
      "4\n",
      "4\n",
      "4\n"
     ]
    }
   ],
   "source": [
    "funcs = [lambda x:x+n for n in range(5)]\n",
    "for f in funcs:\n",
    "    print(f(0))"
   ]
  },
  {
   "cell_type": "code",
   "execution_count": 17,
   "id": "7a25cc0b-6818-4df5-a4ee-01d17cb8446a",
   "metadata": {},
   "outputs": [
    {
     "name": "stdout",
     "output_type": "stream",
     "text": [
      "0\n",
      "1\n",
      "2\n",
      "3\n",
      "4\n"
     ]
    }
   ],
   "source": [
    "funcs = [lambda x,n=n:x+n for n in range(5)]\n",
    "for f in funcs:\n",
    "    print(f(0))"
   ]
  },
  {
   "cell_type": "markdown",
   "id": "e919c3e5-92ef-4316-9505-46768e0d9d9a",
   "metadata": {},
   "source": [
    "# 减少可调用对象的参数个数"
   ]
  },
  {
   "cell_type": "code",
   "execution_count": 18,
   "id": "0c209077-50c3-4053-be54-e6976fa2ccb0",
   "metadata": {},
   "outputs": [
    {
     "name": "stdout",
     "output_type": "stream",
     "text": [
      "1 2 3 4\n"
     ]
    }
   ],
   "source": [
    "def spam(a,b,c,d):\n",
    "    print(a,b,c,d)\n",
    "from functools import partial\n",
    "s1 = partial(spam,1)\n",
    "s1(2,3,4)"
   ]
  },
  {
   "cell_type": "code",
   "execution_count": 19,
   "id": "15ceacb2-f867-43d3-8494-3db91f56946e",
   "metadata": {},
   "outputs": [
    {
     "name": "stdout",
     "output_type": "stream",
     "text": [
      "1 2 100 5\n"
     ]
    }
   ],
   "source": [
    "s2 = partial(spam,1,2,d=5)\n",
    "s2(100)"
   ]
  },
  {
   "cell_type": "code",
   "execution_count": 21,
   "id": "04250f8c-bb59-413f-93c8-c0f1e7046ec1",
   "metadata": {},
   "outputs": [
    {
     "data": {
      "text/plain": [
       "[(3, 4), (1, 2), (5, 6), (7, 8)]"
      ]
     },
     "execution_count": 21,
     "metadata": {},
     "output_type": "execute_result"
    }
   ],
   "source": [
    "points = [ (1, 2), (3, 4), (5, 6), (7, 8) ]\n",
    "import math\n",
    "def distance(p1,p2):\n",
    "    x1,y1=p1\n",
    "    x2,y2=p2\n",
    "    return math.hypot(x2-x1,y2-y1)\n",
    "pt = (4,3)\n",
    "points.sort(key=partial(distance,pt))\n",
    "points"
   ]
  },
  {
   "cell_type": "code",
   "execution_count": 29,
   "id": "362d6235-90a0-4cce-80bf-f452fc4e41b5",
   "metadata": {},
   "outputs": [],
   "source": [
    "def output_result(result,log=None):\n",
    "    if log is not None:\n",
    "        log.debug('Got:%r',result)\n",
    "def addxy(x,y):\n",
    "    return x + y"
   ]
  },
  {
   "cell_type": "code",
   "execution_count": null,
   "id": "9c8ad74b-6884-4b36-8016-4bb56941b2ec",
   "metadata": {},
   "outputs": [],
   "source": [
    "import logging\n",
    "from multiprocessing import Pool\n",
    "from functools import partial\n",
    "logging.basicConfig(level=logging.DEBUG)\n",
    "log = logging.getLogger('test')\n",
    "p = Pool()\n",
    "p.apply_async(addxy,(3,4),callback=partial(output_result,log=log))\n",
    "p.close()\n",
    "p.join()"
   ]
  },
  {
   "cell_type": "markdown",
   "id": "2a0d874c-65c3-426c-8011-d87f48537af6",
   "metadata": {},
   "source": [
    "# 将单方法的类转换为函数"
   ]
  },
  {
   "cell_type": "markdown",
   "id": "6a4048e1-7a90-4ce6-b656-c126e9f2c99e",
   "metadata": {},
   "source": [
    "```python\n",
    "from urllib.request import urlopen\n",
    "\n",
    "class UrlTemplate:\n",
    "    def __init__(self, template):\n",
    "        self.template = template\n",
    "\n",
    "    def open(self, **kwargs):\n",
    "        return urlopen(self.template.format_map(kwargs))\n",
    "\n",
    "# Example use. Download stock data from yahoo\n",
    "yahoo = UrlTemplate('http://finance.yahoo.com/d/quotes.csv?s={names}&f={fields}')\n",
    "for line in yahoo.open(names='IBM,AAPL,FB', fields='sl1c1v'):\n",
    "    print(line.decode('utf-8'))\n",
    "```"
   ]
  },
  {
   "cell_type": "markdown",
   "id": "7693e488-1723-49f1-9f13-2ff9eff3178f",
   "metadata": {},
   "source": [
    "```python\n",
    "def urltemplate(template):\n",
    "    def opener(**kwargs):\n",
    "        return urlopen(template.format_map(kwargs))\n",
    "    return opener\n",
    "\n",
    "# Example use\n",
    "yahoo = urltemplate('http://finance.yahoo.com/d/quotes.csv?s={names}&f={fields}')\n",
    "for line in yahoo(names='IBM,AAPL,FB', fields='sl1c1v'):\n",
    "    print(line.decode('utf-8'))\n",
    "```"
   ]
  },
  {
   "cell_type": "markdown",
   "id": "41d948e1-47e8-448f-8b79-10e7944ba743",
   "metadata": {},
   "source": [
    "# 带额外状态信息的回调函数"
   ]
  },
  {
   "cell_type": "code",
   "execution_count": 33,
   "id": "eb868fe4-0365-46ee-89d0-8de15b64ba02",
   "metadata": {},
   "outputs": [],
   "source": [
    "def apply_async(func, args, *, callback):\n",
    "    # Compute the result\n",
    "    result = func(*args)\n",
    "\n",
    "    # Invoke the callback with the result\n",
    "    callback(result)"
   ]
  },
  {
   "cell_type": "code",
   "execution_count": 34,
   "id": "d7d927a7-abe1-463c-a10e-97e415b87492",
   "metadata": {},
   "outputs": [
    {
     "name": "stdout",
     "output_type": "stream",
     "text": [
      "Got: 5\n",
      "Got: helloworld\n"
     ]
    },
    {
     "data": {
      "text/plain": [
       "(None, None)"
      ]
     },
     "execution_count": 34,
     "metadata": {},
     "output_type": "execute_result"
    }
   ],
   "source": [
    "def print_result(result):\n",
    "    print('Got:', result)\n",
    "def add(x, y):\n",
    "    return x + y\n",
    "apply_async(add, (2, 3), callback=print_result),apply_async(add, ('hello', 'world'), callback=print_result)"
   ]
  },
  {
   "cell_type": "code",
   "execution_count": 35,
   "id": "328f3ab9-bf95-429b-be13-de599dd266d7",
   "metadata": {},
   "outputs": [],
   "source": [
    "class ResultHandler:\n",
    "\n",
    "    def __init__(self):\n",
    "        self.sequence = 0\n",
    "\n",
    "    def handler(self, result):\n",
    "        self.sequence += 1\n",
    "        print('[{}] Got: {}'.format(self.sequence, result))"
   ]
  },
  {
   "cell_type": "code",
   "execution_count": 36,
   "id": "6df2e075-dd27-4cab-b3c8-f28f4f56c8f6",
   "metadata": {},
   "outputs": [
    {
     "name": "stdout",
     "output_type": "stream",
     "text": [
      "[1] Got: 5\n",
      "[2] Got: helloworld\n"
     ]
    },
    {
     "data": {
      "text/plain": [
       "(None, None)"
      ]
     },
     "execution_count": 36,
     "metadata": {},
     "output_type": "execute_result"
    }
   ],
   "source": [
    "r = ResultHandler()\n",
    "apply_async(add, (2, 3), callback=r.handler),apply_async(add, ('hello', 'world'), callback=r.handler)"
   ]
  },
  {
   "cell_type": "code",
   "execution_count": 37,
   "id": "070b77e5-951f-4709-95fa-e5bb2ad857f1",
   "metadata": {},
   "outputs": [],
   "source": [
    "def make_handler():\n",
    "    sequence = 0\n",
    "    def handler(result):\n",
    "        nonlocal sequence\n",
    "        sequence += 1\n",
    "        print('[{}] Got: {}'.format(sequence, result))\n",
    "    return handler"
   ]
  },
  {
   "cell_type": "code",
   "execution_count": 38,
   "id": "f09ab42c-dde0-44c2-a4dc-ea9bc9e29935",
   "metadata": {},
   "outputs": [
    {
     "name": "stdout",
     "output_type": "stream",
     "text": [
      "[1] Got: 5\n",
      "[2] Got: helloworld\n"
     ]
    },
    {
     "data": {
      "text/plain": [
       "(None, None)"
      ]
     },
     "execution_count": 38,
     "metadata": {},
     "output_type": "execute_result"
    }
   ],
   "source": [
    "handler = make_handler()\n",
    "apply_async(add, (2, 3), callback=handler),apply_async(add, ('hello', 'world'), callback=handler)"
   ]
  },
  {
   "cell_type": "code",
   "execution_count": 39,
   "id": "e78ac19e-6eca-4dbd-97d8-6670be38b624",
   "metadata": {},
   "outputs": [],
   "source": [
    "def make_handler():\n",
    "    sequence = 0\n",
    "    while True:\n",
    "        result = yield\n",
    "        sequence += 1\n",
    "        print('[{}] Got: {}'.format(sequence, result))"
   ]
  },
  {
   "cell_type": "code",
   "execution_count": 41,
   "id": "46e37159-4a79-4254-87b9-8a32d697a3ad",
   "metadata": {},
   "outputs": [
    {
     "name": "stdout",
     "output_type": "stream",
     "text": [
      "[1] Got: 5\n",
      "[2] Got: helloworld\n"
     ]
    },
    {
     "data": {
      "text/plain": [
       "(None, None)"
      ]
     },
     "execution_count": 41,
     "metadata": {},
     "output_type": "execute_result"
    }
   ],
   "source": [
    "handler = make_handler()\n",
    "next(handler) # Advance to the yield\n",
    "apply_async(add, (2, 3), callback=handler.send),apply_async(add, ('hello', 'world'), callback=handler.send)"
   ]
  },
  {
   "cell_type": "markdown",
   "id": "1939d18a-b402-4978-91d1-b2b7931ae043",
   "metadata": {},
   "source": [
    "# 内联回调函数"
   ]
  },
  {
   "cell_type": "code",
   "execution_count": 5,
   "id": "feace241-26ca-43b6-bde9-35665d4201c1",
   "metadata": {},
   "outputs": [],
   "source": [
    "def apply_async(func,args,*,callback):\n",
    "    result = func(*args)\n",
    "    callback(result)\n",
    "from queue import Queue\n",
    "from functools import wraps\n",
    "\n",
    "class Async:\n",
    "    def __init__(self,func,args):\n",
    "        self.func = func\n",
    "        self.args = args\n",
    "        \n",
    "def inlined_async(func):\n",
    "    @wraps(func)\n",
    "    def wrapper(*args):\n",
    "        f = func(*args)\n",
    "        result_queue = Queue()\n",
    "        result_queue.put(None)\n",
    "        while True:\n",
    "            result = result_queue.get()\n",
    "            try:\n",
    "                a = f.send(result)\n",
    "                apply_async(a.func,a.args,callback=result_queue.put)\n",
    "            except StopIteration:\n",
    "                break\n",
    "    return wrapper"
   ]
  },
  {
   "cell_type": "code",
   "execution_count": 6,
   "id": "0133cfa2-9324-4a0a-a035-43bf2cb01750",
   "metadata": {},
   "outputs": [],
   "source": [
    "def xadd(x,y):\n",
    "    return x+y\n",
    "@inlined_async\n",
    "def test():\n",
    "    r = yield Async(xadd,(2,3))\n",
    "    print(r)\n",
    "    r = yield Async(xadd,('hello','world'))\n",
    "    print(r)\n",
    "    for n in range(10):\n",
    "        r = yield Async(xadd,(n,n))\n",
    "        print(r)\n",
    "    print('GoodBye')"
   ]
  },
  {
   "cell_type": "code",
   "execution_count": 8,
   "id": "2800239b-ef61-4c9f-811e-2a932e2659a3",
   "metadata": {},
   "outputs": [
    {
     "name": "stdout",
     "output_type": "stream",
     "text": [
      "5\n",
      "helloworld\n",
      "0\n",
      "2\n",
      "4\n",
      "6\n",
      "8\n",
      "10\n",
      "12\n",
      "14\n",
      "16\n",
      "18\n",
      "GoodBye\n"
     ]
    }
   ],
   "source": [
    "test()"
   ]
  },
  {
   "cell_type": "markdown",
   "id": "ff6cf7e2-1623-4c7d-ae8d-f96bb63d1c86",
   "metadata": {},
   "source": [
    "# 访问闭包中定义的变量"
   ]
  },
  {
   "cell_type": "code",
   "execution_count": 10,
   "id": "6c65c060-95f5-4a23-9bf1-7c5aab167264",
   "metadata": {},
   "outputs": [
    {
     "name": "stdout",
     "output_type": "stream",
     "text": [
      "n= 0\n",
      "n= 10\n"
     ]
    },
    {
     "data": {
      "text/plain": [
       "(None, None, None, 10)"
      ]
     },
     "execution_count": 10,
     "metadata": {},
     "output_type": "execute_result"
    }
   ],
   "source": [
    "def sample():\n",
    "    n = 0\n",
    "    # Closure function\n",
    "    def func():\n",
    "        print('n=', n)\n",
    "\n",
    "    # Accessor methods for n\n",
    "    def get_n():\n",
    "        return n\n",
    "\n",
    "    def set_n(value):\n",
    "        nonlocal n\n",
    "        n = value\n",
    "\n",
    "    # Attach as function attributes\n",
    "    func.get_n = get_n\n",
    "    func.set_n = set_n\n",
    "    return func\n",
    "\n",
    "f = sample()\n",
    "f(),f.set_n(10),f(),f.get_n()"
   ]
  },
  {
   "cell_type": "code",
   "execution_count": 11,
   "id": "40b3bb95-f949-46fe-92a1-818a799118bb",
   "metadata": {},
   "outputs": [],
   "source": [
    "import sys\n",
    "class ClosureInstance:\n",
    "    def __init__(self, locals=None):\n",
    "        if locals is None:\n",
    "            locals = sys._getframe(1).f_locals\n",
    "\n",
    "        # Update instance dictionary with callables\n",
    "        self.__dict__.update((key,value) for key, value in locals.items()\n",
    "                            if callable(value) )\n",
    "    # Redirect special methods\n",
    "    def __len__(self):\n",
    "        return self.__dict__['__len__']()\n",
    "\n",
    "# Example use\n",
    "def Stack():\n",
    "    items = []\n",
    "    def push(item):\n",
    "        items.append(item)\n",
    "\n",
    "    def pop():\n",
    "        return items.pop()\n",
    "\n",
    "    def __len__():\n",
    "        return len(items)\n",
    "\n",
    "    return ClosureInstance()"
   ]
  },
  {
   "cell_type": "code",
   "execution_count": 12,
   "id": "05e17778-3b71-4287-bba7-603e1822b62a",
   "metadata": {},
   "outputs": [],
   "source": [
    "class Stack2:\n",
    "    def __init__(self):\n",
    "        self.items = []\n",
    "\n",
    "    def push(self, item):\n",
    "        self.items.append(item)\n",
    "\n",
    "    def pop(self):\n",
    "        return self.items.pop()\n",
    "\n",
    "    def __len__(self):\n",
    "        return len(self.items)"
   ]
  },
  {
   "cell_type": "code",
   "execution_count": 24,
   "id": "cc9e7e3f-cbfc-4c6d-9224-8f8ff3c89190",
   "metadata": {},
   "outputs": [
    {
     "data": {
      "text/plain": [
       "1.5869259789997159"
      ]
     },
     "execution_count": 24,
     "metadata": {},
     "output_type": "execute_result"
    }
   ],
   "source": [
    "from timeit import timeit\n",
    "s = Stack()\n",
    "timeit('s.push(1);s.pop()', 'from __main__ import s')"
   ]
  },
  {
   "cell_type": "code",
   "execution_count": 25,
   "id": "c05646f1-f04a-4d80-96d2-ca228162c729",
   "metadata": {},
   "outputs": [
    {
     "data": {
      "text/plain": [
       "1.5336146429999644"
      ]
     },
     "execution_count": 25,
     "metadata": {},
     "output_type": "execute_result"
    }
   ],
   "source": [
    "s = Stack2()\n",
    "timeit('s.push(1);s.pop()', 'from __main__ import s')"
   ]
  },
  {
   "cell_type": "code",
   "execution_count": null,
   "id": "bd58ebb9-bbc1-44d1-9ae7-3fc2ff2c56cf",
   "metadata": {},
   "outputs": [],
   "source": []
  }
 ],
 "metadata": {
  "kernelspec": {
   "display_name": "Python 3 (ipykernel)",
   "language": "python",
   "name": "python3"
  },
  "language_info": {
   "codemirror_mode": {
    "name": "ipython",
    "version": 3
   },
   "file_extension": ".py",
   "mimetype": "text/x-python",
   "name": "python",
   "nbconvert_exporter": "python",
   "pygments_lexer": "ipython3",
   "version": "3.8.10"
  },
  "toc-autonumbering": true,
  "toc-showcode": false,
  "toc-showmarkdowntxt": false
 },
 "nbformat": 4,
 "nbformat_minor": 5
}
