{
 "cells": [
  {
   "cell_type": "markdown",
   "id": "884046e9-c0ee-4a11-8f8f-fb95ed8a609f",
   "metadata": {},
   "source": [
    "# 改变对象的字符串显示"
   ]
  },
  {
   "cell_type": "markdown",
   "id": "dafb9047-67b5-4e50-b5ae-1490ada0767e",
   "metadata": {},
   "source": [
    "`!r` - convert the value to a string using `repr()`.  \n",
    "`!s` - convert the value to a string using `str()`.\n",
    "\n",
    "`[[fill]align][sign][#][0][minimumwidth][.precision][type]`"
   ]
  },
  {
   "cell_type": "code",
   "execution_count": 4,
   "id": "1b9b1234-b63b-4508-a122-71b629c79d65",
   "metadata": {},
   "outputs": [
    {
     "name": "stdout",
     "output_type": "stream",
     "text": [
      "(3, 4)\n"
     ]
    },
    {
     "data": {
      "text/plain": [
       "(Pair(3, 4), None)"
      ]
     },
     "execution_count": 4,
     "metadata": {},
     "output_type": "execute_result"
    }
   ],
   "source": [
    "class Pair:\n",
    "    def __init__(self, x, y):\n",
    "        self.x = x\n",
    "        self.y = y\n",
    "\n",
    "    def __repr__(self):\n",
    "        return 'Pair({0.x!r}, {0.y!r})'.format(self)\n",
    "\n",
    "    def __str__(self):\n",
    "        return '({0.x!s}, {0.y!s})'.format(self)\n",
    "p = Pair(3,4)\n",
    "p,print(p)"
   ]
  },
  {
   "cell_type": "code",
   "execution_count": 5,
   "id": "fdd82326-2fc3-49d7-bca9-aaf7daa7924a",
   "metadata": {},
   "outputs": [
    {
     "name": "stdout",
     "output_type": "stream",
     "text": [
      "p is Pair(3, 4)\n",
      "p is (3, 4)\n"
     ]
    },
    {
     "data": {
      "text/plain": [
       "(None, None)"
      ]
     },
     "execution_count": 5,
     "metadata": {},
     "output_type": "execute_result"
    }
   ],
   "source": [
    "print('p is {0!r}'.format(p)),print('p is {0!s}'.format(p))"
   ]
  },
  {
   "cell_type": "markdown",
   "id": "ed9edb39-9225-4ec2-b021-025f547fee67",
   "metadata": {},
   "source": [
    "`__repr__()` 生成的文本字符串标准做法是需要让 `eval(repr(x)) == x`"
   ]
  },
  {
   "cell_type": "markdown",
   "id": "bcd0ea26-50fb-49a1-a5c1-9fb327bb4874",
   "metadata": {},
   "source": [
    "# 自定义字符串的格式化 "
   ]
  },
  {
   "cell_type": "code",
   "execution_count": 6,
   "id": "5d55ea76-2c31-484a-ab6b-dd374fd831db",
   "metadata": {},
   "outputs": [],
   "source": [
    "_formats = {\n",
    "    'ymd' : '{d.year}-{d.month}-{d.day}',\n",
    "    'mdy' : '{d.month}/{d.day}/{d.year}',\n",
    "    'dmy' : '{d.day}/{d.month}/{d.year}'\n",
    "    }\n",
    "\n",
    "class Date:\n",
    "    def __init__(self, year, month, day):\n",
    "        self.year = year\n",
    "        self.month = month\n",
    "        self.day = day\n",
    "\n",
    "    def __format__(self, code):\n",
    "        if code == '':\n",
    "            code = 'ymd'\n",
    "        fmt = _formats[code]\n",
    "        return fmt.format(d=self)"
   ]
  },
  {
   "cell_type": "code",
   "execution_count": 7,
   "id": "73435e8b-0d8a-4182-a07c-20dad1b6d3c5",
   "metadata": {},
   "outputs": [
    {
     "data": {
      "text/plain": [
       "'2012-12-21'"
      ]
     },
     "execution_count": 7,
     "metadata": {},
     "output_type": "execute_result"
    }
   ],
   "source": [
    "d = Date(2012,12,21)\n",
    "format(d)"
   ]
  },
  {
   "cell_type": "code",
   "execution_count": 8,
   "id": "74e5c271-646d-4759-a4e8-b7f37ab4bfe3",
   "metadata": {},
   "outputs": [
    {
     "data": {
      "text/plain": [
       "'12/21/2012'"
      ]
     },
     "execution_count": 8,
     "metadata": {},
     "output_type": "execute_result"
    }
   ],
   "source": [
    "format(d,'mdy')"
   ]
  },
  {
   "cell_type": "code",
   "execution_count": 9,
   "id": "add69bb9-6e9f-4ade-8876-74575f549cc0",
   "metadata": {},
   "outputs": [
    {
     "data": {
      "text/plain": [
       "('The date is 2012-12-21', 'The date is 12/21/2012')"
      ]
     },
     "execution_count": 9,
     "metadata": {},
     "output_type": "execute_result"
    }
   ],
   "source": [
    "'The date is {:ymd}'.format(d),'The date is {:mdy}'.format(d)"
   ]
  },
  {
   "cell_type": "markdown",
   "id": "2515ec32-2431-4f27-8798-378414734a80",
   "metadata": {},
   "source": [
    "# 让对象支持上下文管理协议"
   ]
  },
  {
   "cell_type": "code",
   "execution_count": 10,
   "id": "a5cfd6cc-9d7f-4b15-96fe-464ee36353c0",
   "metadata": {},
   "outputs": [],
   "source": [
    "from socket import socket, AF_INET, SOCK_STREAM\n",
    "\n",
    "class LazyConnection:\n",
    "    def __init__(self, address, family=AF_INET, type=SOCK_STREAM):\n",
    "        self.address = address\n",
    "        self.family = family\n",
    "        self.type = type\n",
    "        self.sock = None\n",
    "\n",
    "    def __enter__(self):\n",
    "        if self.sock is not None:\n",
    "            raise RuntimeError('Already connected')\n",
    "        self.sock = socket(self.family, self.type)\n",
    "        self.sock.connect(self.address)\n",
    "        return self.sock\n",
    "\n",
    "    def __exit__(self, exc_ty, exc_val, tb):\n",
    "        self.sock.close()\n",
    "        self.sock = None"
   ]
  },
  {
   "cell_type": "code",
   "execution_count": 13,
   "id": "93c63a2d-f84d-43c8-a21a-9fee7939b090",
   "metadata": {},
   "outputs": [
    {
     "name": "stdout",
     "output_type": "stream",
     "text": [
      "HTTP/1.1 301 Moved Permanently\n",
      "Server: Varnish\n",
      "Retry-After: 0\n",
      "Location: https://www.python.org/index.html\n",
      "Content-Length: 0\n",
      "Accept-Ranges: bytes\n",
      "Date: Mon, 23 Aug 2021 06:12:30 GMT\n",
      "Via: 1.1 varnish\n",
      "Connection: close\n",
      "X-Served-By: cache-tyo11936-TYO\n",
      "X-Cache: HIT\n",
      "X-Cache-Hits: 0\n",
      "X-Timer: S1629699151.693887,VS0,VE0\n",
      "Strict-Transport-Security: max-age=63072000; includeSubDomains\n",
      "\n",
      "\n"
     ]
    }
   ],
   "source": [
    "from functools import partial\n",
    "\n",
    "conn = LazyConnection(('www.python.org', 80))\n",
    "# Connection closed\n",
    "with conn as s:\n",
    "    # conn.__enter__() executes: connection open\n",
    "    s.send(b'GET /index.html HTTP/1.0\\r\\n')\n",
    "    s.send(b'Host: www.python.org\\r\\n')\n",
    "    s.send(b'\\r\\n')\n",
    "    resp = b' '.join(iter(partial(s.recv, 8192), b''))\n",
    "    print(resp.decode())\n",
    "    # conn.__exit__() executes: connection closed"
   ]
  },
  {
   "cell_type": "markdown",
   "id": "543a0475-7882-4c3e-8d6d-7213f7149f89",
   "metadata": {},
   "source": [
    "# 创建大量对象是节省内存"
   ]
  },
  {
   "cell_type": "markdown",
   "id": "a30fc473-7c5f-406e-bbc6-b12e3cac3de3",
   "metadata": {},
   "source": [
    "类添加 `__slots__` 属性来极大的减少实例所占的内存  \n",
    "当你定义 `__slots__` 后，Python就会为实例使用一种更加紧凑的内部表示"
   ]
  },
  {
   "cell_type": "code",
   "execution_count": 14,
   "id": "b68c4092-fa25-42ed-a90d-c60a1003aa71",
   "metadata": {},
   "outputs": [],
   "source": [
    "class Date:\n",
    "    __slots__ = ['year', 'month', 'day']\n",
    "    def __init__(self, year, month, day):\n",
    "        self.year = year\n",
    "        self.month = month\n",
    "        self.day = day"
   ]
  },
  {
   "cell_type": "markdown",
   "id": "b01cbb8f-5247-459c-a558-d61446597aca",
   "metadata": {},
   "source": [
    "# 在类中封装属性名"
   ]
  },
  {
   "cell_type": "markdown",
   "id": "3d0c2600-6f40-44a3-b1c2-b3679f73634e",
   "metadata": {},
   "source": [
    "第一个约定是任何以单下划线`_`开头的名字都应该是内部实现。  \n",
    "双下划线`__`开始会导致访问名称变成其他形式,继承——这种属性通过继承是无法被覆盖的  \n",
    "定义的一个变量和某个保留关键字冲突，这时候可以使用单下划线`_`作为后缀"
   ]
  },
  {
   "cell_type": "markdown",
   "id": "8605f6ec-c142-4214-98c5-dabfbec3d349",
   "metadata": {},
   "source": [
    "# 创建可管理的属性"
   ]
  },
  {
   "cell_type": "code",
   "execution_count": 15,
   "id": "0698b376-1c91-476c-a1c0-0c4e72bc5b76",
   "metadata": {},
   "outputs": [],
   "source": [
    "class Person:\n",
    "    def __init__(self, first_name):\n",
    "        self._first_name = first_name\n",
    "\n",
    "    # Getter function\n",
    "    @property\n",
    "    def first_name(self):\n",
    "        return self._first_name\n",
    "\n",
    "    # Setter function\n",
    "    @first_name.setter\n",
    "    def first_name(self, value):\n",
    "        if not isinstance(value, str):\n",
    "            raise TypeError('Expected a string')\n",
    "        self._first_name = value\n",
    "\n",
    "    # Deleter function (optional)\n",
    "    @first_name.deleter\n",
    "    def first_name(self):\n",
    "        raise AttributeError(\"Can't delete attribute\")"
   ]
  },
  {
   "cell_type": "markdown",
   "id": "5b85aa11-7afe-4528-9e14-a3690e004d2a",
   "metadata": {},
   "source": [
    "# 调用父类方法"
   ]
  },
  {
   "cell_type": "code",
   "execution_count": 16,
   "id": "5d8cf1b5-cc96-49dc-aa81-09336c728e0a",
   "metadata": {},
   "outputs": [],
   "source": [
    "class Base:\n",
    "    def __init__(self):\n",
    "        print('Base.__init__')\n",
    "\n",
    "class A(Base):\n",
    "    def __init__(self):\n",
    "        super().__init__()\n",
    "        print('A.__init__')\n",
    "\n",
    "class B(Base):\n",
    "    def __init__(self):\n",
    "        super().__init__()\n",
    "        print('B.__init__')\n",
    "\n",
    "class C(A,B):\n",
    "    def __init__(self):\n",
    "        super().__init__()  # Only one call to super() here\n",
    "        print('C.__init__')"
   ]
  },
  {
   "cell_type": "code",
   "execution_count": 17,
   "id": "da5a540a-9064-40e2-a4f2-0fad08526d60",
   "metadata": {},
   "outputs": [
    {
     "data": {
      "text/plain": [
       "(__main__.C, __main__.A, __main__.B, __main__.Base, object)"
      ]
     },
     "execution_count": 17,
     "metadata": {},
     "output_type": "execute_result"
    }
   ],
   "source": [
    "C.__mro__"
   ]
  },
  {
   "cell_type": "code",
   "execution_count": 18,
   "id": "b214f975-2856-4b4c-a72f-0e5304195a26",
   "metadata": {},
   "outputs": [
    {
     "name": "stdout",
     "output_type": "stream",
     "text": [
      "Base.__init__\n",
      "B.__init__\n",
      "A.__init__\n",
      "C.__init__\n"
     ]
    }
   ],
   "source": [
    "c = C()"
   ]
  },
  {
   "cell_type": "markdown",
   "id": "25d1b798-742b-4554-bbf4-2d98ecc76c53",
   "metadata": {},
   "source": [
    "# 子类中扩展property"
   ]
  },
  {
   "cell_type": "code",
   "execution_count": 29,
   "id": "1cd6dc78-52f8-443d-8b4c-4ec917b69845",
   "metadata": {},
   "outputs": [],
   "source": [
    "class Person:\n",
    "    def __init__(self, name):\n",
    "        self.name = name\n",
    "\n",
    "    # Getter function\n",
    "    @property\n",
    "    def name(self):\n",
    "        return self._name\n",
    "\n",
    "    # Setter function\n",
    "    @name.setter\n",
    "    def name(self, value):\n",
    "        if not isinstance(value, str):\n",
    "            raise TypeError('Expected a string')\n",
    "        self._name = value\n",
    "\n",
    "    # Deleter function\n",
    "    @name.deleter\n",
    "    def name(self):\n",
    "        raise AttributeError(\"Can't delete attribute\")"
   ]
  },
  {
   "cell_type": "code",
   "execution_count": 32,
   "id": "56ae7c2b-bfc3-4b75-9902-c3eaad9014e9",
   "metadata": {},
   "outputs": [],
   "source": [
    "class SubPerson(Person):\n",
    "    @Person.name.setter\n",
    "    def name(self, value):\n",
    "        print('Setting name to', value)\n",
    "        super(SubPerson, SubPerson).name.__set__(self,value) # 使用类变量访问"
   ]
  },
  {
   "cell_type": "code",
   "execution_count": 33,
   "id": "a7cd7447-ff20-4683-9a15-d5424a2be95d",
   "metadata": {},
   "outputs": [
    {
     "name": "stdout",
     "output_type": "stream",
     "text": [
      "Setting name to Guido\n"
     ]
    }
   ],
   "source": [
    "s = SubPerson('Guido')"
   ]
  },
  {
   "cell_type": "code",
   "execution_count": 28,
   "id": "3bd18999-1792-43a0-8273-b99caa0e1a4b",
   "metadata": {},
   "outputs": [
    {
     "name": "stdout",
     "output_type": "stream",
     "text": [
      "Getting name\n"
     ]
    },
    {
     "data": {
      "text/plain": [
       "'Guido'"
      ]
     },
     "execution_count": 28,
     "metadata": {},
     "output_type": "execute_result"
    }
   ],
   "source": [
    "s.name"
   ]
  },
  {
   "cell_type": "code",
   "execution_count": 34,
   "id": "1b3ca348-88a1-4c83-bf91-f8ea7372d66e",
   "metadata": {},
   "outputs": [],
   "source": [
    "# 创建新的类或实例属性"
   ]
  },
  {
   "cell_type": "code",
   "execution_count": null,
   "id": "1968d14c-acad-4555-b2b9-9b995a7f8715",
   "metadata": {},
   "outputs": [],
   "source": [
    "# Descriptor for a type-checked attribute\n",
    "class Typed:\n",
    "    def __init__(self, name, expected_type):\n",
    "        self.name = name\n",
    "        self.expected_type = expected_type\n",
    "    def __get__(self, instance, cls):\n",
    "        if instance is None:\n",
    "            # 访问类属性时instance=None\n",
    "            return self\n",
    "        else:\n",
    "            return instance.__dict__[self.name]\n",
    "\n",
    "    def __set__(self, instance, value):\n",
    "        if not isinstance(value, self.expected_type):\n",
    "            raise TypeError('Expected ' + str(self.expected_type))\n",
    "        instance.__dict__[self.name] = value\n",
    "    def __delete__(self, instance):\n",
    "        del instance.__dict__[self.name]\n",
    "\n",
    "# Class decorator that applies it to selected attributes\n",
    "def typeassert(**kwargs):\n",
    "    def decorate(cls):\n",
    "        for name, expected_type in kwargs.items():\n",
    "            # Attach a Typed descriptor to the class\n",
    "            setattr(cls, name, Typed(name, expected_type))\n",
    "        return cls\n",
    "    return decorate\n",
    "\n",
    "# Example use\n",
    "@typeassert(name=str, shares=int, price=float)\n",
    "class Stock:\n",
    "    def __init__(self, name, shares, price):\n",
    "        self.name = name\n",
    "        self.shares = shares\n",
    "        self.price = price"
   ]
  }
 ],
 "metadata": {
  "kernelspec": {
   "display_name": "Python 3 (ipykernel)",
   "language": "python",
   "name": "python3"
  },
  "language_info": {
   "codemirror_mode": {
    "name": "ipython",
    "version": 3
   },
   "file_extension": ".py",
   "mimetype": "text/x-python",
   "name": "python",
   "nbconvert_exporter": "python",
   "pygments_lexer": "ipython3",
   "version": "3.8.10"
  }
 },
 "nbformat": 4,
 "nbformat_minor": 5
}
