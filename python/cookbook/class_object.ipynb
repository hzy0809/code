{
 "cells": [
  {
   "cell_type": "markdown",
   "id": "884046e9-c0ee-4a11-8f8f-fb95ed8a609f",
   "metadata": {},
   "source": [
    "# 改变对象的字符串显示"
   ]
  },
  {
   "cell_type": "markdown",
   "id": "dafb9047-67b5-4e50-b5ae-1490ada0767e",
   "metadata": {},
   "source": [
    "`!r` - convert the value to a string using `repr()`.  \n",
    "`!s` - convert the value to a string using `str()`.\n",
    "\n",
    "`[[fill]align][sign][#][0][minimumwidth][.precision][type]`"
   ]
  },
  {
   "cell_type": "code",
   "execution_count": 4,
   "id": "1b9b1234-b63b-4508-a122-71b629c79d65",
   "metadata": {},
   "outputs": [
    {
     "name": "stdout",
     "output_type": "stream",
     "text": [
      "(3, 4)\n"
     ]
    },
    {
     "data": {
      "text/plain": [
       "(Pair(3, 4), None)"
      ]
     },
     "execution_count": 4,
     "metadata": {},
     "output_type": "execute_result"
    }
   ],
   "source": [
    "class Pair:\n",
    "    def __init__(self, x, y):\n",
    "        self.x = x\n",
    "        self.y = y\n",
    "\n",
    "    def __repr__(self):\n",
    "        return 'Pair({0.x!r}, {0.y!r})'.format(self)\n",
    "\n",
    "    def __str__(self):\n",
    "        return '({0.x!s}, {0.y!s})'.format(self)\n",
    "p = Pair(3,4)\n",
    "p,print(p)"
   ]
  },
  {
   "cell_type": "code",
   "execution_count": 5,
   "id": "fdd82326-2fc3-49d7-bca9-aaf7daa7924a",
   "metadata": {},
   "outputs": [
    {
     "name": "stdout",
     "output_type": "stream",
     "text": [
      "p is Pair(3, 4)\n",
      "p is (3, 4)\n"
     ]
    },
    {
     "data": {
      "text/plain": [
       "(None, None)"
      ]
     },
     "execution_count": 5,
     "metadata": {},
     "output_type": "execute_result"
    }
   ],
   "source": [
    "print('p is {0!r}'.format(p)),print('p is {0!s}'.format(p))"
   ]
  },
  {
   "cell_type": "markdown",
   "id": "ed9edb39-9225-4ec2-b021-025f547fee67",
   "metadata": {},
   "source": [
    "`__repr__()` 生成的文本字符串标准做法是需要让 `eval(repr(x)) == x`"
   ]
  },
  {
   "cell_type": "markdown",
   "id": "bcd0ea26-50fb-49a1-a5c1-9fb327bb4874",
   "metadata": {},
   "source": [
    "# 自定义字符串的格式化 "
   ]
  },
  {
   "cell_type": "code",
   "execution_count": 6,
   "id": "5d55ea76-2c31-484a-ab6b-dd374fd831db",
   "metadata": {},
   "outputs": [],
   "source": [
    "_formats = {\n",
    "    'ymd' : '{d.year}-{d.month}-{d.day}',\n",
    "    'mdy' : '{d.month}/{d.day}/{d.year}',\n",
    "    'dmy' : '{d.day}/{d.month}/{d.year}'\n",
    "    }\n",
    "\n",
    "class Date:\n",
    "    def __init__(self, year, month, day):\n",
    "        self.year = year\n",
    "        self.month = month\n",
    "        self.day = day\n",
    "\n",
    "    def __format__(self, code):\n",
    "        if code == '':\n",
    "            code = 'ymd'\n",
    "        fmt = _formats[code]\n",
    "        return fmt.format(d=self)"
   ]
  },
  {
   "cell_type": "code",
   "execution_count": 7,
   "id": "73435e8b-0d8a-4182-a07c-20dad1b6d3c5",
   "metadata": {},
   "outputs": [
    {
     "data": {
      "text/plain": [
       "'2012-12-21'"
      ]
     },
     "execution_count": 7,
     "metadata": {},
     "output_type": "execute_result"
    }
   ],
   "source": [
    "d = Date(2012,12,21)\n",
    "format(d)"
   ]
  },
  {
   "cell_type": "code",
   "execution_count": 8,
   "id": "74e5c271-646d-4759-a4e8-b7f37ab4bfe3",
   "metadata": {},
   "outputs": [
    {
     "data": {
      "text/plain": [
       "'12/21/2012'"
      ]
     },
     "execution_count": 8,
     "metadata": {},
     "output_type": "execute_result"
    }
   ],
   "source": [
    "format(d,'mdy')"
   ]
  },
  {
   "cell_type": "code",
   "execution_count": 9,
   "id": "add69bb9-6e9f-4ade-8876-74575f549cc0",
   "metadata": {},
   "outputs": [
    {
     "data": {
      "text/plain": [
       "('The date is 2012-12-21', 'The date is 12/21/2012')"
      ]
     },
     "execution_count": 9,
     "metadata": {},
     "output_type": "execute_result"
    }
   ],
   "source": [
    "'The date is {:ymd}'.format(d),'The date is {:mdy}'.format(d)"
   ]
  },
  {
   "cell_type": "markdown",
   "id": "2515ec32-2431-4f27-8798-378414734a80",
   "metadata": {},
   "source": [
    "# 让对象支持上下文管理协议"
   ]
  },
  {
   "cell_type": "code",
   "execution_count": 10,
   "id": "a5cfd6cc-9d7f-4b15-96fe-464ee36353c0",
   "metadata": {},
   "outputs": [],
   "source": [
    "from socket import socket, AF_INET, SOCK_STREAM\n",
    "\n",
    "class LazyConnection:\n",
    "    def __init__(self, address, family=AF_INET, type=SOCK_STREAM):\n",
    "        self.address = address\n",
    "        self.family = family\n",
    "        self.type = type\n",
    "        self.sock = None\n",
    "\n",
    "    def __enter__(self):\n",
    "        if self.sock is not None:\n",
    "            raise RuntimeError('Already connected')\n",
    "        self.sock = socket(self.family, self.type)\n",
    "        self.sock.connect(self.address)\n",
    "        return self.sock\n",
    "\n",
    "    def __exit__(self, exc_ty, exc_val, tb):\n",
    "        self.sock.close()\n",
    "        self.sock = None"
   ]
  },
  {
   "cell_type": "code",
   "execution_count": 13,
   "id": "93c63a2d-f84d-43c8-a21a-9fee7939b090",
   "metadata": {},
   "outputs": [
    {
     "name": "stdout",
     "output_type": "stream",
     "text": [
      "HTTP/1.1 301 Moved Permanently\n",
      "Server: Varnish\n",
      "Retry-After: 0\n",
      "Location: https://www.python.org/index.html\n",
      "Content-Length: 0\n",
      "Accept-Ranges: bytes\n",
      "Date: Mon, 23 Aug 2021 06:12:30 GMT\n",
      "Via: 1.1 varnish\n",
      "Connection: close\n",
      "X-Served-By: cache-tyo11936-TYO\n",
      "X-Cache: HIT\n",
      "X-Cache-Hits: 0\n",
      "X-Timer: S1629699151.693887,VS0,VE0\n",
      "Strict-Transport-Security: max-age=63072000; includeSubDomains\n",
      "\n",
      "\n"
     ]
    }
   ],
   "source": [
    "from functools import partial\n",
    "\n",
    "conn = LazyConnection(('www.python.org', 80))\n",
    "# Connection closed\n",
    "with conn as s:\n",
    "    # conn.__enter__() executes: connection open\n",
    "    s.send(b'GET /index.html HTTP/1.0\\r\\n')\n",
    "    s.send(b'Host: www.python.org\\r\\n')\n",
    "    s.send(b'\\r\\n')\n",
    "    resp = b' '.join(iter(partial(s.recv, 8192), b''))\n",
    "    print(resp.decode())\n",
    "    # conn.__exit__() executes: connection closed"
   ]
  },
  {
   "cell_type": "markdown",
   "id": "543a0475-7882-4c3e-8d6d-7213f7149f89",
   "metadata": {},
   "source": [
    "# 创建大量对象是节省内存"
   ]
  },
  {
   "cell_type": "markdown",
   "id": "a30fc473-7c5f-406e-bbc6-b12e3cac3de3",
   "metadata": {},
   "source": [
    "类添加 `__slots__` 属性来极大的减少实例所占的内存  \n",
    "当你定义 `__slots__` 后，Python就会为实例使用一种更加紧凑的内部表示"
   ]
  },
  {
   "cell_type": "code",
   "execution_count": 14,
   "id": "b68c4092-fa25-42ed-a90d-c60a1003aa71",
   "metadata": {},
   "outputs": [],
   "source": [
    "class Date:\n",
    "    __slots__ = ['year', 'month', 'day']\n",
    "    def __init__(self, year, month, day):\n",
    "        self.year = year\n",
    "        self.month = month\n",
    "        self.day = day"
   ]
  },
  {
   "cell_type": "markdown",
   "id": "b01cbb8f-5247-459c-a558-d61446597aca",
   "metadata": {},
   "source": [
    "# 在类中封装属性名"
   ]
  },
  {
   "cell_type": "markdown",
   "id": "3d0c2600-6f40-44a3-b1c2-b3679f73634e",
   "metadata": {},
   "source": [
    "第一个约定是任何以单下划线`_`开头的名字都应该是内部实现。  \n",
    "双下划线`__`开始会导致访问名称变成其他形式,继承——这种属性通过继承是无法被覆盖的  \n",
    "定义的一个变量和某个保留关键字冲突，这时候可以使用单下划线`_`作为后缀"
   ]
  },
  {
   "cell_type": "markdown",
   "id": "8605f6ec-c142-4214-98c5-dabfbec3d349",
   "metadata": {},
   "source": [
    "# 创建可管理的属性"
   ]
  },
  {
   "cell_type": "code",
   "execution_count": 15,
   "id": "0698b376-1c91-476c-a1c0-0c4e72bc5b76",
   "metadata": {},
   "outputs": [],
   "source": [
    "class Person:\n",
    "    def __init__(self, first_name):\n",
    "        self._first_name = first_name\n",
    "\n",
    "    # Getter function\n",
    "    @property\n",
    "    def first_name(self):\n",
    "        return self._first_name\n",
    "\n",
    "    # Setter function\n",
    "    @first_name.setter\n",
    "    def first_name(self, value):\n",
    "        if not isinstance(value, str):\n",
    "            raise TypeError('Expected a string')\n",
    "        self._first_name = value\n",
    "\n",
    "    # Deleter function (optional)\n",
    "    @first_name.deleter\n",
    "    def first_name(self):\n",
    "        raise AttributeError(\"Can't delete attribute\")"
   ]
  },
  {
   "cell_type": "markdown",
   "id": "5b85aa11-7afe-4528-9e14-a3690e004d2a",
   "metadata": {},
   "source": [
    "# 调用父类方法"
   ]
  },
  {
   "cell_type": "code",
   "execution_count": 16,
   "id": "5d8cf1b5-cc96-49dc-aa81-09336c728e0a",
   "metadata": {},
   "outputs": [],
   "source": [
    "class Base:\n",
    "    def __init__(self):\n",
    "        print('Base.__init__')\n",
    "\n",
    "class A(Base):\n",
    "    def __init__(self):\n",
    "        super().__init__()\n",
    "        print('A.__init__')\n",
    "\n",
    "class B(Base):\n",
    "    def __init__(self):\n",
    "        super().__init__()\n",
    "        print('B.__init__')\n",
    "\n",
    "class C(A,B):\n",
    "    def __init__(self):\n",
    "        super().__init__()  # Only one call to super() here\n",
    "        print('C.__init__')"
   ]
  },
  {
   "cell_type": "code",
   "execution_count": 17,
   "id": "da5a540a-9064-40e2-a4f2-0fad08526d60",
   "metadata": {},
   "outputs": [
    {
     "data": {
      "text/plain": [
       "(__main__.C, __main__.A, __main__.B, __main__.Base, object)"
      ]
     },
     "execution_count": 17,
     "metadata": {},
     "output_type": "execute_result"
    }
   ],
   "source": [
    "C.__mro__"
   ]
  },
  {
   "cell_type": "code",
   "execution_count": 18,
   "id": "b214f975-2856-4b4c-a72f-0e5304195a26",
   "metadata": {},
   "outputs": [
    {
     "name": "stdout",
     "output_type": "stream",
     "text": [
      "Base.__init__\n",
      "B.__init__\n",
      "A.__init__\n",
      "C.__init__\n"
     ]
    }
   ],
   "source": [
    "c = C()"
   ]
  },
  {
   "cell_type": "markdown",
   "id": "25d1b798-742b-4554-bbf4-2d98ecc76c53",
   "metadata": {},
   "source": [
    "# 子类中扩展property"
   ]
  },
  {
   "cell_type": "code",
   "execution_count": 29,
   "id": "1cd6dc78-52f8-443d-8b4c-4ec917b69845",
   "metadata": {},
   "outputs": [],
   "source": [
    "class Person:\n",
    "    def __init__(self, name):\n",
    "        self.name = name\n",
    "\n",
    "    # Getter function\n",
    "    @property\n",
    "    def name(self):\n",
    "        return self._name\n",
    "\n",
    "    # Setter function\n",
    "    @name.setter\n",
    "    def name(self, value):\n",
    "        if not isinstance(value, str):\n",
    "            raise TypeError('Expected a string')\n",
    "        self._name = value\n",
    "\n",
    "    # Deleter function\n",
    "    @name.deleter\n",
    "    def name(self):\n",
    "        raise AttributeError(\"Can't delete attribute\")"
   ]
  },
  {
   "cell_type": "code",
   "execution_count": 32,
   "id": "56ae7c2b-bfc3-4b75-9902-c3eaad9014e9",
   "metadata": {},
   "outputs": [],
   "source": [
    "class SubPerson(Person):\n",
    "    @Person.name.setter\n",
    "    def name(self, value):\n",
    "        print('Setting name to', value)\n",
    "        super(SubPerson, SubPerson).name.__set__(self,value) # 使用类变量访问"
   ]
  },
  {
   "cell_type": "code",
   "execution_count": 33,
   "id": "a7cd7447-ff20-4683-9a15-d5424a2be95d",
   "metadata": {},
   "outputs": [
    {
     "name": "stdout",
     "output_type": "stream",
     "text": [
      "Setting name to Guido\n"
     ]
    }
   ],
   "source": [
    "s = SubPerson('Guido')"
   ]
  },
  {
   "cell_type": "code",
   "execution_count": 28,
   "id": "3bd18999-1792-43a0-8273-b99caa0e1a4b",
   "metadata": {},
   "outputs": [
    {
     "name": "stdout",
     "output_type": "stream",
     "text": [
      "Getting name\n"
     ]
    },
    {
     "data": {
      "text/plain": [
       "'Guido'"
      ]
     },
     "execution_count": 28,
     "metadata": {},
     "output_type": "execute_result"
    }
   ],
   "source": [
    "s.name"
   ]
  },
  {
   "cell_type": "markdown",
   "id": "ba6c73b9-2f5f-440d-aefe-9885cfbf9ee0",
   "metadata": {},
   "source": [
    "# 创建新的类或实例属性"
   ]
  },
  {
   "cell_type": "code",
   "execution_count": 35,
   "id": "1968d14c-acad-4555-b2b9-9b995a7f8715",
   "metadata": {},
   "outputs": [],
   "source": [
    "# Descriptor for a type-checked attribute\n",
    "class Typed:\n",
    "    def __init__(self, name, expected_type):\n",
    "        self.name = name\n",
    "        self.expected_type = expected_type\n",
    "    def __get__(self, instance, cls):\n",
    "        if instance is None:\n",
    "            # 访问类属性时instance=None\n",
    "            return self\n",
    "        else:\n",
    "            return instance.__dict__[self.name]\n",
    "\n",
    "    def __set__(self, instance, value):\n",
    "        if not isinstance(value, self.expected_type):\n",
    "            raise TypeError('Expected ' + str(self.expected_type))\n",
    "        instance.__dict__[self.name] = value\n",
    "    def __delete__(self, instance):\n",
    "        del instance.__dict__[self.name]\n",
    "\n",
    "# Class decorator that applies it to selected attributes\n",
    "def typeassert(**kwargs):\n",
    "    def decorate(cls):\n",
    "        for name, expected_type in kwargs.items():\n",
    "            # Attach a Typed descriptor to the class\n",
    "            setattr(cls, name, Typed(name, expected_type))\n",
    "        return cls\n",
    "    return decorate\n",
    "\n",
    "# Example use\n",
    "@typeassert(name=str, shares=int, price=float)\n",
    "class Stock:\n",
    "    def __init__(self, name, shares, price):\n",
    "        self.name = name\n",
    "        self.shares = shares\n",
    "        self.price = price"
   ]
  },
  {
   "cell_type": "markdown",
   "id": "a047348f-1ff0-495e-a1be-da925ca434c4",
   "metadata": {},
   "source": [
    "# 使用延迟计算属性"
   ]
  },
  {
   "cell_type": "code",
   "execution_count": 36,
   "id": "d7d55b5c-6aa2-4a96-beae-3c1a33e46e28",
   "metadata": {},
   "outputs": [],
   "source": [
    "class lazyproperty:\n",
    "    def __init__(self, func):\n",
    "        self.func = func\n",
    "\n",
    "    def __get__(self, instance, cls):\n",
    "        if instance is None:\n",
    "            return self\n",
    "        else:\n",
    "            value = self.func(instance)\n",
    "            setattr(instance, self.func.__name__, value)\n",
    "            return value\n",
    "\n",
    "import math\n",
    "\n",
    "class Circle:\n",
    "    def __init__(self, radius):\n",
    "        self.radius = radius\n",
    "\n",
    "    @lazyproperty\n",
    "    def area(self):\n",
    "        print('Computing area')\n",
    "        return math.pi * self.radius ** 2\n",
    "\n",
    "    @lazyproperty\n",
    "    def perimeter(self):\n",
    "        print('Computing perimeter')\n",
    "        return 2 * math.pi * self.radius"
   ]
  },
  {
   "cell_type": "code",
   "execution_count": 37,
   "id": "185dedae-5508-412d-a6cc-1c18567fb66c",
   "metadata": {},
   "outputs": [
    {
     "data": {
      "text/plain": [
       "{'radius': 4.0}"
      ]
     },
     "execution_count": 37,
     "metadata": {},
     "output_type": "execute_result"
    }
   ],
   "source": [
    "c = Circle(4.0)\n",
    "vars(c)"
   ]
  },
  {
   "cell_type": "code",
   "execution_count": 38,
   "id": "99acd7a1-9a43-4a35-a961-f8bf12963875",
   "metadata": {},
   "outputs": [],
   "source": [
    "c.area = 1"
   ]
  },
  {
   "cell_type": "code",
   "execution_count": 39,
   "id": "17fdb5a9-fa72-4c1c-a854-d28b1b957be0",
   "metadata": {},
   "outputs": [
    {
     "data": {
      "text/plain": [
       "{'radius': 4.0, 'area': 1}"
      ]
     },
     "execution_count": 39,
     "metadata": {},
     "output_type": "execute_result"
    }
   ],
   "source": [
    "vars(c)"
   ]
  },
  {
   "cell_type": "code",
   "execution_count": 40,
   "id": "86ba7852-490d-4a83-95ec-099dc3d4a82e",
   "metadata": {},
   "outputs": [
    {
     "data": {
      "text/plain": [
       "1"
      ]
     },
     "execution_count": 40,
     "metadata": {},
     "output_type": "execute_result"
    }
   ],
   "source": [
    "c.area"
   ]
  },
  {
   "cell_type": "code",
   "execution_count": 41,
   "id": "cc918fc7-cbaa-4150-b7bd-fb6b4cf53b8c",
   "metadata": {},
   "outputs": [],
   "source": [
    "del c.area"
   ]
  },
  {
   "cell_type": "code",
   "execution_count": 42,
   "id": "b21e5e05-addd-43be-8102-14d18cf66a88",
   "metadata": {},
   "outputs": [
    {
     "name": "stdout",
     "output_type": "stream",
     "text": [
      "Computing area\n"
     ]
    },
    {
     "data": {
      "text/plain": [
       "50.26548245743669"
      ]
     },
     "execution_count": 42,
     "metadata": {},
     "output_type": "execute_result"
    }
   ],
   "source": [
    "c.area"
   ]
  },
  {
   "cell_type": "code",
   "execution_count": 43,
   "id": "a1f8e519-50ea-4686-bd7f-2d87725b9b0c",
   "metadata": {},
   "outputs": [],
   "source": [
    "def lazyproperty(func):\n",
    "    name = '_lazy_' + func.__name__\n",
    "    @property\n",
    "    def lazy(self):\n",
    "        if hasattr(self, name):\n",
    "            return getattr(self, name)\n",
    "        else:\n",
    "            value = func(self)\n",
    "            setattr(self, name, value)\n",
    "            return value\n",
    "    return lazy\n",
    "\n",
    "import math\n",
    "\n",
    "class Circle:\n",
    "    def __init__(self, radius):\n",
    "        self.radius = radius\n",
    "\n",
    "    @lazyproperty\n",
    "    def area(self):\n",
    "        print('Computing area')\n",
    "        return math.pi * self.radius ** 2\n",
    "\n",
    "    @lazyproperty\n",
    "    def perimeter(self):\n",
    "        print('Computing perimeter')\n",
    "        return 2 * math.pi * self.radius"
   ]
  },
  {
   "cell_type": "code",
   "execution_count": 50,
   "id": "ae9b1f8a-a087-4fa2-8462-c3f4c75e6029",
   "metadata": {},
   "outputs": [
    {
     "name": "stdout",
     "output_type": "stream",
     "text": [
      "Computing area\n"
     ]
    },
    {
     "data": {
      "text/plain": [
       "50.26548245743669"
      ]
     },
     "execution_count": 50,
     "metadata": {},
     "output_type": "execute_result"
    }
   ],
   "source": [
    "c = Circle(4.0)\n",
    "c.area"
   ]
  },
  {
   "cell_type": "code",
   "execution_count": 51,
   "id": "4ff40b08-b9ac-4687-8772-4434bbc38192",
   "metadata": {},
   "outputs": [
    {
     "ename": "AttributeError",
     "evalue": "can't set attribute",
     "output_type": "error",
     "traceback": [
      "\u001b[0;31m---------------------------------------------------------------------------\u001b[0m",
      "\u001b[0;31mAttributeError\u001b[0m                            Traceback (most recent call last)",
      "\u001b[0;32m/var/folders/g6/h24w2cnn0bzbzz1dc4v4fplm0000gn/T/ipykernel_2109/3522055365.py\u001b[0m in \u001b[0;36m<module>\u001b[0;34m\u001b[0m\n\u001b[0;32m----> 1\u001b[0;31m \u001b[0mc\u001b[0m\u001b[0;34m.\u001b[0m\u001b[0marea\u001b[0m \u001b[0;34m=\u001b[0m\u001b[0;36m1\u001b[0m\u001b[0;34m\u001b[0m\u001b[0;34m\u001b[0m\u001b[0m\n\u001b[0m",
      "\u001b[0;31mAttributeError\u001b[0m: can't set attribute"
     ]
    }
   ],
   "source": [
    "c.area =1"
   ]
  },
  {
   "cell_type": "markdown",
   "id": "b0ef6f68-49e2-4fc2-814c-b2cf7876939d",
   "metadata": {},
   "source": [
    "# 简化数据结构的初始化"
   ]
  },
  {
   "cell_type": "code",
   "execution_count": 53,
   "id": "d126cae0-60be-4f3d-924f-96819d98ebe4",
   "metadata": {},
   "outputs": [],
   "source": [
    "import math\n",
    "\n",
    "class Structure1:\n",
    "    # Class variable that specifies expected fields\n",
    "    _fields = []\n",
    "\n",
    "    def __init__(self, *args):\n",
    "        if len(args) != len(self._fields):\n",
    "            raise TypeError('Expected {} arguments'.format(len(self._fields)))\n",
    "        # Set the arguments\n",
    "        for name, value in zip(self._fields, args):\n",
    "            setattr(self, name, value)"
   ]
  },
  {
   "cell_type": "code",
   "execution_count": 54,
   "id": "0be9f999-a80c-4945-8d37-97dc4b884f2a",
   "metadata": {},
   "outputs": [],
   "source": [
    "# Example class definitions\n",
    "class Stock(Structure1):\n",
    "    _fields = ['name', 'shares', 'price']\n",
    "\n",
    "class Point(Structure1):\n",
    "    _fields = ['x', 'y']\n",
    "\n",
    "class Circle(Structure1):\n",
    "    _fields = ['radius']\n",
    "\n",
    "    def area(self):\n",
    "        return math.pi * self.radius ** 2"
   ]
  },
  {
   "cell_type": "code",
   "execution_count": 55,
   "id": "e86702f9-b0f3-4ed5-a0bb-f4d6141408f0",
   "metadata": {},
   "outputs": [],
   "source": [
    "# 支持关键字属性\n",
    "class Structure2:\n",
    "    _fields = []\n",
    "\n",
    "    def __init__(self, *args, **kwargs):\n",
    "        if len(args) > len(self._fields):\n",
    "            raise TypeError('Expected {} arguments'.format(len(self._fields)))\n",
    "\n",
    "        # Set all of the positional arguments\n",
    "        for name, value in zip(self._fields, args):\n",
    "            setattr(self, name, value)\n",
    "\n",
    "        # Set the remaining keyword arguments\n",
    "        for name in self._fields[len(args):]:\n",
    "            setattr(self, name, kwargs.pop(name))\n",
    "\n",
    "        # Check for any remaining unknown arguments\n",
    "        if kwargs:\n",
    "            raise TypeError('Invalid argument(s): {}'.format(','.join(kwargs)))"
   ]
  },
  {
   "cell_type": "code",
   "execution_count": 56,
   "id": "32b5a4e1-d62a-40c5-9343-6868cc9a13b1",
   "metadata": {},
   "outputs": [],
   "source": [
    "# 添加不在_fields中的属性\n",
    "class Structure3:\n",
    "    # Class variable that specifies expected fields\n",
    "    _fields = []\n",
    "\n",
    "    def __init__(self, *args, **kwargs):\n",
    "        if len(args) != len(self._fields):\n",
    "            raise TypeError('Expected {} arguments'.format(len(self._fields)))\n",
    "\n",
    "        # Set the arguments\n",
    "        for name, value in zip(self._fields, args):\n",
    "            setattr(self, name, value)\n",
    "\n",
    "        # Set the additional arguments (if any)\n",
    "        extra_args = kwargs.keys() - self._fields\n",
    "        for name in extra_args:\n",
    "            setattr(self, name, kwargs.pop(name))\n",
    "\n",
    "        if kwargs:\n",
    "            raise TypeError('Duplicate values for {}'.format(','.join(kwargs)))"
   ]
  },
  {
   "cell_type": "markdown",
   "id": "49803c19-e89e-4403-950b-a4603670ae77",
   "metadata": {},
   "source": [
    "# 定义接口或者抽象基类"
   ]
  },
  {
   "cell_type": "markdown",
   "id": "e92d2f07-5e58-43f0-8b65-9a661344c71a",
   "metadata": {},
   "source": [
    "`abc`模块定义抽象基类"
   ]
  },
  {
   "cell_type": "code",
   "execution_count": 59,
   "id": "394ecad4-5ed3-4542-abdf-81ee22ce8afd",
   "metadata": {},
   "outputs": [],
   "source": [
    "from abc import ABCMeta,abstractmethod"
   ]
  },
  {
   "cell_type": "code",
   "execution_count": 60,
   "id": "557670d4-5cc2-478d-b25d-a3cf46c2cebc",
   "metadata": {},
   "outputs": [],
   "source": [
    "class IStream(metaclass=ABCMeta):\n",
    "    @abstractmethod\n",
    "    def read(self, maxbytes=-1):\n",
    "        pass\n",
    "\n",
    "    @abstractmethod\n",
    "    def write(self, data):\n",
    "        pass"
   ]
  },
  {
   "cell_type": "code",
   "execution_count": 62,
   "id": "db07c7a3-f9cf-492d-bd4e-00acd9610561",
   "metadata": {},
   "outputs": [
    {
     "ename": "TypeError",
     "evalue": "Can't instantiate abstract class IStream with abstract methods read, write",
     "output_type": "error",
     "traceback": [
      "\u001b[0;31m---------------------------------------------------------------------------\u001b[0m",
      "\u001b[0;31mTypeError\u001b[0m                                 Traceback (most recent call last)",
      "\u001b[0;32m/var/folders/g6/h24w2cnn0bzbzz1dc4v4fplm0000gn/T/ipykernel_2109/3423395621.py\u001b[0m in \u001b[0;36m<module>\u001b[0;34m\u001b[0m\n\u001b[1;32m      1\u001b[0m \u001b[0;31m# 抽象基类不能被实例化\u001b[0m\u001b[0;34m\u001b[0m\u001b[0;34m\u001b[0m\u001b[0;34m\u001b[0m\u001b[0m\n\u001b[0;32m----> 2\u001b[0;31m \u001b[0ma\u001b[0m \u001b[0;34m=\u001b[0m \u001b[0mIStream\u001b[0m\u001b[0;34m(\u001b[0m\u001b[0;34m)\u001b[0m\u001b[0;34m\u001b[0m\u001b[0;34m\u001b[0m\u001b[0m\n\u001b[0m",
      "\u001b[0;31mTypeError\u001b[0m: Can't instantiate abstract class IStream with abstract methods read, write"
     ]
    }
   ],
   "source": [
    "# 抽象基类不能被实例化\n",
    "a = IStream()"
   ]
  },
  {
   "cell_type": "code",
   "execution_count": 63,
   "id": "b2ab4467-008d-48cd-a3dd-bbf808ff66a7",
   "metadata": {},
   "outputs": [],
   "source": [
    "# 抽象类目的：被继承并实现特定的抽象方法\n",
    "class SocketStream(IStream):\n",
    "    def read(self, maxbytes=-1):\n",
    "        pass\n",
    "\n",
    "    def write(self, data):\n",
    "        pass"
   ]
  },
  {
   "cell_type": "code",
   "execution_count": 64,
   "id": "fd4385d8-b5d0-4858-a9f8-ca925749a15b",
   "metadata": {},
   "outputs": [],
   "source": [
    "# 检查某些类是否为特定类型\n",
    "def serialize(obj, stream):\n",
    "    if not isinstance(stream, IStream):\n",
    "        raise TypeError('Expected an IStream')\n",
    "    pass"
   ]
  },
  {
   "cell_type": "code",
   "execution_count": 68,
   "id": "1d37eb38-a1d7-48ea-99d5-6583de67736b",
   "metadata": {},
   "outputs": [
    {
     "data": {
      "text/plain": [
       "True"
      ]
     },
     "execution_count": 68,
     "metadata": {},
     "output_type": "execute_result"
    }
   ],
   "source": [
    "# 注册方式来让某个类实现抽象基类\n",
    "from io import StringIO\n",
    "IStream.register(StringIO)\n",
    "f = StringIO()\n",
    "isinstance(f, IStream)"
   ]
  },
  {
   "cell_type": "code",
   "execution_count": 69,
   "id": "be86de5e-4d08-4d22-9947-da5e0519b606",
   "metadata": {},
   "outputs": [],
   "source": [
    "class A(metaclass=ABCMeta):\n",
    "    @property\n",
    "    @abstractmethod\n",
    "    def name(self):\n",
    "        pass\n",
    "\n",
    "    @name.setter\n",
    "    @abstractmethod\n",
    "    def name(self, value):\n",
    "        pass\n",
    "\n",
    "    @classmethod\n",
    "    @abstractmethod\n",
    "    def method1(cls):\n",
    "        pass\n",
    "\n",
    "    @staticmethod\n",
    "    @abstractmethod\n",
    "    def method2():\n",
    "        pass"
   ]
  },
  {
   "cell_type": "markdown",
   "id": "3a884857-4339-466d-be12-88f3c75533fa",
   "metadata": {},
   "source": [
    "# 实现数据模型的类型约束"
   ]
  },
  {
   "cell_type": "code",
   "execution_count": 70,
   "id": "b16df805-8395-48ae-8d9b-db3a0a142f11",
   "metadata": {},
   "outputs": [],
   "source": [
    "# Base class. Uses a descriptor to set a value\n",
    "class Descriptor:\n",
    "    def __init__(self, name=None, **opts):\n",
    "        self.name = name\n",
    "        for key, value in opts.items():\n",
    "            setattr(self, key, value)\n",
    "\n",
    "    def __set__(self, instance, value):\n",
    "        instance.__dict__[self.name] = value\n",
    "\n",
    "\n",
    "# Descriptor for enforcing types\n",
    "class Typed(Descriptor):\n",
    "    expected_type = type(None)\n",
    "\n",
    "    def __set__(self, instance, value):\n",
    "        if not isinstance(value, self.expected_type):\n",
    "            raise TypeError('expected ' + str(self.expected_type))\n",
    "        super().__set__(instance, value)\n",
    "\n",
    "\n",
    "# Descriptor for enforcing values\n",
    "class Unsigned(Descriptor):\n",
    "    def __set__(self, instance, value):\n",
    "        if value < 0:\n",
    "            raise ValueError('Expected >= 0')\n",
    "        super().__set__(instance, value)\n",
    "\n",
    "\n",
    "class MaxSized(Descriptor):\n",
    "    def __init__(self, name=None, **opts):\n",
    "        if 'size' not in opts:\n",
    "            raise TypeError('missing size option')\n",
    "        super().__init__(name, **opts)\n",
    "\n",
    "    def __set__(self, instance, value):\n",
    "        if len(value) >= self.size:\n",
    "            raise ValueError('size must be < ' + str(self.size))\n",
    "        super().__set__(instance, value)"
   ]
  },
  {
   "cell_type": "code",
   "execution_count": 71,
   "id": "c4137ddd-abdc-4279-9e66-c0b8c0d45fde",
   "metadata": {},
   "outputs": [],
   "source": [
    "class Integer(Typed):\n",
    "    expected_type = int\n",
    "\n",
    "class UnsignedInteger(Integer, Unsigned):\n",
    "    pass\n",
    "\n",
    "class Float(Typed):\n",
    "    expected_type = float\n",
    "\n",
    "class UnsignedFloat(Float, Unsigned):\n",
    "    pass\n",
    "\n",
    "class String(Typed):\n",
    "    expected_type = str\n",
    "\n",
    "class SizedString(String, MaxSized):\n",
    "    pass"
   ]
  },
  {
   "cell_type": "code",
   "execution_count": 72,
   "id": "108a3fb3-c105-4983-9c24-7d44ec2a6e3f",
   "metadata": {},
   "outputs": [],
   "source": [
    "class Stock:\n",
    "    # Specify constraints\n",
    "    name = SizedString('name', size=8)\n",
    "    shares = UnsignedInteger('shares')\n",
    "    price = UnsignedFloat('price')\n",
    "\n",
    "    def __init__(self, name, shares, price):\n",
    "        self.name = name\n",
    "        self.shares = shares\n",
    "        self.price = price"
   ]
  },
  {
   "cell_type": "code",
   "execution_count": 73,
   "id": "a7160408-176c-44ea-844d-5599e69d20de",
   "metadata": {},
   "outputs": [],
   "source": [
    "s = Stock('hello',10,10.1)"
   ]
  },
  {
   "cell_type": "code",
   "execution_count": 75,
   "id": "0a6bef0c-f380-458c-98d6-37844d87b7af",
   "metadata": {},
   "outputs": [
    {
     "data": {
      "text/plain": [
       "{'name': 'hello', 'shares': 10, 'price': 10.1}"
      ]
     },
     "execution_count": 75,
     "metadata": {},
     "output_type": "execute_result"
    }
   ],
   "source": [
    "vars(s)"
   ]
  },
  {
   "cell_type": "code",
   "execution_count": 76,
   "id": "f8c6e89f-6b6d-4fbb-b191-2d94387f1ec3",
   "metadata": {},
   "outputs": [],
   "source": [
    "# Class decorator to apply constraints\n",
    "def check_attributes(**kwargs):\n",
    "    def decorate(cls):\n",
    "        for key, value in kwargs.items():\n",
    "            if isinstance(value, Descriptor):\n",
    "                value.name = key\n",
    "                setattr(cls, key, value)\n",
    "            else:\n",
    "                setattr(cls, key, value(key))\n",
    "        return cls\n",
    "\n",
    "    return decorate\n",
    "\n",
    "# Example\n",
    "@check_attributes(name=SizedString(size=8),\n",
    "                  shares=UnsignedInteger,\n",
    "                  price=UnsignedFloat)\n",
    "class Stock:\n",
    "    def __init__(self, name, shares, price):\n",
    "        self.name = name\n",
    "        self.shares = shares\n",
    "        self.price = price"
   ]
  },
  {
   "cell_type": "code",
   "execution_count": 77,
   "id": "cbfd1693-0ff1-4a2d-982a-94d74a14c564",
   "metadata": {},
   "outputs": [],
   "source": [
    "# A metaclass that applies checking\n",
    "class checkedmeta(type):\n",
    "    def __new__(cls, clsname, bases, methods):\n",
    "        # Attach attribute names to the descriptors\n",
    "        for key, value in methods.items():\n",
    "            if isinstance(value, Descriptor):\n",
    "                value.name = key\n",
    "        return type.__new__(cls, clsname, bases, methods)\n",
    "\n",
    "# Example\n",
    "class Stock2(metaclass=checkedmeta):\n",
    "    name = SizedString(size=8)\n",
    "    shares = UnsignedInteger()\n",
    "    price = UnsignedFloat()\n",
    "\n",
    "    def __init__(self, name, shares, price):\n",
    "        self.name = name\n",
    "        self.shares = shares\n",
    "        self.price = price"
   ]
  },
  {
   "cell_type": "code",
   "execution_count": 78,
   "id": "9f3de8b5-428d-487e-9d60-4af9bf634068",
   "metadata": {},
   "outputs": [],
   "source": [
    "# Decorator for applying type checking\n",
    "def Typed(expected_type, cls=None):\n",
    "    if cls is None:\n",
    "        return lambda cls: Typed(expected_type, cls)\n",
    "    super_set = cls.__set__\n",
    "\n",
    "    def __set__(self, instance, value):\n",
    "        if not isinstance(value, expected_type):\n",
    "            raise TypeError('expected ' + str(expected_type))\n",
    "        super_set(self, instance, value)\n",
    "\n",
    "    cls.__set__ = __set__\n",
    "    return cls\n",
    "\n",
    "\n",
    "# Decorator for unsigned values\n",
    "def Unsigned(cls):\n",
    "    super_set = cls.__set__\n",
    "\n",
    "    def __set__(self, instance, value):\n",
    "        if value < 0:\n",
    "            raise ValueError('Expected >= 0')\n",
    "        super_set(self, instance, value)\n",
    "\n",
    "    cls.__set__ = __set__\n",
    "    return cls\n",
    "\n",
    "\n",
    "# Decorator for allowing sized values\n",
    "def MaxSized(cls):\n",
    "    super_init = cls.__init__\n",
    "\n",
    "    def __init__(self, name=None, **opts):\n",
    "        if 'size' not in opts:\n",
    "            raise TypeError('missing size option')\n",
    "        super_init(self, name, **opts)\n",
    "\n",
    "    cls.__init__ = __init__\n",
    "\n",
    "    super_set = cls.__set__\n",
    "\n",
    "    def __set__(self, instance, value):\n",
    "        if len(value) >= self.size:\n",
    "            raise ValueError('size must be < ' + str(self.size))\n",
    "        super_set(self, instance, value)\n",
    "\n",
    "    cls.__set__ = __set__\n",
    "    return cls\n",
    "\n",
    "\n",
    "# Specialized descriptors\n",
    "@Typed(int)\n",
    "class Integer(Descriptor):\n",
    "    pass\n",
    "\n",
    "\n",
    "@Unsigned\n",
    "class UnsignedInteger(Integer):\n",
    "    pass\n",
    "\n",
    "\n",
    "@Typed(float)\n",
    "class Float(Descriptor):\n",
    "    pass\n",
    "\n",
    "\n",
    "@Unsigned\n",
    "class UnsignedFloat(Float):\n",
    "    pass\n",
    "\n",
    "\n",
    "@Typed(str)\n",
    "class String(Descriptor):\n",
    "    pass\n",
    "\n",
    "\n",
    "@MaxSized\n",
    "class SizedString(String):\n",
    "    pass"
   ]
  },
  {
   "cell_type": "markdown",
   "id": "3a465e17-a5f3-4be0-92b5-63594fd989e1",
   "metadata": {},
   "source": [
    "# 实现自定义容器"
   ]
  },
  {
   "cell_type": "code",
   "execution_count": 80,
   "id": "34915f9c-0b60-4c94-94a9-f952aa9ad63b",
   "metadata": {},
   "outputs": [],
   "source": [
    "from collections import Iterable\n",
    "class A(Iterable):\n",
    "    pass"
   ]
  },
  {
   "cell_type": "markdown",
   "id": "4fb4589e-364a-454c-83f2-8a63f7f1a948",
   "metadata": {},
   "source": [
    "## 实现抽象类的所有方法"
   ]
  },
  {
   "cell_type": "code",
   "execution_count": 82,
   "id": "7337ee10-4a89-4dff-912f-447c43691b90",
   "metadata": {},
   "outputs": [],
   "source": [
    "a = A()"
   ]
  },
  {
   "cell_type": "markdown",
   "id": "761c7b4c-e90b-463b-9ef3-d53b329840c9",
   "metadata": {},
   "source": [
    "## 实例化抽象类查看要实现的方法 "
   ]
  },
  {
   "cell_type": "code",
   "execution_count": 91,
   "id": "e6c0bd5b-1a53-43ac-890d-07910ccbde99",
   "metadata": {},
   "outputs": [
    {
     "ename": "TypeError",
     "evalue": "Can't instantiate abstract class Sequence with abstract methods __getitem__, __len__",
     "output_type": "error",
     "traceback": [
      "\u001b[0;31m---------------------------------------------------------------------------\u001b[0m",
      "\u001b[0;31mTypeError\u001b[0m                                 Traceback (most recent call last)",
      "\u001b[0;32m/var/folders/g6/h24w2cnn0bzbzz1dc4v4fplm0000gn/T/ipykernel_2109/1003970975.py\u001b[0m in \u001b[0;36m<module>\u001b[0;34m\u001b[0m\n\u001b[1;32m      1\u001b[0m \u001b[0;32mimport\u001b[0m \u001b[0mcollections\u001b[0m\u001b[0;34m\u001b[0m\u001b[0;34m\u001b[0m\u001b[0m\n\u001b[0;32m----> 2\u001b[0;31m \u001b[0mcollections\u001b[0m\u001b[0;34m.\u001b[0m\u001b[0mSequence\u001b[0m\u001b[0;34m(\u001b[0m\u001b[0;34m)\u001b[0m\u001b[0;34m\u001b[0m\u001b[0;34m\u001b[0m\u001b[0m\n\u001b[0m",
      "\u001b[0;31mTypeError\u001b[0m: Can't instantiate abstract class Sequence with abstract methods __getitem__, __len__"
     ]
    }
   ],
   "source": [
    "import collections\n",
    "collections.Sequence()"
   ]
  },
  {
   "cell_type": "markdown",
   "id": "2e9d6e6a-f98a-41a9-b6d1-6c942054bdf6",
   "metadata": {},
   "source": [
    "## 示例"
   ]
  },
  {
   "cell_type": "code",
   "execution_count": 89,
   "id": "766da4c7-2169-419a-9534-962c4a13a664",
   "metadata": {},
   "outputs": [
    {
     "name": "stdout",
     "output_type": "stream",
     "text": [
      "[1, 3, 5]\n",
      "1 5\n",
      "[1, 2, 3, 5]\n"
     ]
    }
   ],
   "source": [
    "import bisect\n",
    "class SortedItems(collections.Sequence):\n",
    "    def __init__(self, initial=None):\n",
    "        self._items = sorted(initial) if initial is not None else []\n",
    "\n",
    "    # Required sequence methods\n",
    "    def __getitem__(self, index):\n",
    "        return self._items[index]\n",
    "\n",
    "    def __len__(self):\n",
    "        return len(self._items)\n",
    "\n",
    "    # Method for adding an item in the right location\n",
    "    def add(self, item):\n",
    "        bisect.insort(self._items, item)\n",
    "\n",
    "\n",
    "items = SortedItems([5, 1, 3])\n",
    "print(list(items))\n",
    "print(items[0], items[-1])\n",
    "items.add(2)\n",
    "print(list(items))"
   ]
  },
  {
   "cell_type": "code",
   "execution_count": 92,
   "id": "b32f83a8-2f1d-418a-871d-2a73edb7d28d",
   "metadata": {},
   "outputs": [],
   "source": [
    "class Items(collections.MutableSequence):\n",
    "    def __init__(self, initial=None):\n",
    "        self._items = list(initial) if initial is not None else []\n",
    "\n",
    "    # Required sequence methods\n",
    "    def __getitem__(self, index):\n",
    "        print('Getting:', index)\n",
    "        return self._items[index]\n",
    "\n",
    "    def __setitem__(self, index, value):\n",
    "        print('Setting:', index, value)\n",
    "        self._items[index] = value\n",
    "\n",
    "    def __delitem__(self, index):\n",
    "        print('Deleting:', index)\n",
    "        del self._items[index]\n",
    "\n",
    "    def insert(self, index, value):\n",
    "        print('Inserting:', index, value)\n",
    "        self._items.insert(index, value)\n",
    "\n",
    "    def __len__(self):\n",
    "        print('Len')\n",
    "        return len(self._items)"
   ]
  },
  {
   "cell_type": "markdown",
   "id": "03788567-aeb6-421f-acf6-9276709e2158",
   "metadata": {},
   "source": [
    "# 属性的代理访问"
   ]
  },
  {
   "cell_type": "code",
   "execution_count": 93,
   "id": "6b022acb-0167-4baf-b041-12af1cf4d66b",
   "metadata": {},
   "outputs": [],
   "source": [
    "class A:\n",
    "    def spam(self, x):\n",
    "        pass\n",
    "\n",
    "    def foo(self):\n",
    "        pass"
   ]
  },
  {
   "cell_type": "markdown",
   "id": "52cb5339-5516-4247-8b63-43cdca680e4d",
   "metadata": {},
   "source": [
    "## 简单的代理"
   ]
  },
  {
   "cell_type": "code",
   "execution_count": 93,
   "id": "67facb32-71ea-4f58-9f7b-379cb4cd2eb1",
   "metadata": {},
   "outputs": [],
   "source": [
    "class B1:\n",
    "    \"\"\"简单的代理\"\"\"\n",
    "\n",
    "    def __init__(self):\n",
    "        self._a = A()\n",
    "\n",
    "    def spam(self, x):\n",
    "        # Delegate to the internal self._a instance\n",
    "        return self._a.spam(x)\n",
    "\n",
    "    def foo(self):\n",
    "        # Delegate to the internal self._a instance\n",
    "        return self._a.foo()\n",
    "\n",
    "    def bar(self):\n",
    "        pass"
   ]
  },
  {
   "cell_type": "markdown",
   "id": "dac837d9-6e5a-456e-b7d1-67a2dd86c64f",
   "metadata": {},
   "source": [
    "## 使用__getattr__的代理"
   ]
  },
  {
   "cell_type": "code",
   "execution_count": 94,
   "id": "13a07f49-32c1-44e1-9088-75ce42c129a7",
   "metadata": {},
   "outputs": [],
   "source": [
    "class B2:\n",
    "    \"\"\"使用__getattr__的代理，代理方法比较多时候\"\"\"\n",
    "\n",
    "    def __init__(self):\n",
    "        self._a = A()\n",
    "\n",
    "    def bar(self):\n",
    "        pass\n",
    "\n",
    "    # Expose all of the methods defined on class A\n",
    "    def __getattr__(self, name):\n",
    "        \"\"\"这个方法在访问的attribute不存在的时候被调用\n",
    "        the __getattr__() method is actually a fallback method\n",
    "        that only gets called when an attribute is not found\"\"\"\n",
    "        return getattr(self._a, name)"
   ]
  },
  {
   "cell_type": "markdown",
   "id": "ad20da9c-e7e2-4f58-8c01-16840630c315",
   "metadata": {},
   "source": [
    "## 实现代理模式"
   ]
  },
  {
   "cell_type": "code",
   "execution_count": 96,
   "id": "4b377eb7-b3d1-4ffa-9a51-a236ae720970",
   "metadata": {},
   "outputs": [],
   "source": [
    "# A proxy class that wraps around another object, but\n",
    "# exposes its public attributes\n",
    "class Proxy:\n",
    "    def __init__(self, obj):\n",
    "        self._obj = obj\n",
    "\n",
    "    # Delegate attribute lookup to internal obj\n",
    "    def __getattr__(self, name):\n",
    "        print('getattr:', name)\n",
    "        return getattr(self._obj, name)\n",
    "\n",
    "    # Delegate attribute assignment\n",
    "    def __setattr__(self, name, value):\n",
    "        if name.startswith('_'):\n",
    "            super().__setattr__(name, value)\n",
    "        else:\n",
    "            print('setattr:', name, value)\n",
    "            setattr(self._obj, name, value)\n",
    "\n",
    "    # Delegate attribute deletion\n",
    "    def __delattr__(self, name):\n",
    "        if name.startswith('_'):\n",
    "            super().__delattr__(name)\n",
    "        else:\n",
    "            print('delattr:', name)\n",
    "            delattr(self._obj, name)"
   ]
  },
  {
   "cell_type": "markdown",
   "id": "2109d738-fe29-49cd-8518-5cad7f421aaa",
   "metadata": {},
   "source": [
    "# 定义多个构造器"
   ]
  },
  {
   "cell_type": "markdown",
   "id": "17843f71-6bf1-461b-bde6-50f9bed64498",
   "metadata": {},
   "source": [
    "类方法的一个主要用途就是定义多个构造器"
   ]
  },
  {
   "cell_type": "code",
   "execution_count": 98,
   "id": "8085437c-b618-431d-b81d-3f5f309d0b4f",
   "metadata": {},
   "outputs": [],
   "source": [
    "import time\n",
    "\n",
    "class Date:\n",
    "    \"\"\"使用类方法\"\"\"\n",
    "    # Primary constructor\n",
    "    def __init__(self, year, month, day):\n",
    "        self.year = year\n",
    "        self.month = month\n",
    "        self.day = day\n",
    "\n",
    "    # Alternate constructor\n",
    "    @classmethod\n",
    "    def today(cls):\n",
    "        t = time.localtime()\n",
    "        return cls(t.tm_year, t.tm_mon, t.tm_mday)"
   ]
  },
  {
   "cell_type": "markdown",
   "id": "716d2a73-2dde-4e96-9cf5-481f9ec8b8d8",
   "metadata": {},
   "source": [
    "# 创建不调用init方法的实例"
   ]
  },
  {
   "cell_type": "code",
   "execution_count": 99,
   "id": "677827fb-c3cd-4a1b-abea-72e271eccd39",
   "metadata": {},
   "outputs": [],
   "source": [
    "class Date:\n",
    "    def __init__(self, year, month, day):\n",
    "        self.year = year\n",
    "        self.month = month\n",
    "        self.day = day"
   ]
  },
  {
   "cell_type": "code",
   "execution_count": 100,
   "id": "98aceee2-e98c-4e0a-ba1a-0dffd3500c88",
   "metadata": {},
   "outputs": [
    {
     "ename": "AttributeError",
     "evalue": "'Date' object has no attribute 'year'",
     "output_type": "error",
     "traceback": [
      "\u001b[0;31m---------------------------------------------------------------------------\u001b[0m",
      "\u001b[0;31mAttributeError\u001b[0m                            Traceback (most recent call last)",
      "\u001b[0;32m/var/folders/g6/h24w2cnn0bzbzz1dc4v4fplm0000gn/T/ipykernel_2109/515144281.py\u001b[0m in \u001b[0;36m<module>\u001b[0;34m\u001b[0m\n\u001b[1;32m      1\u001b[0m \u001b[0md\u001b[0m \u001b[0;34m=\u001b[0m \u001b[0mDate\u001b[0m\u001b[0;34m.\u001b[0m\u001b[0m__new__\u001b[0m\u001b[0;34m(\u001b[0m\u001b[0mDate\u001b[0m\u001b[0;34m)\u001b[0m\u001b[0;34m\u001b[0m\u001b[0;34m\u001b[0m\u001b[0m\n\u001b[0;32m----> 2\u001b[0;31m \u001b[0md\u001b[0m\u001b[0;34m.\u001b[0m\u001b[0myear\u001b[0m\u001b[0;34m\u001b[0m\u001b[0;34m\u001b[0m\u001b[0m\n\u001b[0m",
      "\u001b[0;31mAttributeError\u001b[0m: 'Date' object has no attribute 'year'"
     ]
    }
   ],
   "source": [
    "d = Date.__new__(Date)\n",
    "d.year"
   ]
  },
  {
   "cell_type": "code",
   "execution_count": 101,
   "id": "0de25e0e-ca85-42ee-ab3e-d931d277ec2e",
   "metadata": {},
   "outputs": [],
   "source": [
    "data = {'year':2012, 'month':8, 'day':29}\n",
    "for key, value in data.items():\n",
    "    setattr(d, key, value)"
   ]
  },
  {
   "cell_type": "code",
   "execution_count": 102,
   "id": "e035fd59-0f0b-4648-aaa2-18dc086d972d",
   "metadata": {},
   "outputs": [
    {
     "data": {
      "text/plain": [
       "2012"
      ]
     },
     "execution_count": 102,
     "metadata": {},
     "output_type": "execute_result"
    }
   ],
   "source": [
    "d.year"
   ]
  },
  {
   "cell_type": "markdown",
   "id": "f4af3d86-964e-4fd2-9760-cf4f6dd15bdb",
   "metadata": {},
   "source": [
    "# 利用Mixins扩展类功能"
   ]
  },
  {
   "cell_type": "markdown",
   "id": "e17201f5-2a30-4b47-802d-8d5b43efdab3",
   "metadata": {},
   "source": [
    "## 混入类"
   ]
  },
  {
   "cell_type": "code",
   "execution_count": 104,
   "id": "7dcbd9ed-d6c1-40fe-ae8c-b41e4de15170",
   "metadata": {},
   "outputs": [],
   "source": [
    "class LoggedMappingMixin:\n",
    "    \"\"\"\n",
    "    Add logging to get/set/delete operations for debugging.\n",
    "    \"\"\"\n",
    "    __slots__ = ()  # 混入类都没有实例变量，因为直接实例化混入类没有任何意义\n",
    "\n",
    "    def __getitem__(self, key):\n",
    "        print('Getting ' + str(key))\n",
    "        return super().__getitem__(key)\n",
    "\n",
    "    def __setitem__(self, key, value):\n",
    "        print('Setting {} = {!r}'.format(key, value))\n",
    "        return super().__setitem__(key, value)\n",
    "\n",
    "    def __delitem__(self, key):\n",
    "        print('Deleting ' + str(key))\n",
    "        return super().__delitem__(key)\n",
    "\n",
    "\n",
    "class SetOnceMappingMixin:\n",
    "    '''\n",
    "    Only allow a key to be set once.\n",
    "    '''\n",
    "    __slots__ = ()\n",
    "\n",
    "    def __setitem__(self, key, value):\n",
    "        if key in self:\n",
    "            raise KeyError(str(key) + ' already set')\n",
    "        return super().__setitem__(key, value)\n",
    "\n",
    "\n",
    "class StringKeysMappingMixin:\n",
    "    '''\n",
    "    Restrict keys to strings only\n",
    "    '''\n",
    "    __slots__ = ()\n",
    "\n",
    "    def __setitem__(self, key, value):\n",
    "        if not isinstance(key, str):\n",
    "            raise TypeError('keys must be strings')\n",
    "        return super().__setitem__(key, value)"
   ]
  },
  {
   "cell_type": "code",
   "execution_count": 106,
   "id": "e4da7600-90a6-4101-b3f0-c517d090bbb8",
   "metadata": {},
   "outputs": [
    {
     "name": "stdout",
     "output_type": "stream",
     "text": [
      "Setting x = 23\n",
      "Getting x\n",
      "23\n",
      "Deleting x\n"
     ]
    },
    {
     "ename": "KeyError",
     "evalue": "'x already set'",
     "output_type": "error",
     "traceback": [
      "\u001b[0;31m---------------------------------------------------------------------------\u001b[0m",
      "\u001b[0;31mKeyError\u001b[0m                                  Traceback (most recent call last)",
      "\u001b[0;32m/var/folders/g6/h24w2cnn0bzbzz1dc4v4fplm0000gn/T/ipykernel_2109/2505987615.py\u001b[0m in \u001b[0;36m<module>\u001b[0;34m\u001b[0m\n\u001b[1;32m     16\u001b[0m \u001b[0md\u001b[0m\u001b[0;34m[\u001b[0m\u001b[0;34m'x'\u001b[0m\u001b[0;34m]\u001b[0m\u001b[0;34m.\u001b[0m\u001b[0mappend\u001b[0m\u001b[0;34m(\u001b[0m\u001b[0;36m2\u001b[0m\u001b[0;34m)\u001b[0m\u001b[0;34m\u001b[0m\u001b[0;34m\u001b[0m\u001b[0m\n\u001b[1;32m     17\u001b[0m \u001b[0md\u001b[0m\u001b[0;34m[\u001b[0m\u001b[0;34m'x'\u001b[0m\u001b[0;34m]\u001b[0m\u001b[0;34m.\u001b[0m\u001b[0mappend\u001b[0m\u001b[0;34m(\u001b[0m\u001b[0;36m3\u001b[0m\u001b[0;34m)\u001b[0m\u001b[0;34m\u001b[0m\u001b[0;34m\u001b[0m\u001b[0m\n\u001b[0;32m---> 18\u001b[0;31m \u001b[0md\u001b[0m\u001b[0;34m[\u001b[0m\u001b[0;34m'x'\u001b[0m\u001b[0;34m]\u001b[0m \u001b[0;34m=\u001b[0m \u001b[0;36m23\u001b[0m\u001b[0;34m\u001b[0m\u001b[0;34m\u001b[0m\u001b[0m\n\u001b[0m",
      "\u001b[0;32m/var/folders/g6/h24w2cnn0bzbzz1dc4v4fplm0000gn/T/ipykernel_2109/433200802.py\u001b[0m in \u001b[0;36m__setitem__\u001b[0;34m(self, key, value)\u001b[0m\n\u001b[1;32m     26\u001b[0m     \u001b[0;32mdef\u001b[0m \u001b[0m__setitem__\u001b[0m\u001b[0;34m(\u001b[0m\u001b[0mself\u001b[0m\u001b[0;34m,\u001b[0m \u001b[0mkey\u001b[0m\u001b[0;34m,\u001b[0m \u001b[0mvalue\u001b[0m\u001b[0;34m)\u001b[0m\u001b[0;34m:\u001b[0m\u001b[0;34m\u001b[0m\u001b[0;34m\u001b[0m\u001b[0m\n\u001b[1;32m     27\u001b[0m         \u001b[0;32mif\u001b[0m \u001b[0mkey\u001b[0m \u001b[0;32min\u001b[0m \u001b[0mself\u001b[0m\u001b[0;34m:\u001b[0m\u001b[0;34m\u001b[0m\u001b[0;34m\u001b[0m\u001b[0m\n\u001b[0;32m---> 28\u001b[0;31m             \u001b[0;32mraise\u001b[0m \u001b[0mKeyError\u001b[0m\u001b[0;34m(\u001b[0m\u001b[0mstr\u001b[0m\u001b[0;34m(\u001b[0m\u001b[0mkey\u001b[0m\u001b[0;34m)\u001b[0m \u001b[0;34m+\u001b[0m \u001b[0;34m' already set'\u001b[0m\u001b[0;34m)\u001b[0m\u001b[0;34m\u001b[0m\u001b[0;34m\u001b[0m\u001b[0m\n\u001b[0m\u001b[1;32m     29\u001b[0m         \u001b[0;32mreturn\u001b[0m \u001b[0msuper\u001b[0m\u001b[0;34m(\u001b[0m\u001b[0;34m)\u001b[0m\u001b[0;34m.\u001b[0m\u001b[0m__setitem__\u001b[0m\u001b[0;34m(\u001b[0m\u001b[0mkey\u001b[0m\u001b[0;34m,\u001b[0m \u001b[0mvalue\u001b[0m\u001b[0;34m)\u001b[0m\u001b[0;34m\u001b[0m\u001b[0;34m\u001b[0m\u001b[0m\n\u001b[1;32m     30\u001b[0m \u001b[0;34m\u001b[0m\u001b[0m\n",
      "\u001b[0;31mKeyError\u001b[0m: 'x already set'"
     ]
    }
   ],
   "source": [
    "class LoggedDict(LoggedMappingMixin, dict):\n",
    "    pass\n",
    "\n",
    "d = LoggedDict()\n",
    "d['x'] = 23\n",
    "print(d['x'])\n",
    "del d['x']\n",
    "\n",
    "from collections import defaultdict\n",
    "\n",
    "class SetOnceDefaultDict(SetOnceMappingMixin, defaultdict):\n",
    "    pass\n",
    "\n",
    "\n",
    "d = SetOnceDefaultDict(list)\n",
    "d['x'].append(2)\n",
    "d['x'].append(3)\n",
    "d['x'] = 23"
   ]
  },
  {
   "cell_type": "markdown",
   "id": "0ba8b05e-191a-4ce3-8296-e7f047c0daef",
   "metadata": {},
   "source": [
    "## 类装饰器"
   ]
  },
  {
   "cell_type": "code",
   "execution_count": 108,
   "id": "7f7aa12e-80d4-41fd-b3a3-57b5199a6638",
   "metadata": {},
   "outputs": [],
   "source": [
    "def LoggedMapping(cls):\n",
    "    \"\"\"第二种方式：使用类装饰器\"\"\"\n",
    "    cls_getitem = cls.__getitem__\n",
    "    cls_setitem = cls.__setitem__\n",
    "    cls_delitem = cls.__delitem__\n",
    "\n",
    "    def __getitem__(self, key):\n",
    "        print('Getting ' + str(key))\n",
    "        return cls_getitem(self, key)\n",
    "\n",
    "    def __setitem__(self, key, value):\n",
    "        print('Setting {} = {!r}'.format(key, value))\n",
    "        return cls_setitem(self, key, value)\n",
    "\n",
    "    def __delitem__(self, key):\n",
    "        print('Deleting ' + str(key))\n",
    "        return cls_delitem(self, key)\n",
    "\n",
    "    cls.__getitem__ = __getitem__\n",
    "    cls.__setitem__ = __setitem__\n",
    "    cls.__delitem__ = __delitem__\n",
    "    return cls\n",
    "\n",
    "\n",
    "@LoggedMapping\n",
    "class LoggedDict(dict):\n",
    "    pass"
   ]
  },
  {
   "cell_type": "markdown",
   "id": "bcc504e6-b0b5-46ff-b41c-d0df4205b22b",
   "metadata": {},
   "source": [
    "# 实现状态对象或状态机"
   ]
  },
  {
   "cell_type": "markdown",
   "id": "ba5c35a3-04de-4789-95c2-dec2f236ffe5",
   "metadata": {},
   "source": [
    "## 普通方案"
   ]
  },
  {
   "cell_type": "code",
   "execution_count": 110,
   "id": "9239516e-ab66-4d3e-9dd8-be535eaea417",
   "metadata": {},
   "outputs": [],
   "source": [
    "class Connection:\n",
    "    \"\"\"普通方案，好多个判断语句，效率低下~~\"\"\"\n",
    "\n",
    "    def __init__(self):\n",
    "        self.state = 'CLOSED'\n",
    "\n",
    "    def read(self):\n",
    "        if self.state != 'OPEN':\n",
    "            raise RuntimeError('Not open')\n",
    "        print('reading')\n",
    "\n",
    "    def write(self, data):\n",
    "        if self.state != 'OPEN':\n",
    "            raise RuntimeError('Not open')\n",
    "        print('writing')\n",
    "\n",
    "    def open(self):\n",
    "        if self.state == 'OPEN':\n",
    "            raise RuntimeError('Already open')\n",
    "        self.state = 'OPEN'\n",
    "\n",
    "    def close(self):\n",
    "        if self.state == 'CLOSED':\n",
    "            raise RuntimeError('Already closed')\n",
    "        self.state = 'CLOSED'"
   ]
  },
  {
   "cell_type": "markdown",
   "id": "55141861-a087-4485-a109-54f052d88fb4",
   "metadata": {},
   "source": [
    "## 每个状态定义一个类"
   ]
  },
  {
   "cell_type": "code",
   "execution_count": 111,
   "id": "b7356cdb-72d3-4a96-959e-520d3b201aaf",
   "metadata": {},
   "outputs": [],
   "source": [
    "class Connection1:\n",
    "    \"\"\"新方案——对每个状态定义一个类\"\"\"\n",
    "\n",
    "    def __init__(self):\n",
    "        self.new_state(ClosedConnectionState)\n",
    "\n",
    "    def new_state(self, newstate):\n",
    "        self._state = newstate\n",
    "        # Delegate to the state class\n",
    "\n",
    "    def read(self):\n",
    "        return self._state.read(self)\n",
    "\n",
    "    def write(self, data):\n",
    "        return self._state.write(self, data)\n",
    "\n",
    "    def open(self):\n",
    "        return self._state.open(self)\n",
    "\n",
    "    def close(self):\n",
    "        return self._state.close(self)\n",
    "\n",
    "\n",
    "# Connection state base class\n",
    "class ConnectionState:\n",
    "    @staticmethod\n",
    "    def read(conn):\n",
    "        raise NotImplementedError()\n",
    "\n",
    "    @staticmethod\n",
    "    def write(conn, data):\n",
    "        raise NotImplementedError()\n",
    "\n",
    "    @staticmethod\n",
    "    def open(conn):\n",
    "        raise NotImplementedError()\n",
    "\n",
    "    @staticmethod\n",
    "    def close(conn):\n",
    "        raise NotImplementedError()\n",
    "\n",
    "\n",
    "# Implementation of different states\n",
    "class ClosedConnectionState(ConnectionState):\n",
    "    @staticmethod\n",
    "    def read(conn):\n",
    "        raise RuntimeError('Not open')\n",
    "\n",
    "    @staticmethod\n",
    "    def write(conn, data):\n",
    "        raise RuntimeError('Not open')\n",
    "\n",
    "    @staticmethod\n",
    "    def open(conn):\n",
    "        conn.new_state(OpenConnectionState)\n",
    "\n",
    "    @staticmethod\n",
    "    def close(conn):\n",
    "        raise RuntimeError('Already closed')\n",
    "\n",
    "\n",
    "class OpenConnectionState(ConnectionState):\n",
    "    @staticmethod\n",
    "    def read(conn):\n",
    "        print('reading')\n",
    "\n",
    "    @staticmethod\n",
    "    def write(conn, data):\n",
    "        print('writing')\n",
    "\n",
    "    @staticmethod\n",
    "    def open(conn):\n",
    "        raise RuntimeError('Already open')\n",
    "\n",
    "    @staticmethod\n",
    "    def close(conn):\n",
    "        conn.new_state(ClosedConnectionState)"
   ]
  },
  {
   "cell_type": "markdown",
   "id": "a7ba9eb9-ee0d-4276-97de-709db2816446",
   "metadata": {},
   "source": [
    "# 通过字符串调用对象方法"
   ]
  },
  {
   "cell_type": "markdown",
   "id": "3c499520-5228-462c-820e-fac3177a63be",
   "metadata": {},
   "source": [
    "## `getattr()`"
   ]
  },
  {
   "cell_type": "code",
   "execution_count": 115,
   "id": "6b3b3d64-5386-4443-90bb-cc389882e4af",
   "metadata": {},
   "outputs": [],
   "source": [
    "import math\n",
    "\n",
    "class Point:\n",
    "    def __init__(self, x, y):\n",
    "        self.x = x\n",
    "        self.y = y\n",
    "\n",
    "    def __repr__(self):\n",
    "        return 'Point({!r:},{!r:})'.format(self.x, self.y)\n",
    "\n",
    "    def distance(self, x, y):\n",
    "        return math.hypot(self.x - x, self.y - y)\n",
    "\n",
    "\n",
    "p = Point(2, 3)\n",
    "d = getattr(p, 'distance')(0, 0)  # Calls p.distance(0, 0)"
   ]
  },
  {
   "cell_type": "markdown",
   "id": "d194faef-07a3-45c0-9d73-a419184e69c3",
   "metadata": {},
   "source": [
    "## `operator.methodcaller()`"
   ]
  },
  {
   "cell_type": "code",
   "execution_count": 116,
   "id": "9a34b306-2c2b-4037-8156-a43be5300aca",
   "metadata": {},
   "outputs": [
    {
     "data": {
      "text/plain": [
       "3.6055512754639896"
      ]
     },
     "execution_count": 116,
     "metadata": {},
     "output_type": "execute_result"
    }
   ],
   "source": [
    "import operator\n",
    "operator.methodcaller('distance', 0, 0)(p)"
   ]
  },
  {
   "cell_type": "code",
   "execution_count": 117,
   "id": "40ad963a-a04a-4cf0-9677-5e3ec0ad9994",
   "metadata": {},
   "outputs": [],
   "source": [
    "points = [\n",
    "    Point(1, 2),\n",
    "    Point(3, 0),\n",
    "    Point(10, -3),\n",
    "    Point(-5, -7),\n",
    "    Point(-1, 8),\n",
    "    Point(3, 2)\n",
    "]\n",
    "# Sort by distance from origin (0, 0)\n",
    "points.sort(key=operator.methodcaller('distance', 0, 0))"
   ]
  },
  {
   "cell_type": "markdown",
   "id": "16307910-f992-474c-9e08-8b4c5c7c451a",
   "metadata": {},
   "source": [
    "# 实现访问者模式"
   ]
  },
  {
   "cell_type": "code",
   "execution_count": 118,
   "id": "699b5e8d-c448-4323-be4b-5c4f5db4db3e",
   "metadata": {},
   "outputs": [],
   "source": [
    "class Node:\n",
    "    pass\n",
    "\n",
    "class UnaryOperator(Node):\n",
    "    def __init__(self, operand):\n",
    "        self.operand = operand\n",
    "\n",
    "class BinaryOperator(Node):\n",
    "    def __init__(self, left, right):\n",
    "        self.left = left\n",
    "        self.right = right\n",
    "\n",
    "class Add(BinaryOperator):\n",
    "    pass\n",
    "\n",
    "class Sub(BinaryOperator):\n",
    "    pass\n",
    "\n",
    "class Mul(BinaryOperator):\n",
    "    pass\n",
    "\n",
    "class Div(BinaryOperator):\n",
    "    pass\n",
    "\n",
    "class Negate(UnaryOperator):\n",
    "    pass\n",
    "\n",
    "class Number(Node):\n",
    "    def __init__(self, value):\n",
    "        self.value = value"
   ]
  },
  {
   "cell_type": "code",
   "execution_count": 119,
   "id": "57de1c84-4fcc-4cb6-84ac-00c1cff92142",
   "metadata": {},
   "outputs": [
    {
     "data": {
      "text/plain": [
       "<__main__.Add at 0x7fcd768346d0>"
      ]
     },
     "execution_count": 119,
     "metadata": {},
     "output_type": "execute_result"
    }
   ],
   "source": [
    "# Representation of 1 + 2 * (3 - 4) / 5\n",
    "t1 = Sub(Number(3), Number(4))\n",
    "t2 = Mul(Number(2), t1)\n",
    "t3 = Div(t2, Number(5))\n",
    "t4 = Add(Number(1), t3)"
   ]
  },
  {
   "cell_type": "code",
   "execution_count": 120,
   "id": "96e5d6cd-a07f-432a-a9b7-98906b002b85",
   "metadata": {},
   "outputs": [],
   "source": [
    "class NodeVisitor:\n",
    "    def visit(self, node):\n",
    "        methname = 'visit_' + type(node).__name__\n",
    "        meth = getattr(self, methname, None)\n",
    "        if meth is None:\n",
    "            meth = self.generic_visit\n",
    "        return meth(node)\n",
    "\n",
    "    def generic_visit(self, node):\n",
    "        raise RuntimeError('No {} method'.format('visit_' + type(node).__name__))"
   ]
  },
  {
   "cell_type": "code",
   "execution_count": 121,
   "id": "32dc1a6d-364c-4b48-8bbd-24595792e2c4",
   "metadata": {},
   "outputs": [],
   "source": [
    "class Evaluator(NodeVisitor):\n",
    "    def visit_Number(self, node):\n",
    "        return node.value\n",
    "\n",
    "    def visit_Add(self, node):\n",
    "        return self.visit(node.left) + self.visit(node.right)\n",
    "\n",
    "    def visit_Sub(self, node):\n",
    "        return self.visit(node.left) - self.visit(node.right)\n",
    "\n",
    "    def visit_Mul(self, node):\n",
    "        return self.visit(node.left) * self.visit(node.right)\n",
    "\n",
    "    def visit_Div(self, node):\n",
    "        return self.visit(node.left) / self.visit(node.right)\n",
    "\n",
    "    def visit_Negate(self, node):\n",
    "        return -node.operand"
   ]
  },
  {
   "cell_type": "code",
   "execution_count": 122,
   "id": "bcf40619-b717-4ebe-83e7-35cbc2442519",
   "metadata": {},
   "outputs": [
    {
     "data": {
      "text/plain": [
       "0.6"
      ]
     },
     "execution_count": 122,
     "metadata": {},
     "output_type": "execute_result"
    }
   ],
   "source": [
    "e = Evaluator()\n",
    "e.visit(t4)"
   ]
  },
  {
   "cell_type": "code",
   "execution_count": 123,
   "id": "92e0b92e-9df2-4478-84d0-6a52df2516e2",
   "metadata": {},
   "outputs": [],
   "source": [
    "class StackCode(NodeVisitor):\n",
    "    def generate_code(self, node):\n",
    "        self.instructions = []\n",
    "        self.visit(node)\n",
    "        return self.instructions\n",
    "\n",
    "    def visit_Number(self, node):\n",
    "        self.instructions.append(('PUSH', node.value))\n",
    "\n",
    "    def binop(self, node, instruction):\n",
    "        self.visit(node.left)\n",
    "        self.visit(node.right)\n",
    "        self.instructions.append((instruction,))\n",
    "\n",
    "    def visit_Add(self, node):\n",
    "        self.binop(node, 'ADD')\n",
    "\n",
    "    def visit_Sub(self, node):\n",
    "        self.binop(node, 'SUB')\n",
    "\n",
    "    def visit_Mul(self, node):\n",
    "        self.binop(node, 'MUL')\n",
    "\n",
    "    def visit_Div(self, node):\n",
    "        self.binop(node, 'DIV')\n",
    "\n",
    "    def unaryop(self, node, instruction):\n",
    "        self.visit(node.operand)\n",
    "        self.instructions.append((instruction,))\n",
    "\n",
    "    def visit_Negate(self, node):\n",
    "        self.unaryop(node, 'NEG')"
   ]
  },
  {
   "cell_type": "code",
   "execution_count": 124,
   "id": "9200f535-4e46-4762-a735-3665ab94d5d1",
   "metadata": {},
   "outputs": [
    {
     "data": {
      "text/plain": [
       "[('PUSH', 1),\n",
       " ('PUSH', 2),\n",
       " ('PUSH', 3),\n",
       " ('PUSH', 4),\n",
       " ('SUB',),\n",
       " ('MUL',),\n",
       " ('PUSH', 5),\n",
       " ('DIV',),\n",
       " ('ADD',)]"
      ]
     },
     "execution_count": 124,
     "metadata": {},
     "output_type": "execute_result"
    }
   ],
   "source": [
    "s = StackCode()\n",
    "s.generate_code(t4)"
   ]
  },
  {
   "cell_type": "markdown",
   "id": "07dac12c-41ce-4d0a-9144-9dca6e847bfc",
   "metadata": {},
   "source": [
    "# 不用递归实现访问者模式"
   ]
  },
  {
   "cell_type": "code",
   "execution_count": 126,
   "id": "333e6107-f745-49e6-a950-09d4f9022ccd",
   "metadata": {},
   "outputs": [],
   "source": [
    "import types\n",
    "\n",
    "class Node:\n",
    "    pass\n",
    "\n",
    "class NodeVisitor:\n",
    "    def visit(self, node):\n",
    "        stack = [node]\n",
    "        last_result = None\n",
    "        while stack:\n",
    "            try:\n",
    "                last = stack[-1]\n",
    "                if isinstance(last, types.GeneratorType):\n",
    "                    stack.append(last.send(last_result))\n",
    "                    last_result = None\n",
    "                elif isinstance(last, Node):\n",
    "                    stack.append(self._visit(stack.pop()))\n",
    "                else:\n",
    "                    last_result = stack.pop()\n",
    "            except StopIteration:\n",
    "                stack.pop()\n",
    "\n",
    "        return last_result\n",
    "\n",
    "    def _visit(self, node):\n",
    "        methname = 'visit_' + type(node).__name__\n",
    "        meth = getattr(self, methname, None)\n",
    "        if meth is None:\n",
    "            meth = self.generic_visit\n",
    "        return meth(node)\n",
    "\n",
    "    def generic_visit(self, node):\n",
    "        raise RuntimeError('No {} method'.format('visit_' + type(node).__name__))"
   ]
  },
  {
   "cell_type": "code",
   "execution_count": 127,
   "id": "c3170e10-3c3a-4b52-b4fa-5e77ff058e92",
   "metadata": {},
   "outputs": [],
   "source": [
    "class UnaryOperator(Node):\n",
    "    def __init__(self, operand):\n",
    "        self.operand = operand\n",
    "\n",
    "class BinaryOperator(Node):\n",
    "    def __init__(self, left, right):\n",
    "        self.left = left\n",
    "        self.right = right\n",
    "\n",
    "class Add(BinaryOperator):\n",
    "    pass\n",
    "\n",
    "class Sub(BinaryOperator):\n",
    "    pass\n",
    "\n",
    "class Mul(BinaryOperator):\n",
    "    pass\n",
    "\n",
    "class Div(BinaryOperator):\n",
    "    pass\n",
    "\n",
    "class Negate(UnaryOperator):\n",
    "    pass\n",
    "\n",
    "class Number(Node):\n",
    "    def __init__(self, value):\n",
    "        self.value = value"
   ]
  },
  {
   "cell_type": "markdown",
   "id": "48363769-14df-4e30-a18b-e892aeb9f64c",
   "metadata": {},
   "source": [
    "## 递归实现"
   ]
  },
  {
   "cell_type": "code",
   "execution_count": 127,
   "id": "2e289d8e-bf93-46d7-804a-735ca65ef561",
   "metadata": {},
   "outputs": [],
   "source": [
    "# A sample visitor class that evaluates expressions\n",
    "class Evaluator(NodeVisitor):\n",
    "    def visit_Number(self, node):\n",
    "        return node.value\n",
    "\n",
    "    def visit_Add(self, node):\n",
    "        return self.visit(node.left) + self.visit(node.right)\n",
    "\n",
    "    def visit_Sub(self, node):\n",
    "        return self.visit(node.left) - self.visit(node.right)\n",
    "\n",
    "    def visit_Mul(self, node):\n",
    "        return self.visit(node.left) * self.visit(node.right)\n",
    "\n",
    "    def visit_Div(self, node):\n",
    "        return self.visit(node.left) / self.visit(node.right)\n",
    "\n",
    "    def visit_Negate(self, node):\n",
    "        return -self.visit(node.operand)"
   ]
  },
  {
   "cell_type": "code",
   "execution_count": 128,
   "id": "423153eb-ff3b-47d2-9c5b-dc68b903c2e7",
   "metadata": {},
   "outputs": [
    {
     "name": "stdout",
     "output_type": "stream",
     "text": [
      "0.6\n"
     ]
    }
   ],
   "source": [
    "# 1 + 2*(3-4) / 5\n",
    "t1 = Sub(Number(3), Number(4))\n",
    "t2 = Mul(Number(2), t1)\n",
    "t3 = Div(t2, Number(5))\n",
    "t4 = Add(Number(1), t3)\n",
    "# Evaluate it\n",
    "e = Evaluator()\n",
    "print(e.visit(t4))  # Outputs 0.6"
   ]
  },
  {
   "cell_type": "code",
   "execution_count": 130,
   "id": "49a3b758-938d-443d-ba86-999539306ddb",
   "metadata": {},
   "outputs": [
    {
     "ename": "RecursionError",
     "evalue": "maximum recursion depth exceeded",
     "output_type": "error",
     "traceback": [
      "\u001b[0;31m---------------------------------------------------------------------------\u001b[0m",
      "\u001b[0;31mRecursionError\u001b[0m                            Traceback (most recent call last)",
      "\u001b[0;32m/var/folders/g6/h24w2cnn0bzbzz1dc4v4fplm0000gn/T/ipykernel_2109/2778525385.py\u001b[0m in \u001b[0;36m<module>\u001b[0;34m\u001b[0m\n\u001b[1;32m      3\u001b[0m     \u001b[0ma\u001b[0m \u001b[0;34m=\u001b[0m \u001b[0mAdd\u001b[0m\u001b[0;34m(\u001b[0m\u001b[0ma\u001b[0m\u001b[0;34m,\u001b[0m \u001b[0mNumber\u001b[0m\u001b[0;34m(\u001b[0m\u001b[0mn\u001b[0m\u001b[0;34m)\u001b[0m\u001b[0;34m)\u001b[0m\u001b[0;34m\u001b[0m\u001b[0;34m\u001b[0m\u001b[0m\n\u001b[1;32m      4\u001b[0m \u001b[0me\u001b[0m \u001b[0;34m=\u001b[0m \u001b[0mEvaluator\u001b[0m\u001b[0;34m(\u001b[0m\u001b[0;34m)\u001b[0m\u001b[0;34m\u001b[0m\u001b[0;34m\u001b[0m\u001b[0m\n\u001b[0;32m----> 5\u001b[0;31m \u001b[0me\u001b[0m\u001b[0;34m.\u001b[0m\u001b[0mvisit\u001b[0m\u001b[0;34m(\u001b[0m\u001b[0ma\u001b[0m\u001b[0;34m)\u001b[0m\u001b[0;34m\u001b[0m\u001b[0;34m\u001b[0m\u001b[0m\n\u001b[0m",
      "\u001b[0;32m/var/folders/g6/h24w2cnn0bzbzz1dc4v4fplm0000gn/T/ipykernel_2109/1240433193.py\u001b[0m in \u001b[0;36mvisit\u001b[0;34m(self, node)\u001b[0m\n\u001b[1;32m     15\u001b[0m                     \u001b[0mlast_result\u001b[0m \u001b[0;34m=\u001b[0m \u001b[0;32mNone\u001b[0m\u001b[0;34m\u001b[0m\u001b[0;34m\u001b[0m\u001b[0m\n\u001b[1;32m     16\u001b[0m                 \u001b[0;32melif\u001b[0m \u001b[0misinstance\u001b[0m\u001b[0;34m(\u001b[0m\u001b[0mlast\u001b[0m\u001b[0;34m,\u001b[0m \u001b[0mNode\u001b[0m\u001b[0;34m)\u001b[0m\u001b[0;34m:\u001b[0m\u001b[0;34m\u001b[0m\u001b[0;34m\u001b[0m\u001b[0m\n\u001b[0;32m---> 17\u001b[0;31m                     \u001b[0mstack\u001b[0m\u001b[0;34m.\u001b[0m\u001b[0mappend\u001b[0m\u001b[0;34m(\u001b[0m\u001b[0mself\u001b[0m\u001b[0;34m.\u001b[0m\u001b[0m_visit\u001b[0m\u001b[0;34m(\u001b[0m\u001b[0mstack\u001b[0m\u001b[0;34m.\u001b[0m\u001b[0mpop\u001b[0m\u001b[0;34m(\u001b[0m\u001b[0;34m)\u001b[0m\u001b[0;34m)\u001b[0m\u001b[0;34m)\u001b[0m\u001b[0;34m\u001b[0m\u001b[0;34m\u001b[0m\u001b[0m\n\u001b[0m\u001b[1;32m     18\u001b[0m                 \u001b[0;32melse\u001b[0m\u001b[0;34m:\u001b[0m\u001b[0;34m\u001b[0m\u001b[0;34m\u001b[0m\u001b[0m\n\u001b[1;32m     19\u001b[0m                     \u001b[0mlast_result\u001b[0m \u001b[0;34m=\u001b[0m \u001b[0mstack\u001b[0m\u001b[0;34m.\u001b[0m\u001b[0mpop\u001b[0m\u001b[0;34m(\u001b[0m\u001b[0;34m)\u001b[0m\u001b[0;34m\u001b[0m\u001b[0;34m\u001b[0m\u001b[0m\n",
      "\u001b[0;32m/var/folders/g6/h24w2cnn0bzbzz1dc4v4fplm0000gn/T/ipykernel_2109/1240433193.py\u001b[0m in \u001b[0;36m_visit\u001b[0;34m(self, node)\u001b[0m\n\u001b[1;32m     28\u001b[0m         \u001b[0;32mif\u001b[0m \u001b[0mmeth\u001b[0m \u001b[0;32mis\u001b[0m \u001b[0;32mNone\u001b[0m\u001b[0;34m:\u001b[0m\u001b[0;34m\u001b[0m\u001b[0;34m\u001b[0m\u001b[0m\n\u001b[1;32m     29\u001b[0m             \u001b[0mmeth\u001b[0m \u001b[0;34m=\u001b[0m \u001b[0mself\u001b[0m\u001b[0;34m.\u001b[0m\u001b[0mgeneric_visit\u001b[0m\u001b[0;34m\u001b[0m\u001b[0;34m\u001b[0m\u001b[0m\n\u001b[0;32m---> 30\u001b[0;31m         \u001b[0;32mreturn\u001b[0m \u001b[0mmeth\u001b[0m\u001b[0;34m(\u001b[0m\u001b[0mnode\u001b[0m\u001b[0;34m)\u001b[0m\u001b[0;34m\u001b[0m\u001b[0;34m\u001b[0m\u001b[0m\n\u001b[0m\u001b[1;32m     31\u001b[0m \u001b[0;34m\u001b[0m\u001b[0m\n\u001b[1;32m     32\u001b[0m     \u001b[0;32mdef\u001b[0m \u001b[0mgeneric_visit\u001b[0m\u001b[0;34m(\u001b[0m\u001b[0mself\u001b[0m\u001b[0;34m,\u001b[0m \u001b[0mnode\u001b[0m\u001b[0;34m)\u001b[0m\u001b[0;34m:\u001b[0m\u001b[0;34m\u001b[0m\u001b[0;34m\u001b[0m\u001b[0m\n",
      "\u001b[0;32m/var/folders/g6/h24w2cnn0bzbzz1dc4v4fplm0000gn/T/ipykernel_2109/573649936.py\u001b[0m in \u001b[0;36mvisit_Add\u001b[0;34m(self, node)\u001b[0m\n\u001b[1;32m     33\u001b[0m \u001b[0;34m\u001b[0m\u001b[0m\n\u001b[1;32m     34\u001b[0m     \u001b[0;32mdef\u001b[0m \u001b[0mvisit_Add\u001b[0m\u001b[0;34m(\u001b[0m\u001b[0mself\u001b[0m\u001b[0;34m,\u001b[0m \u001b[0mnode\u001b[0m\u001b[0;34m)\u001b[0m\u001b[0;34m:\u001b[0m\u001b[0;34m\u001b[0m\u001b[0;34m\u001b[0m\u001b[0m\n\u001b[0;32m---> 35\u001b[0;31m         \u001b[0;32mreturn\u001b[0m \u001b[0mself\u001b[0m\u001b[0;34m.\u001b[0m\u001b[0mvisit\u001b[0m\u001b[0;34m(\u001b[0m\u001b[0mnode\u001b[0m\u001b[0;34m.\u001b[0m\u001b[0mleft\u001b[0m\u001b[0;34m)\u001b[0m \u001b[0;34m+\u001b[0m \u001b[0mself\u001b[0m\u001b[0;34m.\u001b[0m\u001b[0mvisit\u001b[0m\u001b[0;34m(\u001b[0m\u001b[0mnode\u001b[0m\u001b[0;34m.\u001b[0m\u001b[0mright\u001b[0m\u001b[0;34m)\u001b[0m\u001b[0;34m\u001b[0m\u001b[0;34m\u001b[0m\u001b[0m\n\u001b[0m\u001b[1;32m     36\u001b[0m \u001b[0;34m\u001b[0m\u001b[0m\n\u001b[1;32m     37\u001b[0m     \u001b[0;32mdef\u001b[0m \u001b[0mvisit_Sub\u001b[0m\u001b[0;34m(\u001b[0m\u001b[0mself\u001b[0m\u001b[0;34m,\u001b[0m \u001b[0mnode\u001b[0m\u001b[0;34m)\u001b[0m\u001b[0;34m:\u001b[0m\u001b[0;34m\u001b[0m\u001b[0;34m\u001b[0m\u001b[0m\n",
      "... last 3 frames repeated, from the frame below ...\n",
      "\u001b[0;32m/var/folders/g6/h24w2cnn0bzbzz1dc4v4fplm0000gn/T/ipykernel_2109/1240433193.py\u001b[0m in \u001b[0;36mvisit\u001b[0;34m(self, node)\u001b[0m\n\u001b[1;32m     15\u001b[0m                     \u001b[0mlast_result\u001b[0m \u001b[0;34m=\u001b[0m \u001b[0;32mNone\u001b[0m\u001b[0;34m\u001b[0m\u001b[0;34m\u001b[0m\u001b[0m\n\u001b[1;32m     16\u001b[0m                 \u001b[0;32melif\u001b[0m \u001b[0misinstance\u001b[0m\u001b[0;34m(\u001b[0m\u001b[0mlast\u001b[0m\u001b[0;34m,\u001b[0m \u001b[0mNode\u001b[0m\u001b[0;34m)\u001b[0m\u001b[0;34m:\u001b[0m\u001b[0;34m\u001b[0m\u001b[0;34m\u001b[0m\u001b[0m\n\u001b[0;32m---> 17\u001b[0;31m                     \u001b[0mstack\u001b[0m\u001b[0;34m.\u001b[0m\u001b[0mappend\u001b[0m\u001b[0;34m(\u001b[0m\u001b[0mself\u001b[0m\u001b[0;34m.\u001b[0m\u001b[0m_visit\u001b[0m\u001b[0;34m(\u001b[0m\u001b[0mstack\u001b[0m\u001b[0;34m.\u001b[0m\u001b[0mpop\u001b[0m\u001b[0;34m(\u001b[0m\u001b[0;34m)\u001b[0m\u001b[0;34m)\u001b[0m\u001b[0;34m)\u001b[0m\u001b[0;34m\u001b[0m\u001b[0;34m\u001b[0m\u001b[0m\n\u001b[0m\u001b[1;32m     18\u001b[0m                 \u001b[0;32melse\u001b[0m\u001b[0;34m:\u001b[0m\u001b[0;34m\u001b[0m\u001b[0;34m\u001b[0m\u001b[0m\n\u001b[1;32m     19\u001b[0m                     \u001b[0mlast_result\u001b[0m \u001b[0;34m=\u001b[0m \u001b[0mstack\u001b[0m\u001b[0;34m.\u001b[0m\u001b[0mpop\u001b[0m\u001b[0;34m(\u001b[0m\u001b[0;34m)\u001b[0m\u001b[0;34m\u001b[0m\u001b[0;34m\u001b[0m\u001b[0m\n",
      "\u001b[0;31mRecursionError\u001b[0m: maximum recursion depth exceeded"
     ]
    }
   ],
   "source": [
    "a = Number(0)\n",
    "for n in range(1, 100000):\n",
    "    a = Add(a, Number(n))\n",
    "e = Evaluator()\n",
    "e.visit(a)"
   ]
  },
  {
   "cell_type": "markdown",
   "id": "0e6dd955-36a1-45b8-923a-cd16b4cd3c85",
   "metadata": {},
   "source": [
    "## 生成器实现"
   ]
  },
  {
   "cell_type": "code",
   "execution_count": 131,
   "id": "a100746e-ce38-452d-b53c-2005bd793a82",
   "metadata": {},
   "outputs": [],
   "source": [
    "class Evaluator(NodeVisitor):\n",
    "    def visit_Number(self, node):\n",
    "        return node.value\n",
    "\n",
    "    def visit_Add(self, node):\n",
    "        yield (yield node.left) + (yield node.right)\n",
    "\n",
    "    def visit_Sub(self, node):\n",
    "        yield (yield node.left) - (yield node.right)\n",
    "\n",
    "    def visit_Mul(self, node):\n",
    "        yield (yield node.left) * (yield node.right)\n",
    "\n",
    "    def visit_Div(self, node):\n",
    "        yield (yield node.left) / (yield node.right)\n",
    "\n",
    "    def visit_Negate(self, node):\n",
    "        yield - (yield node.operand)"
   ]
  },
  {
   "cell_type": "code",
   "execution_count": 136,
   "id": "4fd188af-b475-4a6f-a481-bda9ff679683",
   "metadata": {},
   "outputs": [
    {
     "data": {
      "text/plain": [
       "4999950000"
      ]
     },
     "execution_count": 136,
     "metadata": {},
     "output_type": "execute_result"
    }
   ],
   "source": [
    "a = Number(0)\n",
    "for n in range(1, 100000):\n",
    "    a = Add(a, Number(n))\n",
    "e = Evaluator()\n",
    "e.visit(a)"
   ]
  },
  {
   "cell_type": "code",
   "execution_count": 145,
   "id": "42e3b896-fea6-46f1-9846-8e1abd2f757c",
   "metadata": {},
   "outputs": [
    {
     "data": {
      "text/plain": [
       "0.6"
      ]
     },
     "execution_count": 145,
     "metadata": {},
     "output_type": "execute_result"
    }
   ],
   "source": [
    "e = Evaluator()\n",
    "e.visit(t4)"
   ]
  },
  {
   "cell_type": "code",
   "execution_count": 146,
   "id": "37f7e0b2-7419-4f6f-a2fb-120d7c70fac6",
   "metadata": {},
   "outputs": [
    {
     "data": {
      "text/plain": [
       "(1, 2, 3)"
      ]
     },
     "execution_count": 146,
     "metadata": {},
     "output_type": "execute_result"
    }
   ],
   "source": [
    "def test():\n",
    "    yield (yield 1) + (yield 2)\n",
    "a = test()\n",
    "a.send(None),a.send(1),a.send(2)"
   ]
  },
  {
   "cell_type": "markdown",
   "id": "375ca120-3252-4751-80d4-e5cc0e7a8903",
   "metadata": {},
   "source": [
    "# 循环引用数据结构的内存管理"
   ]
  },
  {
   "cell_type": "markdown",
   "id": "16c37d01-b323-4f1c-8438-dd398af55aa0",
   "metadata": {},
   "source": [
    "## `weakref`弱引用"
   ]
  },
  {
   "cell_type": "code",
   "execution_count": 147,
   "id": "5d30fc87-66c2-4ece-9880-6c78ecca7f3d",
   "metadata": {},
   "outputs": [],
   "source": [
    "import weakref\n",
    "\n",
    "class Node:\n",
    "    def __init__(self, value):\n",
    "        self.value = value\n",
    "        self._parent = None\n",
    "        self.children = []\n",
    "\n",
    "    def __repr__(self):\n",
    "        return 'Node({!r:})'.format(self.value)\n",
    "\n",
    "    # property that manages the parent as a weak-reference\n",
    "    @property\n",
    "    def parent(self):\n",
    "        return None if self._parent is None else self._parent()\n",
    "\n",
    "    @parent.setter\n",
    "    def parent(self, node):\n",
    "        self._parent = weakref.ref(node)\n",
    "\n",
    "    def add_child(self, child):\n",
    "        self.children.append(child)\n",
    "        child.parent = self"
   ]
  },
  {
   "cell_type": "code",
   "execution_count": 151,
   "id": "c151bf5e-30d8-47b0-9125-fbdb9fde1163",
   "metadata": {},
   "outputs": [
    {
     "name": "stdout",
     "output_type": "stream",
     "text": [
      "Node('parent')\n",
      "None\n"
     ]
    }
   ],
   "source": [
    "root  = Node('parent')\n",
    "c1 = Node('child')\n",
    "root.add_child(c1)\n",
    "print(c1.parent)\n",
    "del root\n",
    "print(c1.parent)"
   ]
  },
  {
   "cell_type": "code",
   "execution_count": 154,
   "id": "086cfe67-a860-4e3e-9b30-9d0f8cb3f0cb",
   "metadata": {},
   "outputs": [
    {
     "name": "stdout",
     "output_type": "stream",
     "text": [
      "[Node('child')]\n",
      "[Node('child')]\n"
     ]
    },
    {
     "data": {
      "text/plain": [
       "'child'"
      ]
     },
     "execution_count": 154,
     "metadata": {},
     "output_type": "execute_result"
    }
   ],
   "source": [
    "root  = Node('parent')\n",
    "c1 = Node('child')\n",
    "root.add_child(c1)\n",
    "print(root.children)\n",
    "del c1\n",
    "print(root.children)"
   ]
  },
  {
   "cell_type": "markdown",
   "id": "c2018e11-89d2-453e-8bfe-48771edb8c13",
   "metadata": {},
   "source": [
    "## 正常的垃圾回收机制不能回收循环引用的数据结构"
   ]
  },
  {
   "cell_type": "code",
   "execution_count": 156,
   "id": "b85c15c6-9312-4297-856c-e97a370f30ca",
   "metadata": {},
   "outputs": [],
   "source": [
    "# Class just to illustrate when deletion occurs\n",
    "class Data:\n",
    "    def __del__(self):\n",
    "        print('Data.__del__')\n",
    "\n",
    "# Node class involving a cycle\n",
    "class Node:\n",
    "    def __init__(self):\n",
    "        self.data = Data()\n",
    "        self.parent = None\n",
    "        self.children = []\n",
    "\n",
    "    def add_child(self, child):\n",
    "        self.children.append(child)\n",
    "        child.parent = self"
   ]
  },
  {
   "cell_type": "code",
   "execution_count": 157,
   "id": "db396ead-a088-4c3d-968d-8c141f77df65",
   "metadata": {},
   "outputs": [
    {
     "name": "stdout",
     "output_type": "stream",
     "text": [
      "Data.__del__\n",
      "Data.__del__\n"
     ]
    }
   ],
   "source": [
    "a = Data()\n",
    "del a\n",
    "a = Node()\n",
    "del a\n",
    "a = Node()\n",
    "a.add_child(Node())\n",
    "del a"
   ]
  },
  {
   "cell_type": "code",
   "execution_count": 158,
   "id": "02dc9177-d04e-480b-9905-c21d4aa0bb3b",
   "metadata": {},
   "outputs": [
    {
     "data": {
      "text/plain": [
       "311628"
      ]
     },
     "execution_count": 158,
     "metadata": {},
     "output_type": "execute_result"
    }
   ],
   "source": [
    "import gc\n",
    "gc.collect()"
   ]
  },
  {
   "cell_type": "markdown",
   "id": "eb0af929-38ad-4438-b896-bd419b0a752d",
   "metadata": {},
   "source": [
    "## 不要在循环引用的对象中定义__del__"
   ]
  },
  {
   "cell_type": "markdown",
   "id": "6b96604e-dd17-4a41-82da-a938bfd00e6e",
   "metadata": {},
   "source": [
    "这种情况下，垃圾回收永远都不会去回收这个对象的，还会导致内存泄露"
   ]
  },
  {
   "cell_type": "markdown",
   "id": "185f734f-729b-4869-aa12-eb4729cba67c",
   "metadata": {},
   "source": [
    "# 让类支持比较操作"
   ]
  },
  {
   "cell_type": "markdown",
   "id": "d2090498-f782-4a2c-ab65-029805e6858f",
   "metadata": {},
   "source": [
    "## `functools.total_ordering`"
   ]
  },
  {
   "cell_type": "markdown",
   "id": "d87bb98a-3421-4e89-a094-73b0e47edbb7",
   "metadata": {},
   "source": [
    "使用它来装饰一个类，你只需定义一个 `__eq__()` 方法， 外加其他方法(`__lt__`, `__le__`, `__gt__`, or `__ge__`)中的一个即可"
   ]
  },
  {
   "cell_type": "code",
   "execution_count": 161,
   "id": "f4d89cde-6097-4024-896e-2b23f0220475",
   "metadata": {},
   "outputs": [],
   "source": [
    "from functools import total_ordering\n",
    "\n",
    "class Room:\n",
    "    def __init__(self, name, length, width):\n",
    "        self.name = name\n",
    "        self.length = length\n",
    "        self.width = width\n",
    "        self.square_feet = self.length * self.width\n",
    "\n",
    "@total_ordering\n",
    "class House:\n",
    "    def __init__(self, name, style):\n",
    "        self.name = name\n",
    "        self.style = style\n",
    "        self.rooms = list()\n",
    "\n",
    "    @property\n",
    "    def living_space_footage(self):\n",
    "        return sum(r.square_feet for r in self.rooms)\n",
    "\n",
    "    def add_room(self, room):\n",
    "        self.rooms.append(room)\n",
    "\n",
    "    def __str__(self):\n",
    "        return '{}: {} square foot {}'.format(self.name,\n",
    "                self.living_space_footage,\n",
    "                self.style)\n",
    "\n",
    "    def __eq__(self, other):\n",
    "        return self.living_space_footage == other.living_space_footage\n",
    "\n",
    "    def __lt__(self, other):\n",
    "        return self.living_space_footage < other.living_space_footage"
   ]
  },
  {
   "cell_type": "code",
   "execution_count": 162,
   "id": "0cc83c31-e8fb-4574-8c50-319770a9ad96",
   "metadata": {},
   "outputs": [],
   "source": [
    "class House:\n",
    "    def __eq__(self, other):\n",
    "        pass\n",
    "    def __lt__(self, other):\n",
    "        pass\n",
    "    # Methods created by @total_ordering\n",
    "    __le__ = lambda self, other: self < other or self == other\n",
    "    __gt__ = lambda self, other: not (self < other or self == other)\n",
    "    __ge__ = lambda self, other: not (self < other)\n",
    "    __ne__ = lambda self, other: not self == other"
   ]
  },
  {
   "cell_type": "markdown",
   "id": "244b3ca0-ad72-4cb5-aede-e848a5ee2188",
   "metadata": {},
   "source": [
    "# 创建缓存实例"
   ]
  },
  {
   "cell_type": "code",
   "execution_count": 163,
   "id": "654c54cb-45c2-48a0-867e-58b10ff9bf77",
   "metadata": {},
   "outputs": [],
   "source": [
    "# The class in question\n",
    "class Spam:\n",
    "    def __init__(self, name):\n",
    "        self.name = name\n",
    "\n",
    "# Caching support\n",
    "import weakref\n",
    "_spam_cache = weakref.WeakValueDictionary()\n",
    "def get_spam(name):\n",
    "    if name not in _spam_cache:\n",
    "        s = Spam(name)\n",
    "        _spam_cache[name] = s\n",
    "    else:\n",
    "        s = _spam_cache[name]\n",
    "    return s"
   ]
  },
  {
   "cell_type": "code",
   "execution_count": 164,
   "id": "d3d503b8-8cd9-483d-bd9d-1b122230ab47",
   "metadata": {},
   "outputs": [],
   "source": [
    "import weakref\n",
    "\n",
    "class CachedSpamManager:\n",
    "    def __init__(self):\n",
    "        self._cache = weakref.WeakValueDictionary()\n",
    "\n",
    "    def get_spam(self, name):\n",
    "        if name not in self._cache:\n",
    "            s = Spam(name)\n",
    "            self._cache[name] = s\n",
    "        else:\n",
    "            s = self._cache[name]\n",
    "        return s\n",
    "\n",
    "    def clear(self):\n",
    "            self._cache.clear()\n",
    "\n",
    "class Spam:\n",
    "    manager = CachedSpamManager()\n",
    "    def __init__(self, name):\n",
    "        self.name = name\n",
    "\n",
    "def get_spam(name):\n",
    "    return Spam.manager.get_spam(name)"
   ]
  },
  {
   "cell_type": "code",
   "execution_count": null,
   "id": "f3570e05-2c5b-4f01-9621-2675da02cc7d",
   "metadata": {},
   "outputs": [],
   "source": [
    "# ------------------------最后的修正方案------------------------\n",
    "class CachedSpamManager2:\n",
    "    def __init__(self):\n",
    "        self._cache = weakref.WeakValueDictionary()\n",
    "\n",
    "    def get_spam(self, name):\n",
    "        if name not in self._cache:\n",
    "            temp = Spam3._new(name)  # Modified creation\n",
    "            self._cache[name] = temp\n",
    "        else:\n",
    "            temp = self._cache[name]\n",
    "        return temp\n",
    "\n",
    "    def clear(self):\n",
    "            self._cache.clear()\n",
    "\n",
    "class Spam3:\n",
    "    def __init__(self, *args, **kwargs):\n",
    "        raise RuntimeError(\"Can't instantiate directly\")\n",
    "\n",
    "    # Alternate constructor\n",
    "    @classmethod\n",
    "    def _new(cls, name):\n",
    "        self = cls.__new__(cls)\n",
    "        self.name = name\n",
    "        return self\n"
   ]
  }
 ],
 "metadata": {
  "kernelspec": {
   "display_name": "Python 3 (ipykernel)",
   "language": "python",
   "name": "python3"
  },
  "language_info": {
   "codemirror_mode": {
    "name": "ipython",
    "version": 3
   },
   "file_extension": ".py",
   "mimetype": "text/x-python",
   "name": "python",
   "nbconvert_exporter": "python",
   "pygments_lexer": "ipython3",
   "version": "3.8.10"
  },
  "toc-autonumbering": true,
  "toc-showcode": false,
  "toc-showmarkdowntxt": false,
  "toc-showtags": false
 },
 "nbformat": 4,
 "nbformat_minor": 5
}
