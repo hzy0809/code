{
 "cells": [
  {
   "cell_type": "markdown",
   "id": "0c16cffd-18c8-42a2-8e29-399e71a552a3",
   "metadata": {},
   "source": [
    "# 启动和停止线程"
   ]
  },
  {
   "cell_type": "markdown",
   "id": "d593a045-78d7-4952-b43d-0ff14edc1523",
   "metadata": {},
   "source": [
    "## 启动、判断和等待"
   ]
  },
  {
   "cell_type": "code",
   "execution_count": 1,
   "id": "e43fd7d7-dd28-4ae7-8608-5f53556b9b9c",
   "metadata": {},
   "outputs": [
    {
     "name": "stdout",
     "output_type": "stream",
     "text": [
      "T-minus 10\n"
     ]
    }
   ],
   "source": [
    "import time\n",
    "def countdown(n):\n",
    "    while n > 0:\n",
    "        print('T-minus', n)\n",
    "        n -= 1\n",
    "        time.sleep(5)\n",
    "\n",
    "# Create and launch a thread\n",
    "from threading import Thread\n",
    "t = Thread(target=countdown, args=(10,))\n",
    "t.start()"
   ]
  },
  {
   "cell_type": "code",
   "execution_count": 2,
   "id": "6dd7e41f-253e-4954-9733-f45f6cfa7c0f",
   "metadata": {},
   "outputs": [
    {
     "name": "stdout",
     "output_type": "stream",
     "text": [
      "Still running\n"
     ]
    }
   ],
   "source": [
    "# 判断线程是否还在执行\n",
    "if t.is_alive():\n",
    "    print('Still running')\n",
    "else:\n",
    "    print('Completed')"
   ]
  },
  {
   "cell_type": "code",
   "execution_count": 3,
   "id": "3f4a8f3a-9c6e-47fe-ac71-fef2cc927e89",
   "metadata": {},
   "outputs": [
    {
     "name": "stdout",
     "output_type": "stream",
     "text": [
      "T-minus 9\n",
      "T-minus 8\n",
      "T-minus 7\n",
      "T-minus 6\n",
      "T-minus 5\n",
      "T-minus 4\n",
      "T-minus 3\n",
      "T-minus 2\n",
      "T-minus 1\n"
     ]
    }
   ],
   "source": [
    "t.join()"
   ]
  },
  {
   "cell_type": "markdown",
   "id": "ae7ddfe7-0092-47d4-b754-d927021c16df",
   "metadata": {
    "slideshow": {
     "slide_type": "slide"
    },
    "tags": []
   },
   "source": [
    "## 后台线程"
   ]
  },
  {
   "cell_type": "code",
   "execution_count": 4,
   "id": "390d7044-9059-4a06-9362-b3b036e23443",
   "metadata": {
    "slideshow": {
     "slide_type": "slide"
    },
    "tags": []
   },
   "outputs": [
    {
     "name": "stdout",
     "output_type": "stream",
     "text": [
      "T-minus 10\n"
     ]
    }
   ],
   "source": [
    "t = Thread(target=countdown, args=(10,), daemon=True)\n",
    "t.start()"
   ]
  },
  {
   "cell_type": "markdown",
   "id": "11edf106-2d79-4e43-a727-26a2426735e1",
   "metadata": {},
   "source": [
    "后台线程无法等待，不过，这些线程会在主线程终止时自动销毁。"
   ]
  },
  {
   "cell_type": "markdown",
   "id": "8749b98a-d0a3-4896-89ba-27ecca63fb9f",
   "metadata": {},
   "source": [
    "## 线程必须通过编程在某个特定点轮询来退出"
   ]
  },
  {
   "cell_type": "code",
   "execution_count": 5,
   "id": "d29a34f7-f77f-4791-8c37-c65c281fbaed",
   "metadata": {},
   "outputs": [
    {
     "name": "stdout",
     "output_type": "stream",
     "text": [
      "T-minus 10\n",
      "T-minus 9\n"
     ]
    }
   ],
   "source": [
    "class CountdownTask:\n",
    "    def __init__(self):\n",
    "        self._running = True\n",
    "\n",
    "    def terminate(self):\n",
    "        self._running = False\n",
    "\n",
    "    def run(self, n):\n",
    "        while self._running and n > 0:\n",
    "            print('T-minus', n)\n",
    "            n -= 1\n",
    "            time.sleep(5)\n",
    "\n",
    "c = CountdownTask()\n",
    "t = Thread(target=c.run, args=(10,))\n",
    "t.start()\n",
    "c.terminate() # Signal termination\n",
    "t.join()      # Wait for actual termination (if needed)"
   ]
  },
  {
   "cell_type": "markdown",
   "id": "1136a2b0-5cd7-4b04-94a4-c57cf5551ccf",
   "metadata": {},
   "source": [
    "## 超时循环来操作线程(I/O操作)"
   ]
  },
  {
   "cell_type": "code",
   "execution_count": 6,
   "id": "d7cb3025-8edc-41b7-bf85-b63d12d86bbc",
   "metadata": {},
   "outputs": [],
   "source": [
    "class IOTask:\n",
    "    def __init__(self):\n",
    "        self._running = True\n",
    "    \n",
    "    def terminate(self):\n",
    "        self._running = False\n",
    "\n",
    "    def run(self, sock):\n",
    "        # sock is a socket\n",
    "        sock.settimeout(5)        # Set timeout period\n",
    "        while self._running:\n",
    "            # Perform a blocking I/O operation w/ timeout\n",
    "            try:\n",
    "                data = sock.recv(8192)\n",
    "                break\n",
    "            except socket.timeout:\n",
    "                continue\n",
    "            # Continued processing\n",
    "            ...\n",
    "        # Terminated\n",
    "        return"
   ]
  },
  {
   "cell_type": "markdown",
   "id": "00ef90d1-7c89-4d13-a8a5-9d24efcbee7b",
   "metadata": {},
   "source": [
    "由于全局解释锁（`GIL`）的原因，`Python` 的线程被限制到同一时刻只允许一个线程执行这样一个执行模型。所以，`Python` 的线程更适用于处理I/O和其他需要并发执行的阻塞操作（比如等待`I/O`、等待从数据库获取数据等等），而不是需要多处理器并行的计算密集型任务。"
   ]
  },
  {
   "cell_type": "markdown",
   "id": "b7713c95-d979-4cea-9bda-8cc6e65f2808",
   "metadata": {},
   "source": [
    "## 继承 Thread 类来实现的线程"
   ]
  },
  {
   "cell_type": "code",
   "execution_count": 7,
   "id": "718ec876-df88-4875-99fe-e5497e116c02",
   "metadata": {},
   "outputs": [
    {
     "name": "stdout",
     "output_type": "stream",
     "text": [
      "T-minus 5\n"
     ]
    }
   ],
   "source": [
    "from threading import Thread\n",
    "\n",
    "class CountdownThread(Thread):\n",
    "    def __init__(self, n):\n",
    "        super().__init__()\n",
    "        self.n = n\n",
    "    def run(self):\n",
    "        while self.n > 0:\n",
    "\n",
    "            print('T-minus', self.n)\n",
    "            self.n -= 1\n",
    "            time.sleep(5)\n",
    "\n",
    "c = CountdownThread(5)\n",
    "c.start()"
   ]
  },
  {
   "cell_type": "markdown",
   "id": "fc45fc6f-b78a-4396-9f50-3d5a956beee4",
   "metadata": {},
   "source": [
    "上面的代码依赖于`threading`库只能在线程上下文中使用"
   ]
  },
  {
   "cell_type": "code",
   "execution_count": 8,
   "id": "9202cd35-4a42-4974-8716-f708adfd89d1",
   "metadata": {},
   "outputs": [],
   "source": [
    "import multiprocessing\n",
    "\n",
    "def test():\n",
    "\n",
    "    c = CountdownTask()\n",
    "    p = multiprocessing.Process(target=c.run,args=(5,))\n",
    "    p.start()"
   ]
  },
  {
   "cell_type": "markdown",
   "id": "7e43d005-3910-4e75-a748-11ba2003e678",
   "metadata": {},
   "source": [
    "# 判断线程是否已经启动"
   ]
  },
  {
   "cell_type": "markdown",
   "id": "fdb1fa81-c813-4391-b89c-2217eab58da4",
   "metadata": {},
   "source": [
    "## event对象控制线程启动"
   ]
  },
  {
   "cell_type": "markdown",
   "id": "a6c82b5f-e678-4cb8-bc4a-09f60bb7da1d",
   "metadata": {},
   "source": [
    "`Event` 对象包含一个可由线程设置的信号标志，它允许线程等待某些事件的发生。  \n",
    "在初始情况下，`event` 对象中的信号标志被设置为假。  \n",
    "如果有线程等待一个 `event` 对象，而这个 `event` 对象的标志为假，那么这个线程将会被一直阻塞直至该标志为真。\n",
    "一个线程如果将一个 `event` 对象的信号标志设置为真，它将唤醒所有等待这个 `event` 对象的线程。如果一个线程等待一个已经被设置为真的 `event` 对象，那么它将忽略这个事件，继续执行。"
   ]
  },
  {
   "cell_type": "code",
   "execution_count": 9,
   "id": "9e915a9e-f544-4d05-821f-08e98e58a16b",
   "metadata": {},
   "outputs": [
    {
     "name": "stdout",
     "output_type": "stream",
     "text": [
      "Launching countdown\n",
      "countdown starting\n",
      "T-minus 10\n",
      "countdown is running\n"
     ]
    }
   ],
   "source": [
    "from threading import Thread, Event\n",
    "import time\n",
    "\n",
    "# Code to execute in an independent thread\n",
    "def countdown(n, started_evt):\n",
    "    print('countdown starting')\n",
    "    started_evt.set()\n",
    "    while n > 0:\n",
    "        print('T-minus', n)\n",
    "        n -= 1\n",
    "        time.sleep(5)\n",
    "\n",
    "# Create the event object that will be used to signal startup\n",
    "started_evt = Event()\n",
    "\n",
    "# Launch the thread and pass the startup event\n",
    "print('Launching countdown')\n",
    "t = Thread(target=countdown, args=(10,started_evt))\n",
    "t.start()\n",
    "\n",
    "# Wait for the thread to start\n",
    "started_evt.wait()\n",
    "print('countdown is running')"
   ]
  },
  {
   "cell_type": "markdown",
   "id": "050ff580-4284-44de-bf0d-efb1e8fef9c7",
   "metadata": {},
   "source": [
    "“countdown is running” 总是显示在 “countdown starting” 之后显示。这是由于使用 `event` 来协调线程，使得主线程要等到 `countdown()` 函数输出启动信息后，才能继续执行。"
   ]
  },
  {
   "cell_type": "markdown",
   "id": "5f655176-478f-4fc9-86dd-5569a910e073",
   "metadata": {},
   "source": [
    "## 使用 Condition 对象实现一个周期定时器"
   ]
  },
  {
   "cell_type": "code",
   "execution_count": 10,
   "id": "f2755d23-25a5-4742-acfc-3aa17fd9e46c",
   "metadata": {},
   "outputs": [],
   "source": [
    "import threading\n",
    "import time\n",
    "\n",
    "class PeriodicTimer:\n",
    "    def __init__(self, interval):\n",
    "        self._interval = interval\n",
    "        self._flag = 0\n",
    "        self._cv = threading.Condition()\n",
    "\n",
    "    def start(self):\n",
    "        t = threading.Thread(target=self.run)\n",
    "        t.daemon = True\n",
    "\n",
    "        t.start()\n",
    "\n",
    "    def run(self):\n",
    "        '''\n",
    "        Run the timer and notify waiting threads after each interval\n",
    "        '''\n",
    "        while True:\n",
    "            time.sleep(self._interval)\n",
    "            with self._cv:\n",
    "                 self._flag ^= 1\n",
    "                 self._cv.notify_all()\n",
    "\n",
    "    def wait_for_tick(self):\n",
    "        '''\n",
    "        Wait for the next tick of the timer\n",
    "        '''\n",
    "        with self._cv:\n",
    "#             print(self._flag)\n",
    "            last_flag = self._flag\n",
    "            while last_flag == self._flag:\n",
    "                self._cv.wait()\n",
    "\n",
    "# Example use of the timer\n",
    "ptimer = PeriodicTimer(5)\n",
    "ptimer.start()\n",
    "\n",
    "# Two threads that synchronize on the timer\n",
    "def countdown(nticks):\n",
    "    while nticks > 0:\n",
    "        ptimer.wait_for_tick()\n",
    "        print('T-minus', nticks)\n",
    "        nticks -= 1\n",
    "\n",
    "def countup(last):\n",
    "    n = 0\n",
    "    while n < last:\n",
    "        ptimer.wait_for_tick()\n",
    "        print('Counting', n)\n",
    "        n += 1\n",
    "\n",
    "threading.Thread(target=countdown, args=(10,)).start()\n",
    "threading.Thread(target=countup, args=(5,)).start()"
   ]
  },
  {
   "cell_type": "markdown",
   "id": "ca127711-7a25-42a8-8522-40346408e04a",
   "metadata": {},
   "source": [
    "`event`对象的一个重要特点是当它被设置为真时会唤醒所有等待它的线程。如果你只想唤醒单个线程，最好是使用信号量或者 `Condition` 对象来替代。"
   ]
  },
  {
   "cell_type": "code",
   "execution_count": 11,
   "id": "35fd61c8-2fe5-4f06-9694-41f690fd0e37",
   "metadata": {},
   "outputs": [],
   "source": [
    "# Worker thread\n",
    "def worker(n, sema):\n",
    "    # Wait to be signaled\n",
    "    sema.acquire()\n",
    "\n",
    "    # Do some work\n",
    "    print('Working %s' % n)\n",
    "\n",
    "# Create some threads\n",
    "sema = threading.Semaphore(0)\n",
    "nworkers = 10\n",
    "for n in range(nworkers):\n",
    "    t = threading.Thread(target=worker, args=(n, sema,))\n",
    "    t.start()"
   ]
  },
  {
   "cell_type": "code",
   "execution_count": 12,
   "id": "0b4e8906-b72b-4c3c-8d90-bcd0c3cae20c",
   "metadata": {},
   "outputs": [
    {
     "name": "stdout",
     "output_type": "stream",
     "text": [
      "Working 0\n"
     ]
    }
   ],
   "source": [
    "sema.release()"
   ]
  },
  {
   "cell_type": "code",
   "execution_count": 13,
   "id": "052e551a-fd73-4555-84c3-a0adfc9665a4",
   "metadata": {},
   "outputs": [
    {
     "name": "stdout",
     "output_type": "stream",
     "text": [
      "Working 1\n"
     ]
    }
   ],
   "source": [
    "sema.release()"
   ]
  },
  {
   "cell_type": "code",
   "execution_count": 14,
   "id": "63648a00-e3f4-4f54-8d8c-7b36cfbcbc4f",
   "metadata": {},
   "outputs": [
    {
     "name": "stdout",
     "output_type": "stream",
     "text": [
      "Working 2Working 4Working 5Working 8Working 7Working 9Working 3Working 6\n",
      "\n",
      "\n",
      "\n",
      "\n",
      "\n",
      "\n",
      "\n"
     ]
    }
   ],
   "source": [
    "for i in range(8):\n",
    "    sema.release()"
   ]
  },
  {
   "cell_type": "markdown",
   "id": "5db72396-e901-48b5-92bc-0ab9a679112f",
   "metadata": {},
   "source": [
    "# 线程间通信"
   ]
  },
  {
   "cell_type": "markdown",
   "id": "2ea00bf9-f5c0-4453-8b81-ddab790b2996",
   "metadata": {},
   "source": [
    "## 创建一个被多个线程共享的 `Queue` 对象，这些线程通过使用 `put()` 和 `get()` 操作来向队列中添加或者删除元素。"
   ]
  },
  {
   "cell_type": "code",
   "execution_count": 15,
   "id": "86121354-104b-4993-8a94-4cec495b98af",
   "metadata": {},
   "outputs": [
    {
     "name": "stdout",
     "output_type": "stream",
     "text": [
      "1\n",
      "2\n",
      "3\n",
      "over\n"
     ]
    }
   ],
   "source": [
    "from queue import Queue\n",
    "from threading import Thread\n",
    "import time\n",
    "\n",
    "# Object that signals shutdown\n",
    "_sentinel = object()\n",
    "# A thread that produces data\n",
    "def producer(out_q):\n",
    "    # Produce some data\n",
    "    for i in [1,2,3]:\n",
    "        out_q.put(i)\n",
    "    # Put the sentinel on the queue to indicate completion\n",
    "    out_q.put(_sentinel)\n",
    "        \n",
    "# A thread that consumes data\n",
    "def consumer(in_q):\n",
    "    while True:\n",
    "        # Get some data\n",
    "        time.sleep(1)\n",
    "        data = in_q.get()\n",
    "        # Check for termination\n",
    "        if data is not _sentinel:\n",
    "            # Process the data\n",
    "            print(data)\n",
    "            in_q.task_done()\n",
    "        else:\n",
    "            print('over')\n",
    "            in_q.task_done()\n",
    "            break\n",
    "\n",
    "\n",
    "# Create the shared queue and launch both threads\n",
    "q = Queue()\n",
    "t1 = Thread(target=consumer, args=(q,))\n",
    "t2 = Thread(target=producer, args=(q,))\n",
    "t1.start()\n",
    "t2.start()\n",
    "q.join()"
   ]
  },
  {
   "cell_type": "markdown",
   "id": "c95f8bef-6d60-40cb-8d06-3984441e2996",
   "metadata": {},
   "source": [
    "队列中放置一个特殊的值，当消费者读到这个值的时候，终止执行。  \n",
    "The count of unfinished tasks goes up whenever an item is added to the queue. The count goes down whenever a consumer thread calls task_done() to indicate that the item was retrieved and all work on it is complete. When the count of unfinished tasks drops to zero, join() unblocks."
   ]
  },
  {
   "cell_type": "markdown",
   "id": "4864ff3b-00b6-491f-9d86-0e50444fdc8d",
   "metadata": {},
   "source": [
    "## 通过创建数据结构并添加所需的锁和同步机制来实现线程间通信。最常见的方法是使用 `Condition` 变量来包装数据结构。"
   ]
  },
  {
   "cell_type": "code",
   "execution_count": 16,
   "id": "5f4e3a62-e5f3-4858-b769-e791233d51e6",
   "metadata": {},
   "outputs": [],
   "source": [
    "import heapq\n",
    "import threading\n",
    "\n",
    "class PriorityQueue:\n",
    "    def __init__(self):\n",
    "        self._queue = []\n",
    "        self._count = 0\n",
    "        self._cv = threading.Condition()\n",
    "    def put(self, item, priority):\n",
    "        with self._cv:\n",
    "            heapq.heappush(self._queue, (-priority, self._count, item))\n",
    "            self._count += 1\n",
    "            self._cv.notify()\n",
    "\n",
    "    def get(self):\n",
    "        with self._cv:\n",
    "            while len(self._queue) == 0:\n",
    "                self._cv.wait()\n",
    "            return heapq.heappop(self._queue)[-1]"
   ]
  },
  {
   "cell_type": "markdown",
   "id": "a5a886a1-1b3b-4499-84f3-d2b1a59e98b6",
   "metadata": {},
   "source": [
    "使用队列来进行线程间通信是一个单向、不确定的过程。通常情况下，你没有办法知道接收数据的线程是什么时候接收到的数据并开始工作的"
   ]
  },
  {
   "cell_type": "markdown",
   "id": "7565593c-33f1-4d53-b71f-f6dfcdef8e8f",
   "metadata": {},
   "source": [
    "## “生产者”通过Event对象来监测处理的过程"
   ]
  },
  {
   "cell_type": "code",
   "execution_count": 17,
   "id": "3d542c16-4de2-4a94-927a-c07525b7d678",
   "metadata": {},
   "outputs": [],
   "source": [
    "from queue import Queue\n",
    "from threading import Thread, Event\n",
    "\n",
    "# A thread that produces data\n",
    "def producer(out_q):\n",
    "    while running:\n",
    "        # Produce some data\n",
    "        ...\n",
    "        # Make an (data, event) pair and hand it to the consumer\n",
    "        evt = Event()\n",
    "        out_q.put((data, evt))\n",
    "        ...\n",
    "        # Wait for the consumer to process the item\n",
    "        evt.wait()\n",
    "\n",
    "# A thread that consumes data\n",
    "def consumer(in_q):\n",
    "    while True:\n",
    "        # Get some data\n",
    "        data, evt = in_q.get()\n",
    "        # Process the data\n",
    "        ...\n",
    "        # Indicate completion\n",
    "        evt.set()"
   ]
  },
  {
   "cell_type": "markdown",
   "id": "0c16ef24-499d-4539-a165-9ac150374712",
   "metadata": {},
   "source": [
    "使用线程队列有一个要注意的问题是，向队列中添加数据项时并不会复制此数据项，线程间通信实际上是在线程间传递对象引用。如果你担心对象的共享状态，那你最好只传递不可修改的数据结构（如：整型、字符串或者元组）或者一个对象的深拷贝。"
   ]
  },
  {
   "cell_type": "markdown",
   "id": "ac0b7ba7-9c64-419f-8fd1-91c7fe6fe66e",
   "metadata": {},
   "source": [
    "## Queue"
   ]
  },
  {
   "cell_type": "markdown",
   "id": "83eb7d9c-16ba-490e-9f36-9f7a823f4380",
   "metadata": {},
   "source": [
    "`get()` 和 `put()` 方法都支持非阻塞方式和设定超时"
   ]
  },
  {
   "cell_type": "markdown",
   "id": "8099e339-bee3-41d4-8ef9-ec6686c14f43",
   "metadata": {},
   "source": [
    "```python\n",
    "import queue\n",
    "q = queue.Queue()\n",
    "\n",
    "try:\n",
    "    data = q.get(block=False)\n",
    "except queue.Empty:\n",
    "    ...\n",
    "\n",
    "try:\n",
    "    q.put(item, block=False)\n",
    "except queue.Full:\n",
    "    ...\n",
    "\n",
    "try:\n",
    "    data = q.get(timeout=5.0)\n",
    "except queue.Empty:\n",
    "    ...\n",
    "```"
   ]
  },
  {
   "cell_type": "markdown",
   "id": "f57ad6aa-54a0-4909-9d5e-8110a260defd",
   "metadata": {},
   "source": [
    "一个非阻塞的 `put()` 方法和一个固定大小的队列一起使用，这样当队列已满时就可以执行不同的代码。"
   ]
  },
  {
   "cell_type": "code",
   "execution_count": 18,
   "id": "25976bd1-c414-4b96-b6a0-9ea1b575d4ff",
   "metadata": {},
   "outputs": [],
   "source": [
    "def producer(q):\n",
    "    ...\n",
    "    try:\n",
    "        q.put(item, block=False)\n",
    "    except queue.Full:\n",
    "        log.warning('queued item %r discarded!', item)"
   ]
  },
  {
   "cell_type": "markdown",
   "id": "4e935676-6f56-44d7-ab20-ce6a7493a7b6",
   "metadata": {},
   "source": [
    "超时自动终止以便检查终止标志"
   ]
  },
  {
   "cell_type": "code",
   "execution_count": 19,
   "id": "032fd5aa-c3f7-4f4f-9f9d-0e85821884bb",
   "metadata": {},
   "outputs": [],
   "source": [
    "_running = True\n",
    "\n",
    "def consumer(q):\n",
    "    while _running:\n",
    "        try:\n",
    "            item = q.get(timeout=5.0)\n",
    "            # Process item\n",
    "            ...\n",
    "        except queue.Empty:\n",
    "            pass"
   ]
  },
  {
   "cell_type": "markdown",
   "id": "1e47b6aa-210d-4dec-8ba2-14f248b9d8e0",
   "metadata": {},
   "source": [
    "`q.qsize()` ， `q.full()` ， `q.empty()` 等实用方法可以获取一个队列的当前大小和状态。但要注意，这些方法都不是线程安全的。可能你对一个队列使用 `empty()` 判断出这个队列为空，但同时另外一个线程可能已经向这个队列中插入一个数据项。"
   ]
  },
  {
   "cell_type": "markdown",
   "id": "5140db09-01eb-4f6f-9aa8-27962e94c1ce",
   "metadata": {},
   "source": [
    "# 给关键部分加锁"
   ]
  },
  {
   "cell_type": "markdown",
   "id": "c977bdfd-8cf7-4f86-92c1-a3b45e0d0817",
   "metadata": {},
   "source": [
    "## 对多线程程序中的临界区加锁以避免竞争条件"
   ]
  },
  {
   "cell_type": "code",
   "execution_count": 20,
   "id": "9ece40d4-4ae3-4fed-bbb8-45c9a937016d",
   "metadata": {},
   "outputs": [],
   "source": [
    "import threading\n",
    "\n",
    "class SharedCounter:\n",
    "    '''\n",
    "    A counter object that can be shared by multiple threads.\n",
    "    '''\n",
    "    def __init__(self, initial_value = 0):\n",
    "        self._value = initial_value\n",
    "        self._value_lock = threading.Lock()\n",
    "\n",
    "    def incr(self,delta=1):\n",
    "        '''\n",
    "        Increment the counter with locking\n",
    "        '''\n",
    "        with self._value_lock:\n",
    "             self._value += delta\n",
    "\n",
    "    def decr(self,delta=1):\n",
    "        '''\n",
    "        Decrement the counter with locking\n",
    "        '''\n",
    "        with self._value_lock:\n",
    "             self._value -= delta\n"
   ]
  },
  {
   "cell_type": "code",
   "execution_count": 21,
   "id": "ac5eef4d-6dc9-4171-b33e-1757b09d89dc",
   "metadata": {},
   "outputs": [],
   "source": [
    "import threading\n",
    "\n",
    "class SharedCounter:\n",
    "    '''\n",
    "    A counter object that can be shared by multiple threads.\n",
    "    '''\n",
    "    def __init__(self, initial_value = 0):\n",
    "        self._value = initial_value\n",
    "        self._value_lock = threading.Lock()\n",
    "\n",
    "    def incr(self,delta=1):\n",
    "        '''\n",
    "        Increment the counter with locking\n",
    "        '''\n",
    "        self._value_lock.acquire()\n",
    "        self._value += delta\n",
    "        self._value_lock.release()\n",
    "\n",
    "    def decr(self,delta=1):\n",
    "        '''\n",
    "        Decrement the counter with locking\n",
    "        '''\n",
    "        self._value_lock.acquire()\n",
    "        self._value -= delta\n",
    "        self._value_lock.release()"
   ]
  },
  {
   "cell_type": "markdown",
   "id": "e1d75708-002a-4e63-9fef-ec9c7e438512",
   "metadata": {},
   "source": [
    "## `RLock` （可重入锁）可以被同一个线程多次获取，主要用来实现基于监测对象模式的锁定和同步。"
   ]
  },
  {
   "cell_type": "code",
   "execution_count": 22,
   "id": "327d6d7e-2f76-4100-8b19-fa15debdceb1",
   "metadata": {},
   "outputs": [],
   "source": [
    "import threading\n",
    "\n",
    "class SharedCounter:\n",
    "    '''\n",
    "    A counter object that can be shared by multiple threads.\n",
    "    '''\n",
    "    _lock = threading.RLock()\n",
    "    def __init__(self, initial_value = 0):\n",
    "        self._value = initial_value\n",
    "\n",
    "    def incr(self,delta=1):\n",
    "        '''\n",
    "        Increment the counter with locking\n",
    "        '''\n",
    "        with SharedCounter._lock:\n",
    "            self._value += delta\n",
    "\n",
    "    def decr(self,delta=1):\n",
    "        '''\n",
    "        Decrement the counter with locking\n",
    "        '''\n",
    "        with SharedCounter._lock:\n",
    "             self.incr(-delta)"
   ]
  },
  {
   "cell_type": "markdown",
   "id": "f34af2a0-2edb-42a4-b2ba-12b4e580adf6",
   "metadata": {},
   "source": [
    "在上边这个例子中，没有对每一个实例中的可变对象加锁，取而代之的是一个被所有实例共享的类级锁。这个锁用来同步类方法，具体来说就是，这个锁可以保证一次只有一个线程可以调用这个类方法。不过，与一个标准的锁不同的是，已经持有这个锁的方法在调用同样使用这个锁的方法时，无需再次获取锁。"
   ]
  },
  {
   "cell_type": "markdown",
   "id": "0fef31e6-905e-4e79-a9ee-61b792a2166c",
   "metadata": {},
   "source": [
    "## 限制一段代码的并发访问量"
   ]
  },
  {
   "cell_type": "code",
   "execution_count": 23,
   "id": "8c076a09-d66f-470a-9faf-14fb33e02bfb",
   "metadata": {},
   "outputs": [],
   "source": [
    "from threading import Semaphore\n",
    "import urllib.request\n",
    "\n",
    "# At most, five threads allowed to run at once\n",
    "_fetch_url_sema = Semaphore(5)\n",
    "\n",
    "def fetch_url(url):\n",
    "    with _fetch_url_sema:\n",
    "        return urllib.request.urlopen(url)"
   ]
  },
  {
   "cell_type": "markdown",
   "id": "41f24062-ab0c-4650-b8de-54c58e0e3e05",
   "metadata": {},
   "source": [
    "# 防止死锁的加锁机制"
   ]
  },
  {
   "cell_type": "markdown",
   "id": "163a336e-6b63-4fd5-add8-ed4c7af50f4b",
   "metadata": {},
   "source": [
    "在多线程程序中，死锁问题很大一部分是由于线程同时获取多个锁造成的。举个例子：一个线程获取了第一个锁，然后在获取第二个锁的 时候发生阻塞，那么这个线程就可能阻塞其他线程的执行，从而导致整个程序假死。 解决死锁问题的一种方案是为程序中的每一个锁分配一个唯一的id，然后只允许按照升序规则来使用多个锁"
   ]
  },
  {
   "cell_type": "code",
   "execution_count": 24,
   "id": "91071af4-432d-4592-81a6-64c90145a4b0",
   "metadata": {},
   "outputs": [],
   "source": [
    "import threading\n",
    "from contextlib import contextmanager\n",
    "\n",
    "# Thread-local state to stored information on locks already acquired\n",
    "_local = threading.local()\n",
    "\n",
    "@contextmanager\n",
    "def acquire(*locks):\n",
    "    # Sort locks by object identifier\n",
    "    locks = sorted(locks, key=lambda x: id(x))\n",
    "\n",
    "    # Make sure lock order of previously acquired locks is not violated\n",
    "    acquired = getattr(_local,'acquired',[])\n",
    "    if acquired and max(id(lock) for lock in acquired) >= id(locks[0]):\n",
    "        raise RuntimeError('Lock Order Violation')\n",
    "\n",
    "    # Acquire all of the locks\n",
    "    acquired.extend(locks)\n",
    "    _local.acquired = acquired\n",
    "\n",
    "    try:\n",
    "        for lock in locks:\n",
    "            lock.acquire()\n",
    "        yield\n",
    "    finally:\n",
    "        # Release locks in reverse order of acquisition\n",
    "        for lock in reversed(locks):\n",
    "            lock.release()\n",
    "        del acquired[-len(locks):]\n"
   ]
  },
  {
   "cell_type": "code",
   "execution_count": 27,
   "id": "8fb75f98-f936-4faf-939e-07074738bdbd",
   "metadata": {},
   "outputs": [],
   "source": [
    "import threading\n",
    "x_lock = threading.Lock()\n",
    "y_lock = threading.Lock()\n",
    "\n",
    "def thread_1():\n",
    "    while True:\n",
    "        with acquire(x_lock, y_lock):\n",
    "            print('Thread-1')\n",
    "\n",
    "def thread_2():\n",
    "    while True:\n",
    "        with acquire(y_lock, x_lock):\n",
    "            print('Thread-2')\n",
    "\n",
    "t1 = threading.Thread(target=thread_1)\n",
    "t1.daemon = True\n",
    "\n",
    "\n",
    "t2 = threading.Thread(target=thread_2)\n",
    "t2.daemon = True\n",
    "# t1.start()\n",
    "# t2.start()"
   ]
  },
  {
   "cell_type": "markdown",
   "id": "39a1d3d7-88cb-42f0-ac13-ef892516a927",
   "metadata": {},
   "source": [
    "死锁的检测与恢复是一个几乎没有优雅的解决方案的扩展话题。一个比较常用的死锁检测与恢复的方案是引入看门狗计数器。当线程正常 运行的时候会每隔一段时间重置计数器，在没有发生死锁的情况下，一切都正常进行。一旦发生死锁，由于无法重置计数器导致定时器 超时，这时程序会通过重启自身恢复到正常状态。\n",
    "\n",
    "避免死锁是另外一种解决死锁问题的方式，在进程获取锁的时候会严格按照对象id升序排列获取，经过数学证明，这样保证程序不会进入 死锁状态。证明就留给读者作为练习了。避免死锁的主要思想是，单纯地按照对象id递增的顺序加锁不会产生循环依赖，而循环依赖是 死锁的一个必要条件，从而避免程序进入死锁状态。\n",
    "\n"
   ]
  },
  {
   "cell_type": "markdown",
   "id": "c78aa4fe-fae0-4574-9a8d-7fe9a584d245",
   "metadata": {},
   "source": [
    "## 哲学家就餐问题"
   ]
  },
  {
   "cell_type": "markdown",
   "id": "30dba69e-43fc-40ff-85bb-8bcd5b667e23",
   "metadata": {},
   "source": [
    "五位哲学家围坐在一张桌子前，每个人 面前有一碗饭和一只筷子。在这里每个哲学家可以看做是一个独立的线程，而每只筷子可以看做是一个锁。每个哲学家可以处在静坐、 思考、吃饭三种状态中的一个。需要注意的是，每个哲学家吃饭是需要两只筷子的，这样问题就来了：如果每个哲学家都拿起自己左边的筷子， 那么他们五个都只能拿着一只筷子坐在那儿，直到饿死。此时他们就进入了死锁状态。 "
   ]
  },
  {
   "cell_type": "markdown",
   "id": "d7212e89-b61a-451c-a52f-58c8c7608e30",
   "metadata": {
    "tags": []
   },
   "source": [
    "```python\n",
    "import threading\n",
    "\n",
    "# The philosopher thread\n",
    "def philosopher(left, right):\n",
    "    while True:\n",
    "        with acquire(left,right):\n",
    "             print(threading.currentThread(), 'eating')\n",
    "\n",
    "# The chopsticks (represented by locks)\n",
    "NSTICKS = 5\n",
    "chopsticks = [threading.Lock() for n in range(NSTICKS)]\n",
    "\n",
    "# Create all of the philosophers\n",
    "for n in range(NSTICKS):\n",
    "    t = threading.Thread(target=philosopher,\n",
    "                         args=(chopsticks[n],chopsticks[(n+1) % NSTICKS]))\n",
    "    t.start()\n",
    "```"
   ]
  },
  {
   "cell_type": "markdown",
   "id": "ea048e56-1eaa-4d4e-8330-6976d78b5392",
   "metadata": {},
   "source": [
    "# 保存线程的状态信息"
   ]
  },
  {
   "cell_type": "markdown",
   "id": "d520b39e-923a-4b47-bf17-ddfbeba6d499",
   "metadata": {},
   "source": [
    "使用 `thread.local()` 创建一个本地线程存储对象。 对这个对象的属性的保存和读取操作都只会对执行线程可见，而其他线程并不可见"
   ]
  },
  {
   "cell_type": "code",
   "execution_count": 2,
   "id": "af03afad-cacd-4ad3-bc19-6955eeeb7a82",
   "metadata": {
    "scrolled": true,
    "tags": []
   },
   "outputs": [],
   "source": [
    "from socket import socket, AF_INET, SOCK_STREAM\n",
    "import threading\n",
    "\n",
    "class LazyConnection:\n",
    "    def __init__(self, address, family=AF_INET, type=SOCK_STREAM):\n",
    "        self.address = address\n",
    "        self.family = AF_INET\n",
    "        self.type = SOCK_STREAM\n",
    "        self.local = threading.local()\n",
    "\n",
    "    def __enter__(self):\n",
    "        if hasattr(self.local, 'sock'):\n",
    "            raise RuntimeError('Already connected')\n",
    "        self.local.sock = socket(self.family, self.type)\n",
    "        self.local.sock.connect(self.address)\n",
    "        return self.local.sock\n",
    "\n",
    "    def __exit__(self, exc_ty, exc_val, tb):\n",
    "        self.local.sock.close()\n",
    "        del self.local.sock"
   ]
  },
  {
   "cell_type": "code",
   "execution_count": 4,
   "id": "b79867dd-f7df-4cfc-994d-1b0b6a1e5682",
   "metadata": {},
   "outputs": [],
   "source": [
    "from functools import partial\n",
    "def test(conn):\n",
    "    with conn as s:\n",
    "        s.send(b'GET /index.html HTTP/1.0\\r\\n')\n",
    "        s.send(b'Host: www.python.org\\r\\n')\n",
    "\n",
    "        s.send(b'\\r\\n')\n",
    "        resp = b''.join(iter(partial(s.recv, 8192), b''))\n",
    "\n",
    "    print('Got {} bytes'.format(len(resp)))\n",
    "\n",
    "def main():\n",
    "    conn = LazyConnection(('www.python.org', 80))\n",
    "\n",
    "    t1 = threading.Thread(target=test, args=(conn,))\n",
    "    t2 = threading.Thread(target=test, args=(conn,))\n",
    "    t1.start()\n",
    "    t2.start()\n",
    "    t1.join()\n",
    "    t2.join()"
   ]
  },
  {
   "cell_type": "code",
   "execution_count": 5,
   "id": "acae169c-82de-42a2-84f7-0a1969e8df66",
   "metadata": {},
   "outputs": [
    {
     "name": "stdout",
     "output_type": "stream",
     "text": [
      "Got 392 bytes\n",
      "Got 392 bytes\n"
     ]
    }
   ],
   "source": [
    "main()"
   ]
  },
  {
   "cell_type": "markdown",
   "id": "45541c43-0ee6-49bf-a1b7-5827171f41aa",
   "metadata": {},
   "source": [
    "# 创建一个线程池"
   ]
  },
  {
   "cell_type": "markdown",
   "id": "92737d59-2f9a-472c-9a10-a2782cd473dc",
   "metadata": {},
   "source": [
    "## ThreadPoolExecutor"
   ]
  },
  {
   "cell_type": "code",
   "execution_count": 6,
   "id": "c1d09144-e7de-41bc-aaa0-717bc3af0c85",
   "metadata": {},
   "outputs": [],
   "source": [
    "from socket import AF_INET, SOCK_STREAM, socket\n",
    "from concurrent.futures import ThreadPoolExecutor\n",
    "\n",
    "def echo_client(sock, client_addr):\n",
    "    '''\n",
    "    Handle a client connection\n",
    "    '''\n",
    "    print('Got connection from', client_addr)\n",
    "    while True:\n",
    "        msg = sock.recv(65536)\n",
    "        if not msg:\n",
    "            break\n",
    "        sock.sendall(msg)\n",
    "    print('Client closed connection')\n",
    "    sock.close()\n",
    "\n",
    "def echo_server(addr):\n",
    "    pool = ThreadPoolExecutor(128)\n",
    "    sock = socket(AF_INET, SOCK_STREAM)\n",
    "    sock.bind(addr)\n",
    "    sock.listen(5)\n",
    "    while True:\n",
    "        client_sock, client_addr = sock.accept()\n",
    "        pool.submit(echo_client, client_sock, client_addr)\n",
    "\n",
    "def main():\n",
    "    echo_server(('',15000))"
   ]
  },
  {
   "cell_type": "markdown",
   "id": "34d81ee4-4888-4c94-98cb-f2098d0936b5",
   "metadata": {},
   "source": [
    "使用 `ThreadPoolExecutor` 相对于手动实现的一个好处在于它使得 任务提交者更方便的从被调用函数中获取返回值"
   ]
  },
  {
   "cell_type": "markdown",
   "id": "912a29c3-876b-4128-b151-c6dad4a0c9c7",
   "metadata": {},
   "source": [
    "```python\n",
    "from concurrent.futures import ThreadPoolExecutor\n",
    "import urllib.request\n",
    "\n",
    "def fetch_url(url):\n",
    "    u = urllib.request.urlopen(url)\n",
    "    data = u.read()\n",
    "    return data\n",
    "\n",
    "pool = ThreadPoolExecutor(10)\n",
    "# Submit work to the pool\n",
    "a = pool.submit(fetch_url, 'http://www.python.org')\n",
    "b = pool.submit(fetch_url, 'http://www.pypy.org')\n",
    "\n",
    "# Get the results back\n",
    "x = a.result()\n",
    "y = b.result()\n",
    "```\n",
    "例子中返回的`handle`对象会帮你处理所有的阻塞与协作，然后从工作线程中返回数据给你。 特别的，`a.result()`操作会阻塞进程直到对应的函数执行完成并返回一个结果。"
   ]
  },
  {
   "cell_type": "markdown",
   "id": "41ddfa4b-df03-430b-9f85-e5f1ba4058df",
   "metadata": {},
   "source": [
    "## Queue"
   ]
  },
  {
   "cell_type": "code",
   "execution_count": 7,
   "id": "69754e61-3187-4626-9cbc-15aa1504e92b",
   "metadata": {},
   "outputs": [],
   "source": [
    "from socket import socket, AF_INET, SOCK_STREAM\n",
    "from threading import Thread\n",
    "from queue import Queue\n",
    "\n",
    "def echo_client(q):\n",
    "    '''\n",
    "    Handle a client connection\n",
    "    '''\n",
    "    sock, client_addr = q.get()\n",
    "    print('Got connection from', client_addr)\n",
    "    while True:\n",
    "        msg = sock.recv(65536)\n",
    "        if not msg:\n",
    "            break\n",
    "        sock.sendall(msg)\n",
    "    print('Client closed connection')\n",
    "\n",
    "    sock.close()\n",
    "\n",
    "def echo_server(addr, nworkers):\n",
    "    # Launch the client workers\n",
    "    q = Queue()\n",
    "    for n in range(nworkers):\n",
    "        t = Thread(target=echo_client, args=(q,))\n",
    "        t.daemon = True\n",
    "        t.start()\n",
    "\n",
    "    # Run the server\n",
    "    sock = socket(AF_INET, SOCK_STREAM)\n",
    "    sock.bind(addr)\n",
    "    sock.listen(5)\n",
    "    while True:\n",
    "        client_sock, client_addr = sock.accept()\n",
    "        q.put((client_sock, client_addr))\n",
    "\n",
    "def main():\n",
    "    echo_server(('',15000), 128)"
   ]
  },
  {
   "cell_type": "markdown",
   "id": "e2eda969-5bab-42e4-a8aa-cd18e99de471",
   "metadata": {},
   "source": [
    "创建大的线程池的一个可能需要关注的问题是内存的使用。 例如，如果你在OS X系统上面创建2000个线程，系统显示Python进程使用了超过9GB的虚拟内存。 不过，这个计算通常是有误差的。当创建一个线程时，操作系统会预留一个虚拟内存区域来 放置线程的执行栈（通常是8MB大小）。但是这个内存只有一小片段被实际映射到真实内存中。 因此，Python进程使用到的真实内存其实很小 （比如，对于2000个线程来讲，只使用到了70MB的真实内存，而不是9GB）。 如果你担心虚拟内存大小，可以使用 threading.stack_size() 函数来降低它。例如：\n",
    "```python\n",
    "import threading\n",
    "threading.stack_size(65536)\n",
    "```\n",
    "如果你加上这条语句并再次运行前面的创建2000个线程试验， 你会发现Python进程只使用到了大概210MB的虚拟内存，而真实内存使用量没有变。 注意线程栈大小必须至少为32768字节，通常是系统内存页大小（4096、8192等）的整数倍。"
   ]
  },
  {
   "cell_type": "markdown",
   "id": "313cc56f-1f48-4bb8-a42f-09efc01b7568",
   "metadata": {},
   "source": [
    "# 简单的并行编程"
   ]
  },
  {
   "cell_type": "code",
   "execution_count": 9,
   "id": "28140a0b-60d4-4be5-886c-0a6e249df1d0",
   "metadata": {},
   "outputs": [],
   "source": [
    "# findrobots.py\n",
    "\n",
    "import gzip\n",
    "import io\n",
    "import glob\n",
    "\n",
    "def find_robots(filename):\n",
    "    '''\n",
    "    Find all of the hosts that access robots.txt in a single log file\n",
    "    '''\n",
    "    robots = set()\n",
    "    with gzip.open(filename) as f:\n",
    "        for line in io.TextIOWrapper(f,encoding='ascii'):\n",
    "            fields = line.split()\n",
    "            if fields[6] == '/robots.txt':\n",
    "                robots.add(fields[0])\n",
    "    return robots\n",
    "\n",
    "def find_all_robots(logdir):\n",
    "    '''\n",
    "    Find all hosts across and entire sequence of files\n",
    "    '''\n",
    "    files = glob.glob(logdir+'/*.log.gz')\n",
    "    all_robots = set()\n",
    "    for robots in map(find_robots, files):\n",
    "        all_robots.update(robots)\n",
    "    return all_robots\n",
    "\n",
    "def main():\n",
    "    robots = find_all_robots('logs')\n",
    "    for ipaddr in robots:\n",
    "        print(ipaddr)"
   ]
  },
  {
   "cell_type": "code",
   "execution_count": 10,
   "id": "c18b2c2b-9b29-4008-997f-e59ebb078e22",
   "metadata": {},
   "outputs": [],
   "source": [
    "# findrobots.py\n",
    "\n",
    "import gzip\n",
    "import io\n",
    "import glob\n",
    "from concurrent import futures\n",
    "\n",
    "def find_robots(filename):\n",
    "    '''\n",
    "    Find all of the hosts that access robots.txt in a single log file\n",
    "\n",
    "    '''\n",
    "    robots = set()\n",
    "    with gzip.open(filename) as f:\n",
    "        for line in io.TextIOWrapper(f,encoding='ascii'):\n",
    "            fields = line.split()\n",
    "            if fields[6] == '/robots.txt':\n",
    "                robots.add(fields[0])\n",
    "    return robots\n",
    "\n",
    "def find_all_robots(logdir):\n",
    "    '''\n",
    "    Find all hosts across and entire sequence of files\n",
    "    '''\n",
    "    files = glob.glob(logdir+'/*.log.gz')\n",
    "    all_robots = set()\n",
    "    with futures.ProcessPoolExecutor() as pool:\n",
    "        for robots in pool.map(find_robots, files):\n",
    "            all_robots.update(robots)\n",
    "    return all_robots\n",
    "\n",
    "def main():\n",
    "    robots = find_all_robots('logs')\n",
    "    for ipaddr in robots:\n",
    "        print(ipaddr)"
   ]
  },
  {
   "cell_type": "markdown",
   "id": "eb6b533e-3748-4638-8c6d-816225470f02",
   "metadata": {},
   "source": [
    "一个 `ProcessPoolExecutor` 创建`N`个独立的`Python`解释器， `N`是系统上面可用`CPU`的个数。你可以通过提供可选参数给 `ProcessPoolExecutor(N)` 来修改 处理器数量。这个处理池会一直运行到`with`块中最后一个语句执行完成， 然后处理池被关闭。不过，程序会一直等待直到所有提交的工作被处理完成。"
   ]
  },
  {
   "cell_type": "markdown",
   "id": "51a2a2c0-ddc5-4116-9045-95751a7553f8",
   "metadata": {},
   "source": [
    "```python\n",
    "# map\n",
    "def work(x):\n",
    "    ...\n",
    "    return result\n",
    "\n",
    "# Nonparallel code\n",
    "results = map(work, data)\n",
    "\n",
    "# Parallel implementation\n",
    "with ProcessPoolExecutor() as pool:\n",
    "    results = pool.map(work, data)\n",
    "    \n",
    "\n",
    "    \n",
    "# submit\n",
    "def work(x):\n",
    "    ...\n",
    "    return result\n",
    "\n",
    "with ProcessPoolExecutor() as pool:\n",
    "    ...\n",
    "    # Example of submitting work to the pool\n",
    "    future_result = pool.submit(work, arg)\n",
    "\n",
    "    # Obtaining the result (blocks until done)\n",
    "    r = future_result.result()\n",
    "    ...\n",
    "    \n",
    "# call_back\n",
    "def when_done(r):\n",
    "    print('Got:', r.result())\n",
    "\n",
    "with ProcessPoolExecutor() as pool:\n",
    "    future_result = pool.submit(work, arg)\n",
    "    future_result.add_done_callback(when_done)\n",
    "```"
   ]
  },
  {
   "cell_type": "markdown",
   "id": "b274d1c7-1ec7-4c78-9e87-56ca864de2d4",
   "metadata": {},
   "source": [
    "+ 这种并行处理技术只适用于那些可以被分解为互相独立部分的问题。\n",
    "+ 被提交的任务必须是简单函数形式。对于方法、闭包和其他类型的并行执行还不支持。\n",
    "+ 函数参数和返回值必须兼容pickle，因为要使用到进程间的通信，所有解释器之间的交换数据必须被序列化\n",
    "+ 被提交的任务函数不应保留状态或有副作用。除了打印日志之类简单的事情，"
   ]
  },
  {
   "cell_type": "markdown",
   "id": "579e0b66-675f-4d98-b95f-9115983d7e37",
   "metadata": {},
   "source": [
    "# Python的全局锁问题"
   ]
  },
  {
   "cell_type": "markdown",
   "id": "7ef46497-c9b1-491d-8836-909ab0e0181c",
   "metadata": {},
   "source": [
    "```python\n",
    "# Processing pool (see below for initiazation)\n",
    "pool = None\n",
    "\n",
    "# Performs a large calculation (CPU bound)\n",
    "def some_work(args):\n",
    "    ...\n",
    "    return result\n",
    "\n",
    "# A thread that calls the above function\n",
    "def some_thread():\n",
    "    while True:\n",
    "        ...\n",
    "        r = pool.apply(some_work, (args))\n",
    "        ...\n",
    "\n",
    "# Initiaze the pool\n",
    "if __name__ == '__main__':\n",
    "    import multiprocessing\n",
    "    pool = multiprocessing.Pool()\n"
   ]
  },
  {
   "cell_type": "markdown",
   "id": "89f8fab2-613f-4efa-931c-550c5559935c",
   "metadata": {},
   "source": [
    "# 定义一个Actor任务"
   ]
  },
  {
   "cell_type": "code",
   "execution_count": 11,
   "id": "89d89d15-7271-474c-bc9b-9819f1a6e101",
   "metadata": {},
   "outputs": [
    {
     "name": "stdout",
     "output_type": "stream",
     "text": [
      "Got: Hello\n",
      "Got: World\n"
     ]
    }
   ],
   "source": [
    "from queue import Queue\n",
    "from threading import Thread, Event\n",
    "\n",
    "# Sentinel used for shutdown\n",
    "class ActorExit(Exception):\n",
    "    pass\n",
    "\n",
    "class Actor:\n",
    "    def __init__(self):\n",
    "        self._mailbox = Queue()\n",
    "\n",
    "    def send(self, msg):\n",
    "        '''\n",
    "        Send a message to the actor\n",
    "        '''\n",
    "        self._mailbox.put(msg)\n",
    "\n",
    "    def recv(self):\n",
    "        '''\n",
    "        Receive an incoming message\n",
    "        '''\n",
    "        msg = self._mailbox.get()\n",
    "        if msg is ActorExit:\n",
    "            raise ActorExit()\n",
    "        return msg\n",
    "\n",
    "    def close(self):\n",
    "        '''\n",
    "        Close the actor, thus shutting it down\n",
    "        '''\n",
    "        self.send(ActorExit)\n",
    "\n",
    "    def start(self):\n",
    "        '''\n",
    "        Start concurrent execution\n",
    "        '''\n",
    "        self._terminated = Event()\n",
    "        t = Thread(target=self._bootstrap)\n",
    "\n",
    "        t.daemon = True\n",
    "        t.start()\n",
    "\n",
    "    def _bootstrap(self):\n",
    "        try:\n",
    "            self.run()\n",
    "        except ActorExit:\n",
    "            pass\n",
    "        finally:\n",
    "            self._terminated.set()\n",
    "\n",
    "    def join(self):\n",
    "        self._terminated.wait()\n",
    "\n",
    "    def run(self):\n",
    "        '''\n",
    "        Run method to be implemented by the user\n",
    "        '''\n",
    "        while True:\n",
    "            msg = self.recv()\n",
    "\n",
    "# Sample ActorTask\n",
    "class PrintActor(Actor):\n",
    "    def run(self):\n",
    "        while True:\n",
    "            msg = self.recv()\n",
    "            print('Got:', msg)\n",
    "\n",
    "# Sample use\n",
    "p = PrintActor()\n",
    "p.start()\n",
    "p.send('Hello')\n",
    "p.send('World')\n",
    "p.close()\n",
    "p.join()"
   ]
  },
  {
   "cell_type": "code",
   "execution_count": 18,
   "id": "f2443b5c-5ee0-45b5-9397-8e3704462658",
   "metadata": {},
   "outputs": [
    {
     "name": "stdout",
     "output_type": "stream",
     "text": [
      "Got: Hello\n",
      "Got: World\n",
      "Actor terminating\n"
     ]
    }
   ],
   "source": [
    "def print_actor():\n",
    "    while True:\n",
    "\n",
    "        try:\n",
    "            msg = yield      # Get a message\n",
    "            print('Got:', msg)\n",
    "        except GeneratorExit:\n",
    "            print('Actor terminating')\n",
    "            return\n",
    "\n",
    "# Sample use\n",
    "p = print_actor()\n",
    "next(p)     # Advance to the yield (ready to receive)\n",
    "p.send('Hello')\n",
    "p.send('World')\n",
    "p.close()"
   ]
  },
  {
   "cell_type": "code",
   "execution_count": 19,
   "id": "6061d3b2-8572-4912-acdf-5770cd535f64",
   "metadata": {},
   "outputs": [
    {
     "name": "stdout",
     "output_type": "stream",
     "text": [
      "Running A 1\n",
      "Running B 2 3\n"
     ]
    }
   ],
   "source": [
    "class TaggedActor(Actor):\n",
    "    def run(self):\n",
    "        while True:\n",
    "             tag, *payload = self.recv()\n",
    "             getattr(self,'do_'+tag)(*payload)\n",
    "\n",
    "    # Methods correponding to different message tags\n",
    "    def do_A(self, x):\n",
    "        print('Running A', x)\n",
    "\n",
    "    def do_B(self, x, y):\n",
    "        print('Running B', x, y)\n",
    "\n",
    "# Example\n",
    "a = TaggedActor()\n",
    "a.start()\n",
    "a.send(('A', 1))      # Invokes do_A(1)\n",
    "a.send(('B', 2, 3))   # Invokes do_B(2,3)\n",
    "a.close()\n",
    "a.join()"
   ]
  },
  {
   "cell_type": "code",
   "execution_count": 20,
   "id": "2022bac1-b56c-4693-a9e8-08577098639c",
   "metadata": {},
   "outputs": [
    {
     "name": "stdout",
     "output_type": "stream",
     "text": [
      "8\n"
     ]
    }
   ],
   "source": [
    "from threading import Event\n",
    "class Result:\n",
    "    def __init__(self):\n",
    "        self._evt = Event()\n",
    "        self._result = None\n",
    "\n",
    "    def set_result(self, value):\n",
    "        self._result = value\n",
    "\n",
    "        self._evt.set()\n",
    "\n",
    "    def result(self):\n",
    "        self._evt.wait()\n",
    "        return self._result\n",
    "\n",
    "class Worker(Actor):\n",
    "    def submit(self, func, *args, **kwargs):\n",
    "        r = Result()\n",
    "        self.send((func, args, kwargs, r))\n",
    "        return r\n",
    "\n",
    "    def run(self):\n",
    "        while True:\n",
    "            func, args, kwargs, r = self.recv()\n",
    "            r.set_result(func(*args, **kwargs))\n",
    "\n",
    "# Example use\n",
    "worker = Worker()\n",
    "worker.start()\n",
    "r = worker.submit(pow, 2, 3)\n",
    "worker.close()\n",
    "worker.join()\n",
    "print(r.result())"
   ]
  },
  {
   "cell_type": "markdown",
   "id": "6d54762d-2675-4a7b-8cc0-b3e417216984",
   "metadata": {},
   "source": [
    "# 实现消息发布/订阅模型"
   ]
  },
  {
   "cell_type": "code",
   "execution_count": 21,
   "id": "0729be24-0d7d-41bd-96c5-4c82fa689206",
   "metadata": {},
   "outputs": [],
   "source": [
    "from collections import defaultdict\n",
    "\n",
    "class Exchange:\n",
    "    def __init__(self):\n",
    "        self._subscribers = set()\n",
    "\n",
    "    def attach(self, task):\n",
    "        self._subscribers.add(task)\n",
    "\n",
    "    def detach(self, task):\n",
    "        self._subscribers.remove(task)\n",
    "\n",
    "    def send(self, msg):\n",
    "        for subscriber in self._subscribers:\n",
    "            subscriber.send(msg)\n",
    "\n",
    "# Dictionary of all created exchanges\n",
    "_exchanges = defaultdict(Exchange)\n",
    "\n",
    "# Return the Exchange instance associated with a given name\n",
    "def get_exchange(name):\n",
    "    return _exchanges[name]"
   ]
  },
  {
   "cell_type": "markdown",
   "id": "2d7d4e61-d9ff-4c1e-8963-2176808b100f",
   "metadata": {},
   "source": [
    "```python\n",
    "class Task:\n",
    "    ...\n",
    "    def send(self, msg):\n",
    "        ...\n",
    "\n",
    "task_a = Task()\n",
    "task_b = Task()\n",
    "\n",
    "# Example of getting an exchange\n",
    "exc = get_exchange('name')\n",
    "\n",
    "# Examples of subscribing tasks to it\n",
    "exc.attach(task_a)\n",
    "exc.attach(task_b)\n",
    "\n",
    "# Example of sending messages\n",
    "exc.send('msg1')\n",
    "exc.send('msg2')\n",
    "\n",
    "# Example of unsubscribing\n",
    "exc.detach(task_a)\n",
    "exc.detach(task_b)\n",
    "```"
   ]
  },
  {
   "cell_type": "code",
   "execution_count": 22,
   "id": "9bc504bd-87a7-4a05-876a-04ab1b397016",
   "metadata": {},
   "outputs": [],
   "source": [
    "class DisplayMessages:\n",
    "    def __init__(self):\n",
    "        self.count = 0\n",
    "    def send(self, msg):\n",
    "        self.count += 1\n",
    "        print('msg[{}]: {!r}'.format(self.count, msg))\n",
    "\n",
    "exc = get_exchange('name')\n",
    "d = DisplayMessages()\n",
    "exc.attach(d)"
   ]
  },
  {
   "cell_type": "code",
   "execution_count": 23,
   "id": "5c44e453-a20e-4c07-87a8-f0865ee197b6",
   "metadata": {},
   "outputs": [
    {
     "name": "stdout",
     "output_type": "stream",
     "text": [
      "msg[1]: '123'\n"
     ]
    }
   ],
   "source": [
    "exc.send('123')"
   ]
  },
  {
   "cell_type": "markdown",
   "id": "a358ad3d-b03e-40c2-a96b-5f5715e7c211",
   "metadata": {},
   "source": [
    "```python\n",
    "from contextlib import contextmanager\n",
    "from collections import defaultdict\n",
    "\n",
    "class Exchange:\n",
    "    def __init__(self):\n",
    "        self._subscribers = set()\n",
    "\n",
    "    def attach(self, task):\n",
    "        self._subscribers.add(task)\n",
    "\n",
    "    def detach(self, task):\n",
    "        self._subscribers.remove(task)\n",
    "\n",
    "    @contextmanager\n",
    "    def subscribe(self, *tasks):\n",
    "        for task in tasks:\n",
    "            self.attach(task)\n",
    "        try:\n",
    "            yield\n",
    "        finally:\n",
    "            for task in tasks:\n",
    "                self.detach(task)\n",
    "\n",
    "    def send(self, msg):\n",
    "        for subscriber in self._subscribers:\n",
    "            subscriber.send(msg)\n",
    "\n",
    "# Dictionary of all created exchanges\n",
    "_exchanges = defaultdict(Exchange)\n",
    "\n",
    "# Return the Exchange instance associated with a given name\n",
    "def get_exchange(name):\n",
    "    return _exchanges[name]\n",
    "\n",
    "# Example of using the subscribe() method\n",
    "exc = get_exchange('name')\n",
    "with exc.subscribe(task_a, task_b):\n",
    "     ...\n",
    "     exc.send('msg1')\n",
    "     exc.send('msg2')\n",
    "     ...\n",
    "\n",
    "# task_a and task_b detached here\n",
    "```"
   ]
  },
  {
   "cell_type": "markdown",
   "id": "2e6507a2-e4a5-4bad-a366-a4f68386c25c",
   "metadata": {},
   "source": [
    "# 使用生成器代替线程"
   ]
  },
  {
   "cell_type": "code",
   "execution_count": 24,
   "id": "04d65570-3473-4e4b-a980-2f90b50ed0cd",
   "metadata": {},
   "outputs": [],
   "source": [
    "# Two simple generator functions\n",
    "def countdown(n):\n",
    "    while n > 0:\n",
    "        print('T-minus', n)\n",
    "        yield\n",
    "        n -= 1\n",
    "    print('Blastoff!')\n",
    "\n",
    "def countup(n):\n",
    "    x = 0\n",
    "    while x < n:\n",
    "        print('Counting up', x)\n",
    "        yield\n",
    "        x += 1"
   ]
  },
  {
   "cell_type": "code",
   "execution_count": 26,
   "id": "7d6284c8-ea8d-4be1-841b-dc2bf925ec8e",
   "metadata": {},
   "outputs": [
    {
     "name": "stdout",
     "output_type": "stream",
     "text": [
      "T-minus 10\n",
      "T-minus 5\n",
      "Counting up 0\n",
      "T-minus 9\n",
      "T-minus 4\n",
      "Counting up 1\n",
      "T-minus 8\n",
      "T-minus 3\n",
      "Counting up 2\n",
      "T-minus 7\n",
      "T-minus 2\n",
      "Counting up 3\n",
      "T-minus 6\n",
      "T-minus 1\n",
      "Counting up 4\n",
      "T-minus 5\n",
      "Blastoff!\n",
      "Counting up 5\n",
      "T-minus 4\n",
      "Counting up 6\n",
      "T-minus 3\n",
      "Counting up 7\n",
      "T-minus 2\n",
      "Counting up 8\n",
      "T-minus 1\n",
      "Counting up 9\n",
      "Blastoff!\n",
      "Counting up 10\n",
      "Counting up 11\n",
      "Counting up 12\n",
      "Counting up 13\n",
      "Counting up 14\n"
     ]
    }
   ],
   "source": [
    "from collections import deque\n",
    "\n",
    "class TaskScheduler:\n",
    "    def __init__(self):\n",
    "        self._task_queue = deque()\n",
    "\n",
    "    def new_task(self, task):\n",
    "        '''\n",
    "        Admit a newly started task to the scheduler\n",
    "        '''\n",
    "        self._task_queue.append(task)\n",
    "\n",
    "    def run(self):\n",
    "        '''\n",
    "        Run until there are no more tasks\n",
    "        '''\n",
    "        while self._task_queue:\n",
    "            task = self._task_queue.popleft()\n",
    "            try:\n",
    "                # Run until the next yield statement\n",
    "                next(task)\n",
    "                self._task_queue.append(task)\n",
    "            except StopIteration:\n",
    "                # Generator is no longer executing\n",
    "                pass\n",
    "\n",
    "# Example use\n",
    "sched = TaskScheduler()\n",
    "sched.new_task(countdown(10))\n",
    "sched.new_task(countdown(5))\n",
    "sched.new_task(countup(15))\n",
    "sched.run()"
   ]
  },
  {
   "cell_type": "code",
   "execution_count": 28,
   "id": "231ceccb-a9f2-42ef-af9c-0cdfda1589d4",
   "metadata": {},
   "outputs": [
    {
     "name": "stdout",
     "output_type": "stream",
     "text": [
      "Got: 10\n",
      "Got: 9\n",
      "Got: 8\n",
      "Got: 7\n",
      "Got: 6\n",
      "Got: 5\n",
      "Got: 4\n",
      "Got: 3\n",
      "Got: 2\n",
      "Got: 1\n"
     ]
    }
   ],
   "source": [
    "from collections import deque\n",
    "\n",
    "class ActorScheduler:\n",
    "    def __init__(self):\n",
    "        self._actors = {}          # Mapping of names to actors\n",
    "        self._msg_queue = deque()   # Message queue\n",
    "\n",
    "    def new_actor(self, name, actor):\n",
    "        '''\n",
    "        Admit a newly started actor to the scheduler and give it a name\n",
    "        '''\n",
    "        self._msg_queue.append((actor,None))\n",
    "        self._actors[name] = actor\n",
    "\n",
    "    def send(self, name, msg):\n",
    "        '''\n",
    "        Send a message to a named actor\n",
    "        '''\n",
    "        actor = self._actors.get(name)\n",
    "        if actor:\n",
    "            self._msg_queue.append((actor,msg))\n",
    "\n",
    "    def run(self):\n",
    "        '''\n",
    "        Run as long as there are pending messages.\n",
    "        '''\n",
    "        while self._msg_queue:\n",
    "            actor, msg = self._msg_queue.popleft()\n",
    "            try:\n",
    "                 actor.send(msg)\n",
    "            except StopIteration:\n",
    "                 pass\n",
    "\n",
    "# Example use\n",
    "if __name__ == '__main__':\n",
    "    def printer():\n",
    "        while True:\n",
    "            msg = yield\n",
    "            print('Got:', msg)\n",
    "\n",
    "    def counter(sched):\n",
    "        while True:\n",
    "            # Receive the current count\n",
    "            n = yield\n",
    "            if n == 0:\n",
    "                break\n",
    "            # Send to the printer task\n",
    "            sched.send('printer', n)\n",
    "            # Send the next count to the counter task (recursive)\n",
    "            sched.send('counter', n-1)\n",
    "\n",
    "    sched = ActorScheduler()\n",
    "    # Create the initial actors\n",
    "    sched.new_actor('printer', printer())\n",
    "    sched.new_actor('counter', counter(sched))\n",
    "\n",
    "    # Send an initial message to the counter to initiate\n",
    "    sched.send('counter', 10)\n",
    "    sched.run()"
   ]
  },
  {
   "cell_type": "code",
   "execution_count": 29,
   "id": "e617631e-1624-40f9-8f68-a20ebc962ca0",
   "metadata": {},
   "outputs": [],
   "source": [
    "from collections import deque\n",
    "from select import select\n",
    "\n",
    "# This class represents a generic yield event in the scheduler\n",
    "class YieldEvent:\n",
    "    def handle_yield(self, sched, task):\n",
    "        pass\n",
    "\n",
    "    def handle_resume(self, sched, task):\n",
    "        pass\n",
    "\n",
    "# Task Scheduler\n",
    "class Scheduler:\n",
    "    def __init__(self):\n",
    "        self._numtasks = 0       # Total num of tasks\n",
    "        self._ready = deque()    # Tasks ready to run\n",
    "        self._read_waiting = {}  # Tasks waiting to read\n",
    "        self._write_waiting = {} # Tasks waiting to write\n",
    "\n",
    "    # Poll for I/O events and restart waiting tasks\n",
    "    def _iopoll(self):\n",
    "        rset,wset,eset = select(self._read_waiting,\n",
    "                                self._write_waiting,[])\n",
    "        for r in rset:\n",
    "            evt, task = self._read_waiting.pop(r)\n",
    "            evt.handle_resume(self, task)\n",
    "        for w in wset:\n",
    "            evt, task = self._write_waiting.pop(w)\n",
    "            evt.handle_resume(self, task)\n",
    "\n",
    "    def new(self,task):\n",
    "        '''\n",
    "        Add a newly started task to the scheduler\n",
    "        '''\n",
    "        self._ready.append((task, None))\n",
    "        self._numtasks += 1\n",
    "\n",
    "    def add_ready(self, task, msg=None):\n",
    "        '''\n",
    "        Append an already started task to the ready queue.\n",
    "        msg is what to send into the task when it resumes.\n",
    "        '''\n",
    "        self._ready.append((task, msg))\n",
    "\n",
    "    # Add a task to the reading set\n",
    "    def _read_wait(self, fileno, evt, task):\n",
    "        self._read_waiting[fileno] = (evt, task)\n",
    "\n",
    "    # Add a task to the write set\n",
    "    def _write_wait(self, fileno, evt, task):\n",
    "        self._write_waiting[fileno] = (evt, task)\n",
    "\n",
    "    def run(self):\n",
    "        '''\n",
    "        Run the task scheduler until there are no tasks\n",
    "        '''\n",
    "        while self._numtasks:\n",
    "            if not self._ready:\n",
    "                self._iopoll()\n",
    "            task, msg = self._ready.popleft()\n",
    "            try:\n",
    "            # Run the coroutine to the next yield\n",
    "                r = task.send(msg)\n",
    "                if isinstance(r, YieldEvent):\n",
    "                    r.handle_yield(self, task)\n",
    "                else:\n",
    "                    raise RuntimeError('unrecognized yield event')\n",
    "            except StopIteration:\n",
    "                self._numtasks -= 1\n",
    "\n",
    "# Example implementation of coroutine-based socket I/O\n",
    "class ReadSocket(YieldEvent):\n",
    "    def __init__(self, sock, nbytes):\n",
    "        self.sock = sock\n",
    "        self.nbytes = nbytes\n",
    "    def handle_yield(self, sched, task):\n",
    "        sched._read_wait(self.sock.fileno(), self, task)\n",
    "    def handle_resume(self, sched, task):\n",
    "        data = self.sock.recv(self.nbytes)\n",
    "        sched.add_ready(task, data)\n",
    "\n",
    "class WriteSocket(YieldEvent):\n",
    "    def __init__(self, sock, data):\n",
    "        self.sock = sock\n",
    "        self.data = data\n",
    "\n",
    "    def handle_yield(self, sched, task):\n",
    "        sched._write_wait(self.sock.fileno(), self, task)\n",
    "\n",
    "    def handle_resume(self, sched, task):\n",
    "        nsent = self.sock.send(self.data)\n",
    "        sched.add_ready(task, nsent)\n",
    "\n",
    "class AcceptSocket(YieldEvent):\n",
    "    def __init__(self, sock):\n",
    "        self.sock = sock\n",
    "\n",
    "    def handle_yield(self, sched, task):\n",
    "        sched._read_wait(self.sock.fileno(), self, task)\n",
    "\n",
    "    def handle_resume(self, sched, task):\n",
    "        r = self.sock.accept()\n",
    "        sched.add_ready(task, r)\n",
    "\n",
    "# Wrapper around a socket object for use with yield\n",
    "class Socket(object):\n",
    "    def __init__(self, sock):\n",
    "        self._sock = sock\n",
    "\n",
    "    def recv(self, maxbytes):\n",
    "        return ReadSocket(self._sock, maxbytes)\n",
    "\n",
    "    def send(self, data):\n",
    "        return WriteSocket(self._sock, data)\n",
    "\n",
    "    def accept(self):\n",
    "        return AcceptSocket(self._sock)\n",
    "\n",
    "    def __getattr__(self, name):\n",
    "        return getattr(self._sock, name)\n",
    "\n",
    "def main():\n",
    "    from socket import socket, AF_INET, SOCK_STREAM\n",
    "    import time\n",
    "\n",
    "    # Example of a function involving generators.  This should\n",
    "    # be called using line = yield from readline(sock)\n",
    "    def readline(sock):\n",
    "        chars = []\n",
    "        while True:\n",
    "            c = yield sock.recv(1)\n",
    "            if not c:\n",
    "                break\n",
    "            chars.append(c)\n",
    "            if c == b'\\n':\n",
    "                break\n",
    "        return b''.join(chars)\n",
    "\n",
    "    # Echo server using generators\n",
    "    class EchoServer:\n",
    "        def __init__(self,addr,sched):\n",
    "            self.sched = sched\n",
    "            sched.new(self.server_loop(addr))\n",
    "\n",
    "        def server_loop(self,addr):\n",
    "            s = Socket(socket(AF_INET,SOCK_STREAM))\n",
    "\n",
    "            s.bind(addr)\n",
    "            s.listen(5)\n",
    "            while True:\n",
    "                c,a = yield s.accept()\n",
    "                print('Got connection from ', a)\n",
    "                self.sched.new(self.client_handler(Socket(c)))\n",
    "\n",
    "        def client_handler(self,client):\n",
    "            while True:\n",
    "                line = yield from readline(client)\n",
    "                if not line:\n",
    "                    break\n",
    "                line = b'GOT:' + line\n",
    "                while line:\n",
    "                    nsent = yield client.send(line)\n",
    "                    line = line[nsent:]\n",
    "            client.close()\n",
    "            print('Client closed')\n",
    "\n",
    "    sched = Scheduler()\n",
    "    EchoServer(('',16000),sched)\n",
    "    sched.run()"
   ]
  },
  {
   "cell_type": "code",
   "execution_count": null,
   "id": "203f6af4-ba61-4199-bc85-27228d295f13",
   "metadata": {},
   "outputs": [],
   "source": []
  }
 ],
 "metadata": {
  "kernelspec": {
   "display_name": "Python 3 (ipykernel)",
   "language": "python",
   "name": "python3"
  },
  "language_info": {
   "codemirror_mode": {
    "name": "ipython",
    "version": 3
   },
   "file_extension": ".py",
   "mimetype": "text/x-python",
   "name": "python",
   "nbconvert_exporter": "python",
   "pygments_lexer": "ipython3",
   "version": "3.8.10"
  },
  "toc-showcode": false,
  "toc-showmarkdowntxt": false,
  "toc-showtags": false
 },
 "nbformat": 4,
 "nbformat_minor": 5
}
