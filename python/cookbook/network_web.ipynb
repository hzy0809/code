{
 "cells": [
  {
   "cell_type": "markdown",
   "id": "19264c13-92e3-42d7-8a9b-8eead6f2ad37",
   "metadata": {},
   "source": [
    "# 作为客户端与HTTP服务交互"
   ]
  },
  {
   "cell_type": "markdown",
   "id": "1a064696-ecdd-4427-ac60-33e6c0d4d808",
   "metadata": {},
   "source": [
    "## GET"
   ]
  },
  {
   "cell_type": "markdown",
   "id": "1fb3e06d-046f-4b1b-9c36-75d743aae5f8",
   "metadata": {},
   "source": [
    "```python\n",
    "from urllib import request, parse\n",
    "\n",
    "# Base URL being accessed\n",
    "url = 'http://httpbin.org/get'\n",
    "\n",
    "# Dictionary of query parameters (if any)\n",
    "parms = {\n",
    "   'name1' : 'value1',\n",
    "   'name2' : 'value2'\n",
    "}\n",
    "\n",
    "# Encode the query string\n",
    "querystring = parse.urlencode(parms)\n",
    "\n",
    "# Make a GET request and read the response\n",
    "u = request.urlopen(url+'?' + querystring)\n",
    "resp = u.read()\n",
    "```"
   ]
  },
  {
   "cell_type": "markdown",
   "id": "710580f1-7c9b-4310-9226-14f67eb5a795",
   "metadata": {},
   "source": [
    "## 主体参数"
   ]
  },
  {
   "cell_type": "markdown",
   "id": "36eeb3e2-253e-4666-b1ef-201deb9d9d1c",
   "metadata": {},
   "source": [
    "```python\n",
    "from urllib import request, parse\n",
    "\n",
    "# Base URL being accessed\n",
    "url = 'http://httpbin.org/post'\n",
    "\n",
    "# Dictionary of query parameters (if any)\n",
    "parms = {\n",
    "   'name1' : 'value1',\n",
    "   'name2' : 'value2'\n",
    "}\n",
    "\n",
    "# Encode the query string\n",
    "querystring = parse.urlencode(parms)\n",
    "\n",
    "# Make a POST request and read the response\n",
    "u = request.urlopen(url, querystring.encode('ascii'))\n",
    "resp = u.read()\n",
    "```"
   ]
  },
  {
   "cell_type": "markdown",
   "id": "d130da82-3e48-45bd-9ad8-f087f8ec6467",
   "metadata": {},
   "source": [
    "## 自定义`headers`"
   ]
  },
  {
   "cell_type": "markdown",
   "id": "bf935ad9-5045-492a-9ffa-fcf9c3dadaa6",
   "metadata": {},
   "source": [
    "```python\n",
    "from urllib import request, parse\n",
    "...\n",
    "\n",
    "# Extra headers\n",
    "headers = {\n",
    "    'User-agent' : 'none/ofyourbusiness',\n",
    "    'Spam' : 'Eggs'\n",
    "}\n",
    "\n",
    "req = request.Request(url, querystring.encode('ascii'), headers=headers)\n",
    "\n",
    "# Make a request and read the response\n",
    "u = request.urlopen(req)\n",
    "resp = u.read()\n",
    "```"
   ]
  },
  {
   "cell_type": "markdown",
   "id": "c4b6b16a-62b5-440c-8c9b-c4aea8267b95",
   "metadata": {},
   "source": [
    "## requests"
   ]
  },
  {
   "cell_type": "markdown",
   "id": "c38bf470-0110-41fe-8027-9ad459e7c76b",
   "metadata": {},
   "source": [
    "### 基本示例"
   ]
  },
  {
   "cell_type": "markdown",
   "id": "d64b136a-8384-4329-ad68-6655a0d0ef5a",
   "metadata": {},
   "source": [
    "```python\n",
    "import requests\n",
    "\n",
    "# Base URL being accessed\n",
    "url = 'http://httpbin.org/post'\n",
    "\n",
    "# Dictionary of query parameters (if any)\n",
    "parms = {\n",
    "   'name1' : 'value1',\n",
    "   'name2' : 'value2'\n",
    "}\n",
    "\n",
    "# Extra headers\n",
    "headers = {\n",
    "    'User-agent' : 'none/ofyourbusiness',\n",
    "    'Spam' : 'Eggs'\n",
    "}\n",
    "\n",
    "resp = requests.post(url, data=parms, headers=headers)\n",
    "\n",
    "# Decoded text returned by the request\n",
    "text = resp.text\n",
    "```"
   ]
  },
  {
   "cell_type": "markdown",
   "id": "08df6fc7-8b1e-4e5c-905b-ac3888d36b41",
   "metadata": {},
   "source": [
    "`resp.text` 以Unicode解码的响应文本。  \n",
    "`resp.content` ，原始的二进制数据。  \n",
    "`resp.json` ，JSON格式的响应内容。"
   ]
  },
  {
   "cell_type": "markdown",
   "id": "f27cfe21-d44f-4ba0-b594-8bd2d0b9bd69",
   "metadata": {},
   "source": [
    "### 提取HTTP头数据"
   ]
  },
  {
   "cell_type": "markdown",
   "id": "426054af-7044-4325-b1ce-a63fb585127a",
   "metadata": {},
   "source": [
    "```python\n",
    "import requests\n",
    "\n",
    "resp = requests.head('http://www.python.org/index.html')\n",
    "\n",
    "status = resp.status_code\n",
    "last_modified = resp.headers['last-modified']\n",
    "content_type = resp.headers['content-type']\n",
    "content_length = resp.headers['content-length']\n",
    "```"
   ]
  },
  {
   "cell_type": "markdown",
   "id": "8a52d45c-fb3c-412b-9304-443cb894aa9a",
   "metadata": {},
   "source": [
    "### 通过基本认证登录Pypi"
   ]
  },
  {
   "cell_type": "markdown",
   "id": "72272e5c-ad73-4187-a000-ee3abafb4590",
   "metadata": {},
   "source": [
    "```python\n",
    "import requests\n",
    "\n",
    "resp = requests.get('http://pypi.python.org/pypi?:action=login',\n",
    "                    auth=('user','password'))\n",
    "```"
   ]
  },
  {
   "cell_type": "markdown",
   "id": "54e57836-82f3-48dd-9083-171115b32624",
   "metadata": {},
   "source": [
    "### 传递cookies"
   ]
  },
  {
   "cell_type": "markdown",
   "id": "f78a9f61-9153-4070-be90-a536ffabe45c",
   "metadata": {},
   "source": [
    "```python\n",
    "import requests\n",
    "\n",
    "# First request\n",
    "resp1 = requests.get(url)\n",
    "...\n",
    "\n",
    "# Second requests with cookies received on first requests\n",
    "resp2 = requests.get(url, cookies=resp1.cookies)\n",
    "```"
   ]
  },
  {
   "cell_type": "markdown",
   "id": "2b118071-cfcc-4340-a1e4-a7748be287a4",
   "metadata": {},
   "source": [
    "### 上传内容"
   ]
  },
  {
   "cell_type": "markdown",
   "id": "2480a1ca-6511-4d3b-82f5-f847fd0e2fb3",
   "metadata": {},
   "source": [
    "```python\n",
    "import requests\n",
    "url = 'http://httpbin.org/post'\n",
    "files = { 'file': ('data.csv', open('data.csv', 'rb')) }\n",
    "\n",
    "r = requests.post(url, files=files)\n",
    "```"
   ]
  },
  {
   "cell_type": "code",
   "execution_count": 11,
   "id": "d0bae9aa-4051-4207-9267-c2204dff570a",
   "metadata": {},
   "outputs": [
    {
     "name": "stdout",
     "output_type": "stream",
     "text": [
      "Status 301\n",
      "Server Varnish\n",
      "Retry-After 0\n",
      "Location https://www.python.org/index.html\n",
      "Content-Length 0\n",
      "Accept-Ranges bytes\n",
      "Date Tue, 31 Aug 2021 03:39:32 GMT\n",
      "Via 1.1 varnish\n",
      "Connection close\n",
      "X-Served-By cache-nrt18332-NRT\n",
      "X-Cache HIT\n",
      "X-Cache-Hits 0\n",
      "X-Timer S1630381172.134579,VS0,VE0\n",
      "Strict-Transport-Security max-age=63072000; includeSubDomains\n"
     ]
    }
   ],
   "source": [
    "from http.client import HTTPConnection\n",
    "from urllib import parse\n",
    "\n",
    "c = HTTPConnection('www.python.org', 80)\n",
    "c.request('HEAD', '/index.html')\n",
    "resp = c.getresponse()\n",
    "\n",
    "print('Status', resp.status)\n",
    "for name, value in resp.getheaders():\n",
    "    print(name, value)"
   ]
  },
  {
   "cell_type": "code",
   "execution_count": 13,
   "id": "126c60c6-da95-4bb9-8b13-def8b2224cc5",
   "metadata": {},
   "outputs": [
    {
     "data": {
      "text/plain": [
       "({'Accept': '*/*',\n",
       "  'Accept-Encoding': 'gzip, deflate',\n",
       "  'Host': 'httpbin.org',\n",
       "  'User-Agent': 'goaway/1.0',\n",
       "  'X-Amzn-Trace-Id': 'Root=1-612da4f5-2dc5e30f7f6fa8517845d53d'},\n",
       " {'n': '37', 'name': 'Dave'})"
      ]
     },
     "execution_count": 13,
     "metadata": {},
     "output_type": "execute_result"
    }
   ],
   "source": [
    "import requests\n",
    "r = requests.get('http://httpbin.org/get?name=Dave&n=37',\n",
    "headers = { 'User-agent': 'goaway/1.0' })\n",
    "resp = r.json()\n",
    "resp['headers'],resp['args']"
   ]
  },
  {
   "cell_type": "markdown",
   "id": "50343cf6-0401-4b5b-b651-352c9caedf83",
   "metadata": {},
   "source": [
    "# 创建TCP服务器"
   ]
  },
  {
   "cell_type": "markdown",
   "id": "f1b708d3-d79d-4ab3-b3aa-565b8df2b8a4",
   "metadata": {},
   "source": [
    "## 简单的应答服务器"
   ]
  },
  {
   "cell_type": "code",
   "execution_count": 18,
   "id": "0e9e7856-cf41-4cae-bca7-1e3c287463f1",
   "metadata": {},
   "outputs": [],
   "source": [
    "from socketserver import BaseRequestHandler, TCPServer\n",
    "\n",
    "class EchoHandler(BaseRequestHandler):\n",
    "    def handle(self):\n",
    "        print('Got connection from', self.client_address)\n",
    "        while True:\n",
    "            msg = self.request.recv(8192)\n",
    "            if not msg:\n",
    "                break\n",
    "            self.request.send(msg)\n",
    "\n",
    "def main():\n",
    "    serv = TCPServer(('', 20000), EchoHandler)\n",
    "    serv.serve_forever()\n"
   ]
  },
  {
   "cell_type": "markdown",
   "id": "a48a6755-239d-4f68-8a6d-feaec2c8c323",
   "metadata": {},
   "source": [
    "```python\n",
    "from socket import socket, AF_INET, SOCK_STREAM\n",
    "s = socket(AF_INET, SOCK_STREAM)\n",
    "s.connect(('localhost', 20000))\n",
    "s.send(b'Hello')\n",
    " 5\n",
    "s.recv(8192)\n",
    " b'Hello'\n",
    "```"
   ]
  },
  {
   "cell_type": "markdown",
   "id": "643522d9-d90c-4a93-9daa-d4d324127f84",
   "metadata": {},
   "source": [
    "## 类文件接口"
   ]
  },
  {
   "cell_type": "code",
   "execution_count": 17,
   "id": "2a19ca67-173e-447b-84a6-a25bca044d83",
   "metadata": {},
   "outputs": [],
   "source": [
    "from socketserver import StreamRequestHandler, TCPServer\n",
    "\n",
    "class EchoHandler(StreamRequestHandler):\n",
    "    def handle(self):\n",
    "        print('Got connection from', self.client_address)\n",
    "        # self.rfile is a file-like object for reading\n",
    "        for line in self.rfile:\n",
    "            # self.wfile is a file-like object for writing\n",
    "            self.wfile.write(line)\n",
    "def main():\n",
    "    serv = TCPServer(('', 20000), EchoHandler)\n",
    "    serv.serve_forever()"
   ]
  },
  {
   "cell_type": "markdown",
   "id": "e2cf7c95-6b5f-4586-a41e-cb1459aa5fc4",
   "metadata": {},
   "source": [
    "## 多线程服务器"
   ]
  },
  {
   "cell_type": "markdown",
   "id": "7f6b10c1-6ffa-4a56-8430-8ad3fe451a23",
   "metadata": {},
   "source": [
    "默认情况下这种服务器是单线程的，一次只能为一个客户端连接服务。 如果想处理多个客户端，可以初始化一个 `ForkingTCPServer` 或者是 `ThreadingTCPServer` 对象。"
   ]
  },
  {
   "cell_type": "code",
   "execution_count": 19,
   "id": "1853a9f5-ddb7-41e3-9ef9-df91c9e11483",
   "metadata": {},
   "outputs": [],
   "source": [
    "from socketserver import ThreadingTCPServer\n",
    "\n",
    "def main():\n",
    "    serv = ThreadingTCPServer(('', 20000), EchoHandler)\n",
    "    serv.serve_forever()"
   ]
  },
  {
   "cell_type": "markdown",
   "id": "56fcb47f-c68f-462c-9bc9-2329d4d6eb42",
   "metadata": {},
   "source": [
    "使用`fork`或线程服务器有个潜在问题就是它们会为每个客户端连接创建一个新的进程或线程。 由于客户端连接数是没有限制的，因此一个恶意的黑客可以同时发送大量的连接让你的服务器奔溃。"
   ]
  },
  {
   "cell_type": "markdown",
   "id": "c366866d-a596-470b-b1b5-aeaf0ab019e2",
   "metadata": {},
   "source": [
    "可以创建一个预先分配大小的工作线程池或进程池。 你先创建一个普通的非线程服务器，然后在一个线程池中使用 `serve_forever()` 方法来启动它们。"
   ]
  },
  {
   "cell_type": "code",
   "execution_count": 21,
   "id": "fc041ffa-80b6-4914-a808-1a3642ce24a1",
   "metadata": {},
   "outputs": [],
   "source": [
    "def main():\n",
    "    from threading import Thread\n",
    "    NWORKERS = 16\n",
    "    serv = TCPServer(('', 20000), EchoHandler)\n",
    "    for n in range(NWORKERS):\n",
    "        t = Thread(target=serv.serve_forever)\n",
    "        t.daemon = True\n",
    "        t.start()\n",
    "    serv.serve_forever()"
   ]
  },
  {
   "cell_type": "markdown",
   "id": "346d1a65-ad46-4f32-a5e4-977363d138da",
   "metadata": {},
   "source": [
    "## 扩展"
   ]
  },
  {
   "cell_type": "markdown",
   "id": "6459e1fe-6560-472a-9e8e-9883491f874a",
   "metadata": {},
   "source": [
    "一般来讲，一个 `TCPServer` 在实例化的时候会绑定并激活相应的 `socket` 。 不过，想通过设置某些选项去调整底下的 `socket` ，可以设置参数 `bind_and_activate=False` 。"
   ]
  },
  {
   "cell_type": "code",
   "execution_count": 22,
   "id": "614eaa9b-58c0-4576-8e87-6b2383b504c7",
   "metadata": {},
   "outputs": [],
   "source": [
    "def main():\n",
    "    serv = TCPServer(('', 20000), EchoHandler, bind_and_activate=False)\n",
    "    # Set up various socket options\n",
    "    serv.socket.setsockopt(socket.SOL_SOCKET, socket.SO_REUSEADDR, True)\n",
    "    # Bind and activate\n",
    "    serv.server_bind()\n",
    "    serv.server_activate()\n",
    "    serv.serve_forever()"
   ]
  },
  {
   "cell_type": "markdown",
   "id": "b32e6811-c125-4f35-9661-ef698c2b262d",
   "metadata": {},
   "source": [
    "上面`socket` 选项是一个非常普遍的配置项，它允许服务器重新绑定一个之前使用过的端口号。 由于要被经常使用到，它被放置到类变量中，可以直接在 `TCPServer` 上面设置。"
   ]
  },
  {
   "cell_type": "code",
   "execution_count": 23,
   "id": "e79f6d1b-9615-47ec-8d16-328f460e91ea",
   "metadata": {},
   "outputs": [],
   "source": [
    "def main():\n",
    "    TCPServer.allow_reuse_address = True\n",
    "    serv = TCPServer(('', 20000), EchoHandler)\n",
    "    serv.serve_forever()"
   ]
  },
  {
   "cell_type": "markdown",
   "id": "dd0b608e-179d-4d4c-a72c-448ffab1480f",
   "metadata": {},
   "source": [
    "`StreamRequestHandler` 更加灵活点，能通过设置其他的类变量来支持一些新的特性。"
   ]
  },
  {
   "cell_type": "code",
   "execution_count": 24,
   "id": "ee643835-3f9a-43df-b0c4-fa2de65f70bd",
   "metadata": {},
   "outputs": [],
   "source": [
    "import socket\n",
    "\n",
    "class EchoHandler(StreamRequestHandler):\n",
    "    # Optional settings (defaults shown)\n",
    "    timeout = 5                      # Timeout on all socket operations\n",
    "    rbufsize = -1                    # Read buffer size\n",
    "    wbufsize = 0                     # Write buffer size\n",
    "    disable_nagle_algorithm = False  # Sets TCP_NODELAY socket option\n",
    "    def handle(self):\n",
    "        print('Got connection from', self.client_address)\n",
    "        try:\n",
    "            for line in self.rfile:\n",
    "                # self.wfile is a file-like object for writing\n",
    "                self.wfile.write(line)\n",
    "        except socket.timeout:\n",
    "            print('Timed out!')"
   ]
  },
  {
   "cell_type": "markdown",
   "id": "bf76222b-ca1d-4445-9194-e16025164ac4",
   "metadata": {},
   "source": [
    "## 使用 `socket` 直接编程实现的一个服务器"
   ]
  },
  {
   "cell_type": "code",
   "execution_count": 26,
   "id": "32a838ab-b071-4ae3-9a5e-b0c88045e680",
   "metadata": {},
   "outputs": [],
   "source": [
    "from socket import socket, AF_INET, SOCK_STREAM\n",
    "\n",
    "def echo_handler(address, client_sock):\n",
    "    print('Got connection from {}'.format(address))\n",
    "    while True:\n",
    "        msg = client_sock.recv(8192)\n",
    "        if not msg:\n",
    "            break\n",
    "        client_sock.sendall(msg)\n",
    "    client_sock.close()\n",
    "\n",
    "def echo_server(address, backlog=5):\n",
    "    sock = socket(AF_INET, SOCK_STREAM)\n",
    "    sock.bind(address)\n",
    "    sock.listen(backlog)\n",
    "    while True:\n",
    "        client_sock, client_addr = sock.accept()\n",
    "        echo_handler(client_addr, client_sock)\n",
    "\n",
    "def main():\n",
    "    echo_server(('', 20000))"
   ]
  },
  {
   "cell_type": "markdown",
   "id": "3d96e571-5efd-4c40-9c6f-3c83fc5abe5b",
   "metadata": {},
   "source": [
    "# 创建UDP服务器"
   ]
  },
  {
   "cell_type": "markdown",
   "id": "e1274877-6f95-4db9-ba3b-6008ee010b44",
   "metadata": {},
   "source": [
    "## 简单的时间服务器"
   ]
  },
  {
   "cell_type": "code",
   "execution_count": 28,
   "id": "bdf1b325-5e0d-48dc-b594-b802e5070a5f",
   "metadata": {},
   "outputs": [],
   "source": [
    "from socketserver import BaseRequestHandler, UDPServer\n",
    "import time\n",
    "\n",
    "class TimeHandler(BaseRequestHandler):\n",
    "    def handle(self):\n",
    "        print('Got connection from', self.client_address)\n",
    "        # Get message and client socket\n",
    "        msg, sock = self.request\n",
    "        resp = time.ctime()\n",
    "        sock.sendto(resp.encode('ascii'), self.client_address)\n",
    "\n",
    "def main():\n",
    "    serv = UDPServer(('', 20000), TimeHandler)\n",
    "    serv.serve_forever()"
   ]
  },
  {
   "cell_type": "markdown",
   "id": "5dd9d1f5-c51c-4577-91c7-6966e40a408b",
   "metadata": {},
   "source": [
    "```python\n",
    "from socket import socket, AF_INET, SOCK_DGRAM\n",
    "s = socket(AF_INET, SOCK_DGRAM)\n",
    "s.sendto(b'', ('localhost', 20000))\n",
    "Out[4]: 0\n",
    "s.recvfrom(8192)\n",
    "Out[5]: (b'Tue Aug 31 15:20:22 2021', ('127.0.0.1', 20000))\n",
    "```"
   ]
  },
  {
   "cell_type": "markdown",
   "id": "af8619c2-52f3-4b90-bb35-2b9857ed2a85",
   "metadata": {},
   "source": [
    "## 多线程"
   ]
  },
  {
   "cell_type": "code",
   "execution_count": 29,
   "id": "637f20c0-03ed-4fd4-84df-39b325652c96",
   "metadata": {},
   "outputs": [],
   "source": [
    "from socketserver import ThreadingUDPServer\n",
    "\n",
    "def main():\n",
    "    serv = ThreadingUDPServer(('',20000), TimeHandler)\n",
    "    serv.serve_forever()"
   ]
  },
  {
   "cell_type": "markdown",
   "id": "f9dd313b-9331-4318-bffd-dbdfbfc3b82c",
   "metadata": {},
   "source": [
    "## 使用 `socket` 来实现一个UDP服务器"
   ]
  },
  {
   "cell_type": "code",
   "execution_count": 30,
   "id": "d2ed6cf6-a650-4df7-a734-e7e93427f37a",
   "metadata": {},
   "outputs": [],
   "source": [
    "from socket import socket, AF_INET, SOCK_DGRAM\n",
    "import time\n",
    "\n",
    "def time_server(address):\n",
    "    sock = socket(AF_INET, SOCK_DGRAM)\n",
    "    sock.bind(address)\n",
    "    while True:\n",
    "        msg, addr = sock.recvfrom(8192)\n",
    "        print('Got message from', addr)\n",
    "        resp = time.ctime()\n",
    "        sock.sendto(resp.encode('ascii'), addr)\n",
    "\n",
    "def main():\n",
    "    time_server(('', 20000))"
   ]
  },
  {
   "cell_type": "markdown",
   "id": "aea75f53-078a-40e0-8b19-95f690095b8c",
   "metadata": {},
   "source": [
    "# 通过CIDR地址生成对应的IP地址集"
   ]
  },
  {
   "cell_type": "code",
   "execution_count": 31,
   "id": "c2110781-9ee1-4a89-b70b-8ba84a57efb6",
   "metadata": {},
   "outputs": [
    {
     "data": {
      "text/plain": [
       "IPv4Network('123.45.67.64/27')"
      ]
     },
     "execution_count": 31,
     "metadata": {},
     "output_type": "execute_result"
    }
   ],
   "source": [
    "import ipaddress\n",
    "net = ipaddress.ip_network('123.45.67.64/27')\n",
    "net"
   ]
  },
  {
   "cell_type": "code",
   "execution_count": 32,
   "id": "b5455f99-6c75-476b-8ec4-2ea33754d82f",
   "metadata": {
    "scrolled": true,
    "tags": []
   },
   "outputs": [
    {
     "name": "stdout",
     "output_type": "stream",
     "text": [
      "123.45.67.64\n",
      "123.45.67.65\n",
      "123.45.67.66\n",
      "123.45.67.67\n",
      "123.45.67.68\n",
      "123.45.67.69\n",
      "123.45.67.70\n",
      "123.45.67.71\n",
      "123.45.67.72\n",
      "123.45.67.73\n",
      "123.45.67.74\n",
      "123.45.67.75\n",
      "123.45.67.76\n",
      "123.45.67.77\n",
      "123.45.67.78\n",
      "123.45.67.79\n",
      "123.45.67.80\n",
      "123.45.67.81\n",
      "123.45.67.82\n",
      "123.45.67.83\n",
      "123.45.67.84\n",
      "123.45.67.85\n",
      "123.45.67.86\n",
      "123.45.67.87\n",
      "123.45.67.88\n",
      "123.45.67.89\n",
      "123.45.67.90\n",
      "123.45.67.91\n",
      "123.45.67.92\n",
      "123.45.67.93\n",
      "123.45.67.94\n",
      "123.45.67.95\n"
     ]
    }
   ],
   "source": [
    "for a in net:\n",
    "    print(a)"
   ]
  },
  {
   "cell_type": "code",
   "execution_count": 33,
   "id": "57beb1e3-8440-492c-9188-10f793f29c35",
   "metadata": {},
   "outputs": [
    {
     "data": {
      "text/plain": [
       "IPv6Network('12:3456:78:90ab:cd:ef01:23:30/125')"
      ]
     },
     "execution_count": 33,
     "metadata": {},
     "output_type": "execute_result"
    }
   ],
   "source": [
    "net6 = ipaddress.ip_network('12:3456:78:90ab:cd:ef01:23:30/125')\n",
    "net6"
   ]
  },
  {
   "cell_type": "code",
   "execution_count": 34,
   "id": "d284a798-c451-4375-b245-10c72c464a5f",
   "metadata": {},
   "outputs": [
    {
     "name": "stdout",
     "output_type": "stream",
     "text": [
      "12:3456:78:90ab:cd:ef01:23:30\n",
      "12:3456:78:90ab:cd:ef01:23:31\n",
      "12:3456:78:90ab:cd:ef01:23:32\n",
      "12:3456:78:90ab:cd:ef01:23:33\n",
      "12:3456:78:90ab:cd:ef01:23:34\n",
      "12:3456:78:90ab:cd:ef01:23:35\n",
      "12:3456:78:90ab:cd:ef01:23:36\n",
      "12:3456:78:90ab:cd:ef01:23:37\n"
     ]
    }
   ],
   "source": [
    "for a in net6:\n",
    "    print(a)"
   ]
  },
  {
   "cell_type": "code",
   "execution_count": 35,
   "id": "183aec0a-324c-4f86-ba77-b28a81d8052f",
   "metadata": {},
   "outputs": [
    {
     "data": {
      "text/plain": [
       "32"
      ]
     },
     "execution_count": 35,
     "metadata": {},
     "output_type": "execute_result"
    }
   ],
   "source": [
    "net.num_addresses"
   ]
  },
  {
   "cell_type": "code",
   "execution_count": 36,
   "id": "9daac6c9-f328-4af9-a27a-fd560cc0766f",
   "metadata": {},
   "outputs": [
    {
     "data": {
      "text/plain": [
       "IPv4Address('123.45.67.64')"
      ]
     },
     "execution_count": 36,
     "metadata": {},
     "output_type": "execute_result"
    }
   ],
   "source": [
    "net[0]"
   ]
  },
  {
   "cell_type": "code",
   "execution_count": 37,
   "id": "c0efd6e2-dafa-4a52-8de8-aa9a3a3f0e67",
   "metadata": {},
   "outputs": [
    {
     "data": {
      "text/plain": [
       "True"
      ]
     },
     "execution_count": 37,
     "metadata": {},
     "output_type": "execute_result"
    }
   ],
   "source": [
    "a = ipaddress.ip_address('123.45.67.69')\n",
    "a in net"
   ]
  },
  {
   "cell_type": "code",
   "execution_count": 44,
   "id": "5fc0da05-1fdd-43dd-9b12-4b150b1d91b4",
   "metadata": {},
   "outputs": [
    {
     "data": {
      "text/plain": [
       "IPv4Network('123.45.67.64/27')"
      ]
     },
     "execution_count": 44,
     "metadata": {},
     "output_type": "execute_result"
    }
   ],
   "source": [
    "# 一个IP地址和网络地址能通过一个IP接口来指定\n",
    "\n",
    "inet = ipaddress.ip_interface('123.45.67.73/27')\n",
    "inet.network"
   ]
  },
  {
   "cell_type": "code",
   "execution_count": 45,
   "id": "206af572-03ea-4b66-9af3-2318f3f3114c",
   "metadata": {},
   "outputs": [
    {
     "data": {
      "text/plain": [
       "IPv4Address('123.45.67.73')"
      ]
     },
     "execution_count": 45,
     "metadata": {},
     "output_type": "execute_result"
    }
   ],
   "source": [
    "inet.ip"
   ]
  },
  {
   "cell_type": "markdown",
   "id": "c7042cc2-5f16-4b58-bb74-3a98f6800b0c",
   "metadata": {},
   "source": [
    "# 创建一个简单的REST接口"
   ]
  },
  {
   "cell_type": "code",
   "execution_count": 43,
   "id": "04ae6b42-1902-4e68-a30d-f5b8d72070ff",
   "metadata": {},
   "outputs": [],
   "source": [
    "# resty.py\n",
    "\n",
    "import cgi\n",
    "\n",
    "def notfound_404(environ, start_response):\n",
    "    start_response('404 Not Found', [ ('Content-type', 'text/plain') ])\n",
    "    return [b'Not Found']\n",
    "\n",
    "class PathDispatcher:\n",
    "    def __init__(self):\n",
    "        self.pathmap = { }\n",
    "\n",
    "    def __call__(self, environ, start_response):\n",
    "        path = environ['PATH_INFO']\n",
    "        params = cgi.FieldStorage(environ['wsgi.input'],\n",
    "                                  environ=environ)\n",
    "        method = environ['REQUEST_METHOD'].lower()\n",
    "        environ['params'] = { key: params.getvalue(key) for key in params }\n",
    "        handler = self.pathmap.get((method,path), notfound_404)\n",
    "        return handler(environ, start_response)\n",
    "\n",
    "    def register(self, method, path, function):\n",
    "        self.pathmap[method.lower(), path] = function\n",
    "        return function"
   ]
  },
  {
   "cell_type": "code",
   "execution_count": 46,
   "id": "a7bdd712-ef54-484d-a5df-93e1dbe5856a",
   "metadata": {},
   "outputs": [],
   "source": [
    "import time\n",
    "\n",
    "_hello_resp = '''\\\n",
    "<html>\n",
    "  <head>\n",
    "     <title>Hello {name}</title>\n",
    "   </head>\n",
    "   <body>\n",
    "     <h1>Hello {name}!</h1>\n",
    "   </body>\n",
    "</html>'''\n",
    "\n",
    "def hello_world(environ, start_response):\n",
    "    start_response('200 OK', [ ('Content-type','text/html')])\n",
    "    params = environ['params']\n",
    "    resp = _hello_resp.format(name=params.get('name'))\n",
    "    yield resp.encode('utf-8')\n",
    "\n",
    "_localtime_resp = '''\\\n",
    "<?xml version=\"1.0\"?>\n",
    "<time>\n",
    "  <year>{t.tm_year}</year>\n",
    "  <month>{t.tm_mon}</month>\n",
    "  <day>{t.tm_mday}</day>\n",
    "  <hour>{t.tm_hour}</hour>\n",
    "  <minute>{t.tm_min}</minute>\n",
    "  <second>{t.tm_sec}</second>\n",
    "</time>'''\n",
    "\n",
    "def localtime(environ, start_response):\n",
    "    start_response('200 OK', [ ('Content-type', 'application/xml') ])\n",
    "    resp = _localtime_resp.format(t=time.localtime())\n",
    "    yield resp.encode('utf-8')\n",
    "    \n",
    "def main():\n",
    "    from wsgiref.simple_server import make_server\n",
    "\n",
    "    # Create the dispatcher and register functions\n",
    "    dispatcher = PathDispatcher()\n",
    "    dispatcher.register('GET', '/hello', hello_world)\n",
    "    dispatcher.register('GET', '/localtime', localtime)\n",
    "\n",
    "    # Launch a basic server\n",
    "    httpd = make_server('', 8080, dispatcher)\n",
    "    print('Serving on port 8080...')\n",
    "    httpd.serve_forever()"
   ]
  },
  {
   "cell_type": "markdown",
   "id": "9b7ee2b4-ec9f-42b2-a8f2-48d4d1fbb7f1",
   "metadata": {},
   "source": [
    "`environ['REQUEST_METHOD']` 代表请求类型如`GET`、`POST`、`HEAD`等。   \n",
    "`environ['PATH_INFO']` 表示被请求资源的路径。   \n",
    "调用 `cgi.FieldStorage()` 可以从请求中提取查询参数并将它们放入一个类字典对象中以便后面使用。"
   ]
  },
  {
   "cell_type": "markdown",
   "id": "5f1fa7f4-d553-40fe-842f-221705699146",
   "metadata": {},
   "source": [
    "# 通过XML-RPC实现简单的远程调用"
   ]
  },
  {
   "cell_type": "code",
   "execution_count": 47,
   "id": "c935982b-0fe7-440f-ac4a-c0427618e364",
   "metadata": {},
   "outputs": [],
   "source": [
    "from xmlrpc.server import SimpleXMLRPCServer\n",
    "\n",
    "class KeyValueServer:\n",
    "    _rpc_methods_ = ['get', 'set', 'delete', 'exists', 'keys']\n",
    "    def __init__(self, address):\n",
    "        self._data = {}\n",
    "        self._serv = SimpleXMLRPCServer(address, allow_none=True)\n",
    "        for name in self._rpc_methods_:\n",
    "            self._serv.register_function(getattr(self, name))\n",
    "\n",
    "    def get(self, name):\n",
    "        return self._data[name]\n",
    "\n",
    "    def set(self, name, value):\n",
    "        self._data[name] = value\n",
    "\n",
    "    def delete(self, name):\n",
    "        del self._data[name]\n",
    "\n",
    "    def exists(self, name):\n",
    "        return name in self._data\n",
    "\n",
    "    def keys(self):\n",
    "        return list(self._data)\n",
    "\n",
    "    def serve_forever(self):\n",
    "        self._serv.serve_forever()\n",
    "\n",
    "# Example\n",
    "def main():\n",
    "    kvserv = KeyValueServer(('', 15000))\n",
    "    kvserv.serve_forever()"
   ]
  },
  {
   "cell_type": "markdown",
   "id": "13d4b9ca-aace-4720-b712-dd85d52b31ae",
   "metadata": {},
   "source": [
    "```python\n",
    "from xmlrpc.client import ServerProxy\n",
    "s = ServerProxy('http://localhost:15000', allow_none=True)\n",
    "s.set('foo', 'bar')\n",
    "s.keys()\n",
    "Out[5]: ['foo']\n",
    "s.set('spam', [1, 2, 3])\n",
    "s.get('foo')\n",
    "Out[7]: 'bar'\n",
    "s.get('spam')\n",
    "Out[8]: [1, 2, 3]\n",
    "s.delete('spam')\n",
    "s.exists('spam')\n",
    "Out[10]: False\n",
    "```"
   ]
  },
  {
   "cell_type": "markdown",
   "id": "e15e4808-6a0b-4c2f-8456-216bd1783dff",
   "metadata": {},
   "source": [
    "创建一个服务器实例， 通过它的方法 `register_function()` 来注册函数，然后使用方法 `serve_forever()` 启动它。 "
   ]
  },
  {
   "cell_type": "markdown",
   "id": "e9e97115-524b-4cfc-9722-a0cb3f2f9419",
   "metadata": {},
   "source": [
    "```python\n",
    "from xmlrpc.server import SimpleXMLRPCServer\n",
    "def add(x,y):\n",
    "    return x+y\n",
    "\n",
    "serv = SimpleXMLRPCServer(('', 15000))\n",
    "serv.register_function(add)\n",
    "serv.serve_forever()\n",
    "```"
   ]
  },
  {
   "cell_type": "markdown",
   "id": "0f963c92-3120-4e1c-86cc-da732d22f5ec",
   "metadata": {},
   "source": [
    "# 在不同的Python解释器之间交互"
   ]
  },
  {
   "cell_type": "code",
   "execution_count": 49,
   "id": "27bf1e5c-d261-42a6-ace1-4519447954af",
   "metadata": {},
   "outputs": [],
   "source": [
    "from multiprocessing.connection import Listener\n",
    "import traceback\n",
    "\n",
    "def echo_client(conn):\n",
    "    try:\n",
    "        while True:\n",
    "            msg = conn.recv()\n",
    "            conn.send(msg)\n",
    "    except EOFError:\n",
    "        print('Connection closed')\n",
    "\n",
    "def echo_server(address, authkey):\n",
    "    serv = Listener(address, authkey=authkey)\n",
    "    while True:\n",
    "        try:\n",
    "            client = serv.accept()\n",
    "            echo_client(client)\n",
    "        except Exception:\n",
    "            traceback.print_exc()\n",
    "\n",
    "def main():\n",
    "    echo_server(('', 25000), authkey=b'peekaboo')"
   ]
  },
  {
   "cell_type": "markdown",
   "id": "e1e03d3d-450a-469f-8eee-64afe8dcfea2",
   "metadata": {},
   "source": [
    "```python\n",
    "from multiprocessing.connection import Client\n",
    "c = Client(('localhost', 25000), authkey=b'peekaboo')\n",
    "c.send('hello')\n",
    "c.recv()\n",
    "Out[5]: 'hello'\n",
    "c.send([1, 2, 3, 4, 5])\n",
    "c.recv()\n",
    "Out[7]: [1, 2, 3, 4, 5]\n",
    "```"
   ]
  },
  {
   "cell_type": "markdown",
   "id": "e5f8e4ff-30af-4dd3-ab29-3d6a524ac8cb",
   "metadata": {},
   "source": [
    "`UNIX`域套接字来创建一个连接\n",
    "```python\n",
    "s = Listener('/tmp/myconn', authkey=b'peekaboo')\n",
    "```"
   ]
  },
  {
   "cell_type": "markdown",
   "id": "0726d987-abae-45c2-97f8-f35c70340d0d",
   "metadata": {},
   "source": [
    "`Windows`命名管道来创建连接\n",
    "```python\n",
    "s = Listener(r'\\\\.\\pipe\\myconn', authkey=b'peekaboo')\n",
    "```"
   ]
  },
  {
   "cell_type": "markdown",
   "id": "2496634b-f684-47c2-9f9e-558ecd971d7d",
   "metadata": {},
   "source": [
    "# 实现远程方法调用"
   ]
  },
  {
   "cell_type": "markdown",
   "id": "792f0893-530c-42bc-8784-e847729f76fc",
   "metadata": {},
   "source": [
    "## PRC处理器"
   ]
  },
  {
   "cell_type": "code",
   "execution_count": 50,
   "id": "9af63a26-ca19-47a3-b4c3-da7315514a2d",
   "metadata": {},
   "outputs": [],
   "source": [
    "# rpcserver.py\n",
    "\n",
    "import pickle\n",
    "class RPCHandler:\n",
    "    def __init__(self):\n",
    "        self._functions = { }\n",
    "\n",
    "    def register_function(self, func):\n",
    "        self._functions[func.__name__] = func\n",
    "\n",
    "    def handle_connection(self, connection):\n",
    "        try:\n",
    "            while True:\n",
    "                # Receive a message\n",
    "                func_name, args, kwargs = pickle.loads(connection.recv())\n",
    "                # Run the RPC and send a response\n",
    "                try:\n",
    "                    r = self._functions[func_name](*args,**kwargs)\n",
    "                    connection.send(pickle.dumps(r))\n",
    "                except Exception as e:\n",
    "                    connection.send(pickle.dumps(e))\n",
    "        except EOFError:\n",
    "             pass"
   ]
  },
  {
   "cell_type": "markdown",
   "id": "2cc3d987-e57b-45c3-8d24-987a195f34b4",
   "metadata": {},
   "source": [
    "## 消息服务器"
   ]
  },
  {
   "cell_type": "code",
   "execution_count": 51,
   "id": "39513390-9524-4a53-ac1c-f85da30dfa0c",
   "metadata": {},
   "outputs": [],
   "source": [
    "from multiprocessing.connection import Listener\n",
    "from threading import Thread\n",
    "\n",
    "def rpc_server(handler, address, authkey):\n",
    "    sock = Listener(address, authkey=authkey)\n",
    "    while True:\n",
    "        client = sock.accept()\n",
    "        t = Thread(target=handler.handle_connection, args=(client,))\n",
    "        t.daemon = True\n",
    "        t.start()\n",
    "\n",
    "# Some remote functions\n",
    "def add(x, y):\n",
    "    return x + y\n",
    "\n",
    "def sub(x, y):\n",
    "    return x - y\n",
    "\n",
    "# Register with a handler\n",
    "handler = RPCHandler()\n",
    "handler.register_function(add)\n",
    "handler.register_function(sub)\n",
    "\n",
    "def main():\n",
    "    # Run the server\n",
    "    rpc_server(handler, ('localhost', 17000), authkey=b'peekaboo')"
   ]
  },
  {
   "cell_type": "markdown",
   "id": "08a09bbb-8d18-4e1c-bab7-40ff3eb628e6",
   "metadata": {},
   "source": [
    "## 传送请求的RPC代理类"
   ]
  },
  {
   "cell_type": "code",
   "execution_count": 53,
   "id": "459ae545-84e6-4523-bfb8-cbb33b780076",
   "metadata": {},
   "outputs": [],
   "source": [
    "import pickle\n",
    "\n",
    "class RPCProxy:\n",
    "    def __init__(self, connection):\n",
    "        self._connection = connection\n",
    "    def __getattr__(self, name):\n",
    "        def do_rpc(*args, **kwargs):\n",
    "            self._connection.send(pickle.dumps((name, args, kwargs)))\n",
    "            result = pickle.loads(self._connection.recv())\n",
    "            if isinstance(result, Exception):\n",
    "                raise result\n",
    "            return result\n",
    "        return do_rpc"
   ]
  },
  {
   "cell_type": "markdown",
   "id": "bad109d5-591d-48b5-b3cb-42417bdf3730",
   "metadata": {},
   "source": [
    "```python\n",
    "from multiprocessing.connection import Client\n",
    "c = Client(('localhost', 17000), authkey=b'peekaboo')\n",
    "proxy = RPCProxy(c)\n",
    "proxy.add(2, 3)\n",
    "Out[3]: 5\n",
    "proxy.sub(2, 3)\n",
    "Out[4]: -1\n",
    "proxy.sub([1, 2], 4)\n",
    "Traceback (most recent call last):\n",
    "  File \"/Users/huzhenyu/Documents/personal/python_personal/venv/lib/python3.7/site-packages/IPython/core/interactiveshell.py\", line 3418, in run_code\n",
    "    exec(code_obj, self.user_global_ns, self.user_ns)\n",
    "  File \"<ipython-input-5-7bc2bf0a51eb>\", line 1, in <module>\n",
    "    proxy.sub([1, 2], 4)\n",
    "  File \"<ipython-input-2-ad323adc8670>\", line 11, in do_rpc\n",
    "    raise result\n",
    "TypeError: unsupported operand type(s) for -: 'list' and 'int'\n",
    "```"
   ]
  },
  {
   "cell_type": "markdown",
   "id": "0e155d43-5ef0-4680-8e2c-80d7417a3737",
   "metadata": {},
   "source": [
    "## 使用json替代pickle"
   ]
  },
  {
   "cell_type": "code",
   "execution_count": 54,
   "id": "53467b16-ed3a-4287-847d-0e33f6bbfcab",
   "metadata": {},
   "outputs": [],
   "source": [
    "# jsonrpcserver.py\n",
    "import json\n",
    "\n",
    "class RPCHandler:\n",
    "    def __init__(self):\n",
    "        self._functions = { }\n",
    "\n",
    "    def register_function(self, func):\n",
    "        self._functions[func.__name__] = func\n",
    "\n",
    "    def handle_connection(self, connection):\n",
    "        try:\n",
    "            while True:\n",
    "                # Receive a message\n",
    "                func_name, args, kwargs = json.loads(connection.recv())\n",
    "                # Run the RPC and send a response\n",
    "                try:\n",
    "                    r = self._functions[func_name](*args,**kwargs)\n",
    "                    connection.send(json.dumps(r))\n",
    "                except Exception as e:\n",
    "                    connection.send(json.dumps(str(e)))\n",
    "        except EOFError:\n",
    "             pass\n",
    "\n",
    "# jsonrpcclient.py\n",
    "import json\n",
    "\n",
    "class RPCProxy:\n",
    "    def __init__(self, connection):\n",
    "        self._connection = connection\n",
    "    def __getattr__(self, name):\n",
    "        def do_rpc(*args, **kwargs):\n",
    "            self._connection.send(json.dumps((name, args, kwargs)))\n",
    "            result = json.loads(self._connection.recv())\n",
    "            return result\n",
    "        return do_rpc"
   ]
  },
  {
   "cell_type": "markdown",
   "id": "703b6eb3-b899-4091-8d7a-1128b9f841e4",
   "metadata": {},
   "source": [
    "# 简单的客户端认证"
   ]
  },
  {
   "cell_type": "code",
   "execution_count": 55,
   "id": "c43bd21b-7e55-405f-b15e-790ee1b26d21",
   "metadata": {},
   "outputs": [],
   "source": [
    "import hmac\n",
    "import os\n",
    "\n",
    "def client_authenticate(connection, secret_key):\n",
    "    '''\n",
    "    Authenticate client to a remote service.\n",
    "    connection represents a network connection.\n",
    "    secret_key is a key known only to both client/server.\n",
    "    '''\n",
    "    message = connection.recv(32)\n",
    "    _hash = hmac.new(secret_key, message)\n",
    "    digest = _hash.digest()\n",
    "    connection.send(digest)\n",
    "\n",
    "def server_authenticate(connection, secret_key):\n",
    "    '''\n",
    "    Request client authentication.\n",
    "    '''\n",
    "    message = os.urandom(32)\n",
    "    connection.send(message)\n",
    "    _hash = hmac.new(secret_key, message)\n",
    "    digest = _hash.digest()\n",
    "    response = connection.recv(len(digest))\n",
    "    return hmac.compare_digest(digest,response)"
   ]
  },
  {
   "cell_type": "code",
   "execution_count": 56,
   "id": "f4d69515-f559-4ad4-b82f-f6ae505c125d",
   "metadata": {},
   "outputs": [],
   "source": [
    "from socket import socket, AF_INET, SOCK_STREAM\n",
    "\n",
    "secret_key = b'peekaboo'\n",
    "def echo_handler(client_sock):\n",
    "    if not server_authenticate(client_sock, secret_key):\n",
    "        client_sock.close()\n",
    "        return\n",
    "    while True:\n",
    "\n",
    "        msg = client_sock.recv(8192)\n",
    "        if not msg:\n",
    "            break\n",
    "        client_sock.sendall(msg)\n",
    "\n",
    "def echo_server(address):\n",
    "    s = socket(AF_INET, SOCK_STREAM)\n",
    "    s.bind(address)\n",
    "    s.listen(5)\n",
    "    while True:\n",
    "        c,a = s.accept()\n",
    "        echo_handler(c)\n",
    "\n",
    "def main():\n",
    "    echo_server(('', 18000))"
   ]
  },
  {
   "cell_type": "markdown",
   "id": "bae95530-9659-4366-bb6f-24d65a6afe54",
   "metadata": {},
   "source": [
    "```python\n",
    "from socket import socket, AF_INET, SOCK_STREAM\n",
    "secret_key = b'peekaboo'\n",
    "s = socket(AF_INET, SOCK_STREAM)\n",
    "s.connect(('localhost', 18000))\n",
    "client_authenticate(s, secret_key)\n",
    "s.send(b'Hello World')\n",
    "resp = s.recv(1024)\n",
    "resp\n",
    "Out[4]: b'Hello World'\n",
    "```"
   ]
  },
  {
   "cell_type": "markdown",
   "id": "316a4bc4-c44c-49fe-b3a2-1b6e5855cdd7",
   "metadata": {},
   "source": [
    "# 在网络服务中加入SSL"
   ]
  },
  {
   "cell_type": "markdown",
   "id": "51a96e9a-3d0d-41a0-9d32-d1924a4459c8",
   "metadata": {},
   "source": [
    "## ssl模块"
   ]
  },
  {
   "cell_type": "markdown",
   "id": "73be1c9f-3f7c-4141-b34e-21dedba03276",
   "metadata": {},
   "source": [
    "`ssl` 模块能为底层socket连接添加SSL的支持。 `ssl.wrap_socket()` 函数接受一个已存在的socket作为参数并使用SSL层来包装它"
   ]
  },
  {
   "cell_type": "code",
   "execution_count": 57,
   "id": "ffb86e37-661e-4bcc-af93-d577a63ad874",
   "metadata": {},
   "outputs": [],
   "source": [
    "from socket import socket, AF_INET, SOCK_STREAM\n",
    "import ssl\n",
    "\n",
    "KEYFILE = 'server_key.pem'   # Private key of the server\n",
    "CERTFILE = 'server_cert.pem' # Server certificate (given to client)\n",
    "\n",
    "def echo_client(s):\n",
    "    while True:\n",
    "        data = s.recv(8192)\n",
    "        if data == b'':\n",
    "            break\n",
    "        s.send(data)\n",
    "    s.close()\n",
    "    print('Connection closed')\n",
    "\n",
    "def echo_server(address):\n",
    "    s = socket(AF_INET, SOCK_STREAM)\n",
    "    s.bind(address)\n",
    "    s.listen(1)\n",
    "\n",
    "    # Wrap with an SSL layer requiring client certs\n",
    "    s_ssl = ssl.wrap_socket(s,\n",
    "                            keyfile=KEYFILE,\n",
    "                            certfile=CERTFILE,\n",
    "                            server_side=True\n",
    "                            )\n",
    "    # Wait for connections\n",
    "    while True:\n",
    "        try:\n",
    "            c,a = s_ssl.accept()\n",
    "            print('Got connection', c, a)\n",
    "            echo_client(c)\n",
    "        except Exception as e:\n",
    "            print('{}: {}'.format(e.__class__.__name__, e))\n",
    "\n",
    "def main():\n",
    "    echo_server(('', 20000))"
   ]
  },
  {
   "cell_type": "markdown",
   "id": "1086fb67-c4a6-49c8-a71b-3f982118ac76",
   "metadata": {},
   "source": [
    "```python\n",
    "from socket import socket, AF_INET, SOCK_STREAM\n",
    "import ssl\n",
    "s = socket(AF_INET, SOCK_STREAM)\n",
    "s_ssl = ssl.wrap_socket(s,\n",
    "            cert_reqs=ssl.CERT_REQUIRED,\n",
    "            ca_certs = 'server_cert.pem')\n",
    "s_ssl.connect(('localhost', 20000))\n",
    "s_ssl.send(b'Hello World?')\n",
    "Out[2]: 12\n",
    "s_ssl.recv(8192)\n",
    "Out[3]: b'Hello World?'\n",
    "```"
   ]
  },
  {
   "cell_type": "markdown",
   "id": "c33e91d4-b1e3-41de-9794-e9084d209d25",
   "metadata": {},
   "source": [
    "## 对于服务器，可以通过使用一个mixin类来添加SSL"
   ]
  },
  {
   "cell_type": "code",
   "execution_count": 62,
   "id": "c8e1629b-011d-4766-856d-2d14985a18fb",
   "metadata": {},
   "outputs": [],
   "source": [
    "import ssl\n",
    "\n",
    "class SSLMixin:\n",
    "    '''\n",
    "    Mixin class that adds support for SSL to existing servers based\n",
    "    on the socketserver module.\n",
    "    '''\n",
    "    def __init__(self, *args,\n",
    "                 keyfile=None, certfile=None, ca_certs=None,\n",
    "                 cert_reqs=ssl.CERT_NONE,\n",
    "                 **kwargs):\n",
    "        self._keyfile = keyfile\n",
    "        self._certfile = certfile\n",
    "        self._ca_certs = ca_certs\n",
    "        self._cert_reqs = cert_reqs\n",
    "        super().__init__(*args, **kwargs)\n",
    "\n",
    "    def get_request(self):\n",
    "        client, addr = super().get_request()\n",
    "        client_ssl = ssl.wrap_socket(client,\n",
    "                                     keyfile = self._keyfile,\n",
    "                                     certfile = self._certfile,\n",
    "                                     ca_certs = self._ca_certs,\n",
    "                                     cert_reqs = self._cert_reqs,\n",
    "                                     server_side = True)\n",
    "        return client_ssl, addr"
   ]
  },
  {
   "cell_type": "code",
   "execution_count": 64,
   "id": "6a6045f6-b104-49c9-8546-143c001ec3b5",
   "metadata": {},
   "outputs": [],
   "source": [
    "from xmlrpc.server import SimpleXMLRPCServer\n",
    "\n",
    "class SSLSimpleXMLRPCServer(SSLMixin, SimpleXMLRPCServer):\n",
    "    pass\n",
    "\n",
    "# Here's the XML-RPC server from Recipe 11.6 modified only slightly to use SSL:\n",
    "\n",
    "import ssl\n",
    "from xmlrpc.server import SimpleXMLRPCServer\n",
    "\n",
    "class SSLSimpleXMLRPCServer(SSLMixin, SimpleXMLRPCServer):\n",
    "    pass\n",
    "\n",
    "class KeyValueServer:\n",
    "    _rpc_methods_ = ['get', 'set', 'delete', 'exists', 'keys']\n",
    "    def __init__(self, *args, **kwargs):\n",
    "        self._data = {}\n",
    "        self._serv = SSLSimpleXMLRPCServer(*args, allow_none=True, **kwargs)\n",
    "        for name in self._rpc_methods_:\n",
    "            self._serv.register_function(getattr(self, name))\n",
    "\n",
    "    def get(self, name):\n",
    "        return self._data[name]\n",
    "\n",
    "    def set(self, name, value):\n",
    "        self._data[name] = value\n",
    "\n",
    "    def delete(self, name):\n",
    "        del self._data[name]\n",
    "\n",
    "    def exists(self, name):\n",
    "        return name in self._data\n",
    "\n",
    "    def keys(self):\n",
    "        return list(self._data)\n",
    "\n",
    "    def serve_forever(self):\n",
    "        self._serv.serve_forever()\n",
    "\n",
    "def main():\n",
    "    KEYFILE='server_key.pem'    # Private key of the server\n",
    "    CERTFILE='server_cert.pem'  # Server certificate\n",
    "    kvserv = KeyValueServer(('', 15000),\n",
    "                            keyfile=KEYFILE,\n",
    "                            certfile=CERTFILE)\n",
    "    kvserv.serve_forever()"
   ]
  },
  {
   "cell_type": "markdown",
   "id": "a17c7fb7-fecd-4d2f-9489-a554237c10db",
   "metadata": {},
   "source": [
    "## 建立一个安全的XML-RPC连接来确认服务器证书"
   ]
  },
  {
   "cell_type": "code",
   "execution_count": 66,
   "id": "03f842d1-f99b-4c4a-b5bd-eb7b999133e1",
   "metadata": {},
   "outputs": [],
   "source": [
    "from xmlrpc.client import SafeTransport, ServerProxy\n",
    "import ssl\n",
    "\n",
    "class VerifyCertSafeTransport(SafeTransport):\n",
    "    def __init__(self, cafile, certfile=None, keyfile=None):\n",
    "        SafeTransport.__init__(self)\n",
    "        self._ssl_context = ssl.SSLContext(ssl.PROTOCOL_TLSv1)\n",
    "        self._ssl_context.load_verify_locations(cafile)\n",
    "        if certfile:\n",
    "            self._ssl_context.load_cert_chain(certfile, keyfile)\n",
    "        self._ssl_context.verify_mode = ssl.CERT_REQUIRED\n",
    "\n",
    "    def make_connection(self, host):\n",
    "        # Items in the passed dictionary are passed as keyword\n",
    "        # arguments to the http.client.HTTPSConnection() constructor.\n",
    "        # The context argument allows an ssl.SSLContext instance to\n",
    "        # be passed with information about the SSL configuration\n",
    "        s = super().make_connection((host, {'context': self._ssl_context}))\n",
    "\n",
    "        return s\n",
    "\n",
    "# Create the client proxy\n",
    "def main():\n",
    "    s = ServerProxy('https://localhost:15000',\n",
    "                    transport=VerifyCertSafeTransport('server_cert.pem'),\n",
    "                    allow_none=True)"
   ]
  },
  {
   "cell_type": "markdown",
   "id": "430d6473-5644-4242-8ca3-41e58b6d2a4c",
   "metadata": {},
   "source": [
    "## 服务器确认客户端"
   ]
  },
  {
   "cell_type": "code",
   "execution_count": 67,
   "id": "04530ef4-bb7e-4ee6-aa0f-d416528ebc03",
   "metadata": {},
   "outputs": [],
   "source": [
    "def main():\n",
    "    KEYFILE='server_key.pem'   # Private key of the server\n",
    "    CERTFILE='server_cert.pem' # Server certificate\n",
    "    CA_CERTS='client_cert.pem' # Certificates of accepted clients\n",
    "\n",
    "    kvserv = KeyValueServer(('', 15000),\n",
    "                            keyfile=KEYFILE,\n",
    "                            certfile=CERTFILE,\n",
    "                            ca_certs=CA_CERTS,\n",
    "                            cert_reqs=ssl.CERT_REQUIRED,\n",
    "                            )\n",
    "    kvserv.serve_forever()"
   ]
  },
  {
   "cell_type": "code",
   "execution_count": 68,
   "id": "7c0bfda9-e5e9-4e4f-92be-03ffa351b207",
   "metadata": {},
   "outputs": [],
   "source": [
    "def main():\n",
    "    # Create the client proxy\n",
    "    s = ServerProxy('https://localhost:15000',\n",
    "                    transport=VerifyCertSafeTransport('server_cert.pem',\n",
    "                                                      'client_cert.pem',\n",
    "                                                      'client_key.pem'),\n",
    "                    allow_none=True)"
   ]
  },
  {
   "cell_type": "markdown",
   "id": "e3fb3f9b-37ae-48eb-85b0-b18656a11e74",
   "metadata": {},
   "source": [
    "## 创建自签名的证书"
   ]
  },
  {
   "cell_type": "markdown",
   "id": "ff2fb2cc-52a1-42f4-a267-4c9d999cddbf",
   "metadata": {},
   "source": [
    "```bash\n",
    "bash % openssl req -new -x509 -days 365 -nodes -out server_cert.pem\n",
    "```"
   ]
  },
  {
   "cell_type": "markdown",
   "id": "26c70bf0-82a7-4ce7-9e42-43a180360a88",
   "metadata": {},
   "source": [
    "在创建证书的时候，各个值的设定可以是任意的，但是`Common Name`的值通常要包含服务器的DNS主机名。 如果你只是在本机测试，那么就使用`localhost`，否则使用服务器的域名。"
   ]
  },
  {
   "cell_type": "markdown",
   "id": "e402d041-f156-4a9a-9d81-744ceb949c41",
   "metadata": {},
   "source": [
    "# 进程间传递Socket文件描述符"
   ]
  },
  {
   "cell_type": "markdown",
   "id": "6ed989d5-6497-408c-aea8-eb52f15763e6",
   "metadata": {},
   "source": [
    "## 基本使用"
   ]
  },
  {
   "cell_type": "code",
   "execution_count": 69,
   "id": "6f31f558-fae8-4397-b0e6-83fca1feba8a",
   "metadata": {},
   "outputs": [],
   "source": [
    "import multiprocessing\n",
    "from multiprocessing.reduction import recv_handle, send_handle\n",
    "import socket\n",
    "\n",
    "def worker(in_p, out_p):\n",
    "    out_p.close()\n",
    "    while True:\n",
    "        fd = recv_handle(in_p)\n",
    "        print('CHILD: GOT FD', fd)\n",
    "        with socket.socket(socket.AF_INET, socket.SOCK_STREAM, fileno=fd) as s:\n",
    "            while True:\n",
    "                msg = s.recv(1024)\n",
    "                if not msg:\n",
    "                    break\n",
    "                print('CHILD: RECV {!r}'.format(msg))\n",
    "                s.send(msg)\n",
    "\n",
    "def server(address, in_p, out_p, worker_pid):\n",
    "    in_p.close()\n",
    "    s = socket.socket(socket.AF_INET, socket.SOCK_STREAM)\n",
    "    s.setsockopt(socket.SOL_SOCKET, socket.SO_REUSEADDR, True)\n",
    "    s.bind(address)\n",
    "    s.listen(1)\n",
    "    while True:\n",
    "        client, addr = s.accept()\n",
    "        print('SERVER: Got connection from', addr)\n",
    "        send_handle(out_p, client.fileno(), worker_pid)\n",
    "        client.close()\n",
    "\n",
    "def main():\n",
    "    c1, c2 = multiprocessing.Pipe()\n",
    "    worker_p = multiprocessing.Process(target=worker, args=(c1,c2))\n",
    "    worker_p.start()\n",
    "\n",
    "    server_p = multiprocessing.Process(target=server,\n",
    "                  args=(('', 15000), c1, c2, worker_p.pid))\n",
    "    server_p.start()\n",
    "\n",
    "    c1.close()\n",
    "    c2.close()"
   ]
  },
  {
   "cell_type": "markdown",
   "id": "4985eb07-bc20-4bf7-bea4-d6c971cde05f",
   "metadata": {},
   "source": [
    "```bash\n",
    "SERVER: Got connection from ('127.0.0.1', 51503)\n",
    "CHILD: GOT FD 14\n",
    "CHILD: RECV b'hello'\n",
    "```"
   ]
  },
  {
   "cell_type": "markdown",
   "id": "0dacded1-4cf6-47d7-98df-caaa465267af",
   "metadata": {},
   "source": [
    "## 服务器和工作者各自以单独的程序来启动"
   ]
  },
  {
   "cell_type": "code",
   "execution_count": 72,
   "id": "e7824269-b52c-466d-8b0c-0de753e2715b",
   "metadata": {},
   "outputs": [],
   "source": [
    "# servermp.py\n",
    "from multiprocessing.connection import Listener\n",
    "from multiprocessing.reduction import send_handle\n",
    "import socket\n",
    "\n",
    "def server(work_address, port):\n",
    "    # Wait for the worker to connect\n",
    "    work_serv = Listener(work_address, authkey=b'peekaboo')\n",
    "    worker = work_serv.accept()\n",
    "    worker_pid = worker.recv()\n",
    "\n",
    "    # Now run a TCP/IP server and send clients to worker\n",
    "    s = socket.socket(socket.AF_INET, socket.SOCK_STREAM)\n",
    "    s.setsockopt(socket.SOL_SOCKET, socket.SO_REUSEADDR, True)\n",
    "    s.bind(('', port))\n",
    "    s.listen(1)\n",
    "    while True:\n",
    "        client, addr = s.accept()\n",
    "        print('SERVER: Got connection from', addr)\n",
    "\n",
    "        send_handle(worker, client.fileno(), worker_pid)\n",
    "        client.close()\n",
    "\n",
    "def main():\n",
    "    import sys\n",
    "    if len(sys.argv) != 3:\n",
    "        print('Usage: server.py server_address port', file=sys.stderr)\n",
    "        raise SystemExit(1)\n",
    "\n",
    "    server(sys.argv[1], int(sys.argv[2]))"
   ]
  },
  {
   "cell_type": "code",
   "execution_count": 73,
   "id": "e41af25e-3234-44ea-9a2c-a434330e5fbb",
   "metadata": {},
   "outputs": [],
   "source": [
    "# workermp.py\n",
    "\n",
    "from multiprocessing.connection import Client\n",
    "from multiprocessing.reduction import recv_handle\n",
    "import os\n",
    "from socket import socket, AF_INET, SOCK_STREAM\n",
    "\n",
    "def worker(server_address):\n",
    "    serv = Client(server_address, authkey=b'peekaboo')\n",
    "    serv.send(os.getpid())\n",
    "    while True:\n",
    "        fd = recv_handle(serv)\n",
    "        print('WORKER: GOT FD', fd)\n",
    "        with socket(AF_INET, SOCK_STREAM, fileno=fd) as client:\n",
    "            while True:\n",
    "                msg = client.recv(1024)\n",
    "                if not msg:\n",
    "                    break\n",
    "                print('WORKER: RECV {!r}'.format(msg))\n",
    "                client.send(msg)\n",
    "\n",
    "def main():\n",
    "    import sys\n",
    "    if len(sys.argv) != 2:\n",
    "        print('Usage: worker.py server_address', file=sys.stderr)\n",
    "        raise SystemExit(1)\n",
    "\n",
    "    worker(sys.argv[1])"
   ]
  },
  {
   "cell_type": "markdown",
   "id": "fb94c3b6-c5d7-4e19-a92e-2de27e4c9995",
   "metadata": {},
   "source": [
    "## 套接字来传递描述符"
   ]
  },
  {
   "cell_type": "code",
   "execution_count": 74,
   "id": "abbaf757-4f38-4777-bef6-1854ecbf5ecf",
   "metadata": {},
   "outputs": [],
   "source": [
    "# server.py\n",
    "import socket\n",
    "\n",
    "import struct\n",
    "\n",
    "def send_fd(sock, fd):\n",
    "    '''\n",
    "    Send a single file descriptor.\n",
    "    '''\n",
    "    sock.sendmsg([b'x'],\n",
    "                 [(socket.SOL_SOCKET, socket.SCM_RIGHTS, struct.pack('i', fd))])\n",
    "    ack = sock.recv(2)\n",
    "    assert ack == b'OK'\n",
    "\n",
    "def server(work_address, port):\n",
    "    # Wait for the worker to connect\n",
    "    work_serv = socket.socket(socket.AF_UNIX, socket.SOCK_STREAM)\n",
    "    work_serv.bind(work_address)\n",
    "    work_serv.listen(1)\n",
    "    worker, addr = work_serv.accept()\n",
    "\n",
    "    # Now run a TCP/IP server and send clients to worker\n",
    "    s = socket.socket(socket.AF_INET, socket.SOCK_STREAM)\n",
    "    s.setsockopt(socket.SOL_SOCKET, socket.SO_REUSEADDR, True)\n",
    "    s.bind(('',port))\n",
    "    s.listen(1)\n",
    "    while True:\n",
    "        client, addr = s.accept()\n",
    "        print('SERVER: Got connection from', addr)\n",
    "        send_fd(worker, client.fileno())\n",
    "        client.close()\n",
    "\n",
    "def main():\n",
    "    import sys\n",
    "    if len(sys.argv) != 3:\n",
    "        print('Usage: server.py server_address port', file=sys.stderr)\n",
    "        raise SystemExit(1)\n",
    "\n",
    "    server(sys.argv[1], int(sys.argv[2]))"
   ]
  },
  {
   "cell_type": "code",
   "execution_count": 75,
   "id": "efeb84ba-b49d-4e98-8a7c-41a99bec5071",
   "metadata": {},
   "outputs": [],
   "source": [
    "# worker.py\n",
    "import socket\n",
    "import struct\n",
    "\n",
    "def recv_fd(sock):\n",
    "    '''\n",
    "    Receive a single file descriptor\n",
    "    '''\n",
    "    msg, ancdata, flags, addr = sock.recvmsg(1,\n",
    "                                     socket.CMSG_LEN(struct.calcsize('i')))\n",
    "\n",
    "    cmsg_level, cmsg_type, cmsg_data = ancdata[0]\n",
    "    assert cmsg_level == socket.SOL_SOCKET and cmsg_type == socket.SCM_RIGHTS\n",
    "    sock.sendall(b'OK')\n",
    "\n",
    "    return struct.unpack('i', cmsg_data)[0]\n",
    "\n",
    "def worker(server_address):\n",
    "    serv = socket.socket(socket.AF_UNIX, socket.SOCK_STREAM)\n",
    "    serv.connect(server_address)\n",
    "    while True:\n",
    "        fd = recv_fd(serv)\n",
    "        print('WORKER: GOT FD', fd)\n",
    "        with socket.socket(socket.AF_INET, socket.SOCK_STREAM, fileno=fd) as client:\n",
    "            while True:\n",
    "                msg = client.recv(1024)\n",
    "                if not msg:\n",
    "                    break\n",
    "                print('WORKER: RECV {!r}'.format(msg))\n",
    "                client.send(msg)\n",
    "\n",
    "def main():\n",
    "    import sys\n",
    "    if len(sys.argv) != 2:\n",
    "        print('Usage: worker.py server_address', file=sys.stderr)\n",
    "        raise SystemExit(1)\n",
    "\n",
    "    worker(sys.argv[1])"
   ]
  },
  {
   "cell_type": "markdown",
   "id": "85b4e919-bb2d-4ceb-8742-20ff62872055",
   "metadata": {},
   "source": [
    "# 理解事件驱动的IO"
   ]
  },
  {
   "cell_type": "markdown",
   "id": "b82d0c14-bbae-4cbf-9dc3-685460c6db34",
   "metadata": {},
   "source": [
    "事件驱动`I/O`本质上来讲就是将基本`I/O`操作（比如读和写）转化为你程序需要处理的事件。 例如，当数据在某个`socket`上被接受后，它会转换成一个 `receive` 事件，然后被你定义的回调方法或函数来处理。 作为一个可能的起始点，一个事件驱动的框架可能会以一个实现了一系列基本事件处理器方法的基类开始"
   ]
  },
  {
   "cell_type": "code",
   "execution_count": 76,
   "id": "a98c3883-6da6-401f-9167-4e3871304542",
   "metadata": {},
   "outputs": [],
   "source": [
    "class EventHandler:\n",
    "    def fileno(self):\n",
    "        'Return the associated file descriptor'\n",
    "        raise NotImplemented('must implement')\n",
    "\n",
    "    def wants_to_receive(self):\n",
    "        'Return True if receiving is allowed'\n",
    "        return False\n",
    "\n",
    "    def handle_receive(self):\n",
    "        'Perform the receive operation'\n",
    "        pass\n",
    "\n",
    "    def wants_to_send(self):\n",
    "        'Return True if sending is requested'\n",
    "        return False\n",
    "\n",
    "    def handle_send(self):\n",
    "        'Send outgoing data'\n",
    "        pass"
   ]
  },
  {
   "cell_type": "code",
   "execution_count": 77,
   "id": "f1c1c9bb-db2b-4901-a7dd-45df7edc33bd",
   "metadata": {},
   "outputs": [],
   "source": [
    "import select\n",
    "\n",
    "def event_loop(handlers):\n",
    "    while True:\n",
    "        wants_recv = [h for h in handlers if h.wants_to_receive()]\n",
    "        wants_send = [h for h in handlers if h.wants_to_send()]\n",
    "        can_recv, can_send, _ = select.select(wants_recv, wants_send, [])\n",
    "        for h in can_recv:\n",
    "            h.handle_receive()\n",
    "        for h in can_send:\n",
    "            h.handle_send()"
   ]
  },
  {
   "cell_type": "markdown",
   "id": "4670349b-e8d8-4ebf-84a9-bb2090159fdf",
   "metadata": {},
   "source": [
    "关键部分是 `select()` 调用，它会不断轮询文件描述符从而激活它。"
   ]
  },
  {
   "cell_type": "markdown",
   "id": "16325f88-b3b8-466b-8571-0835583835b7",
   "metadata": {},
   "source": [
    "## 简单的基于UDP网络服务的处理器"
   ]
  },
  {
   "cell_type": "code",
   "execution_count": 78,
   "id": "87687f61-1459-430f-9193-64286d0c167e",
   "metadata": {},
   "outputs": [],
   "source": [
    "import socket\n",
    "import time\n",
    "\n",
    "class UDPServer(EventHandler):\n",
    "    def __init__(self, address):\n",
    "        self.sock = socket.socket(socket.AF_INET, socket.SOCK_DGRAM)\n",
    "        self.sock.bind(address)\n",
    "\n",
    "    def fileno(self):\n",
    "        return self.sock.fileno()\n",
    "\n",
    "    def wants_to_receive(self):\n",
    "        return True\n",
    "\n",
    "class UDPTimeServer(UDPServer):\n",
    "    def handle_receive(self):\n",
    "        msg, addr = self.sock.recvfrom(1)\n",
    "        self.sock.sendto(time.ctime().encode('ascii'), addr)\n",
    "\n",
    "class UDPEchoServer(UDPServer):\n",
    "    def handle_receive(self):\n",
    "        msg, addr = self.sock.recvfrom(8192)\n",
    "        self.sock.sendto(msg, addr)\n",
    "\n",
    "def main():\n",
    "    handlers = [ UDPTimeServer(('',14000)), UDPEchoServer(('',15000))  ]\n",
    "    event_loop(handlers)"
   ]
  },
  {
   "cell_type": "markdown",
   "id": "e1dc8bf0-839e-4895-bdd4-efc1696395b1",
   "metadata": {},
   "source": [
    "```python\n",
    "from socket import socket,AF_INET,SOCK_DGRAM\n",
    "s = socket(AF_INET, SOCK_DGRAM)\n",
    "s.sendto(b'',('localhost',14000))\n",
    "Out[3]: 0\n",
    "s.recvfrom(128)\n",
    "Out[4]: (b'Wed Sep  1 16:43:17 2021', ('127.0.0.1', 14000))\n",
    "s.sendto(b'Hello',('localhost',15000))\n",
    "Out[5]: 5\n",
    "s.recvfrom(128)\n",
    "Out[6]: (b'Hello', ('127.0.0.1', 15000))\n",
    "```"
   ]
  },
  {
   "cell_type": "markdown",
   "id": "f500ea45-4455-415b-8d18-ac81a40f99e0",
   "metadata": {},
   "source": [
    "## 简单的基于TCP网络服务的处理器"
   ]
  },
  {
   "cell_type": "code",
   "execution_count": 80,
   "id": "2167abb8-b8fe-4969-9512-3fe6cdb18bcc",
   "metadata": {},
   "outputs": [],
   "source": [
    "class TCPServer(EventHandler):\n",
    "    def __init__(self, address, client_handler, handler_list):\n",
    "        self.sock = socket.socket(socket.AF_INET, socket.SOCK_STREAM)\n",
    "        self.sock.setsockopt(socket.SOL_SOCKET, socket.SO_REUSEADDR, True)\n",
    "        self.sock.bind(address)\n",
    "        self.sock.listen(1)\n",
    "        self.client_handler = client_handler\n",
    "        self.handler_list = handler_list\n",
    "\n",
    "    def fileno(self):\n",
    "        return self.sock.fileno()\n",
    "\n",
    "    def wants_to_receive(self):\n",
    "        return True\n",
    "\n",
    "    def handle_receive(self):\n",
    "        client, addr = self.sock.accept()\n",
    "        # Add the client to the event loop's handler list\n",
    "        self.handler_list.append(self.client_handler(client, self.handler_list))\n",
    "\n",
    "class TCPClient(EventHandler):\n",
    "    def __init__(self, sock, handler_list):\n",
    "        self.sock = sock\n",
    "        self.handler_list = handler_list\n",
    "        self.outgoing = bytearray()\n",
    "\n",
    "    def fileno(self):\n",
    "        return self.sock.fileno()\n",
    "\n",
    "    def close(self):\n",
    "        self.sock.close()\n",
    "        # Remove myself from the event loop's handler list\n",
    "        self.handler_list.remove(self)\n",
    "\n",
    "    def wants_to_send(self):\n",
    "        return True if self.outgoing else False\n",
    "\n",
    "    def handle_send(self):\n",
    "        nsent = self.sock.send(self.outgoing)\n",
    "        self.outgoing = self.outgoing[nsent:]\n",
    "\n",
    "class TCPEchoClient(TCPClient):\n",
    "    def wants_to_receive(self):\n",
    "        return True\n",
    "\n",
    "    def handle_receive(self):\n",
    "        data = self.sock.recv(8192)\n",
    "        if not data:\n",
    "            self.close()\n",
    "        else:\n",
    "            self.outgoing.extend(data)\n",
    "\n",
    "def main():\n",
    "    handlers = []\n",
    "    handlers.append(TCPServer(('',16000), TCPEchoClient, handlers))\n",
    "    event_loop(handlers)"
   ]
  },
  {
   "cell_type": "markdown",
   "id": "7908f89f-a06e-45df-91ca-c1b0ab1c7fe1",
   "metadata": {},
   "source": [
    "`TCP`例子的关键点是从处理器中列表增加和删除客户端的操作。 对每一个连接，一个新的处理器被创建并加到列表中。当连接被关闭后，每个客户端负责将其从列表中删除。"
   ]
  },
  {
   "cell_type": "markdown",
   "id": "acdb1a05-4c36-42ea-88f4-0e83121fe871",
   "metadata": {},
   "source": [
    "## 在事件循环中引入多线程和多进程"
   ]
  },
  {
   "cell_type": "markdown",
   "id": "474421a0-5ebf-4e84-bf5e-4dc142ea4e5c",
   "metadata": {},
   "source": [
    "事件驱动`I/O`的一个可能好处是它能处理非常大的并发连接，而不需要使用多线程或多进程。 也就是说，`select() `调用（或其他等效的）能监听大量的`socket`并响应它们中任何一个产生事件的。 在循环中一次处理一个事件，并不需要其他的并发机制。"
   ]
  },
  {
   "cell_type": "markdown",
   "id": "fbfba82f-e08c-494c-865f-89f930768287",
   "metadata": {},
   "source": [
    "事件驱动`I/O`的缺点是没有真正的同步机制。 如果任何事件处理器方法阻塞或执行一个耗时计算，它会阻塞所有的处理进程。 调用那些并不是事件驱动风格的库函数也会有问题，同样要是某些库函数调用会阻塞，那么也会导致整个事件循环停止。"
   ]
  },
  {
   "cell_type": "code",
   "execution_count": 82,
   "id": "b65459ac-4c6d-40b4-ad7d-f4f5871f954b",
   "metadata": {},
   "outputs": [],
   "source": [
    "from concurrent.futures import ThreadPoolExecutor\n",
    "import os\n",
    "\n",
    "class ThreadPoolHandler(EventHandler):\n",
    "    def __init__(self, nworkers):\n",
    "        if os.name == 'posix':\n",
    "            self.signal_done_sock, self.done_sock = socket.socketpair()\n",
    "        else:\n",
    "            server = socket.socket(socket.AF_INET, socket.SOCK_STREAM)\n",
    "            server.bind(('127.0.0.1', 0))\n",
    "            server.listen(1)\n",
    "            self.signal_done_sock = socket.socket(socket.AF_INET,\n",
    "                                                  socket.SOCK_STREAM)\n",
    "            self.signal_done_sock.connect(server.getsockname())\n",
    "            self.done_sock, _ = server.accept()\n",
    "            server.close()\n",
    "\n",
    "        self.pending = []\n",
    "        self.pool = ThreadPoolExecutor(nworkers)\n",
    "\n",
    "    def fileno(self):\n",
    "        return self.done_sock.fileno()\n",
    "\n",
    "    # Callback that executes when the thread is done\n",
    "    def _complete(self, callback, r):\n",
    "\n",
    "        self.pending.append((callback, r.result()))\n",
    "        self.signal_done_sock.send(b'x')\n",
    "\n",
    "    # Run a function in a thread pool\n",
    "    def run(self, func, args=(), kwargs={},*,callback):\n",
    "        r = self.pool.submit(func, *args, **kwargs)\n",
    "        r.add_done_callback(lambda r: self._complete(callback, r))\n",
    "\n",
    "    def wants_to_receive(self):\n",
    "        return True\n",
    "\n",
    "    # Run callback functions of completed work\n",
    "    def handle_receive(self):\n",
    "        # Invoke all pending callback functions\n",
    "        for callback, result in self.pending:\n",
    "            callback(result)\n",
    "            self.done_sock.recv(1)\n",
    "        self.pending = []"
   ]
  },
  {
   "cell_type": "markdown",
   "id": "3b4e1911-bd39-4b42-81f3-36d54bb4f620",
   "metadata": {},
   "source": [
    "`run()` 方法被用来将工作提交给回调函数池，处理完成后被激发。   \n",
    "实际工作被提交给 `ThreadPoolExecutor` 实例。   \n",
    "不过一个难点是协调计算结果和事件循环，为了解决它，我们创建了一对`socket`并将其作为某种信号量机制来使用。   \n",
    "当线程池完成工作后，它会执行类中的 `_complete()` 方法。 这个方法再某个`socket`上写入字节之前会讲挂起的回调函数和结果放入队列中。   \n",
    "`fileno()` 方法返回另外的那个socket。   \n",
    "因此，这个字节被写入时，它会通知事件循环， 然后 `handle_receive()` 方法被激活并为所有之前提交的工作执行回调函数。  "
   ]
  },
  {
   "cell_type": "code",
   "execution_count": 94,
   "id": "86264102-db8a-4b14-852e-1d38ece06fcd",
   "metadata": {},
   "outputs": [],
   "source": [
    "def fib(n):\n",
    "    if n < 2:\n",
    "        return 1\n",
    "    else:\n",
    "        return fib(n - 1) + fib(n - 2)\n",
    "\n",
    "class UDPFibServer(UDPServer):\n",
    "    def handle_receive(self):\n",
    "        msg, addr = self.sock.recvfrom(128)\n",
    "        n = int(msg)\n",
    "        pool.run(fib, (n,), callback=lambda r: self.respond(r, addr))\n",
    "\n",
    "    def respond(self, result, addr):\n",
    "        self.sock.sendto(str(result).encode('ascii'), addr)\n",
    "\n",
    "pool = ThreadPoolHandler(16)\n",
    "\n",
    "def main():\n",
    "    handlers = [ pool, UDPFibServer(('',20000))]\n",
    "    event_loop(handlers)"
   ]
  },
  {
   "cell_type": "markdown",
   "id": "2b368a9d-9a4f-4d35-b9f2-f81344e9f286",
   "metadata": {},
   "source": [
    "```python\n",
    "from socket import *\n",
    "sock = socket(AF_INET, SOCK_DGRAM)\n",
    "for x in range(40):\n",
    "    sock.sendto(str(x).encode('ascii'), ('localhost', 19000))\n",
    "    resp = sock.recvfrom(8192)\n",
    "    print(resp[0])\n",
    "```"
   ]
  },
  {
   "cell_type": "markdown",
   "id": "e26fe2c4-6de6-4b14-b82b-a3c41bd5cc7b",
   "metadata": {},
   "source": [
    "# 发送与接收大型数组"
   ]
  },
  {
   "cell_type": "code",
   "execution_count": 96,
   "id": "e6cc67a5-dfe6-4d5d-9f56-562ff6b5e993",
   "metadata": {},
   "outputs": [],
   "source": [
    "# zerocopy.py\n",
    "\n",
    "def send_from(arr, dest):\n",
    "    view = memoryview(arr).cast('B')\n",
    "    while len(view):\n",
    "        nsent = dest.send(view)\n",
    "        view = view[nsent:]\n",
    "\n",
    "def recv_into(arr, source):\n",
    "    view = memoryview(arr).cast('B')\n",
    "    while len(view):\n",
    "        nrecv = source.recv_into(view)\n",
    "        view = view[nrecv:]"
   ]
  },
  {
   "cell_type": "markdown",
   "id": "5a303f5b-ed41-47a6-a3da-8d0d882c217d",
   "metadata": {},
   "source": [
    "```python\n",
    "# Server\n",
    "from socket import *\n",
    "s = socket(AF_INET, SOCK_STREAM)\n",
    "s.bind(('', 25000))\n",
    "s.listen(1)\n",
    "c,a = s.accept()\n",
    "import numpy\n",
    "a = numpy.arange(0.0, 50000000.0)\n",
    "send_from(a, c)\n",
    "```"
   ]
  },
  {
   "cell_type": "markdown",
   "id": "f9bb4a2b-94c9-452c-a6b2-8ff9ebde872a",
   "metadata": {},
   "source": [
    "```python\n",
    "# Client\n",
    "from socket import *\n",
    "c = socket(AF_INET, SOCK_STREAM)\n",
    "c.connect(('localhost', 25000))\n",
    "import numpy\n",
    "a = numpy.zeros(shape=50000000, dtype=float)\n",
    "recv_into(a, c)\n",
    "a[0:10]\n",
    "Out[6]: array([0., 1., 2., 3., 4., 5., 6., 7., 8., 9.])\n",
    "a = numpy.zeros(shape=50000000, dtype=float)\n",
    "a[0:10]\n",
    "Out[8]: array([0., 0., 0., 0., 0., 0., 0., 0., 0., 0.])\n",
    "```"
   ]
  },
  {
   "cell_type": "markdown",
   "id": "fa4a3f27-3c54-4c4c-8b11-adf2ce968293",
   "metadata": {},
   "source": [
    "```python\n",
    "view = memoryview(arr).cast('B')\n",
    "```\n",
    "它接受一个数组 `arr`并将其转换为一个无符号字节的内存视图。  \n",
    "这个视图能被传递给`socket`相关函数， 比如 `socket.send()` 或 `send.recv_into()` 。   \n",
    "在内部，这些方法能够直接操作这个内存区域。例如，`sock.send()` 直接从内存中发生数据而不需要复制。 `send.recv_into()` 使用这个内存区域作为接受操作的输入缓冲区。"
   ]
  },
  {
   "cell_type": "code",
   "execution_count": null,
   "id": "1d8c3252-9e90-418e-8b0d-236d861fed41",
   "metadata": {},
   "outputs": [],
   "source": []
  }
 ],
 "metadata": {
  "kernelspec": {
   "display_name": "Python 3 (ipykernel)",
   "language": "python",
   "name": "python3"
  },
  "language_info": {
   "codemirror_mode": {
    "name": "ipython",
    "version": 3
   },
   "file_extension": ".py",
   "mimetype": "text/x-python",
   "name": "python",
   "nbconvert_exporter": "python",
   "pygments_lexer": "ipython3",
   "version": "3.8.10"
  },
  "toc-showtags": false
 },
 "nbformat": 4,
 "nbformat_minor": 5
}