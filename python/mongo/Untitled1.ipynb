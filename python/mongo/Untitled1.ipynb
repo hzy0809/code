{
 "cells": [
  {
   "cell_type": "code",
   "execution_count": 2,
   "id": "1b2db61e-c861-4be5-9121-9f81f8964a6b",
   "metadata": {},
   "outputs": [],
   "source": [
    "from random import choices,choice\n",
    "from functools import partial\n",
    "import string\n",
    "a = string.ascii_letters + string.digits\n",
    "n = partial(choices,a,k=16)"
   ]
  },
  {
   "cell_type": "code",
   "execution_count": 7,
   "id": "d63d73cd-1b78-44ae-86ed-0ef919e07b8d",
   "metadata": {},
   "outputs": [],
   "source": [
    "m = partial(lambda *args,**kwargs:[choice(a) for _ in range(16)])"
   ]
  },
  {
   "cell_type": "code",
   "execution_count": 4,
   "id": "b76334ad-d4b9-4c4c-9f3c-ee22cf0f351b",
   "metadata": {},
   "outputs": [
    {
     "data": {
      "text/plain": [
       "3.376761079000005"
      ]
     },
     "execution_count": 4,
     "metadata": {},
     "output_type": "execute_result"
    }
   ],
   "source": [
    "from timeit import timeit\n",
    "timeit(n,)"
   ]
  },
  {
   "cell_type": "code",
   "execution_count": 5,
   "id": "3386786e-7c56-4aeb-93d8-e1df0edd9d3a",
   "metadata": {},
   "outputs": [
    {
     "name": "stdout",
     "output_type": "stream",
     "text": [
      "3.36 µs ± 71 ns per loop (mean ± std. dev. of 7 runs, 100000 loops each)\n"
     ]
    }
   ],
   "source": [
    "%%timeit\n",
    "n()"
   ]
  },
  {
   "cell_type": "code",
   "execution_count": 8,
   "id": "2b6e9318-1fe1-4655-8ddb-9080a84406a0",
   "metadata": {},
   "outputs": [
    {
     "name": "stdout",
     "output_type": "stream",
     "text": [
      "6.5 µs ± 86.6 ns per loop (mean ± std. dev. of 7 runs, 100000 loops each)\n"
     ]
    }
   ],
   "source": [
    "%%timeit\n",
    "m()"
   ]
  },
  {
   "cell_type": "code",
   "execution_count": 13,
   "id": "53dd1e02-35b9-46d3-9ebf-1fbee821c9cb",
   "metadata": {},
   "outputs": [],
   "source": [
    "import binascii\n",
    "import io"
   ]
  },
  {
   "cell_type": "code",
   "execution_count": 10,
   "id": "8fdb1cf8-2a81-4f58-9ad6-6afc15040c3b",
   "metadata": {},
   "outputs": [],
   "source": [
    "\n",
    "def pks7encode(content):\n",
    "    \"\"\"\n",
    "    安装 PKCS#7 标准填充字符串\n",
    "    :param text: str\n",
    "    :return: str\n",
    "    \"\"\"\n",
    "    l = len(content)\n",
    "    output = io.StringIO()\n",
    "    val = 32 - (l % 32)\n",
    "    for _ in range(val):\n",
    "        output.write('%02x' % val)\n",
    "    return content + binascii.unhexlify(output.getvalue()).decode()"
   ]
  },
  {
   "cell_type": "code",
   "execution_count": 11,
   "id": "5de372b3-9452-4ffa-9cad-735b037edd15",
   "metadata": {},
   "outputs": [],
   "source": [
    "def pks7encode1(content):\n",
    "    \"\"\"\n",
    "    安装 PKCS#7 标准填充字符串\n",
    "    :param text: str\n",
    "    :return: str\n",
    "    \"\"\"\n",
    "    l = len(content)\n",
    "    val = 32 - (l % 32)\n",
    "    m = f'{val:02x}'*val\n",
    "    return content + binascii.unhexlify(m).decode()"
   ]
  },
  {
   "cell_type": "code",
   "execution_count": 14,
   "id": "cde154c4-ca1b-4e0d-8f43-c0172c156495",
   "metadata": {},
   "outputs": [
    {
     "data": {
      "text/plain": [
       "'123\\x1d\\x1d\\x1d\\x1d\\x1d\\x1d\\x1d\\x1d\\x1d\\x1d\\x1d\\x1d\\x1d\\x1d\\x1d\\x1d\\x1d\\x1d\\x1d\\x1d\\x1d\\x1d\\x1d\\x1d\\x1d\\x1d\\x1d\\x1d\\x1d'"
      ]
     },
     "execution_count": 14,
     "metadata": {},
     "output_type": "execute_result"
    }
   ],
   "source": [
    "pks7encode('123')"
   ]
  },
  {
   "cell_type": "code",
   "execution_count": 15,
   "id": "05de1b6b-9024-4410-89d5-428fcf6adc41",
   "metadata": {},
   "outputs": [
    {
     "data": {
      "text/plain": [
       "'123\\x1d\\x1d\\x1d\\x1d\\x1d\\x1d\\x1d\\x1d\\x1d\\x1d\\x1d\\x1d\\x1d\\x1d\\x1d\\x1d\\x1d\\x1d\\x1d\\x1d\\x1d\\x1d\\x1d\\x1d\\x1d\\x1d\\x1d\\x1d\\x1d'"
      ]
     },
     "execution_count": 15,
     "metadata": {},
     "output_type": "execute_result"
    }
   ],
   "source": [
    "pks7encode1('123')"
   ]
  },
  {
   "cell_type": "code",
   "execution_count": 16,
   "id": "9a253d32-0aa1-424c-83c9-bd06aeb6a8a6",
   "metadata": {},
   "outputs": [
    {
     "name": "stdout",
     "output_type": "stream",
     "text": [
      "7.79 µs ± 212 ns per loop (mean ± std. dev. of 7 runs, 100000 loops each)\n"
     ]
    }
   ],
   "source": [
    "%%timeit\n",
    "pks7encode('123')"
   ]
  },
  {
   "cell_type": "code",
   "execution_count": 18,
   "id": "33ee7931-3af1-4033-afd5-0ce700c9217f",
   "metadata": {},
   "outputs": [
    {
     "name": "stdout",
     "output_type": "stream",
     "text": [
      "740 ns ± 5 ns per loop (mean ± std. dev. of 7 runs, 1000000 loops each)\n"
     ]
    }
   ],
   "source": [
    "%%timeit\n",
    "pks7encode1('123')"
   ]
  },
  {
   "cell_type": "code",
   "execution_count": 1,
   "id": "834e0e0a-2b7d-468c-aa92-925165fdac8e",
   "metadata": {},
   "outputs": [
    {
     "name": "stdout",
     "output_type": "stream",
     "text": [
      "382 ns ± 4.02 ns per loop (mean ± std. dev. of 7 runs, 1000000 loops each)\n"
     ]
    }
   ],
   "source": [
    "%%timeit\n",
    "int(10) in range(1801)"
   ]
  },
  {
   "cell_type": "code",
   "execution_count": 3,
   "id": "51d92243-506a-4114-9e88-2e8c716d3cd0",
   "metadata": {},
   "outputs": [
    {
     "name": "stdout",
     "output_type": "stream",
     "text": [
      "99.5 ns ± 1.53 ns per loop (mean ± std. dev. of 7 runs, 10000000 loops each)\n"
     ]
    }
   ],
   "source": [
    "%%timeit\n",
    "1 <= int(10) <= 1800"
   ]
  },
  {
   "cell_type": "code",
   "execution_count": null,
   "id": "2d8df42c-5e2f-4d6a-ad70-caf720a36294",
   "metadata": {},
   "outputs": [],
   "source": []
  }
 ],
 "metadata": {
  "kernelspec": {
   "display_name": "Python 3 (ipykernel)",
   "language": "python",
   "name": "python3"
  },
  "language_info": {
   "codemirror_mode": {
    "name": "ipython",
    "version": 3
   },
   "file_extension": ".py",
   "mimetype": "text/x-python",
   "name": "python",
   "nbconvert_exporter": "python",
   "pygments_lexer": "ipython3",
   "version": "3.8.10"
  }
 },
 "nbformat": 4,
 "nbformat_minor": 5
}
