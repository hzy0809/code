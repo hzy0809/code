{
 "cells": [
  {
   "cell_type": "code",
   "execution_count": 1,
   "id": "9ac06911-e541-4450-824c-af00df7112b1",
   "metadata": {},
   "outputs": [],
   "source": [
    "from pymongo import MongoClient\n",
    "client = MongoClient(host='dds-bp17fa78084b6c342.mongodb.rds.aliyuncs.com', port=3717,username='socrates_graph_car',password='socrates_graph_car_eigen123',authMechanism='SCRAM-SHA-1',authSource='socrates_graph_car_prod')\n",
    "db = client.get_database('socrates_graph_car_prod')"
   ]
  },
  {
   "cell_type": "code",
   "execution_count": 2,
   "id": "d14c6ee5-9382-4d59-88f2-777d09ab5054",
   "metadata": {},
   "outputs": [],
   "source": [
    "col = db.get_collection('data_review_log')"
   ]
  },
  {
   "cell_type": "code",
   "execution_count": 30,
   "id": "3c39ddf2-4478-475f-b998-3d9a428fe956",
   "metadata": {},
   "outputs": [],
   "source": [
    "result = col.aggregate(\n",
    "[\n",
    "    {'$match':{'concept_id':80,'update_time':{'$gt':datetime.datetime(2021,9,5)}}},\n",
    "    {'$match':{'op_type':'create'}},\n",
    "    {'$project':{'_id':1,'properties.prop_name':1,'entity_id':1,'properties.selected.value':1}}\n",
    "    ]\n",
    ")"
   ]
  },
  {
   "cell_type": "code",
   "execution_count": 7,
   "id": "57f005c4-8284-46c1-a219-b24b67616a75",
   "metadata": {},
   "outputs": [],
   "source": [
    "import datetime"
   ]
  },
  {
   "cell_type": "code",
   "execution_count": 11,
   "id": "ee122318-17d6-4632-a999-90480469f32c",
   "metadata": {},
   "outputs": [],
   "source": [
    "headers = ['_id','1级标签','2级标签','3级标签','4级标签','5级标签','标签置信度','图片cdn地址']"
   ]
  },
  {
   "cell_type": "code",
   "execution_count": 31,
   "id": "bdd9659c-2064-4f72-a983-33a5c2d4d964",
   "metadata": {},
   "outputs": [],
   "source": [
    "def convert_doc(doc):\n",
    "    prop = {x['prop_name']:x['selected']['value'] for x in doc['properties'] if x['prop_name'] in headers}\n",
    "    if not prop:\n",
    "        return None\n",
    "    prop['_id'] = doc['entity_id']\n",
    "    return prop"
   ]
  },
  {
   "cell_type": "code",
   "execution_count": 14,
   "id": "d47e0f5f-4eff-4233-813e-17c42312fcdc",
   "metadata": {},
   "outputs": [],
   "source": [
    "import csv    "
   ]
  },
  {
   "cell_type": "code",
   "execution_count": 17,
   "id": "d8560e72-0787-4c0f-b62b-4031f75a6d0b",
   "metadata": {},
   "outputs": [],
   "source": [
    "def write_to_file(filename,headers,rows):\n",
    "    with open(filename,'w') as f:\n",
    "        f_csv = csv.DictWriter(f, headers)\n",
    "        f_csv.writeheader()\n",
    "        f_csv.writerows(rows)"
   ]
  },
  {
   "cell_type": "code",
   "execution_count": 20,
   "id": "4577842a-389e-4cf3-8981-b15d8da2a4a6",
   "metadata": {},
   "outputs": [
    {
     "data": {
      "text/plain": [
       "{'3级标签': '室外',\n",
       " '标签置信度': 0.765670836,\n",
       " '图片cdn地址': 'https://cdn.aidigger.com/Bumblebee/CarPhoto/lsj/74ff0cb0dfd7ed89ff4209d31e0878dd.jpg',\n",
       " '1级标签': '外观',\n",
       " '2级标签': '左前',\n",
       " '_id': '081af77bf41031c88f914d8d82756082'}"
      ]
     },
     "execution_count": 20,
     "metadata": {},
     "output_type": "execute_result"
    }
   ],
   "source": [
    "convert_doc(next(result))"
   ]
  },
  {
   "cell_type": "code",
   "execution_count": 21,
   "id": "9fb82cee-8dde-4319-bc10-aa9ba28ea1ad",
   "metadata": {},
   "outputs": [],
   "source": [
    "write_to_file('test.csv',headers,[convert_doc(next(result))])"
   ]
  },
  {
   "cell_type": "code",
   "execution_count": 32,
   "id": "a7b5b04a-5f1e-4c7e-aff2-631a564d2e27",
   "metadata": {},
   "outputs": [],
   "source": [
    "rows = []\n",
    "for x in result:\n",
    "    data = convert_doc(x)\n",
    "    if data:\n",
    "        rows.append(data)"
   ]
  },
  {
   "cell_type": "code",
   "execution_count": 33,
   "id": "0e1bffd6-7fc9-4500-b095-c89fa99dd58a",
   "metadata": {},
   "outputs": [],
   "source": [
    "write_to_file('graph_1_pic.csv',headers,rows)"
   ]
  },
  {
   "cell_type": "code",
   "execution_count": 34,
   "id": "41fb1cda-0a88-4378-b01c-7539e7501ce6",
   "metadata": {},
   "outputs": [],
   "source": [
    "concept_id = 2734\n",
    "result = col.aggregate(\n",
    "[\n",
    "    {'$match':{'concept_id':concept_id,'update_time':{'$gt':datetime.datetime(2021,9,5)}}},\n",
    "    {'$match':{'op_type':'create'}},\n",
    "    {'$project':{'_id':1,'properties.prop_name':1,'entity_id':1,'properties.selected.value':1}}\n",
    "    ]\n",
    ")\n",
    "def get_data():\n",
    "    for x in result:\n",
    "        data = convert_doc(x)\n",
    "        if data:\n",
    "            yield data\n",
    "def write_to_file(filename,headers,rows):\n",
    "    with open(filename,'w') as f:\n",
    "        f_csv = csv.DictWriter(f, headers)\n",
    "        f_csv.writeheader()\n",
    "        for row in rows:\n",
    "            f_csv.writerow(row)\n",
    "write_to_file('graph_149_pic.csv',headers,get_data())"
   ]
  },
  {
   "cell_type": "code",
   "execution_count": null,
   "id": "54ec8d38-005a-4cb4-b3af-1bf52fb3732e",
   "metadata": {},
   "outputs": [],
   "source": []
  }
 ],
 "metadata": {
  "kernelspec": {
   "display_name": "Python 3 (ipykernel)",
   "language": "python",
   "name": "python3"
  },
  "language_info": {
   "codemirror_mode": {
    "name": "ipython",
    "version": 3
   },
   "file_extension": ".py",
   "mimetype": "text/x-python",
   "name": "python",
   "nbconvert_exporter": "python",
   "pygments_lexer": "ipython3",
   "version": "3.8.10"
  }
 },
 "nbformat": 4,
 "nbformat_minor": 5
}
