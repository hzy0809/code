{
 "cells": [
  {
   "cell_type": "code",
   "execution_count": 2,
   "id": "1be1e389-c3ed-45ec-ae3e-16027a93f01c",
   "metadata": {},
   "outputs": [
    {
     "name": "stdout",
     "output_type": "stream",
     "text": [
      "True\n",
      "True\n",
      "True\n"
     ]
    }
   ],
   "source": [
    "from dataclasses import dataclass\n",
    "from typing import NamedTuple\n",
    "from collections import namedtuple\n",
    "\n",
    "@dataclass(frozen=True)\n",
    "class Name:\n",
    "    first_name: str\n",
    "    surname: str\n",
    "\n",
    "class Money(NamedTuple):\n",
    "    currency: str\n",
    "    value: int\n",
    "\n",
    "Line = namedtuple('Line', ['sku', 'qty'])\n",
    "\n",
    "def test_equality():\n",
    "    print( Money('gbp', 10) == Money('gbp', 10))\n",
    "    print(Name('Harry', 'Percival') != Name('Bob', 'Gregory'))\n",
    "    print( Line('RED-CHAIR', 5) == Line('RED-CHAIR', 5))\n",
    "test_equality()"
   ]
  },
  {
   "cell_type": "code",
   "execution_count": 4,
   "id": "4228ed99-9413-4eef-9ed9-9efb1102e494",
   "metadata": {},
   "outputs": [
    {
     "data": {
      "text/plain": [
       "1"
      ]
     },
     "execution_count": 4,
     "metadata": {},
     "output_type": "execute_result"
    }
   ],
   "source": [
    "len(set([Line('RED-CHAIR', 5), Line('RED-CHAIR', 5)]))"
   ]
  },
  {
   "cell_type": "code",
   "execution_count": 18,
   "id": "c9341f60-7a93-465a-af8f-8cdd209b469a",
   "metadata": {},
   "outputs": [
    {
     "ename": "TypeError",
     "evalue": "unsupported operand type(s) for -: 'Money' and 'Money'",
     "output_type": "error",
     "traceback": [
      "\u001b[0;31m---------------------------------------------------------------------------\u001b[0m",
      "\u001b[0;31mTypeError\u001b[0m                                 Traceback (most recent call last)",
      "\u001b[0;32m/var/folders/g6/h24w2cnn0bzbzz1dc4v4fplm0000gn/T/ipykernel_1088/1669137133.py\u001b[0m in \u001b[0;36m<module>\u001b[0;34m\u001b[0m\n\u001b[1;32m      2\u001b[0m \u001b[0mtenner\u001b[0m \u001b[0;34m=\u001b[0m \u001b[0mMoney\u001b[0m\u001b[0;34m(\u001b[0m\u001b[0;34m'gbp'\u001b[0m\u001b[0;34m,\u001b[0m \u001b[0;36m10\u001b[0m\u001b[0;34m)\u001b[0m\u001b[0;34m\u001b[0m\u001b[0;34m\u001b[0m\u001b[0m\n\u001b[1;32m      3\u001b[0m \u001b[0mfiver\u001b[0m\u001b[0;34m+\u001b[0m\u001b[0mfiver\u001b[0m \u001b[0;34m==\u001b[0m \u001b[0mtenner\u001b[0m\u001b[0;34m\u001b[0m\u001b[0;34m\u001b[0m\u001b[0m\n\u001b[0;32m----> 4\u001b[0;31m \u001b[0mtenner\u001b[0m \u001b[0;34m-\u001b[0m \u001b[0mfiver\u001b[0m\u001b[0;34m\u001b[0m\u001b[0;34m\u001b[0m\u001b[0m\n\u001b[0m",
      "\u001b[0;31mTypeError\u001b[0m: unsupported operand type(s) for -: 'Money' and 'Money'"
     ]
    }
   ],
   "source": [
    "fiver = Money('gbp', 5)\n",
    "tenner = Money('gbp', 10)\n",
    "fiver+fiver == tenner\n",
    "tenner - fiver"
   ]
  },
  {
   "cell_type": "code",
   "execution_count": 6,
   "id": "8b19d597-5f5f-4aa3-afb3-763d13d5860e",
   "metadata": {},
   "outputs": [
    {
     "data": {
      "text/plain": [
       "('gbp', 5, 'gbp', 5)"
      ]
     },
     "execution_count": 6,
     "metadata": {},
     "output_type": "execute_result"
    }
   ],
   "source": [
    "fiver+fiver"
   ]
  },
  {
   "cell_type": "code",
   "execution_count": 7,
   "id": "32f64fe4-632e-4200-b0e3-7223a47a259e",
   "metadata": {},
   "outputs": [
    {
     "data": {
      "text/plain": [
       "('usd', 10, 'gbp', 10)"
      ]
     },
     "execution_count": 7,
     "metadata": {},
     "output_type": "execute_result"
    }
   ],
   "source": [
    "Money('usd', 10) + Money('gbp', 10)"
   ]
  },
  {
   "cell_type": "code",
   "execution_count": 8,
   "id": "6e81d9a5-e418-4c4b-be10-6324f86cc5fb",
   "metadata": {},
   "outputs": [
    {
     "data": {
      "text/plain": [
       "False"
      ]
     },
     "execution_count": 8,
     "metadata": {},
     "output_type": "execute_result"
    }
   ],
   "source": [
    "fiver * 5 == Money('gbp', 25)"
   ]
  },
  {
   "cell_type": "code",
   "execution_count": 9,
   "id": "063a0ca2-f557-4011-bf78-83e08bbf9ebf",
   "metadata": {},
   "outputs": [
    {
     "data": {
      "text/plain": [
       "('gbp', 5, 'gbp', 5, 'gbp', 5, 'gbp', 5, 'gbp', 5)"
      ]
     },
     "execution_count": 9,
     "metadata": {},
     "output_type": "execute_result"
    }
   ],
   "source": [
    "fiver * 5"
   ]
  },
  {
   "cell_type": "code",
   "execution_count": 15,
   "id": "4717fb20-be7b-4001-8cb0-4eb3c06a1e57",
   "metadata": {},
   "outputs": [],
   "source": [
    "class Person:\n",
    "\n",
    "    def __init__(self, name: Name):\n",
    "        self.name = name\n",
    "\n",
    "\n",
    "def test_barry_is_harry():\n",
    "    harry = Person(Name(\"Harry\", \"Percival\"))\n",
    "    barry = harry\n",
    "\n",
    "    barry.name = Name(\"Barry\", \"Percival\")\n",
    "    print(barry.name)\n",
    "    print(harry.name)\n",
    "    print(harry is barry and barry is harry)"
   ]
  },
  {
   "cell_type": "code",
   "execution_count": 16,
   "id": "2ab61d65-e8d5-4e3d-9a43-76e066e4d1f8",
   "metadata": {},
   "outputs": [
    {
     "name": "stdout",
     "output_type": "stream",
     "text": [
      "Name(first_name='Barry', surname='Percival')\n",
      "Name(first_name='Barry', surname='Percival')\n",
      "True\n"
     ]
    }
   ],
   "source": [
    "test_barry_is_harry()"
   ]
  },
  {
   "cell_type": "code",
   "execution_count": 19,
   "id": "146d6d43-8061-4002-b63f-0b61fc6ff7e9",
   "metadata": {},
   "outputs": [
    {
     "ename": "StopIteration",
     "evalue": "",
     "output_type": "error",
     "traceback": [
      "\u001b[0;31m---------------------------------------------------------------------------\u001b[0m",
      "\u001b[0;31mStopIteration\u001b[0m                             Traceback (most recent call last)",
      "\u001b[0;32m/var/folders/g6/h24w2cnn0bzbzz1dc4v4fplm0000gn/T/ipykernel_1088/385509472.py\u001b[0m in \u001b[0;36m<module>\u001b[0;34m\u001b[0m\n\u001b[0;32m----> 1\u001b[0;31m \u001b[0mnext\u001b[0m\u001b[0;34m(\u001b[0m\u001b[0mb\u001b[0m \u001b[0;32mfor\u001b[0m \u001b[0mb\u001b[0m \u001b[0;32min\u001b[0m \u001b[0;34m[\u001b[0m\u001b[0;36m1\u001b[0m\u001b[0;34m,\u001b[0m\u001b[0;36m2\u001b[0m\u001b[0;34m,\u001b[0m\u001b[0;36m3\u001b[0m\u001b[0;34m,\u001b[0m\u001b[0;36m4\u001b[0m\u001b[0;34m]\u001b[0m \u001b[0;32mif\u001b[0m \u001b[0mb\u001b[0m \u001b[0;34m<\u001b[0m\u001b[0;36m0\u001b[0m\u001b[0;34m)\u001b[0m\u001b[0;34m\u001b[0m\u001b[0;34m\u001b[0m\u001b[0m\n\u001b[0m",
      "\u001b[0;31mStopIteration\u001b[0m: "
     ]
    }
   ],
   "source": [
    "next(b for b in [1,2,3,4] if b <0)"
   ]
  },
  {
   "cell_type": "code",
   "execution_count": 27,
   "id": "d7006d4e-a534-4ac8-a6b7-41d1a97467f2",
   "metadata": {},
   "outputs": [
    {
     "ename": "ModuleNotFoundError",
     "evalue": "No module named 'sqlalchemy'",
     "output_type": "error",
     "traceback": [
      "\u001b[0;31m---------------------------------------------------------------------------\u001b[0m",
      "\u001b[0;31mModuleNotFoundError\u001b[0m                       Traceback (most recent call last)",
      "\u001b[0;32m/var/folders/g6/h24w2cnn0bzbzz1dc4v4fplm0000gn/T/ipykernel_1088/733986466.py\u001b[0m in \u001b[0;36m<module>\u001b[0;34m\u001b[0m\n\u001b[0;32m----> 1\u001b[0;31m \u001b[0;32mfrom\u001b[0m \u001b[0msqlalchemy\u001b[0m\u001b[0;34m.\u001b[0m\u001b[0morm\u001b[0m \u001b[0;32mimport\u001b[0m \u001b[0mmapper\u001b[0m\u001b[0;34m,\u001b[0m \u001b[0mrelationship\u001b[0m\u001b[0;34m\u001b[0m\u001b[0;34m\u001b[0m\u001b[0m\n\u001b[0m\u001b[1;32m      2\u001b[0m \u001b[0;34m\u001b[0m\u001b[0m\n\u001b[1;32m      3\u001b[0m \u001b[0;32mimport\u001b[0m \u001b[0mmodel\u001b[0m\u001b[0;34m\u001b[0m\u001b[0;34m\u001b[0m\u001b[0m\n\u001b[1;32m      4\u001b[0m \u001b[0;34m\u001b[0m\u001b[0m\n\u001b[1;32m      5\u001b[0m \u001b[0;34m\u001b[0m\u001b[0m\n",
      "\u001b[0;31mModuleNotFoundError\u001b[0m: No module named 'sqlalchemy'"
     ]
    }
   ],
   "source": []
  },
  {
   "cell_type": "code",
   "execution_count": 24,
   "id": "228c7815-00e2-4416-a720-e3013c5c6bd6",
   "metadata": {},
   "outputs": [
    {
     "name": "stderr",
     "output_type": "stream",
     "text": [
      "UsageError: Cell magic `%%` not found.\n"
     ]
    }
   ],
   "source": [
    "%% pip install sqlalchemy"
   ]
  },
  {
   "cell_type": "code",
   "execution_count": 25,
   "id": "ff6cd03a-4b11-499a-9314-7543e3f6bc6e",
   "metadata": {},
   "outputs": [
    {
     "name": "stdout",
     "output_type": "stream",
     "text": [
      "Looking in indexes: https://pypi-outer.aidigger.com/simple\n",
      "Collecting sqlalchemy\n",
      "  Downloading https://pypi.doubanio.com/packages/1e/6e/835537cecdc4afcad58383486df89cff278f7ae6729f055a5a6af240efea/SQLAlchemy-1.4.23-cp39-cp39-macosx_10_14_x86_64.whl (1.5 MB)\n",
      "\u001b[K     |████████████████████████████████| 1.5 MB 723 kB/s eta 0:00:01\n",
      "\u001b[?25hCollecting greenlet!=0.4.17\n",
      "  Downloading https://pypi.doubanio.com/packages/b7/35/2d0604b19d06b4a64882fe26aa75d05f7ff6dd939a073612b5f9f57f28d5/greenlet-1.1.1-cp39-cp39-macosx_10_14_x86_64.whl (87 kB)\n",
      "\u001b[K     |████████████████████████████████| 87 kB 585 kB/s eta 0:00:011\n",
      "\u001b[?25hInstalling collected packages: greenlet, sqlalchemy\n",
      "Successfully installed greenlet-1.1.1 sqlalchemy-1.4.23\n",
      "\u001b[33mWARNING: You are using pip version 21.2.2; however, version 21.2.4 is available.\n",
      "You should consider upgrading via the '/Library/Frameworks/Python.framework/Versions/3.9/bin/python3.9 -m pip install --upgrade pip' command.\u001b[0m\n"
     ]
    }
   ],
   "source": [
    "! pip install sqlalchemy"
   ]
  },
  {
   "cell_type": "code",
   "execution_count": 4,
   "id": "3e2803a2-f240-42cc-bf30-fd6461fb400a",
   "metadata": {},
   "outputs": [
    {
     "ename": "ModuleNotFoundError",
     "evalue": "No module named 'sqlalchemy'",
     "output_type": "error",
     "traceback": [
      "\u001b[0;31m---------------------------------------------------------------------------\u001b[0m",
      "\u001b[0;31mModuleNotFoundError\u001b[0m                       Traceback (most recent call last)",
      "\u001b[0;32m/var/folders/g6/h24w2cnn0bzbzz1dc4v4fplm0000gn/T/ipykernel_1521/733986466.py\u001b[0m in \u001b[0;36m<module>\u001b[0;34m\u001b[0m\n\u001b[0;32m----> 1\u001b[0;31m \u001b[0;32mfrom\u001b[0m \u001b[0msqlalchemy\u001b[0m\u001b[0;34m.\u001b[0m\u001b[0morm\u001b[0m \u001b[0;32mimport\u001b[0m \u001b[0mmapper\u001b[0m\u001b[0;34m,\u001b[0m \u001b[0mrelationship\u001b[0m\u001b[0;34m\u001b[0m\u001b[0;34m\u001b[0m\u001b[0m\n\u001b[0m\u001b[1;32m      2\u001b[0m \u001b[0;34m\u001b[0m\u001b[0m\n\u001b[1;32m      3\u001b[0m \u001b[0;32mimport\u001b[0m \u001b[0mmodel\u001b[0m\u001b[0;34m\u001b[0m\u001b[0;34m\u001b[0m\u001b[0m\n\u001b[1;32m      4\u001b[0m \u001b[0;34m\u001b[0m\u001b[0m\n\u001b[1;32m      5\u001b[0m \u001b[0;34m\u001b[0m\u001b[0m\n",
      "\u001b[0;31mModuleNotFoundError\u001b[0m: No module named 'sqlalchemy'"
     ]
    }
   ],
   "source": [
    "from sqlalchemy.orm import mapper, relationship\n",
    "\n",
    "import model  \n",
    "\n",
    "\n",
    "metadata = MetaData()\n",
    "\n",
    "order_lines = Table(  \n",
    "    'order_lines', metadata,\n",
    "    Column('id', Integer, primary_key=True, autoincrement=True),\n",
    "    Column('sku', String(255)),\n",
    "    Column('qty', Integer, nullable=False),\n",
    "    Column('orderid', String(255)),\n",
    ")\n",
    "\n",
    "\n",
    "def start_mappers():\n",
    "    lines_mapper = mapper(model.OrderLine, order_lines) "
   ]
  },
  {
   "cell_type": "code",
   "execution_count": 3,
   "id": "9f1181e4-8654-4295-a171-9b8b7a5b0d70",
   "metadata": {},
   "outputs": [
    {
     "name": "stdout",
     "output_type": "stream",
     "text": [
      "Looking in indexes: https://pypi-outer.aidigger.com/simple\n",
      "Requirement already satisfied: sqlalchemy in /Library/Frameworks/Python.framework/Versions/3.9/lib/python3.9/site-packages (1.4.23)\n",
      "Requirement already satisfied: greenlet!=0.4.17 in /Library/Frameworks/Python.framework/Versions/3.9/lib/python3.9/site-packages (from sqlalchemy) (1.1.1)\n",
      "\u001b[33mWARNING: You are using pip version 21.2.2; however, version 21.2.4 is available.\n",
      "You should consider upgrading via the '/Library/Frameworks/Python.framework/Versions/3.9/bin/python3.9 -m pip install --upgrade pip' command.\u001b[0m\n"
     ]
    }
   ],
   "source": [
    "! pip3 install sqlalchemy"
   ]
  },
  {
   "cell_type": "code",
   "execution_count": 7,
   "id": "77329c6b-b78e-49f9-af5a-ea669b751ca4",
   "metadata": {},
   "outputs": [
    {
     "name": "stderr",
     "output_type": "stream",
     "text": [
      "UsageError: Cell magic `%%pip` not found (But line magic `%pip` exists, did you mean that instead?).\n"
     ]
    }
   ],
   "source": [
    "%%pip install sqlalchemy"
   ]
  },
  {
   "cell_type": "code",
   "execution_count": 8,
   "id": "c9d5dfab-96bf-4473-8036-cb9a95604ea7",
   "metadata": {},
   "outputs": [
    {
     "name": "stdout",
     "output_type": "stream",
     "text": [
      "Looking in indexes: https://pypi-outer.aidigger.com/simple\n",
      "Collecting sqlalchemy\n",
      "  Using cached https://pypi.doubanio.com/packages/07/31/8afeb4ff95c340442bf322cd79a440b2a3ca6e590d29d7eca64cdcb830ea/SQLAlchemy-1.4.23-cp38-cp38-macosx_10_14_x86_64.whl (1.5 MB)\n",
      "Collecting greenlet!=0.4.17\n",
      "  Using cached https://pypi.doubanio.com/packages/bc/58/de1684aabf4becabbbebc23d84666dc0ab947b79a7b6bb0317a8358267e6/greenlet-1.1.1-cp38-cp38-macosx_10_14_x86_64.whl (87 kB)\n",
      "Installing collected packages: greenlet, sqlalchemy\n",
      "Successfully installed greenlet-1.1.1 sqlalchemy-1.4.23\n",
      "\u001b[33mWARNING: You are using pip version 21.2.1; however, version 21.2.4 is available.\n",
      "You should consider upgrading via the '/Library/Frameworks/Python.framework/Versions/3.8/bin/python3.8 -m pip install --upgrade pip' command.\u001b[0m\n",
      "Note: you may need to restart the kernel to use updated packages.\n"
     ]
    }
   ],
   "source": [
    "%pip install sqlalchemy"
   ]
  },
  {
   "cell_type": "code",
   "execution_count": 9,
   "id": "18d9aa14-cf03-4eac-a159-77c3f1968aa4",
   "metadata": {},
   "outputs": [],
   "source": [
    "from sqlalchemy import create_engine"
   ]
  },
  {
   "cell_type": "code",
   "execution_count": 10,
   "id": "dd035eb7-9104-4b19-a88c-2c6f8a0fa062",
   "metadata": {
    "execution": {
     "iopub.execute_input": "2021-09-14T02:32:30.812963Z",
     "iopub.status.busy": "2021-09-14T02:32:30.811838Z",
     "iopub.status.idle": "2021-09-14T02:32:32.831699Z",
     "shell.execute_reply": "2021-09-14T02:32:32.829398Z",
     "shell.execute_reply.started": "2021-09-14T02:32:30.812882Z"
    }
   },
   "outputs": [],
   "source": [
    "import time \n",
    "time.sleep(2)"
   ]
  },
  {
   "cell_type": "code",
   "execution_count": 11,
   "id": "509b9742-be91-4d18-a450-6ce73783681a",
   "metadata": {},
   "outputs": [],
   "source": [
    "import heapq\n",
    "a = [1,2,3,4]\n",
    "heapq.heapify(a)"
   ]
  },
  {
   "cell_type": "code",
   "execution_count": 12,
   "id": "188aba17-716c-4aec-9551-04ab3aa3fdac",
   "metadata": {},
   "outputs": [
    {
     "data": {
      "text/plain": [
       "[1, 2, 3, 4]"
      ]
     },
     "execution_count": 12,
     "metadata": {},
     "output_type": "execute_result"
    }
   ],
   "source": [
    "a"
   ]
  },
  {
   "cell_type": "code",
   "execution_count": 13,
   "id": "fa449d22-7c49-4ef5-9f73-46a526fb39a8",
   "metadata": {},
   "outputs": [
    {
     "data": {
      "text/plain": [
       "1"
      ]
     },
     "execution_count": 13,
     "metadata": {},
     "output_type": "execute_result"
    }
   ],
   "source": [
    "heapq.heappop(a)"
   ]
  },
  {
   "cell_type": "code",
   "execution_count": 14,
   "id": "4792128d-8ba4-4976-a308-fc12a776cc1b",
   "metadata": {},
   "outputs": [
    {
     "data": {
      "text/plain": [
       "[2, 4, 3]"
      ]
     },
     "execution_count": 14,
     "metadata": {},
     "output_type": "execute_result"
    }
   ],
   "source": [
    "a"
   ]
  },
  {
   "cell_type": "code",
   "execution_count": 15,
   "id": "2a2fdd78-57cc-475d-965f-e905beb46a78",
   "metadata": {},
   "outputs": [],
   "source": [
    "a = [1,5,6,3,58,4,9]"
   ]
  },
  {
   "cell_type": "code",
   "execution_count": 16,
   "id": "a0f1b41e-25dc-46e4-9d98-c4517aefa9ff",
   "metadata": {},
   "outputs": [],
   "source": [
    "heapq.heapify(a)"
   ]
  },
  {
   "cell_type": "code",
   "execution_count": 17,
   "id": "a8894ca0-cd39-4a0c-b9a6-ce2c57837c16",
   "metadata": {},
   "outputs": [
    {
     "data": {
      "text/plain": [
       "[1, 3, 4, 5, 58, 6, 9]"
      ]
     },
     "execution_count": 17,
     "metadata": {},
     "output_type": "execute_result"
    }
   ],
   "source": [
    "a"
   ]
  },
  {
   "cell_type": "code",
   "execution_count": 18,
   "id": "a222dac6-fc99-47ac-a438-26330f67bf72",
   "metadata": {},
   "outputs": [
    {
     "data": {
      "text/plain": [
       "9"
      ]
     },
     "execution_count": 18,
     "metadata": {},
     "output_type": "execute_result"
    }
   ],
   "source": [
    "a.pop()"
   ]
  },
  {
   "cell_type": "code",
   "execution_count": 19,
   "id": "a852f577-7cbe-4204-923c-1249f08e75fe",
   "metadata": {},
   "outputs": [],
   "source": [
    "a.append(9)"
   ]
  },
  {
   "cell_type": "code",
   "execution_count": 20,
   "id": "a157d237-6dab-441b-bb49-8e76dd867e99",
   "metadata": {},
   "outputs": [
    {
     "data": {
      "text/plain": [
       "[1, 3, 4, 5, 58, 6, 9]"
      ]
     },
     "execution_count": 20,
     "metadata": {},
     "output_type": "execute_result"
    }
   ],
   "source": [
    "a"
   ]
  },
  {
   "cell_type": "code",
   "execution_count": 22,
   "id": "65b6e2d5-d8af-49a7-8630-5224dc485971",
   "metadata": {},
   "outputs": [
    {
     "data": {
      "text/plain": [
       "1"
      ]
     },
     "execution_count": 22,
     "metadata": {},
     "output_type": "execute_result"
    }
   ],
   "source": [
    "heapq.heappushpop(a,9)"
   ]
  },
  {
   "cell_type": "code",
   "execution_count": 23,
   "id": "19f2571f-8e27-48c1-9206-bb15534a5dcd",
   "metadata": {},
   "outputs": [
    {
     "data": {
      "text/plain": [
       "[3, 5, 4, 9, 58, 6, 9]"
      ]
     },
     "execution_count": 23,
     "metadata": {},
     "output_type": "execute_result"
    }
   ],
   "source": [
    "a"
   ]
  },
  {
   "cell_type": "code",
   "execution_count": 24,
   "id": "e8bfd6cb-d09a-4c4d-901d-ba3ee40238e8",
   "metadata": {},
   "outputs": [
    {
     "name": "stdout",
     "output_type": "stream",
     "text": [
      "\u001b[1m\u001b[36m.\u001b[m\u001b[m/                  \u001b[1m\u001b[36m..\u001b[m\u001b[m/                 \u001b[1m\u001b[36m.ipynb_checkpoints\u001b[m\u001b[m/ test.ipynb\n"
     ]
    }
   ],
   "source": [
    "%ls -a"
   ]
  },
  {
   "cell_type": "code",
   "execution_count": 25,
   "id": "31d2fc30-f252-4176-bc30-2c09dcf7e9b3",
   "metadata": {},
   "outputs": [
    {
     "name": "stderr",
     "output_type": "stream",
     "text": [
      "UsageError: Cell magic `%%ls` not found (But line magic `%ls` exists, did you mean that instead?).\n"
     ]
    }
   ],
   "source": [
    "%%ls"
   ]
  },
  {
   "cell_type": "code",
   "execution_count": 26,
   "id": "5e96eb03-d0bb-4865-a34f-3ac2527267a1",
   "metadata": {},
   "outputs": [
    {
     "ename": "SyntaxError",
     "evalue": "invalid syntax (1030296508.py, line 1)",
     "output_type": "error",
     "traceback": [
      "\u001b[0;36m  File \u001b[0;32m\"/var/folders/g6/h24w2cnn0bzbzz1dc4v4fplm0000gn/T/ipykernel_1521/1030296508.py\"\u001b[0;36m, line \u001b[0;32m1\u001b[0m\n\u001b[0;31m    $$ ls\u001b[0m\n\u001b[0m    ^\u001b[0m\n\u001b[0;31mSyntaxError\u001b[0m\u001b[0;31m:\u001b[0m invalid syntax\n"
     ]
    }
   ],
   "source": [
    "$$ ls"
   ]
  },
  {
   "cell_type": "code",
   "execution_count": 27,
   "id": "3339c09a-7bf0-4fd8-9fae-419f7e307fb7",
   "metadata": {},
   "outputs": [
    {
     "name": "stderr",
     "output_type": "stream",
     "text": [
      "UsageError: Cell magic `%%` not found.\n"
     ]
    }
   ],
   "source": [
    "%% ls"
   ]
  },
  {
   "cell_type": "code",
   "execution_count": 28,
   "id": "a8854f67-1928-465e-acbf-d0fc1968420c",
   "metadata": {},
   "outputs": [
    {
     "name": "stdout",
     "output_type": "stream",
     "text": [
      "test.ipynb\n"
     ]
    }
   ],
   "source": [
    "! ls"
   ]
  },
  {
   "cell_type": "code",
   "execution_count": 29,
   "id": "6dbfdc2a-b94e-453b-8c58-2e981042cdb4",
   "metadata": {},
   "outputs": [
    {
     "name": "stdout",
     "output_type": "stream",
     "text": [
      "\u001b[1m\u001b[36m.\u001b[m\u001b[m                  \u001b[1m\u001b[36m..\u001b[m\u001b[m                 \u001b[1m\u001b[36m.ipynb_checkpoints\u001b[m\u001b[m test.ipynb\n"
     ]
    }
   ],
   "source": [
    "! ls -a"
   ]
  },
  {
   "cell_type": "code",
   "execution_count": null,
   "id": "7c68f0d2-1b6f-4b16-8ebf-360c3aaabf85",
   "metadata": {},
   "outputs": [],
   "source": []
  }
 ],
 "metadata": {
  "kernelspec": {
   "display_name": "Python 3 (ipykernel)",
   "language": "python",
   "name": "python3"
  },
  "language_info": {
   "codemirror_mode": {
    "name": "ipython",
    "version": 3
   },
   "file_extension": ".py",
   "mimetype": "text/x-python",
   "name": "python",
   "nbconvert_exporter": "python",
   "pygments_lexer": "ipython3",
   "version": "3.8.10"
  }
 },
 "nbformat": 4,
 "nbformat_minor": 5
}
