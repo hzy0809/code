{
 "cells": [
  {
   "cell_type": "code",
   "execution_count": 2,
   "metadata": {
    "collapsed": true
   },
   "outputs": [],
   "source": [
    "class ref:pass\n",
    "ref.name = 'bob'\n",
    "x = ref()\n",
    "y = ref()"
   ]
  },
  {
   "cell_type": "code",
   "execution_count": 7,
   "outputs": [
    {
     "name": "stdout",
     "output_type": "stream",
     "text": [
      "bob sue bob\n",
      "__dict__:{'__module__': '__main__', '__dict__': <attribute '__dict__' of 'ref' objects>, '__weakref__': <attribute '__weakref__' of 'ref' objects>, '__doc__': None, 'name': 'bob'}\n",
      "__dict__:{'name': 'sue'}\n",
      "__dict__:{}\n"
     ]
    }
   ],
   "source": [
    "x.name = 'sue'\n",
    "print(ref.name,x.name,y.name)\n",
    "for instance in [ref,x,y]:\n",
    "    print('{}'.format(instance.__dict__))"
   ],
   "metadata": {
    "collapsed": false,
    "pycharm": {
     "name": "#%%\n"
    }
   }
  },
  {
   "cell_type": "markdown",
   "source": [
    "+ 对实例的属性进行赋值操作之后，该属性将添加到该实例的命名空间中\n",
    "+ `__dict__`： 命名空间字典\n",
    "+ `__class__`：实例与类的连接\n",
    "+ `__base__`：超类元组\n"
   ],
   "metadata": {
    "collapsed": false
   }
  }
 ],
 "metadata": {
  "kernelspec": {
   "display_name": "Python 3",
   "language": "python",
   "name": "python3"
  },
  "language_info": {
   "codemirror_mode": {
    "name": "ipython",
    "version": 2
   },
   "file_extension": ".py",
   "mimetype": "text/x-python",
   "name": "python",
   "nbconvert_exporter": "python",
   "pygments_lexer": "ipython2",
   "version": "2.7.6"
  }
 },
 "nbformat": 4,
 "nbformat_minor": 0
}