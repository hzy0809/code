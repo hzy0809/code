{
 "cells": [
  {
   "cell_type": "code",
   "execution_count": 32,
   "metadata": {
    "collapsed": true
   },
   "outputs": [
    {
     "name": "stdout",
     "output_type": "stream",
     "text": [
      "101\n",
      "['#!/usr/bin/env python3\\n', '# -*- coding: utf-8 -*-\\n', '# @Time    : 2021-01-31 23:08:16\\n', \"print('hello world!')\"]\n",
      "True\n"
     ]
    }
   ],
   "source": [
    "from os.path import exists\n",
    "from os import makedirs\n",
    "from datetime import datetime\n",
    "file_path = './schema'\n",
    "if not exists(file_path):\n",
    "    makedirs(file_path)\n",
    "with open(\"./schema/hello.py\",'w+',encoding='utf8') as a:\n",
    "    a.write(\"\"\"#!/usr/bin/env python3\n",
    "# -*- coding: utf-8 -*-\n",
    "# @Time    : {}\\n\"\"\".format(datetime.now().strftime('%Y-%m-%d %H:%M:%S')))\n",
    "    a.write(\"print('hello world!')\")\n",
    "    print(a.tell())\n",
    "    a.seek(0)\n",
    "    data = a.readlines()\n",
    "    print(data)\n",
    "print(exists(\"./schema/hello.py\"))"
   ]
  },
  {
   "cell_type": "code",
   "execution_count": 28,
   "outputs": [],
   "source": [],
   "metadata": {
    "collapsed": false,
    "pycharm": {
     "name": "#%%\n"
    }
   }
  }
 ],
 "metadata": {
  "kernelspec": {
   "display_name": "Python 3",
   "language": "python",
   "name": "python3"
  },
  "language_info": {
   "codemirror_mode": {
    "name": "ipython",
    "version": 2
   },
   "file_extension": ".py",
   "mimetype": "text/x-python",
   "name": "python",
   "nbconvert_exporter": "python",
   "pygments_lexer": "ipython2",
   "version": "2.7.6"
  }
 },
 "nbformat": 4,
 "nbformat_minor": 0
}